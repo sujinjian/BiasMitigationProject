{
 "cells": [
  {
   "cell_type": "code",
   "execution_count": 1,
   "id": "norman-cotton",
   "metadata": {},
   "outputs": [],
   "source": [
    "import matplotlib.pyplot as plt\n",
    "import numpy as np\n",
    "import pandas as pd\n",
    "\n",
    "from IPython.display import Markdown, display\n",
    "\n",
    "# Datasets\n",
    "from aif360.datasets import StandardDataset\n",
    "\n",
    "# from PhysionetDataset.py import PhysionetDataset.py\n",
    "# Dataset = PhysionetDataset.py\n",
    "\n",
    "\n",
    "# Fairness metrics\n",
    "from aif360.metrics import BinaryLabelDatasetMetric\n",
    "from aif360.metrics import ClassificationMetric\n",
    "\n",
    "# Explainers\n",
    "from aif360.explainers import MetricTextExplainer\n",
    "\n",
    "# Scalers\n",
    "from sklearn.preprocessing import StandardScaler\n",
    "\n",
    "# Classifiers\n",
    "from sklearn.ensemble import RandomForestClassifier\n",
    "from sklearn.linear_model import LogisticRegression\n",
    "from sklearn.pipeline import make_pipeline\n",
    "\n",
    "# Bias mitigation techniques\n",
    "from aif360.algorithms.preprocessing import Reweighing\n",
    "from aif360.algorithms.inprocessing import PrejudiceRemover"
   ]
  },
  {
   "cell_type": "code",
   "execution_count": 2,
   "id": "quality-storage",
   "metadata": {},
   "outputs": [],
   "source": [
    "target_folder = \"LessFavoredProtectedAttributes\"\n",
    "prefix_folder = \"LessFavored\""
   ]
  },
  {
   "cell_type": "code",
   "execution_count": null,
   "id": "appreciated-thursday",
   "metadata": {},
   "outputs": [],
   "source": []
  },
  {
   "cell_type": "code",
   "execution_count": 11,
   "id": "engaging-providence",
   "metadata": {},
   "outputs": [],
   "source": [
    "#Physionet Dataset\n",
    "#https://physionet.org/content/heart-failure-zigong/1.2/\n",
    "np.random.seed(1)\n",
    "\n",
    "default_mappings = {\n",
    "    'label_maps': [{1.0: '1'}],\n",
    "    'protected_attribute_maps': [{1.0: 'Male', 0.0: 'Female'}]\n",
    "}\n",
    "\n",
    "\n",
    "\n",
    "filepath = r'C:\\Users\\sujin\\Documents\\College\\PhD_Project\\Project/EditedData/'+ target_folder+'/heart_failure_'+ prefix_folder+'_NoCol.csv'\n",
    "        \n",
    "filepath2 = r'C:\\Users\\sujin\\Documents\\College\\PhD_Project\\Project/EditedData/'+ target_folder+'/heart_failure_'+ prefix_folder+'.csv'\n",
    "\n",
    "df2 = pd.read_csv(filepath2)\n",
    "df2.columns\n",
    "\n",
    "class PhysionetDataset(StandardDataset):\n",
    "\n",
    "    def __init__(self, label_name='return.to.emergency.department.within.6.months',\n",
    "                 favorable_classes=[1],\n",
    "                 protected_attribute_names=['gender'],\n",
    "                 privileged_classes=[[1]],\n",
    "                 instance_weights_name=None,\n",
    "                 categorical_features=['DestinationDischarge', 'admission.ward', 'admission.way',\n",
    "                                       \"occupation\", \"discharge.department\", \"visit.times\",\n",
    "                                       \"type.of.heart.failure\", \"NYHA.cardiac.function.classification\",\n",
    "                                       'Killip.grade', \"ageCat\", \"type.II.respiratory.failure\", \"consciousness\",\n",
    "                                       \"respiratory.support.\", \"oxygen.inhalation\", \"outcome.during.hospitalization\"],\n",
    "                 features_to_keep=[], features_to_drop=[\"inpatient.number\"],\n",
    "                 na_values=[], custom_preprocessing=None,\n",
    "                 metadata=default_mappings):\n",
    "\n",
    "\n",
    "        column_names = df2.columns\n",
    "        try:\n",
    "            df = pd.read_csv(filepath, header=None, names=column_names,\n",
    "                             na_values=na_values)\n",
    "            display(df)\n",
    "            \n",
    "        except IOError as err:\n",
    "            print(\"IOError: {}\".format(err))\n",
    "            print(\"To use this class, please download the following files:\")\n",
    "            print(\"\\n\\thttps://archive.ics.uci.edu/ml/machine-learning-databases/statlog/german/german.data\")\n",
    "            print(\"\\thttps://archive.ics.uci.edu/ml/machine-learning-databases/statlog/german/german.doc\")\n",
    "            print(\"\\nand place them, as-is, in the folder:\")\n",
    "            print(\"\\n\\t{}\\n\".format(os.path.abspath(os.path.join(\n",
    "                os.path.abspath(__file__), '..', '..', 'data', 'raw', 'german'))))\n",
    "            import sys\n",
    "            sys.exit(1)\n",
    "\n",
    "        super(PhysionetDataset, self).__init__(df=df, label_name=label_name,\n",
    "                                               favorable_classes=favorable_classes,\n",
    "                                               protected_attribute_names=protected_attribute_names,\n",
    "                                               privileged_classes=privileged_classes,\n",
    "                                               instance_weights_name=instance_weights_name,\n",
    "                                               categorical_features=categorical_features,\n",
    "                                               features_to_keep=features_to_keep,\n",
    "                                               features_to_drop=features_to_drop, na_values=na_values,\n",
    "                                               custom_preprocessing=custom_preprocessing, metadata=metadata)\n"
   ]
  },
  {
   "cell_type": "code",
   "execution_count": 12,
   "id": "agricultural-civilian",
   "metadata": {},
   "outputs": [
    {
     "data": {
      "text/html": [
       "<div>\n",
       "<style scoped>\n",
       "    .dataframe tbody tr th:only-of-type {\n",
       "        vertical-align: middle;\n",
       "    }\n",
       "\n",
       "    .dataframe tbody tr th {\n",
       "        vertical-align: top;\n",
       "    }\n",
       "\n",
       "    .dataframe thead th {\n",
       "        text-align: right;\n",
       "    }\n",
       "</style>\n",
       "<table border=\"1\" class=\"dataframe\">\n",
       "  <thead>\n",
       "    <tr style=\"text-align: right;\">\n",
       "      <th></th>\n",
       "      <th>Unnamed: 0</th>\n",
       "      <th>inpatient.number</th>\n",
       "      <th>DestinationDischarge</th>\n",
       "      <th>admission.ward</th>\n",
       "      <th>admission.way</th>\n",
       "      <th>occupation</th>\n",
       "      <th>discharge.department</th>\n",
       "      <th>visit.times</th>\n",
       "      <th>gender</th>\n",
       "      <th>body.temperature</th>\n",
       "      <th>...</th>\n",
       "      <th>glutamyltranspeptidase</th>\n",
       "      <th>glutamic.pyruvic.transaminase</th>\n",
       "      <th>alkaline.phosphatase</th>\n",
       "      <th>total.bilirubin</th>\n",
       "      <th>total.bile.acid</th>\n",
       "      <th>total.protein</th>\n",
       "      <th>low.density.lipoprotein.cholesterol</th>\n",
       "      <th>triglyceride</th>\n",
       "      <th>high.density.lipoprotein.cholesterol</th>\n",
       "      <th>ageCat</th>\n",
       "    </tr>\n",
       "  </thead>\n",
       "  <tbody>\n",
       "    <tr>\n",
       "      <th>0</th>\n",
       "      <td>0</td>\n",
       "      <td>869958</td>\n",
       "      <td>Home</td>\n",
       "      <td>Cardiology</td>\n",
       "      <td>NonEmergency</td>\n",
       "      <td>UrbanResident</td>\n",
       "      <td>Cardiology</td>\n",
       "      <td>1</td>\n",
       "      <td>1</td>\n",
       "      <td>36.8</td>\n",
       "      <td>...</td>\n",
       "      <td>46.0</td>\n",
       "      <td>11.0</td>\n",
       "      <td>120.0</td>\n",
       "      <td>7.8</td>\n",
       "      <td>22.3</td>\n",
       "      <td>67.8</td>\n",
       "      <td>2.28</td>\n",
       "      <td>2.76</td>\n",
       "      <td>0.90</td>\n",
       "      <td>(79,89]</td>\n",
       "    </tr>\n",
       "    <tr>\n",
       "      <th>1</th>\n",
       "      <td>1</td>\n",
       "      <td>796434</td>\n",
       "      <td>Unknown</td>\n",
       "      <td>GeneralWard</td>\n",
       "      <td>Emergency</td>\n",
       "      <td>UrbanResident</td>\n",
       "      <td>GeneralWard</td>\n",
       "      <td>1</td>\n",
       "      <td>0</td>\n",
       "      <td>36.0</td>\n",
       "      <td>...</td>\n",
       "      <td>18.0</td>\n",
       "      <td>13.0</td>\n",
       "      <td>100.0</td>\n",
       "      <td>7.7</td>\n",
       "      <td>1.0</td>\n",
       "      <td>61.9</td>\n",
       "      <td>2.15</td>\n",
       "      <td>1.34</td>\n",
       "      <td>1.10</td>\n",
       "      <td>(69,79]</td>\n",
       "    </tr>\n",
       "    <tr>\n",
       "      <th>2</th>\n",
       "      <td>2</td>\n",
       "      <td>817574</td>\n",
       "      <td>HealthcareFacility</td>\n",
       "      <td>GeneralWard</td>\n",
       "      <td>Emergency</td>\n",
       "      <td>UrbanResident</td>\n",
       "      <td>GeneralWard</td>\n",
       "      <td>1</td>\n",
       "      <td>0</td>\n",
       "      <td>36.0</td>\n",
       "      <td>...</td>\n",
       "      <td>28.0</td>\n",
       "      <td>16.0</td>\n",
       "      <td>75.0</td>\n",
       "      <td>7.6</td>\n",
       "      <td>8.2</td>\n",
       "      <td>71.6</td>\n",
       "      <td>1.44</td>\n",
       "      <td>1.24</td>\n",
       "      <td>1.24</td>\n",
       "      <td>(79,89]</td>\n",
       "    </tr>\n",
       "    <tr>\n",
       "      <th>3</th>\n",
       "      <td>3</td>\n",
       "      <td>726428</td>\n",
       "      <td>Home</td>\n",
       "      <td>Cardiology</td>\n",
       "      <td>NonEmergency</td>\n",
       "      <td>UrbanResident</td>\n",
       "      <td>Cardiology</td>\n",
       "      <td>1</td>\n",
       "      <td>1</td>\n",
       "      <td>36.4</td>\n",
       "      <td>...</td>\n",
       "      <td>46.0</td>\n",
       "      <td>20.0</td>\n",
       "      <td>68.0</td>\n",
       "      <td>27.8</td>\n",
       "      <td>4.7</td>\n",
       "      <td>57.9</td>\n",
       "      <td>2.21</td>\n",
       "      <td>0.79</td>\n",
       "      <td>0.95</td>\n",
       "      <td>(69,79]</td>\n",
       "    </tr>\n",
       "    <tr>\n",
       "      <th>4</th>\n",
       "      <td>4</td>\n",
       "      <td>765688</td>\n",
       "      <td>Home</td>\n",
       "      <td>Cardiology</td>\n",
       "      <td>NonEmergency</td>\n",
       "      <td>UrbanResident</td>\n",
       "      <td>Cardiology</td>\n",
       "      <td>1</td>\n",
       "      <td>0</td>\n",
       "      <td>36.3</td>\n",
       "      <td>...</td>\n",
       "      <td>53.0</td>\n",
       "      <td>15.0</td>\n",
       "      <td>76.0</td>\n",
       "      <td>77.7</td>\n",
       "      <td>2.0</td>\n",
       "      <td>67.4</td>\n",
       "      <td>1.32</td>\n",
       "      <td>0.68</td>\n",
       "      <td>1.35</td>\n",
       "      <td>(69,79]</td>\n",
       "    </tr>\n",
       "    <tr>\n",
       "      <th>...</th>\n",
       "      <td>...</td>\n",
       "      <td>...</td>\n",
       "      <td>...</td>\n",
       "      <td>...</td>\n",
       "      <td>...</td>\n",
       "      <td>...</td>\n",
       "      <td>...</td>\n",
       "      <td>...</td>\n",
       "      <td>...</td>\n",
       "      <td>...</td>\n",
       "      <td>...</td>\n",
       "      <td>...</td>\n",
       "      <td>...</td>\n",
       "      <td>...</td>\n",
       "      <td>...</td>\n",
       "      <td>...</td>\n",
       "      <td>...</td>\n",
       "      <td>...</td>\n",
       "      <td>...</td>\n",
       "      <td>...</td>\n",
       "      <td>...</td>\n",
       "    </tr>\n",
       "    <tr>\n",
       "      <th>1449</th>\n",
       "      <td>1449</td>\n",
       "      <td>804640</td>\n",
       "      <td>Home</td>\n",
       "      <td>Cardiology</td>\n",
       "      <td>NonEmergency</td>\n",
       "      <td>UrbanResident</td>\n",
       "      <td>Cardiology</td>\n",
       "      <td>1</td>\n",
       "      <td>0</td>\n",
       "      <td>36.0</td>\n",
       "      <td>...</td>\n",
       "      <td>138.0</td>\n",
       "      <td>26.0</td>\n",
       "      <td>76.0</td>\n",
       "      <td>19.0</td>\n",
       "      <td>5.3</td>\n",
       "      <td>59.0</td>\n",
       "      <td>1.53</td>\n",
       "      <td>1.44</td>\n",
       "      <td>1.62</td>\n",
       "      <td>(69,79]</td>\n",
       "    </tr>\n",
       "    <tr>\n",
       "      <th>1450</th>\n",
       "      <td>1450</td>\n",
       "      <td>744459</td>\n",
       "      <td>Home</td>\n",
       "      <td>Cardiology</td>\n",
       "      <td>Emergency</td>\n",
       "      <td>UrbanResident</td>\n",
       "      <td>Cardiology</td>\n",
       "      <td>1</td>\n",
       "      <td>1</td>\n",
       "      <td>36.4</td>\n",
       "      <td>...</td>\n",
       "      <td>83.0</td>\n",
       "      <td>25.0</td>\n",
       "      <td>66.0</td>\n",
       "      <td>17.9</td>\n",
       "      <td>3.3</td>\n",
       "      <td>62.0</td>\n",
       "      <td>1.37</td>\n",
       "      <td>1.46</td>\n",
       "      <td>1.00</td>\n",
       "      <td>(79,89]</td>\n",
       "    </tr>\n",
       "    <tr>\n",
       "      <th>1451</th>\n",
       "      <td>1451</td>\n",
       "      <td>802000</td>\n",
       "      <td>Home</td>\n",
       "      <td>GeneralWard</td>\n",
       "      <td>Emergency</td>\n",
       "      <td>UrbanResident</td>\n",
       "      <td>GeneralWard</td>\n",
       "      <td>1</td>\n",
       "      <td>0</td>\n",
       "      <td>36.1</td>\n",
       "      <td>...</td>\n",
       "      <td>16.0</td>\n",
       "      <td>16.0</td>\n",
       "      <td>138.0</td>\n",
       "      <td>6.7</td>\n",
       "      <td>7.7</td>\n",
       "      <td>73.4</td>\n",
       "      <td>2.19</td>\n",
       "      <td>2.53</td>\n",
       "      <td>0.80</td>\n",
       "      <td>(79,89]</td>\n",
       "    </tr>\n",
       "    <tr>\n",
       "      <th>1452</th>\n",
       "      <td>1452</td>\n",
       "      <td>836661</td>\n",
       "      <td>Home</td>\n",
       "      <td>Cardiology</td>\n",
       "      <td>NonEmergency</td>\n",
       "      <td>UrbanResident</td>\n",
       "      <td>Cardiology</td>\n",
       "      <td>2</td>\n",
       "      <td>1</td>\n",
       "      <td>36.2</td>\n",
       "      <td>...</td>\n",
       "      <td>20.0</td>\n",
       "      <td>8.0</td>\n",
       "      <td>72.0</td>\n",
       "      <td>14.4</td>\n",
       "      <td>5.9</td>\n",
       "      <td>74.4</td>\n",
       "      <td>2.62</td>\n",
       "      <td>2.78</td>\n",
       "      <td>0.80</td>\n",
       "      <td>(69,79]</td>\n",
       "    </tr>\n",
       "    <tr>\n",
       "      <th>1453</th>\n",
       "      <td>1453</td>\n",
       "      <td>828281</td>\n",
       "      <td>Home</td>\n",
       "      <td>Cardiology</td>\n",
       "      <td>NonEmergency</td>\n",
       "      <td>UrbanResident</td>\n",
       "      <td>Cardiology</td>\n",
       "      <td>1</td>\n",
       "      <td>0</td>\n",
       "      <td>36.1</td>\n",
       "      <td>...</td>\n",
       "      <td>74.0</td>\n",
       "      <td>300.0</td>\n",
       "      <td>229.0</td>\n",
       "      <td>10.4</td>\n",
       "      <td>6.4</td>\n",
       "      <td>65.0</td>\n",
       "      <td>1.40</td>\n",
       "      <td>0.75</td>\n",
       "      <td>1.47</td>\n",
       "      <td>(79,89]</td>\n",
       "    </tr>\n",
       "  </tbody>\n",
       "</table>\n",
       "<p>1454 rows × 91 columns</p>\n",
       "</div>"
      ],
      "text/plain": [
       "      Unnamed: 0  inpatient.number DestinationDischarge admission.ward  \\\n",
       "0              0            869958                 Home     Cardiology   \n",
       "1              1            796434              Unknown    GeneralWard   \n",
       "2              2            817574   HealthcareFacility    GeneralWard   \n",
       "3              3            726428                 Home     Cardiology   \n",
       "4              4            765688                 Home     Cardiology   \n",
       "...          ...               ...                  ...            ...   \n",
       "1449        1449            804640                 Home     Cardiology   \n",
       "1450        1450            744459                 Home     Cardiology   \n",
       "1451        1451            802000                 Home    GeneralWard   \n",
       "1452        1452            836661                 Home     Cardiology   \n",
       "1453        1453            828281                 Home     Cardiology   \n",
       "\n",
       "     admission.way     occupation discharge.department  visit.times  gender  \\\n",
       "0     NonEmergency  UrbanResident           Cardiology            1       1   \n",
       "1        Emergency  UrbanResident          GeneralWard            1       0   \n",
       "2        Emergency  UrbanResident          GeneralWard            1       0   \n",
       "3     NonEmergency  UrbanResident           Cardiology            1       1   \n",
       "4     NonEmergency  UrbanResident           Cardiology            1       0   \n",
       "...            ...            ...                  ...          ...     ...   \n",
       "1449  NonEmergency  UrbanResident           Cardiology            1       0   \n",
       "1450     Emergency  UrbanResident           Cardiology            1       1   \n",
       "1451     Emergency  UrbanResident          GeneralWard            1       0   \n",
       "1452  NonEmergency  UrbanResident           Cardiology            2       1   \n",
       "1453  NonEmergency  UrbanResident           Cardiology            1       0   \n",
       "\n",
       "      body.temperature  ...  glutamyltranspeptidase  \\\n",
       "0                 36.8  ...                    46.0   \n",
       "1                 36.0  ...                    18.0   \n",
       "2                 36.0  ...                    28.0   \n",
       "3                 36.4  ...                    46.0   \n",
       "4                 36.3  ...                    53.0   \n",
       "...                ...  ...                     ...   \n",
       "1449              36.0  ...                   138.0   \n",
       "1450              36.4  ...                    83.0   \n",
       "1451              36.1  ...                    16.0   \n",
       "1452              36.2  ...                    20.0   \n",
       "1453              36.1  ...                    74.0   \n",
       "\n",
       "      glutamic.pyruvic.transaminase  alkaline.phosphatase  total.bilirubin  \\\n",
       "0                              11.0                 120.0              7.8   \n",
       "1                              13.0                 100.0              7.7   \n",
       "2                              16.0                  75.0              7.6   \n",
       "3                              20.0                  68.0             27.8   \n",
       "4                              15.0                  76.0             77.7   \n",
       "...                             ...                   ...              ...   \n",
       "1449                           26.0                  76.0             19.0   \n",
       "1450                           25.0                  66.0             17.9   \n",
       "1451                           16.0                 138.0              6.7   \n",
       "1452                            8.0                  72.0             14.4   \n",
       "1453                          300.0                 229.0             10.4   \n",
       "\n",
       "      total.bile.acid  total.protein low.density.lipoprotein.cholesterol  \\\n",
       "0                22.3           67.8                                2.28   \n",
       "1                 1.0           61.9                                2.15   \n",
       "2                 8.2           71.6                                1.44   \n",
       "3                 4.7           57.9                                2.21   \n",
       "4                 2.0           67.4                                1.32   \n",
       "...               ...            ...                                 ...   \n",
       "1449              5.3           59.0                                1.53   \n",
       "1450              3.3           62.0                                1.37   \n",
       "1451              7.7           73.4                                2.19   \n",
       "1452              5.9           74.4                                2.62   \n",
       "1453              6.4           65.0                                1.40   \n",
       "\n",
       "     triglyceride high.density.lipoprotein.cholesterol   ageCat  \n",
       "0            2.76                                 0.90  (79,89]  \n",
       "1            1.34                                 1.10  (69,79]  \n",
       "2            1.24                                 1.24  (79,89]  \n",
       "3            0.79                                 0.95  (69,79]  \n",
       "4            0.68                                 1.35  (69,79]  \n",
       "...           ...                                  ...      ...  \n",
       "1449         1.44                                 1.62  (69,79]  \n",
       "1450         1.46                                 1.00  (79,89]  \n",
       "1451         2.53                                 0.80  (79,89]  \n",
       "1452         2.78                                 0.80  (69,79]  \n",
       "1453         0.75                                 1.47  (79,89]  \n",
       "\n",
       "[1454 rows x 91 columns]"
      ]
     },
     "metadata": {},
     "output_type": "display_data"
    },
    {
     "data": {
      "text/markdown": [
       "#### Training Dataset shape"
      ],
      "text/plain": [
       "<IPython.core.display.Markdown object>"
      ]
     },
     "metadata": {},
     "output_type": "display_data"
    },
    {
     "name": "stdout",
     "output_type": "stream",
     "text": [
      "(727, 130)\n"
     ]
    },
    {
     "data": {
      "text/markdown": [
       "#### Validation Dataset shape"
      ],
      "text/plain": [
       "<IPython.core.display.Markdown object>"
      ]
     },
     "metadata": {},
     "output_type": "display_data"
    },
    {
     "name": "stdout",
     "output_type": "stream",
     "text": [
      "(436, 130)\n"
     ]
    },
    {
     "data": {
      "text/markdown": [
       "#### Test Dataset shape"
      ],
      "text/plain": [
       "<IPython.core.display.Markdown object>"
      ]
     },
     "metadata": {},
     "output_type": "display_data"
    },
    {
     "name": "stdout",
     "output_type": "stream",
     "text": [
      "(291, 130)\n"
     ]
    },
    {
     "data": {
      "text/markdown": [
       "#### Favorable and unfavorable labels"
      ],
      "text/plain": [
       "<IPython.core.display.Markdown object>"
      ]
     },
     "metadata": {},
     "output_type": "display_data"
    },
    {
     "name": "stdout",
     "output_type": "stream",
     "text": [
      "1.0 0.0\n"
     ]
    },
    {
     "data": {
      "text/markdown": [
       "#### Protected attribute names"
      ],
      "text/plain": [
       "<IPython.core.display.Markdown object>"
      ]
     },
     "metadata": {},
     "output_type": "display_data"
    },
    {
     "name": "stdout",
     "output_type": "stream",
     "text": [
      "['gender']\n"
     ]
    },
    {
     "data": {
      "text/markdown": [
       "#### Privileged and unprivileged protected attribute values"
      ],
      "text/plain": [
       "<IPython.core.display.Markdown object>"
      ]
     },
     "metadata": {},
     "output_type": "display_data"
    },
    {
     "name": "stdout",
     "output_type": "stream",
     "text": [
      "[array([1.])] [array([0.])]\n"
     ]
    },
    {
     "data": {
      "text/markdown": [
       "#### Dataset feature names"
      ],
      "text/plain": [
       "<IPython.core.display.Markdown object>"
      ]
     },
     "metadata": {},
     "output_type": "display_data"
    },
    {
     "name": "stdout",
     "output_type": "stream",
     "text": [
      "['Unnamed: 0', 'gender', 'body.temperature', 'pulse', 'respiration', 'map', 'weight', 'height', 'BMI', 'myocardial.infarction', 'congestive.heart.failure', 'peripheral.vascular.disease', 'cerebrovascular.disease', 'dementia', 'Chronic.obstructive.pulmonary.disease', 'connective.tissue.disease', 'peptic.ulcer.disease', 'diabetes', 'moderate.to.severe.chronic.kidney.disease', 'hemiplegia', 'malignant.lymphoma', 'solid.tumor', 'liver.disease', 'AIDS', 'eye.opening', 'movement', 'fio2', 'acute.renal.failure', 'left.ventricular.end.diastolic.diameter.LV', 'creatinine.enzymatic.method', 'urea', 'uric.acid', 'glomerular.filtration.rate', 'cystatin', 'monocyte.ratio', 'lymphocyte.count', 'mean.hemoglobin.volume', 'mean.hemoglobin.concentration', 'mean.platelet.volume', 'basophil.count', 'eosinophil.count', 'hemoglobin', 'platelet.distribution.width', 'platelet.hematocrit', 'neutrophil.count', 'D.dimer', 'international.normalized.ratio', 'activated.partial.thromboplastin.time', 'thrombin.time', 'prothrombin.activity', 'fibrinogen', 'carbon.dioxide.binding.capacity', 'calcium', 'potassium', 'sodium', 'creatine.kinase.isoenzyme.to.creatine.kinase', 'hydroxybutyrate.dehydrogenase.to.lactate.dehydrogenase', 'hydroxybutyrate.dehydrogenase', 'glutamic.oxaloacetic.transaminase', 'creatine.kinase', 'creatine.kinase.isoenzyme', 'brain.natriuretic.peptide', 'nucleotidase', 'fucosidase', 'white.globulin.ratio', 'glutamyltranspeptidase', 'glutamic.pyruvic.transaminase', 'alkaline.phosphatase', 'total.bilirubin', 'total.bile.acid', 'total.protein', 'low.density.lipoprotein.cholesterol', 'triglyceride', 'high.density.lipoprotein.cholesterol', 'DestinationDischarge=Died', 'DestinationDischarge=HealthcareFacility', 'DestinationDischarge=Home', 'DestinationDischarge=Unknown', 'admission.ward=Cardiology', 'admission.ward=GeneralWard', 'admission.ward=ICU', 'admission.ward=Others', 'admission.way=Emergency', 'admission.way=NonEmergency', 'occupation=Officer', 'occupation=Others', 'occupation=UrbanResident', 'occupation=farmer', 'occupation=worker', 'discharge.department=Cardiology', 'discharge.department=GeneralWard', 'discharge.department=ICU', 'discharge.department=Others', 'visit.times=1', 'visit.times=2', 'visit.times=3', 'visit.times=4', 'visit.times=5', 'type.of.heart.failure=Both', 'type.of.heart.failure=Left', 'type.of.heart.failure=Right', 'NYHA.cardiac.function.classification=II', 'NYHA.cardiac.function.classification=III', 'NYHA.cardiac.function.classification=IV', 'Killip.grade=I', 'Killip.grade=II', 'Killip.grade=III', 'Killip.grade=IV', 'type.II.respiratory.failure=NonTypeII', 'type.II.respiratory.failure=TypeII', 'consciousness=Clear', 'consciousness=Nonresponsive', 'consciousness=ResponsiveToPain', 'consciousness=ResponsiveToSound', 'respiratory.support.=IMV', 'respiratory.support.=NIMV', 'respiratory.support.=None', 'oxygen.inhalation=AmbientAir', 'oxygen.inhalation=OxygenTherapy', 'outcome.during.hospitalization=Alive', 'outcome.during.hospitalization=Dead', 'outcome.during.hospitalization=DischargeAgainstOrder', 'ageCat=(21,29]', 'ageCat=(29,39]', 'ageCat=(39,49]', 'ageCat=(49,59]', 'ageCat=(59,69]', 'ageCat=(69,79]', 'ageCat=(79,89]', 'ageCat=(89,110]']\n",
      "Disparate impact (probability of favorable outcome for unprivileged instances / probability of favorable outcome for privileged instances): 0.910004174929548\n"
     ]
    }
   ],
   "source": [
    "# 3.1. Load data & create splits for learning/validating/testing model¶\n",
    "\n",
    "\n",
    "(dataset_orig_train, dataset_orig_val, dataset_orig_test) = PhysionetDataset().split([0.5, 0.8], shuffle=True)\n",
    "\n",
    "sens_ind = 0\n",
    "sens_attr = dataset_orig_train.protected_attribute_names[sens_ind]\n",
    "\n",
    "unprivileged_groups = [{sens_attr: v} for v in\n",
    "                       dataset_orig_train.unprivileged_protected_attributes[sens_ind]]\n",
    "\n",
    "privileged_groups = [{sens_attr: v} for v in\n",
    "                     dataset_orig_train.privileged_protected_attributes[sens_ind]]\n",
    "\n",
    "\n",
    "def describe(train=None, val=None, test=None):\n",
    "    if train is not None:\n",
    "        display(Markdown(\"#### Training Dataset shape\"))\n",
    "        print(train.features.shape)\n",
    "    if val is not None:\n",
    "        display(Markdown(\"#### Validation Dataset shape\"))\n",
    "        print(val.features.shape)\n",
    "    display(Markdown(\"#### Test Dataset shape\"))\n",
    "    print(test.features.shape)\n",
    "    display(Markdown(\"#### Favorable and unfavorable labels\"))\n",
    "    print(test.favorable_label, test.unfavorable_label)\n",
    "    display(Markdown(\"#### Protected attribute names\"))\n",
    "    print(test.protected_attribute_names)\n",
    "    display(Markdown(\"#### Privileged and unprivileged protected attribute values\"))\n",
    "    print(test.privileged_protected_attributes,\n",
    "          test.unprivileged_protected_attributes)\n",
    "    display(Markdown(\"#### Dataset feature names\"))\n",
    "    print(test.feature_names)\n",
    "\n",
    "\n",
    "describe(dataset_orig_train, dataset_orig_val, dataset_orig_test)\n",
    "\n",
    "metric_orig_train = BinaryLabelDatasetMetric(\n",
    "    dataset_orig_train,\n",
    "    unprivileged_groups=unprivileged_groups,\n",
    "    privileged_groups=privileged_groups)\n",
    "explainer_orig_panel19_train = MetricTextExplainer(metric_orig_train)\n",
    "\n",
    "print(explainer_orig_panel19_train.disparate_impact())"
   ]
  },
  {
   "cell_type": "code",
   "execution_count": 13,
   "id": "interested-performer",
   "metadata": {},
   "outputs": [
    {
     "data": {
      "text/plain": [
       "               instance weights   features                      \\\n",
       "                                           protected attribute   \n",
       "                                Unnamed: 0              gender   \n",
       "instance names                                                   \n",
       "1373                        1.0     1373.0                 0.0   \n",
       "1354                        1.0     1354.0                 0.0   \n",
       "1091                        1.0     1091.0                 0.0   \n",
       "918                         1.0      918.0                 0.0   \n",
       "37                          1.0       37.0                 0.0   \n",
       "...                         ...        ...                 ...   \n",
       "492                         1.0      492.0                 0.0   \n",
       "385                         1.0      385.0                 1.0   \n",
       "281                         1.0      281.0                 0.0   \n",
       "1381                        1.0     1381.0                 0.0   \n",
       "483                         1.0      483.0                 0.0   \n",
       "\n",
       "                                                                              \\\n",
       "                                                                               \n",
       "               body.temperature  pulse respiration         map weight height   \n",
       "instance names                                                                 \n",
       "1373                       36.3  119.0        20.0   83.333333   50.0   1.55   \n",
       "1354                       36.0  129.0        20.0   83.333333   45.0   1.52   \n",
       "1091                       37.0   88.0        18.0   72.000000   42.0   1.50   \n",
       "918                        38.0   92.0        20.0   88.666667   44.0   1.55   \n",
       "37                         36.2   84.0        18.0   90.666667   47.5   1.50   \n",
       "...                         ...    ...         ...         ...    ...    ...   \n",
       "492                        36.0   83.0        18.0  131.333333   50.0   1.56   \n",
       "385                        36.5   65.0        18.0   83.333333   55.0   1.75   \n",
       "281                        36.2   78.0        19.0  118.000000   75.0   1.60   \n",
       "1381                       36.3   65.0        19.0   91.333333   62.0   1.52   \n",
       "483                        36.3  116.0        21.0   68.000000   45.0   1.50   \n",
       "\n",
       "                           ...  \\\n",
       "                           ...   \n",
       "                      BMI  ...   \n",
       "instance names             ...   \n",
       "1373            20.811655  ...   \n",
       "1354            19.477147  ...   \n",
       "1091            18.666667  ...   \n",
       "918             18.314256  ...   \n",
       "37              21.111111  ...   \n",
       "...                   ...  ...   \n",
       "492             20.545694  ...   \n",
       "385             17.959184  ...   \n",
       "281             29.296875  ...   \n",
       "1381            26.835180  ...   \n",
       "483             20.000000  ...   \n",
       "\n",
       "                                                                     \\\n",
       "                                                                      \n",
       "               outcome.during.hospitalization=DischargeAgainstOrder   \n",
       "instance names                                                        \n",
       "1373                                                          0.0     \n",
       "1354                                                          0.0     \n",
       "1091                                                          0.0     \n",
       "918                                                           0.0     \n",
       "37                                                            0.0     \n",
       "...                                                           ...     \n",
       "492                                                           0.0     \n",
       "385                                                           0.0     \n",
       "281                                                           0.0     \n",
       "1381                                                          0.0     \n",
       "483                                                           1.0     \n",
       "\n",
       "                                                                            \\\n",
       "                                                                             \n",
       "               ageCat=(21,29] ageCat=(29,39] ageCat=(39,49] ageCat=(49,59]   \n",
       "instance names                                                               \n",
       "1373                      0.0            0.0            0.0            0.0   \n",
       "1354                      0.0            0.0            0.0            0.0   \n",
       "1091                      0.0            0.0            0.0            0.0   \n",
       "918                       0.0            0.0            0.0            0.0   \n",
       "37                        0.0            0.0            0.0            0.0   \n",
       "...                       ...            ...            ...            ...   \n",
       "492                       0.0            0.0            0.0            0.0   \n",
       "385                       0.0            0.0            0.0            0.0   \n",
       "281                       0.0            0.0            0.0            0.0   \n",
       "1381                      0.0            0.0            0.0            0.0   \n",
       "483                       0.0            0.0            0.0            0.0   \n",
       "\n",
       "                                                                             \\\n",
       "                                                                              \n",
       "               ageCat=(59,69] ageCat=(69,79] ageCat=(79,89] ageCat=(89,110]   \n",
       "instance names                                                                \n",
       "1373                      1.0            0.0            0.0             0.0   \n",
       "1354                      0.0            1.0            0.0             0.0   \n",
       "1091                      0.0            1.0            0.0             0.0   \n",
       "918                       1.0            0.0            0.0             0.0   \n",
       "37                        0.0            1.0            0.0             0.0   \n",
       "...                       ...            ...            ...             ...   \n",
       "492                       0.0            0.0            1.0             0.0   \n",
       "385                       1.0            0.0            0.0             0.0   \n",
       "281                       0.0            0.0            1.0             0.0   \n",
       "1381                      0.0            1.0            0.0             0.0   \n",
       "483                       0.0            1.0            0.0             0.0   \n",
       "\n",
       "               labels  \n",
       "                       \n",
       "                       \n",
       "instance names         \n",
       "1373              0.0  \n",
       "1354              1.0  \n",
       "1091              1.0  \n",
       "918               0.0  \n",
       "37                1.0  \n",
       "...               ...  \n",
       "492               0.0  \n",
       "385               1.0  \n",
       "281               1.0  \n",
       "1381              0.0  \n",
       "483               0.0  \n",
       "\n",
       "[727 rows x 132 columns]"
      ]
     },
     "metadata": {},
     "output_type": "display_data"
    }
   ],
   "source": [
    "# 3.2. Learning a Logistic Regression (LR) classifier on original data¶\n",
    "# 3.2.1. Training LR model on original data\n",
    "\n",
    "dataset = dataset_orig_train\n",
    "display(dataset)\n",
    "model = make_pipeline(StandardScaler(),\n",
    "                      LogisticRegression(solver='liblinear', random_state=1))\n",
    "fit_params = {'logisticregression__sample_weight': dataset.instance_weights}\n",
    "\n",
    "lr_orig = model.fit(dataset.features, dataset.labels.ravel(), **fit_params)"
   ]
  },
  {
   "cell_type": "code",
   "execution_count": 14,
   "id": "sixth-directive",
   "metadata": {},
   "outputs": [
    {
     "data": {
      "image/png": "[encoded data removed]",
      "text/plain": [
       "<Figure size 720x504 with 2 Axes>"
      ]
     },
     "metadata": {
      "needs_background": "light"
     },
     "output_type": "display_data"
    },
    {
     "data": {
      "image/png": "[encoded data removed]",
      "text/plain": [
       "<Figure size 720x504 with 2 Axes>"
      ]
     },
     "metadata": {
      "needs_background": "light"
     },
     "output_type": "display_data"
    },
    {
     "name": "stdout",
     "output_type": "stream",
     "text": [
      "Validation Scores:\n",
      "Threshold corresponding to Best balanced accuracy: 0.2600\n",
      "Best balanced accuracy: 0.5991\n",
      "Corresponding 1-min(DI, 1/DI) value: 0.0785\n",
      "Corresponding average odds difference value: -0.0483\n",
      "Corresponding statistical parity difference value: -0.0586\n",
      "Corresponding equal opportunity difference value: -0.0376\n",
      "Corresponding Theil index value: 0.1282\n"
     ]
    }
   ],
   "source": [
    "# 3.2.2. Validating LR model on original data¶\n",
    "\n",
    "from collections import defaultdict\n",
    "\n",
    "\n",
    "def test(dataset, model, thresh_arr):\n",
    "    try:\n",
    "        # sklearn classifier\n",
    "        y_val_pred_prob = model.predict_proba(dataset.features)\n",
    "        pos_ind = np.where(model.classes_ == dataset.favorable_label)[0][0]\n",
    "    except AttributeError:\n",
    "        # aif360 inprocessing algorithm\n",
    "        y_val_pred_prob = model.predict(dataset).scores\n",
    "        pos_ind = 0\n",
    "\n",
    "    metric_arrs = defaultdict(list)\n",
    "    for thresh in thresh_arr:\n",
    "        y_val_pred = (y_val_pred_prob[:, pos_ind] > thresh).astype(np.float64)\n",
    "\n",
    "        dataset_pred = dataset.copy()\n",
    "        dataset_pred.labels = y_val_pred\n",
    "        metric = ClassificationMetric(\n",
    "            dataset, dataset_pred,\n",
    "            unprivileged_groups=unprivileged_groups,\n",
    "            privileged_groups=privileged_groups)\n",
    "\n",
    "        metric_arrs['bal_acc'].append((metric.true_positive_rate()\n",
    "                                       + metric.true_negative_rate()) / 2)\n",
    "        metric_arrs['avg_odds_diff'].append(metric.average_odds_difference())\n",
    "        metric_arrs['disp_imp'].append(metric.disparate_impact())\n",
    "        metric_arrs['stat_par_diff'].append(metric.statistical_parity_difference())\n",
    "        metric_arrs['eq_opp_diff'].append(metric.equal_opportunity_difference())\n",
    "        metric_arrs['theil_ind'].append(metric.theil_index())\n",
    "\n",
    "    return metric_arrs\n",
    "\n",
    "\n",
    "thresh_arr = np.linspace(0.01, 0.5, 50)\n",
    "val_metrics = test(dataset=dataset_orig_val,\n",
    "                   model=lr_orig,\n",
    "                   thresh_arr=thresh_arr)\n",
    "lr_orig_best_ind = np.argmax(val_metrics['bal_acc'])\n",
    "\n",
    "\n",
    "def plot(x, x_name, y_left, y_left_name, y_right, y_right_name):\n",
    "    fig, ax1 = plt.subplots(figsize=(10, 7))\n",
    "    ax1.plot(x, y_left)\n",
    "    ax1.set_xlabel(x_name, fontsize=16, fontweight='bold')\n",
    "    ax1.set_ylabel(y_left_name, color='b', fontsize=16, fontweight='bold')\n",
    "    ax1.xaxis.set_tick_params(labelsize=14)\n",
    "    ax1.yaxis.set_tick_params(labelsize=14)\n",
    "    ax1.set_ylim(0.5, 0.8)\n",
    "\n",
    "    ax2 = ax1.twinx()\n",
    "    ax2.plot(x, y_right, color='r')\n",
    "    ax2.set_ylabel(y_right_name, color='r', fontsize=16, fontweight='bold')\n",
    "    if 'DI' in y_right_name:\n",
    "        ax2.set_ylim(0., 0.7)\n",
    "    else:\n",
    "        ax2.set_ylim(-0.25, 0.1)\n",
    "\n",
    "    best_ind = np.argmax(y_left)\n",
    "    ax2.axvline(np.array(x)[best_ind], color='k', linestyle=':')\n",
    "    ax2.yaxis.set_tick_params(labelsize=14)\n",
    "    ax2.grid(True)\n",
    "    plt.show()\n",
    "    \n",
    "    \n",
    "disp_imp = np.array(val_metrics['disp_imp'])\n",
    "disp_imp_err = 1 - np.minimum(disp_imp, 1 / disp_imp)\n",
    "plot(thresh_arr, 'Classification Thresholds',\n",
    "     val_metrics['bal_acc'], 'Balanced Accuracy',\n",
    "     disp_imp_err, '1 - min(DI, 1/DI)')\n",
    "\n",
    "plot(thresh_arr, 'Classification Thresholds',\n",
    "     val_metrics['bal_acc'], 'Balanced Accuracy',\n",
    "     val_metrics['avg_odds_diff'], 'avg. odds diff.')\n",
    "\n",
    "def describe_metrics(metrics, thresh_arr):\n",
    "    best_ind = np.argmax(metrics['bal_acc'])\n",
    "    print(\"Threshold corresponding to Best balanced accuracy: {:6.4f}\".format(thresh_arr[best_ind]))\n",
    "    print(\"Best balanced accuracy: {:6.4f}\".format(metrics['bal_acc'][best_ind]))\n",
    "#     disp_imp_at_best_ind = np.abs(1 - np.array(metrics['disp_imp']))[best_ind]\n",
    "    disp_imp_at_best_ind = 1 - min(metrics['disp_imp'][best_ind], 1/metrics['disp_imp'][best_ind])\n",
    "    print(\"Corresponding 1-min(DI, 1/DI) value: {:6.4f}\".format(disp_imp_at_best_ind))\n",
    "    print(\"Corresponding average odds difference value: {:6.4f}\".format(metrics['avg_odds_diff'][best_ind]))\n",
    "    print(\"Corresponding statistical parity difference value: {:6.4f}\".format(metrics['stat_par_diff'][best_ind]))\n",
    "    print(\"Corresponding equal opportunity difference value: {:6.4f}\".format(metrics['eq_opp_diff'][best_ind]))\n",
    "    print(\"Corresponding Theil index value: {:6.4f}\".format(metrics['theil_ind'][best_ind]))\n",
    "\n",
    "\n",
    "print(\"Validation Scores:\")\n",
    "describe_metrics(val_metrics, thresh_arr)"
   ]
  },
  {
   "cell_type": "code",
   "execution_count": 15,
   "id": "herbal-estonia",
   "metadata": {},
   "outputs": [
    {
     "name": "stdout",
     "output_type": "stream",
     "text": [
      "Test Scores:\n",
      "Threshold corresponding to Best balanced accuracy: 0.2600\n",
      "Best balanced accuracy: 0.6016\n",
      "Corresponding 1-min(DI, 1/DI) value: 0.0611\n",
      "Corresponding average odds difference value: -0.0358\n",
      "Corresponding statistical parity difference value: -0.0427\n",
      "Corresponding equal opportunity difference value: -0.0985\n",
      "Corresponding Theil index value: 0.1382\n",
      "Disparate impact (probability of favorable outcome for unprivileged instances / probability of favorable outcome for privileged instances): 1.0\n"
     ]
    }
   ],
   "source": [
    "#3.2.3. Testing LR model on original data¶\n",
    "\n",
    "print(\"Test Scores:\")\n",
    "lr_orig_metrics = test(dataset=dataset_orig_test,\n",
    "                       model=lr_orig,\n",
    "                       thresh_arr=[thresh_arr[lr_orig_best_ind]])\n",
    "\n",
    "describe_metrics(lr_orig_metrics, [thresh_arr[lr_orig_best_ind]])\n",
    "\n",
    "#4. Bias mitigation using pre-processing technique - Reweighing¶\n",
    "\n",
    "#4.1. Transform data¶\n",
    "RW = Reweighing(unprivileged_groups=unprivileged_groups,\n",
    "                privileged_groups=privileged_groups)\n",
    "dataset_transf_train = RW.fit_transform(dataset_orig_train)\n",
    "\n",
    "#Metrics for transformed data\n",
    "\n",
    "metric_transf_train = BinaryLabelDatasetMetric(\n",
    "        dataset_transf_train,\n",
    "        unprivileged_groups=unprivileged_groups,\n",
    "        privileged_groups=privileged_groups)\n",
    "explainer_transf_train = MetricTextExplainer(metric_transf_train)\n",
    "\n",
    "print(explainer_transf_train.disparate_impact())"
   ]
  },
  {
   "cell_type": "code",
   "execution_count": 16,
   "id": "ordinary-kelly",
   "metadata": {
    "scrolled": false
   },
   "outputs": [
    {
     "data": {
      "image/png": "[encoded data removed]",
      "text/plain": [
       "<Figure size 720x504 with 2 Axes>"
      ]
     },
     "metadata": {
      "needs_background": "light"
     },
     "output_type": "display_data"
    },
    {
     "data": {
      "image/png": "[encoded data removed]",
      "text/plain": [
       "<Figure size 720x504 with 2 Axes>"
      ]
     },
     "metadata": {
      "needs_background": "light"
     },
     "output_type": "display_data"
    },
    {
     "name": "stdout",
     "output_type": "stream",
     "text": [
      "Threshold corresponding to Best balanced accuracy: 0.2500\n",
      "Best balanced accuracy: 0.5960\n",
      "Corresponding 1-min(DI, 1/DI) value: 0.0325\n",
      "Corresponding average odds difference value: -0.0170\n",
      "Corresponding statistical parity difference value: -0.0239\n",
      "Corresponding equal opportunity difference value: -0.0222\n",
      "Corresponding Theil index value: 0.1232\n"
     ]
    }
   ],
   "source": [
    "#4.2. Learning a Logistic Regression (LR) classifier on data transformed by reweighing¶\n",
    "\n",
    "#4.2.1. Training LR model after reweighing¶\n",
    "dataset = dataset_transf_train\n",
    "model = make_pipeline(StandardScaler(),\n",
    "                      LogisticRegression(solver='liblinear', random_state=1))\n",
    "fit_params = {'logisticregression__sample_weight': dataset.instance_weights}\n",
    "lr_transf = model.fit(dataset.features, dataset.labels.ravel(), **fit_params)\n",
    "\n",
    "#4.2.2. Validating LR model after reweighing¶\n",
    "\n",
    "\n",
    "thresh_arr = np.linspace(0.01, 0.5, 50)\n",
    "val_metrics = test(dataset=dataset_orig_val,\n",
    "                   model=lr_transf,\n",
    "                   thresh_arr=thresh_arr)\n",
    "lr_transf_best_ind = np.argmax(val_metrics['bal_acc'])\n",
    "\n",
    "disp_imp = np.array(val_metrics['disp_imp'])\n",
    "disp_imp_err = 1 - np.minimum(disp_imp, 1/disp_imp)\n",
    "\n",
    "plot(thresh_arr, 'Classification Thresholds',\n",
    "     val_metrics['bal_acc'], 'Balanced Accuracy',\n",
    "     disp_imp_err, '1 - min(DI, 1/DI)')\n",
    "\n",
    "plot(thresh_arr, 'Classification Thresholds',\n",
    "     val_metrics['bal_acc'], 'Balanced Accuracy',\n",
    "     val_metrics['avg_odds_diff'], 'avg. odds diff.')\n",
    "\n",
    "describe_metrics(val_metrics, thresh_arr)\n"
   ]
  },
  {
   "cell_type": "code",
   "execution_count": 17,
   "id": "polished-murder",
   "metadata": {},
   "outputs": [
    {
     "name": "stdout",
     "output_type": "stream",
     "text": [
      "Threshold corresponding to Best balanced accuracy: 0.2500\n",
      "Best balanced accuracy: 0.6057\n",
      "Corresponding 1-min(DI, 1/DI) value: 0.0041\n",
      "Corresponding average odds difference value: 0.0026\n",
      "Corresponding statistical parity difference value: -0.0028\n",
      "Corresponding equal opportunity difference value: -0.0744\n",
      "Corresponding Theil index value: 0.1307\n"
     ]
    }
   ],
   "source": [
    "#4.2.3. Testing LR model after reweighing¶\n",
    "lr_transf_metrics = test(dataset=dataset_orig_test,\n",
    "                         model=lr_transf,\n",
    "                         thresh_arr=[thresh_arr[lr_transf_best_ind]])\n",
    "describe_metrics(lr_transf_metrics, [thresh_arr[lr_transf_best_ind]])\n"
   ]
  },
  {
   "cell_type": "code",
   "execution_count": 18,
   "id": "indie-pitch",
   "metadata": {},
   "outputs": [
    {
     "data": {
      "image/png": "[encoded data removed]",
      "text/plain": [
       "<Figure size 720x504 with 2 Axes>"
      ]
     },
     "metadata": {
      "needs_background": "light"
     },
     "output_type": "display_data"
    },
    {
     "data": {
      "image/png": "[encoded data removed]",
      "text/plain": [
       "<Figure size 720x504 with 2 Axes>"
      ]
     },
     "metadata": {
      "needs_background": "light"
     },
     "output_type": "display_data"
    },
    {
     "name": "stdout",
     "output_type": "stream",
     "text": [
      "Threshold corresponding to Best balanced accuracy: 0.2300\n",
      "Best balanced accuracy: 0.5790\n",
      "Corresponding 1-min(DI, 1/DI) value: 0.3249\n",
      "Corresponding average odds difference value: 0.2430\n",
      "Corresponding statistical parity difference value: 0.2320\n",
      "Corresponding equal opportunity difference value: 0.2643\n",
      "Corresponding Theil index value: 0.1506\n"
     ]
    }
   ],
   "source": [
    "#5. Bias mitigation using in-processing technique - Prejudice Remover (PR)¶\n",
    "\n",
    "#5.1.1. Training a PR model\n",
    "model = PrejudiceRemover(sensitive_attr=sens_attr, eta=25.0)\n",
    "pr_orig_scaler = StandardScaler()\n",
    "\n",
    "dataset = dataset_orig_train.copy()\n",
    "dataset.features = pr_orig_scaler.fit_transform(dataset.features)\n",
    "\n",
    "pr_orig = model.fit(dataset)\n",
    "\n",
    "#5.1.2. Validating PR model¶\n",
    "\n",
    "thresh_arr = np.linspace(0.01, 0.50, 50)\n",
    "\n",
    "dataset = dataset_orig_val.copy()\n",
    "dataset.features = pr_orig_scaler.transform(dataset.features)\n",
    "\n",
    "val_metrics = test(dataset=dataset,\n",
    "                   model=pr_orig,\n",
    "                   thresh_arr=thresh_arr)\n",
    "pr_orig_best_ind = np.argmax(val_metrics['bal_acc'])\n",
    "disp_imp = np.array(val_metrics['disp_imp'])\n",
    "disp_imp_err = 1 - np.minimum(disp_imp, 1/disp_imp)\n",
    "\n",
    "plot(thresh_arr, 'Classification Thresholds',\n",
    "     val_metrics['bal_acc'], 'Balanced Accuracy',\n",
    "     disp_imp_err, '1 - min(DI, 1/DI)')\n",
    "\n",
    "plot(thresh_arr, 'Classification Thresholds',\n",
    "     val_metrics['bal_acc'], 'Balanced Accuracy',\n",
    "     val_metrics['avg_odds_diff'], 'avg. odds diff.')\n",
    "\n",
    "describe_metrics(val_metrics, thresh_arr)\n"
   ]
  },
  {
   "cell_type": "code",
   "execution_count": 19,
   "id": "departmental-barrel",
   "metadata": {},
   "outputs": [
    {
     "name": "stdout",
     "output_type": "stream",
     "text": [
      "Threshold corresponding to Best balanced accuracy: 0.2300\n",
      "Best balanced accuracy: 0.5780\n",
      "Corresponding 1-min(DI, 1/DI) value: 0.4132\n",
      "Corresponding average odds difference value: 0.3222\n",
      "Corresponding statistical parity difference value: 0.3055\n",
      "Corresponding equal opportunity difference value: 0.3337\n",
      "Corresponding Theil index value: 0.1415\n"
     ]
    }
   ],
   "source": [
    "#5.1.3. Testing PR model¶\n",
    "\n",
    "dataset = dataset_orig_test.copy()\n",
    "dataset.features = pr_orig_scaler.transform(dataset.features)\n",
    "\n",
    "pr_orig_metrics = test(dataset=dataset,\n",
    "                       model=pr_orig,\n",
    "                       thresh_arr=[thresh_arr[pr_orig_best_ind]])\n",
    "describe_metrics(pr_orig_metrics, [thresh_arr[pr_orig_best_ind]])"
   ]
  },
  {
   "cell_type": "code",
   "execution_count": 20,
   "id": "indonesian-examination",
   "metadata": {},
   "outputs": [
    {
     "data": {
      "text/html": [
       "<div>\n",
       "<style scoped>\n",
       "    .dataframe tbody tr th:only-of-type {\n",
       "        vertical-align: middle;\n",
       "    }\n",
       "\n",
       "    .dataframe tbody tr th {\n",
       "        vertical-align: top;\n",
       "    }\n",
       "\n",
       "    .dataframe thead th {\n",
       "        text-align: right;\n",
       "    }\n",
       "</style>\n",
       "<table border=\"1\" class=\"dataframe\">\n",
       "  <thead>\n",
       "    <tr style=\"text-align: right;\">\n",
       "      <th></th>\n",
       "      <th></th>\n",
       "      <th>bal_acc</th>\n",
       "      <th>avg_odds_diff</th>\n",
       "      <th>disp_imp</th>\n",
       "      <th>stat_par_diff</th>\n",
       "      <th>eq_opp_diff</th>\n",
       "      <th>theil_ind</th>\n",
       "    </tr>\n",
       "    <tr>\n",
       "      <th>Bias Mitigator</th>\n",
       "      <th>Classifier</th>\n",
       "      <th></th>\n",
       "      <th></th>\n",
       "      <th></th>\n",
       "      <th></th>\n",
       "      <th></th>\n",
       "      <th></th>\n",
       "    </tr>\n",
       "  </thead>\n",
       "  <tbody>\n",
       "    <tr>\n",
       "      <th></th>\n",
       "      <th>Logistic Regression</th>\n",
       "      <td>0.601632</td>\n",
       "      <td>-0.035800</td>\n",
       "      <td>0.938905</td>\n",
       "      <td>-0.042651</td>\n",
       "      <td>-0.098481</td>\n",
       "      <td>0.138181</td>\n",
       "    </tr>\n",
       "    <tr>\n",
       "      <th>Reweighing</th>\n",
       "      <th>Logistic Regression</th>\n",
       "      <td>0.605660</td>\n",
       "      <td>0.002593</td>\n",
       "      <td>0.995915</td>\n",
       "      <td>-0.002775</td>\n",
       "      <td>-0.074384</td>\n",
       "      <td>0.130726</td>\n",
       "    </tr>\n",
       "    <tr>\n",
       "      <th>Prejudice Remover</th>\n",
       "      <th></th>\n",
       "      <td>0.577996</td>\n",
       "      <td>0.322218</td>\n",
       "      <td>1.704056</td>\n",
       "      <td>0.305534</td>\n",
       "      <td>0.333683</td>\n",
       "      <td>0.141457</td>\n",
       "    </tr>\n",
       "  </tbody>\n",
       "</table>\n",
       "</div>"
      ],
      "text/plain": [
       "                                        bal_acc  avg_odds_diff  disp_imp  \\\n",
       "Bias Mitigator    Classifier                                               \n",
       "                  Logistic Regression  0.601632      -0.035800  0.938905   \n",
       "Reweighing        Logistic Regression  0.605660       0.002593  0.995915   \n",
       "Prejudice Remover                      0.577996       0.322218  1.704056   \n",
       "\n",
       "                                       stat_par_diff  eq_opp_diff  theil_ind  \n",
       "Bias Mitigator    Classifier                                                  \n",
       "                  Logistic Regression      -0.042651    -0.098481   0.138181  \n",
       "Reweighing        Logistic Regression      -0.002775    -0.074384   0.130726  \n",
       "Prejudice Remover                           0.305534     0.333683   0.141457  "
      ]
     },
     "execution_count": 20,
     "metadata": {},
     "output_type": "execute_result"
    }
   ],
   "source": [
    "import pandas as pd\n",
    "pd.set_option('display.multi_sparse', False)\n",
    "results = [lr_orig_metrics, lr_transf_metrics,\n",
    "            pr_orig_metrics]\n",
    "debias = pd.Series([''] + ['Reweighing']\n",
    "                 + ['Prejudice Remover'],\n",
    "                   name='Bias Mitigator')\n",
    "clf = pd.Series(['Logistic Regression']*2 + [''],\n",
    "                name='Classifier')\n",
    "pd.concat([pd.DataFrame(metrics) for metrics in results], axis=0).set_index([debias, clf])"
   ]
  },
  {
   "cell_type": "code",
   "execution_count": 21,
   "id": "twenty-digit",
   "metadata": {},
   "outputs": [],
   "source": [
    "#Disparate Impact Remover\n",
    "\n",
    "from aif360.algorithms.preprocessing import DisparateImpactRemover\n"
   ]
  },
  {
   "cell_type": "code",
   "execution_count": 22,
   "id": "separate-dining",
   "metadata": {},
   "outputs": [
    {
     "name": "stdout",
     "output_type": "stream",
     "text": [
      "Test Scores:\n",
      "Threshold corresponding to Best balanced accuracy: 0.2600\n",
      "Best balanced accuracy: 0.6016\n",
      "Corresponding 1-min(DI, 1/DI) value: 0.0611\n",
      "Corresponding average odds difference value: -0.0358\n",
      "Corresponding statistical parity difference value: -0.0427\n",
      "Corresponding equal opportunity difference value: -0.0985\n",
      "Corresponding Theil index value: 0.1382\n",
      "Disparate impact (probability of favorable outcome for unprivileged instances / probability of favorable outcome for privileged instances): 0.910004174929548\n"
     ]
    }
   ],
   "source": [
    "#3.2.3. Testing LR model on original data¶\n",
    "\n",
    "print(\"Test Scores:\")\n",
    "lr_orig_metrics = test(dataset=dataset_orig_test,\n",
    "                       model=lr_orig,\n",
    "                       thresh_arr=[thresh_arr[lr_orig_best_ind]])\n",
    "\n",
    "describe_metrics(lr_orig_metrics, [thresh_arr[lr_orig_best_ind]])\n",
    "\n",
    "#4. Bias mitigation using pre-processing technique - Disparate Impact Remover¶\n",
    "\n",
    "#4.1. Transform data¶\n",
    "\n",
    "\n",
    "di = DisparateImpactRemover(repair_level=1.0)\n",
    "dataset_transf_train = di.fit_transform(dataset_orig_train)\n",
    "dataset_transf_test = di.fit_transform(dataset_orig_test)\n",
    "\n",
    "#Metrics for transformed data\n",
    "\n",
    "metric_transf_train = BinaryLabelDatasetMetric(\n",
    "        dataset_transf_train,\n",
    "        unprivileged_groups=unprivileged_groups,\n",
    "        privileged_groups=privileged_groups)\n",
    "explainer_transf_train = MetricTextExplainer(metric_transf_train)\n",
    "\n",
    "print(explainer_transf_train.disparate_impact())"
   ]
  },
  {
   "cell_type": "code",
   "execution_count": 23,
   "id": "bizarre-anime",
   "metadata": {},
   "outputs": [
    {
     "name": "stdout",
     "output_type": "stream",
     "text": [
      "Threshold corresponding to Best balanced accuracy: 0.4600\n",
      "Best balanced accuracy: 0.5939\n",
      "Corresponding 1-min(DI, 1/DI) value: 0.1844\n",
      "Corresponding average odds difference value: -0.0583\n",
      "Corresponding statistical parity difference value: -0.0711\n",
      "Corresponding equal opportunity difference value: -0.0321\n",
      "Corresponding Theil index value: 0.2832\n"
     ]
    },
    {
     "name": "stderr",
     "output_type": "stream",
     "text": [
      "Matplotlib is currently using agg, which is a non-GUI backend, so cannot show the figure.\n",
      "Matplotlib is currently using agg, which is a non-GUI backend, so cannot show the figure.\n"
     ]
    },
    {
     "data": {
      "image/png": "[encoded data removed]",
      "text/plain": [
       "<Figure size 720x504 with 2 Axes>"
      ]
     },
     "metadata": {
      "needs_background": "light"
     },
     "output_type": "display_data"
    },
    {
     "data": {
      "image/png": "[encoded data removed]",
      "text/plain": [
       "<Figure size 720x504 with 2 Axes>"
      ]
     },
     "metadata": {
      "needs_background": "light"
     },
     "output_type": "display_data"
    }
   ],
   "source": [
    "#4.2.1. Training LR model after Disparate Impact Remover¶\n",
    "dataset = dataset_transf_train\n",
    "model = make_pipeline(StandardScaler(),\n",
    "                      LogisticRegression(solver='liblinear', random_state=1))\n",
    "fit_params = {'logisticregression__sample_weight': dataset.instance_weights}\n",
    "lr_transf = model.fit(dataset.features, dataset.labels.ravel(), **fit_params)\n",
    "\n",
    "#4.2.2. Validating LR model after Disdparate impact Remover¶\n",
    "\n",
    "\n",
    "thresh_arr = np.linspace(0.01, 0.5, 50)\n",
    "val_metrics = test(dataset=dataset_orig_val,\n",
    "                   model=lr_transf,\n",
    "                   thresh_arr=thresh_arr)\n",
    "lr_transf_best_ind = np.argmax(val_metrics['bal_acc'])\n",
    "\n",
    "disp_imp = np.array(val_metrics['disp_imp'])\n",
    "disp_imp_err = 1 - np.minimum(disp_imp, 1/disp_imp)\n",
    "\n",
    "plot(thresh_arr, 'Classification Thresholds',\n",
    "     val_metrics['bal_acc'], 'Balanced Accuracy',\n",
    "     disp_imp_err, '1 - min(DI, 1/DI)')\n",
    "\n",
    "plot(thresh_arr, 'Classification Thresholds',\n",
    "     val_metrics['bal_acc'], 'Balanced Accuracy',\n",
    "     val_metrics['avg_odds_diff'], 'avg. odds diff.')\n",
    "\n",
    "describe_metrics(val_metrics, thresh_arr)"
   ]
  },
  {
   "cell_type": "code",
   "execution_count": 24,
   "id": "prescribed-council",
   "metadata": {},
   "outputs": [
    {
     "name": "stdout",
     "output_type": "stream",
     "text": [
      "Threshold corresponding to Best balanced accuracy: 0.4600\n",
      "Best balanced accuracy: 0.5521\n",
      "Corresponding 1-min(DI, 1/DI) value: 0.0313\n",
      "Corresponding average odds difference value: -0.0184\n",
      "Corresponding statistical parity difference value: -0.0118\n",
      "Corresponding equal opportunity difference value: -0.1121\n",
      "Corresponding Theil index value: 0.2862\n"
     ]
    }
   ],
   "source": [
    "#Test LR DIR Model\n",
    "\n",
    "lr_metrics_DIR = test(dataset=dataset_orig_test,\n",
    "                         model=lr_transf,\n",
    "                         thresh_arr=[thresh_arr[lr_transf_best_ind]])\n",
    "describe_metrics(lr_metrics_DIR, [thresh_arr[lr_transf_best_ind]])"
   ]
  },
  {
   "cell_type": "code",
   "execution_count": 25,
   "id": "electrical-cursor",
   "metadata": {},
   "outputs": [
    {
     "data": {
      "text/html": [
       "<div>\n",
       "<style scoped>\n",
       "    .dataframe tbody tr th:only-of-type {\n",
       "        vertical-align: middle;\n",
       "    }\n",
       "\n",
       "    .dataframe tbody tr th {\n",
       "        vertical-align: top;\n",
       "    }\n",
       "\n",
       "    .dataframe thead th {\n",
       "        text-align: right;\n",
       "    }\n",
       "</style>\n",
       "<table border=\"1\" class=\"dataframe\">\n",
       "  <thead>\n",
       "    <tr style=\"text-align: right;\">\n",
       "      <th></th>\n",
       "      <th></th>\n",
       "      <th>bal_acc</th>\n",
       "      <th>avg_odds_diff</th>\n",
       "      <th>disp_imp</th>\n",
       "      <th>stat_par_diff</th>\n",
       "      <th>eq_opp_diff</th>\n",
       "      <th>theil_ind</th>\n",
       "    </tr>\n",
       "    <tr>\n",
       "      <th>Bias Mitigator</th>\n",
       "      <th>Classifier</th>\n",
       "      <th></th>\n",
       "      <th></th>\n",
       "      <th></th>\n",
       "      <th></th>\n",
       "      <th></th>\n",
       "      <th></th>\n",
       "    </tr>\n",
       "  </thead>\n",
       "  <tbody>\n",
       "    <tr>\n",
       "      <th></th>\n",
       "      <th>Logistic Regression</th>\n",
       "      <td>0.601632</td>\n",
       "      <td>-0.035800</td>\n",
       "      <td>0.938905</td>\n",
       "      <td>-0.042651</td>\n",
       "      <td>-0.098481</td>\n",
       "      <td>0.138181</td>\n",
       "    </tr>\n",
       "    <tr>\n",
       "      <th>Reweighing</th>\n",
       "      <th>Logistic Regression</th>\n",
       "      <td>0.605660</td>\n",
       "      <td>0.002593</td>\n",
       "      <td>0.995915</td>\n",
       "      <td>-0.002775</td>\n",
       "      <td>-0.074384</td>\n",
       "      <td>0.130726</td>\n",
       "    </tr>\n",
       "    <tr>\n",
       "      <th>Prejudice Remover</th>\n",
       "      <th></th>\n",
       "      <td>0.577996</td>\n",
       "      <td>0.322218</td>\n",
       "      <td>1.704056</td>\n",
       "      <td>0.305534</td>\n",
       "      <td>0.333683</td>\n",
       "      <td>0.141457</td>\n",
       "    </tr>\n",
       "    <tr>\n",
       "      <th>Disparate Impact Remover</th>\n",
       "      <th>Logistic Regression</th>\n",
       "      <td>0.552116</td>\n",
       "      <td>-0.018416</td>\n",
       "      <td>0.968697</td>\n",
       "      <td>-0.011812</td>\n",
       "      <td>-0.112101</td>\n",
       "      <td>0.286172</td>\n",
       "    </tr>\n",
       "  </tbody>\n",
       "</table>\n",
       "</div>"
      ],
      "text/plain": [
       "                                               bal_acc  avg_odds_diff  \\\n",
       "Bias Mitigator           Classifier                                     \n",
       "                         Logistic Regression  0.601632      -0.035800   \n",
       "Reweighing               Logistic Regression  0.605660       0.002593   \n",
       "Prejudice Remover                             0.577996       0.322218   \n",
       "Disparate Impact Remover Logistic Regression  0.552116      -0.018416   \n",
       "\n",
       "                                              disp_imp  stat_par_diff  \\\n",
       "Bias Mitigator           Classifier                                     \n",
       "                         Logistic Regression  0.938905      -0.042651   \n",
       "Reweighing               Logistic Regression  0.995915      -0.002775   \n",
       "Prejudice Remover                             1.704056       0.305534   \n",
       "Disparate Impact Remover Logistic Regression  0.968697      -0.011812   \n",
       "\n",
       "                                              eq_opp_diff  theil_ind  \n",
       "Bias Mitigator           Classifier                                   \n",
       "                         Logistic Regression    -0.098481   0.138181  \n",
       "Reweighing               Logistic Regression    -0.074384   0.130726  \n",
       "Prejudice Remover                                0.333683   0.141457  \n",
       "Disparate Impact Remover Logistic Regression    -0.112101   0.286172  "
      ]
     },
     "execution_count": 25,
     "metadata": {},
     "output_type": "execute_result"
    }
   ],
   "source": [
    "import pandas as pd\n",
    "pd.set_option('display.multi_sparse', False)\n",
    "results = [lr_orig_metrics, lr_transf_metrics,\n",
    "            pr_orig_metrics, lr_metrics_DIR]\n",
    "debias = pd.Series([''] + ['Reweighing']\n",
    "                 + ['Prejudice Remover'] + [\"Disparate Impact Remover\"],\n",
    "                   name='Bias Mitigator')\n",
    "clf = pd.Series(['Logistic Regression']*2 + [''] + [\"Logistic Regression\"],\n",
    "                name='Classifier')\n",
    "pd.concat([pd.DataFrame(metrics) for metrics in results], axis=0).set_index([debias, clf])"
   ]
  },
  {
   "cell_type": "code",
   "execution_count": null,
   "id": "soviet-feelings",
   "metadata": {},
   "outputs": [],
   "source": []
  },
  {
   "cell_type": "code",
   "execution_count": 26,
   "id": "cloudy-ethics",
   "metadata": {},
   "outputs": [
    {
     "data": {
      "text/markdown": [
       "#### Original training dataset"
      ],
      "text/plain": [
       "<IPython.core.display.Markdown object>"
      ]
     },
     "metadata": {},
     "output_type": "display_data"
    },
    {
     "name": "stdout",
     "output_type": "stream",
     "text": [
      "Train set: Difference in mean outcomes between unprivileged and privileged groups = -0.038901\n",
      "Test set: Difference in mean outcomes between unprivileged and privileged groups = -0.085223\n"
     ]
    }
   ],
   "source": [
    "from aif360.algorithms.inprocessing.adversarial_debiasing import AdversarialDebiasing\n",
    "from aif360.metrics import ClassificationMetric\n",
    "from sklearn.preprocessing import MaxAbsScaler\n",
    "import tensorflow.compat.v1 as tf\n",
    "tf.disable_eager_execution()\n",
    "\n",
    "\n",
    "# Metric for the original dataset\n",
    "metric_orig_train = BinaryLabelDatasetMetric(dataset_orig_train, \n",
    "                                             unprivileged_groups=unprivileged_groups,\n",
    "                                             privileged_groups=privileged_groups)\n",
    "display(Markdown(\"#### Original training dataset\"))\n",
    "print(\"Train set: Difference in mean outcomes between unprivileged and privileged groups = %f\" % metric_orig_train.mean_difference())\n",
    "metric_orig_test = BinaryLabelDatasetMetric(dataset_orig_test, \n",
    "                                             unprivileged_groups=unprivileged_groups,\n",
    "                                             privileged_groups=privileged_groups)\n",
    "print(\"Test set: Difference in mean outcomes between unprivileged and privileged groups = %f\" % metric_orig_test.mean_difference())"
   ]
  },
  {
   "cell_type": "code",
   "execution_count": 27,
   "id": "needed-lotus",
   "metadata": {},
   "outputs": [
    {
     "data": {
      "text/markdown": [
       "#### Scaled dataset - Verify that the scaling does not affect the group label statistics"
      ],
      "text/plain": [
       "<IPython.core.display.Markdown object>"
      ]
     },
     "metadata": {},
     "output_type": "display_data"
    },
    {
     "name": "stdout",
     "output_type": "stream",
     "text": [
      "Train set: Difference in mean outcomes between unprivileged and privileged groups = -0.038901\n",
      "Test set: Difference in mean outcomes between unprivileged and privileged groups = -0.085223\n"
     ]
    }
   ],
   "source": [
    "min_max_scaler = MaxAbsScaler()\n",
    "dataset_orig_train.features = min_max_scaler.fit_transform(dataset_orig_train.features)\n",
    "dataset_orig_test.features = min_max_scaler.transform(dataset_orig_test.features)\n",
    "metric_scaled_train = BinaryLabelDatasetMetric(dataset_orig_train, \n",
    "                             unprivileged_groups=unprivileged_groups,\n",
    "                             privileged_groups=privileged_groups)\n",
    "display(Markdown(\"#### Scaled dataset - Verify that the scaling does not affect the group label statistics\"))\n",
    "print(\"Train set: Difference in mean outcomes between unprivileged and privileged groups = %f\" % metric_scaled_train.mean_difference())\n",
    "metric_scaled_test = BinaryLabelDatasetMetric(dataset_orig_test, \n",
    "                             unprivileged_groups=unprivileged_groups,\n",
    "                             privileged_groups=privileged_groups)\n",
    "print(\"Test set: Difference in mean outcomes between unprivileged and privileged groups = %f\" % metric_scaled_test.mean_difference())"
   ]
  },
  {
   "cell_type": "code",
   "execution_count": 28,
   "id": "worthy-nutrition",
   "metadata": {},
   "outputs": [
    {
     "name": "stdout",
     "output_type": "stream",
     "text": [
      "WARNING:tensorflow:From C:\\Users\\sujin\\miniconda3\\lib\\site-packages\\tensorflow\\python\\util\\dispatch.py:201: calling dropout (from tensorflow.python.ops.nn_ops) with keep_prob is deprecated and will be removed in a future version.\n",
      "Instructions for updating:\n",
      "Please use `rate` instead of `keep_prob`. Rate should be set to `rate = 1 - keep_prob`.\n",
      "epoch 0; iter: 0; batch classifier loss: 0.777309\n",
      "epoch 1; iter: 0; batch classifier loss: 0.728931\n",
      "epoch 2; iter: 0; batch classifier loss: 0.629585\n",
      "epoch 3; iter: 0; batch classifier loss: 0.649678\n",
      "epoch 4; iter: 0; batch classifier loss: 0.629513\n",
      "epoch 5; iter: 0; batch classifier loss: 0.630646\n",
      "epoch 6; iter: 0; batch classifier loss: 0.635179\n",
      "epoch 7; iter: 0; batch classifier loss: 0.628748\n",
      "epoch 8; iter: 0; batch classifier loss: 0.619983\n",
      "epoch 9; iter: 0; batch classifier loss: 0.591555\n",
      "epoch 10; iter: 0; batch classifier loss: 0.642036\n",
      "epoch 11; iter: 0; batch classifier loss: 0.625509\n",
      "epoch 12; iter: 0; batch classifier loss: 0.586130\n",
      "epoch 13; iter: 0; batch classifier loss: 0.602269\n",
      "epoch 14; iter: 0; batch classifier loss: 0.567292\n",
      "epoch 15; iter: 0; batch classifier loss: 0.613424\n",
      "epoch 16; iter: 0; batch classifier loss: 0.601214\n",
      "epoch 17; iter: 0; batch classifier loss: 0.615837\n",
      "epoch 18; iter: 0; batch classifier loss: 0.547429\n",
      "epoch 19; iter: 0; batch classifier loss: 0.589628\n",
      "epoch 20; iter: 0; batch classifier loss: 0.561311\n",
      "epoch 21; iter: 0; batch classifier loss: 0.551509\n",
      "epoch 22; iter: 0; batch classifier loss: 0.567829\n",
      "epoch 23; iter: 0; batch classifier loss: 0.526452\n",
      "epoch 24; iter: 0; batch classifier loss: 0.575890\n",
      "epoch 25; iter: 0; batch classifier loss: 0.538743\n",
      "epoch 26; iter: 0; batch classifier loss: 0.553377\n",
      "epoch 27; iter: 0; batch classifier loss: 0.570222\n",
      "epoch 28; iter: 0; batch classifier loss: 0.571958\n",
      "epoch 29; iter: 0; batch classifier loss: 0.541856\n",
      "epoch 30; iter: 0; batch classifier loss: 0.575822\n",
      "epoch 31; iter: 0; batch classifier loss: 0.588741\n",
      "epoch 32; iter: 0; batch classifier loss: 0.527287\n",
      "epoch 33; iter: 0; batch classifier loss: 0.535197\n",
      "epoch 34; iter: 0; batch classifier loss: 0.547727\n",
      "epoch 35; iter: 0; batch classifier loss: 0.568142\n",
      "epoch 36; iter: 0; batch classifier loss: 0.496964\n",
      "epoch 37; iter: 0; batch classifier loss: 0.545087\n",
      "epoch 38; iter: 0; batch classifier loss: 0.536335\n",
      "epoch 39; iter: 0; batch classifier loss: 0.491605\n",
      "epoch 40; iter: 0; batch classifier loss: 0.507448\n",
      "epoch 41; iter: 0; batch classifier loss: 0.517978\n",
      "epoch 42; iter: 0; batch classifier loss: 0.528866\n",
      "epoch 43; iter: 0; batch classifier loss: 0.500157\n",
      "epoch 44; iter: 0; batch classifier loss: 0.531958\n",
      "epoch 45; iter: 0; batch classifier loss: 0.518229\n",
      "epoch 46; iter: 0; batch classifier loss: 0.499727\n",
      "epoch 47; iter: 0; batch classifier loss: 0.485435\n",
      "epoch 48; iter: 0; batch classifier loss: 0.476233\n",
      "epoch 49; iter: 0; batch classifier loss: 0.454803\n"
     ]
    },
    {
     "data": {
      "text/plain": [
       "<aif360.algorithms.inprocessing.adversarial_debiasing.AdversarialDebiasing at 0x1c0857c4df0>"
      ]
     },
     "execution_count": 28,
     "metadata": {},
     "output_type": "execute_result"
    }
   ],
   "source": [
    "#Learn plan classifier without debiasing\n",
    "# Load post-processing algorithm that equalizes the odds\n",
    "# Learn parameters with debias set to False\n",
    "sess = tf.Session()\n",
    "plain_model = AdversarialDebiasing(privileged_groups = privileged_groups,\n",
    "                          unprivileged_groups = unprivileged_groups,\n",
    "                          scope_name='plain_classifier',\n",
    "                          debias=False,\n",
    "                          sess=sess)\n",
    "\n",
    "plain_model.fit(dataset_orig_train)\n"
   ]
  },
  {
   "cell_type": "code",
   "execution_count": 29,
   "id": "northern-thumb",
   "metadata": {},
   "outputs": [],
   "source": [
    "# Apply the plain model to test data\n",
    "dataset_nodebiasing_train = plain_model.predict(dataset_orig_train)\n",
    "dataset_nodebiasing_test = plain_model.predict(dataset_orig_test)"
   ]
  },
  {
   "cell_type": "code",
   "execution_count": 30,
   "id": "single-arkansas",
   "metadata": {},
   "outputs": [
    {
     "data": {
      "text/markdown": [
       "#### Plain model - without debiasing - dataset metrics"
      ],
      "text/plain": [
       "<IPython.core.display.Markdown object>"
      ]
     },
     "metadata": {},
     "output_type": "display_data"
    },
    {
     "name": "stdout",
     "output_type": "stream",
     "text": [
      "Train set: Difference in mean outcomes between unprivileged and privileged groups = -0.130600\n",
      "Test set: Difference in mean outcomes between unprivileged and privileged groups = -0.024259\n"
     ]
    },
    {
     "data": {
      "text/markdown": [
       "#### Plain model - without debiasing - classification metrics"
      ],
      "text/plain": [
       "<IPython.core.display.Markdown object>"
      ]
     },
     "metadata": {},
     "output_type": "display_data"
    },
    {
     "name": "stdout",
     "output_type": "stream",
     "text": [
      "Test set: Classification accuracy = 0.594502\n",
      "Test set: Balanced classification accuracy = 0.582381\n",
      "Test set: Average odds difference = -0.037397\n",
      "Test set: Disparate impact = 0.946429\n",
      "Test set: Statisticsal parity difference = -0.024259\n",
      "Test set: Equal opportunity difference = -0.201676\n",
      "Test set: Theil_index = 0.241100\n"
     ]
    }
   ],
   "source": [
    "# Metrics for the dataset from plain model (without debiasing)\n",
    "display(Markdown(\"#### Plain model - without debiasing - dataset metrics\"))\n",
    "metric_dataset_nodebiasing_train = BinaryLabelDatasetMetric(dataset_nodebiasing_train, \n",
    "                                             unprivileged_groups=unprivileged_groups,\n",
    "                                             privileged_groups=privileged_groups)\n",
    "\n",
    "print(\"Train set: Difference in mean outcomes between unprivileged and privileged groups = %f\" % metric_dataset_nodebiasing_train.mean_difference())\n",
    "\n",
    "metric_dataset_nodebiasing_test = BinaryLabelDatasetMetric(dataset_nodebiasing_test, \n",
    "                                             unprivileged_groups=unprivileged_groups,\n",
    "                                             privileged_groups=privileged_groups)\n",
    "\n",
    "print(\"Test set: Difference in mean outcomes between unprivileged and privileged groups = %f\" % metric_dataset_nodebiasing_test.mean_difference())\n",
    "\n",
    "display(Markdown(\"#### Plain model - without debiasing - classification metrics\"))\n",
    "classified_metric_nodebiasing_test = ClassificationMetric(dataset_orig_test, \n",
    "                                                 dataset_nodebiasing_test,\n",
    "                                                 unprivileged_groups=unprivileged_groups,\n",
    "                                                 privileged_groups=privileged_groups)\n",
    "\n",
    "print(\"Test set: Classification accuracy = %f\" % classified_metric_nodebiasing_test.accuracy())\n",
    "TPR = classified_metric_nodebiasing_test.true_positive_rate()\n",
    "TNR = classified_metric_nodebiasing_test.true_negative_rate()\n",
    "bal_acc_nodebiasing_test = 0.5*(TPR+TNR)\n",
    "print(\"Test set: Balanced classification accuracy = %f\" % bal_acc_nodebiasing_test)\n",
    "print(\"Test set: Average odds difference = %f\" % classified_metric_nodebiasing_test.average_odds_difference())\n",
    "print(\"Test set: Disparate impact = %f\" % classified_metric_nodebiasing_test.disparate_impact())\n",
    "print(\"Test set: Statisticsal parity difference = %f\" % classified_metric_nodebiasing_test.statistical_parity_difference())\n",
    "print(\"Test set: Equal opportunity difference = %f\" % classified_metric_nodebiasing_test.equal_opportunity_difference())\n",
    "print(\"Test set: Theil_index = %f\" % classified_metric_nodebiasing_test.theil_index())\n",
    "\n",
    "metrics_AD = defaultdict(list,\n",
    "            {'bal_acc': [bal_acc_nodebiasing_test],\n",
    "             'avg_odds_diff': [classified_metric_nodebiasing_test.average_odds_difference()],\n",
    "             'disp_imp': [classified_metric_nodebiasing_test.disparate_impact()],\n",
    "             'stat_par_diff': [classified_metric_nodebiasing_test.statistical_parity_difference()],\n",
    "             'eq_opp_diff': [classified_metric_nodebiasing_test.equal_opportunity_difference()],\n",
    "             'theil_ind': [classified_metric_nodebiasing_test.theil_index()]})\n"
   ]
  },
  {
   "cell_type": "code",
   "execution_count": 31,
   "id": "round-walter",
   "metadata": {},
   "outputs": [
    {
     "data": {
      "text/html": [
       "<div>\n",
       "<style scoped>\n",
       "    .dataframe tbody tr th:only-of-type {\n",
       "        vertical-align: middle;\n",
       "    }\n",
       "\n",
       "    .dataframe tbody tr th {\n",
       "        vertical-align: top;\n",
       "    }\n",
       "\n",
       "    .dataframe thead th {\n",
       "        text-align: right;\n",
       "    }\n",
       "</style>\n",
       "<table border=\"1\" class=\"dataframe\">\n",
       "  <thead>\n",
       "    <tr style=\"text-align: right;\">\n",
       "      <th></th>\n",
       "      <th></th>\n",
       "      <th>bal_acc</th>\n",
       "      <th>avg_odds_diff</th>\n",
       "      <th>disp_imp</th>\n",
       "      <th>stat_par_diff</th>\n",
       "      <th>eq_opp_diff</th>\n",
       "      <th>theil_ind</th>\n",
       "    </tr>\n",
       "    <tr>\n",
       "      <th>Bias Mitigator</th>\n",
       "      <th>Classifier</th>\n",
       "      <th></th>\n",
       "      <th></th>\n",
       "      <th></th>\n",
       "      <th></th>\n",
       "      <th></th>\n",
       "      <th></th>\n",
       "    </tr>\n",
       "  </thead>\n",
       "  <tbody>\n",
       "    <tr>\n",
       "      <th></th>\n",
       "      <th>Logistic Regression</th>\n",
       "      <td>0.601632</td>\n",
       "      <td>-0.035800</td>\n",
       "      <td>0.938905</td>\n",
       "      <td>-0.042651</td>\n",
       "      <td>-0.098481</td>\n",
       "      <td>0.138181</td>\n",
       "    </tr>\n",
       "    <tr>\n",
       "      <th>Reweighing</th>\n",
       "      <th>Logistic Regression</th>\n",
       "      <td>0.605660</td>\n",
       "      <td>0.002593</td>\n",
       "      <td>0.995915</td>\n",
       "      <td>-0.002775</td>\n",
       "      <td>-0.074384</td>\n",
       "      <td>0.130726</td>\n",
       "    </tr>\n",
       "    <tr>\n",
       "      <th>Prejudice Remover</th>\n",
       "      <th></th>\n",
       "      <td>0.577996</td>\n",
       "      <td>0.322218</td>\n",
       "      <td>1.704056</td>\n",
       "      <td>0.305534</td>\n",
       "      <td>0.333683</td>\n",
       "      <td>0.141457</td>\n",
       "    </tr>\n",
       "    <tr>\n",
       "      <th>Disparate Impact Remover</th>\n",
       "      <th>Logistic Regression</th>\n",
       "      <td>0.552116</td>\n",
       "      <td>-0.018416</td>\n",
       "      <td>0.968697</td>\n",
       "      <td>-0.011812</td>\n",
       "      <td>-0.112101</td>\n",
       "      <td>0.286172</td>\n",
       "    </tr>\n",
       "    <tr>\n",
       "      <th>Adversarial Debias</th>\n",
       "      <th>No Debias</th>\n",
       "      <td>0.582381</td>\n",
       "      <td>-0.037397</td>\n",
       "      <td>0.946429</td>\n",
       "      <td>-0.024259</td>\n",
       "      <td>-0.201676</td>\n",
       "      <td>0.241100</td>\n",
       "    </tr>\n",
       "  </tbody>\n",
       "</table>\n",
       "</div>"
      ],
      "text/plain": [
       "                                               bal_acc  avg_odds_diff  \\\n",
       "Bias Mitigator           Classifier                                     \n",
       "                         Logistic Regression  0.601632      -0.035800   \n",
       "Reweighing               Logistic Regression  0.605660       0.002593   \n",
       "Prejudice Remover                             0.577996       0.322218   \n",
       "Disparate Impact Remover Logistic Regression  0.552116      -0.018416   \n",
       "Adversarial Debias       No Debias            0.582381      -0.037397   \n",
       "\n",
       "                                              disp_imp  stat_par_diff  \\\n",
       "Bias Mitigator           Classifier                                     \n",
       "                         Logistic Regression  0.938905      -0.042651   \n",
       "Reweighing               Logistic Regression  0.995915      -0.002775   \n",
       "Prejudice Remover                             1.704056       0.305534   \n",
       "Disparate Impact Remover Logistic Regression  0.968697      -0.011812   \n",
       "Adversarial Debias       No Debias            0.946429      -0.024259   \n",
       "\n",
       "                                              eq_opp_diff  theil_ind  \n",
       "Bias Mitigator           Classifier                                   \n",
       "                         Logistic Regression    -0.098481   0.138181  \n",
       "Reweighing               Logistic Regression    -0.074384   0.130726  \n",
       "Prejudice Remover                                0.333683   0.141457  \n",
       "Disparate Impact Remover Logistic Regression    -0.112101   0.286172  \n",
       "Adversarial Debias       No Debias              -0.201676   0.241100  "
      ]
     },
     "execution_count": 31,
     "metadata": {},
     "output_type": "execute_result"
    }
   ],
   "source": [
    "pd.set_option('display.multi_sparse', False)\n",
    "results = [lr_orig_metrics, lr_transf_metrics,\n",
    "            pr_orig_metrics, lr_metrics_DIR, metrics_AD]\n",
    "debias = pd.Series([''] + ['Reweighing']\n",
    "                 + ['Prejudice Remover'] + [\"Disparate Impact Remover\"] + [\"Adversarial Debias\"],\n",
    "                   name='Bias Mitigator')\n",
    "clf = pd.Series(['Logistic Regression']*2 + [''] + [\"Logistic Regression\"] + [\"No Debias\"],\n",
    "                name='Classifier')\n",
    "pd.concat([pd.DataFrame(metrics) for metrics in results], axis=0).set_index([debias, clf])"
   ]
  },
  {
   "cell_type": "code",
   "execution_count": 32,
   "id": "decimal-inspection",
   "metadata": {},
   "outputs": [
    {
     "name": "stdout",
     "output_type": "stream",
     "text": [
      "epoch 0; iter: 0; batch classifier loss: 0.726226; batch adversarial loss: 0.967017\n",
      "epoch 1; iter: 0; batch classifier loss: 0.849957; batch adversarial loss: 1.074382\n",
      "epoch 2; iter: 0; batch classifier loss: 1.011906; batch adversarial loss: 1.057809\n",
      "epoch 3; iter: 0; batch classifier loss: 1.100318; batch adversarial loss: 1.144792\n",
      "epoch 4; iter: 0; batch classifier loss: 1.085698; batch adversarial loss: 1.167122\n",
      "epoch 5; iter: 0; batch classifier loss: 1.040968; batch adversarial loss: 1.123962\n",
      "epoch 6; iter: 0; batch classifier loss: 0.837681; batch adversarial loss: 1.084751\n",
      "epoch 7; iter: 0; batch classifier loss: 0.883570; batch adversarial loss: 1.075832\n",
      "epoch 8; iter: 0; batch classifier loss: 0.804969; batch adversarial loss: 1.051817\n",
      "epoch 9; iter: 0; batch classifier loss: 0.780201; batch adversarial loss: 1.102591\n",
      "epoch 10; iter: 0; batch classifier loss: 0.872904; batch adversarial loss: 1.083728\n",
      "epoch 11; iter: 0; batch classifier loss: 0.889816; batch adversarial loss: 1.087674\n",
      "epoch 12; iter: 0; batch classifier loss: 0.879221; batch adversarial loss: 1.075059\n",
      "epoch 13; iter: 0; batch classifier loss: 0.809143; batch adversarial loss: 1.064247\n",
      "epoch 14; iter: 0; batch classifier loss: 0.888551; batch adversarial loss: 1.103853\n",
      "epoch 15; iter: 0; batch classifier loss: 0.919475; batch adversarial loss: 1.063462\n",
      "epoch 16; iter: 0; batch classifier loss: 0.889421; batch adversarial loss: 1.064135\n",
      "epoch 17; iter: 0; batch classifier loss: 0.889597; batch adversarial loss: 1.039944\n",
      "epoch 18; iter: 0; batch classifier loss: 0.947240; batch adversarial loss: 1.071272\n",
      "epoch 19; iter: 0; batch classifier loss: 0.972456; batch adversarial loss: 1.040940\n",
      "epoch 20; iter: 0; batch classifier loss: 0.995712; batch adversarial loss: 1.034579\n",
      "epoch 21; iter: 0; batch classifier loss: 0.882069; batch adversarial loss: 1.046207\n",
      "epoch 22; iter: 0; batch classifier loss: 0.890879; batch adversarial loss: 1.068129\n",
      "epoch 23; iter: 0; batch classifier loss: 0.934179; batch adversarial loss: 1.058417\n",
      "epoch 24; iter: 0; batch classifier loss: 0.968496; batch adversarial loss: 1.046707\n",
      "epoch 25; iter: 0; batch classifier loss: 1.041723; batch adversarial loss: 1.027728\n",
      "epoch 26; iter: 0; batch classifier loss: 0.961773; batch adversarial loss: 1.047603\n",
      "epoch 27; iter: 0; batch classifier loss: 0.938814; batch adversarial loss: 1.041200\n",
      "epoch 28; iter: 0; batch classifier loss: 0.971359; batch adversarial loss: 1.026425\n",
      "epoch 29; iter: 0; batch classifier loss: 0.988855; batch adversarial loss: 1.001539\n",
      "epoch 30; iter: 0; batch classifier loss: 0.979869; batch adversarial loss: 1.016236\n",
      "epoch 31; iter: 0; batch classifier loss: 1.088774; batch adversarial loss: 0.991451\n",
      "epoch 32; iter: 0; batch classifier loss: 1.031195; batch adversarial loss: 0.996298\n",
      "epoch 33; iter: 0; batch classifier loss: 1.067131; batch adversarial loss: 0.987643\n",
      "epoch 34; iter: 0; batch classifier loss: 0.870918; batch adversarial loss: 0.982791\n",
      "epoch 35; iter: 0; batch classifier loss: 1.093715; batch adversarial loss: 0.970373\n",
      "epoch 36; iter: 0; batch classifier loss: 0.960971; batch adversarial loss: 0.972044\n",
      "epoch 37; iter: 0; batch classifier loss: 0.921479; batch adversarial loss: 0.973593\n",
      "epoch 38; iter: 0; batch classifier loss: 0.964831; batch adversarial loss: 0.966334\n",
      "epoch 39; iter: 0; batch classifier loss: 1.049312; batch adversarial loss: 0.937291\n",
      "epoch 40; iter: 0; batch classifier loss: 0.985868; batch adversarial loss: 0.946311\n",
      "epoch 41; iter: 0; batch classifier loss: 1.037160; batch adversarial loss: 0.935832\n",
      "epoch 42; iter: 0; batch classifier loss: 0.950803; batch adversarial loss: 0.930021\n",
      "epoch 43; iter: 0; batch classifier loss: 1.140285; batch adversarial loss: 0.919476\n",
      "epoch 44; iter: 0; batch classifier loss: 0.954823; batch adversarial loss: 0.931599\n",
      "epoch 45; iter: 0; batch classifier loss: 1.089486; batch adversarial loss: 0.920831\n",
      "epoch 46; iter: 0; batch classifier loss: 0.939852; batch adversarial loss: 0.910718\n",
      "epoch 47; iter: 0; batch classifier loss: 1.012051; batch adversarial loss: 0.909022\n",
      "epoch 48; iter: 0; batch classifier loss: 1.146932; batch adversarial loss: 0.895541\n",
      "epoch 49; iter: 0; batch classifier loss: 1.165440; batch adversarial loss: 0.894642\n"
     ]
    },
    {
     "data": {
      "text/plain": [
       "<aif360.algorithms.inprocessing.adversarial_debiasing.AdversarialDebiasing at 0x1c086526c10>"
      ]
     },
     "execution_count": 32,
     "metadata": {},
     "output_type": "execute_result"
    }
   ],
   "source": [
    "sess.close()\n",
    "tf.reset_default_graph()\n",
    "sess = tf.Session()\n",
    "debiased_model = AdversarialDebiasing(privileged_groups = privileged_groups,\n",
    "                          unprivileged_groups = unprivileged_groups,\n",
    "                          scope_name='debiased_classifier',\n",
    "                          debias=True,\n",
    "                          sess=sess)\n",
    "debiased_model.fit(dataset_orig_train)\n"
   ]
  },
  {
   "cell_type": "code",
   "execution_count": 33,
   "id": "exposed-accommodation",
   "metadata": {},
   "outputs": [],
   "source": [
    "# Apply the plain model to test data\n",
    "dataset_debiasing_train = debiased_model.predict(dataset_orig_train)\n",
    "dataset_debiasing_test = debiased_model.predict(dataset_orig_test)"
   ]
  },
  {
   "cell_type": "code",
   "execution_count": 34,
   "id": "tested-experience",
   "metadata": {},
   "outputs": [
    {
     "data": {
      "text/markdown": [
       "#### Plain model - without debiasing - dataset metrics"
      ],
      "text/plain": [
       "<IPython.core.display.Markdown object>"
      ]
     },
     "metadata": {},
     "output_type": "display_data"
    },
    {
     "name": "stdout",
     "output_type": "stream",
     "text": [
      "Train set: Difference in mean outcomes between unprivileged and privileged groups = -0.130600\n",
      "Test set: Difference in mean outcomes between unprivileged and privileged groups = -0.024259\n"
     ]
    },
    {
     "data": {
      "text/markdown": [
       "#### Model - with debiasing - dataset metrics"
      ],
      "text/plain": [
       "<IPython.core.display.Markdown object>"
      ]
     },
     "metadata": {},
     "output_type": "display_data"
    },
    {
     "name": "stdout",
     "output_type": "stream",
     "text": [
      "Train set: Difference in mean outcomes between unprivileged and privileged groups = 1.000000\n",
      "Test set: Difference in mean outcomes between unprivileged and privileged groups = 1.000000\n"
     ]
    },
    {
     "data": {
      "text/markdown": [
       "#### Plain model - without debiasing - classification metrics"
      ],
      "text/plain": [
       "<IPython.core.display.Markdown object>"
      ]
     },
     "metadata": {},
     "output_type": "display_data"
    },
    {
     "name": "stdout",
     "output_type": "stream",
     "text": [
      "Test set: Classification accuracy = 0.594502\n",
      "Test set: Balanced classification accuracy = 0.582381\n",
      "Test set: Disparate impact = 0.946429\n",
      "Test set: Equal opportunity difference = -0.201676\n",
      "Test set: Average odds difference = -0.037397\n",
      "Test set: Theil_index = 0.241100\n"
     ]
    },
    {
     "data": {
      "text/markdown": [
       "#### Model - with debiasing - classification metrics"
      ],
      "text/plain": [
       "<IPython.core.display.Markdown object>"
      ]
     },
     "metadata": {},
     "output_type": "display_data"
    },
    {
     "name": "stdout",
     "output_type": "stream",
     "text": [
      "Test set: Classification accuracy = 0.388316\n",
      "Test set: Balanced classification accuracy = 0.472591\n",
      "Test set: Disparate impact = inf\n",
      "Test set: Equal opportunity difference = 1.000000\n",
      "Test set: Average odds difference = 1.000000\n",
      "Test set: Theil_index = 0.133931\n"
     ]
    },
    {
     "name": "stderr",
     "output_type": "stream",
     "text": [
      "divide by zero encountered in double_scalars\n"
     ]
    }
   ],
   "source": [
    "# Metrics for the dataset from plain model (without debiasing)\n",
    "display(Markdown(\"#### Plain model - without debiasing - dataset metrics\"))\n",
    "print(\"Train set: Difference in mean outcomes between unprivileged and privileged groups = %f\" % metric_dataset_nodebiasing_train.mean_difference())\n",
    "print(\"Test set: Difference in mean outcomes between unprivileged and privileged groups = %f\" % metric_dataset_nodebiasing_test.mean_difference())\n",
    "\n",
    "# Metrics for the dataset from model with debiasing\n",
    "display(Markdown(\"#### Model - with debiasing - dataset metrics\"))\n",
    "metric_dataset_debiasing_train = BinaryLabelDatasetMetric(dataset_debiasing_train, \n",
    "                                             unprivileged_groups=unprivileged_groups,\n",
    "                                             privileged_groups=privileged_groups)\n",
    "\n",
    "print(\"Train set: Difference in mean outcomes between unprivileged and privileged groups = %f\" % metric_dataset_debiasing_train.mean_difference())\n",
    "\n",
    "metric_dataset_debiasing_test = BinaryLabelDatasetMetric(dataset_debiasing_test, \n",
    "                                             unprivileged_groups=unprivileged_groups,\n",
    "                                             privileged_groups=privileged_groups)\n",
    "\n",
    "print(\"Test set: Difference in mean outcomes between unprivileged and privileged groups = %f\" % metric_dataset_debiasing_test.mean_difference())\n",
    "\n",
    "\n",
    "\n",
    "display(Markdown(\"#### Plain model - without debiasing - classification metrics\"))\n",
    "print(\"Test set: Classification accuracy = %f\" % classified_metric_nodebiasing_test.accuracy())\n",
    "TPR = classified_metric_nodebiasing_test.true_positive_rate()\n",
    "TNR = classified_metric_nodebiasing_test.true_negative_rate()\n",
    "bal_acc_nodebiasing_test = 0.5*(TPR+TNR)\n",
    "print(\"Test set: Balanced classification accuracy = %f\" % bal_acc_nodebiasing_test)\n",
    "print(\"Test set: Disparate impact = %f\" % classified_metric_nodebiasing_test.disparate_impact())\n",
    "print(\"Test set: Equal opportunity difference = %f\" % classified_metric_nodebiasing_test.equal_opportunity_difference())\n",
    "print(\"Test set: Average odds difference = %f\" % classified_metric_nodebiasing_test.average_odds_difference())\n",
    "print(\"Test set: Theil_index = %f\" % classified_metric_nodebiasing_test.theil_index())\n",
    "\n",
    "\n",
    "\n",
    "\n",
    "\n",
    "display(Markdown(\"#### Model - with debiasing - classification metrics\"))\n",
    "classified_metric_debiasing_test = ClassificationMetric(dataset_orig_test, \n",
    "                                                 dataset_debiasing_test,\n",
    "                                                 unprivileged_groups=unprivileged_groups,\n",
    "                                                 privileged_groups=privileged_groups)\n",
    "print(\"Test set: Classification accuracy = %f\" % classified_metric_debiasing_test.accuracy())\n",
    "TPR = classified_metric_debiasing_test.true_positive_rate()\n",
    "TNR = classified_metric_debiasing_test.true_negative_rate()\n",
    "bal_acc_debiasing_test = 0.5*(TPR+TNR)\n",
    "print(\"Test set: Balanced classification accuracy = %f\" % bal_acc_debiasing_test)\n",
    "print(\"Test set: Disparate impact = %f\" % classified_metric_debiasing_test.disparate_impact())\n",
    "print(\"Test set: Equal opportunity difference = %f\" % classified_metric_debiasing_test.equal_opportunity_difference())\n",
    "print(\"Test set: Average odds difference = %f\" % classified_metric_debiasing_test.average_odds_difference())\n",
    "print(\"Test set: Theil_index = %f\" % classified_metric_debiasing_test.theil_index())\n",
    "\n",
    "metrics_AD2 = defaultdict(list,\n",
    "            {'bal_acc': [bal_acc_debiasing_test],\n",
    "             'avg_odds_diff': [classified_metric_debiasing_test.average_odds_difference()],\n",
    "             'disp_imp': [classified_metric_debiasing_test.disparate_impact()],\n",
    "             'stat_par_diff': [classified_metric_debiasing_test.statistical_parity_difference()],\n",
    "             'eq_opp_diff': [classified_metric_debiasing_test.equal_opportunity_difference()],\n",
    "             'theil_ind': [classified_metric_debiasing_test.theil_index()]})"
   ]
  },
  {
   "cell_type": "code",
   "execution_count": 35,
   "id": "appointed-sitting",
   "metadata": {},
   "outputs": [
    {
     "data": {
      "text/html": [
       "<div>\n",
       "<style scoped>\n",
       "    .dataframe tbody tr th:only-of-type {\n",
       "        vertical-align: middle;\n",
       "    }\n",
       "\n",
       "    .dataframe tbody tr th {\n",
       "        vertical-align: top;\n",
       "    }\n",
       "\n",
       "    .dataframe thead th {\n",
       "        text-align: right;\n",
       "    }\n",
       "</style>\n",
       "<table border=\"1\" class=\"dataframe\">\n",
       "  <thead>\n",
       "    <tr style=\"text-align: right;\">\n",
       "      <th></th>\n",
       "      <th></th>\n",
       "      <th>bal_acc</th>\n",
       "      <th>avg_odds_diff</th>\n",
       "      <th>disp_imp</th>\n",
       "      <th>stat_par_diff</th>\n",
       "      <th>eq_opp_diff</th>\n",
       "      <th>theil_ind</th>\n",
       "    </tr>\n",
       "    <tr>\n",
       "      <th>Bias Mitigator</th>\n",
       "      <th>Classifier</th>\n",
       "      <th></th>\n",
       "      <th></th>\n",
       "      <th></th>\n",
       "      <th></th>\n",
       "      <th></th>\n",
       "      <th></th>\n",
       "    </tr>\n",
       "  </thead>\n",
       "  <tbody>\n",
       "    <tr>\n",
       "      <th>None</th>\n",
       "      <th>Logistic Regression</th>\n",
       "      <td>0.601632</td>\n",
       "      <td>-0.035800</td>\n",
       "      <td>0.938905</td>\n",
       "      <td>-0.042651</td>\n",
       "      <td>-0.098481</td>\n",
       "      <td>0.138181</td>\n",
       "    </tr>\n",
       "    <tr>\n",
       "      <th>Reweighing</th>\n",
       "      <th>Logistic Regression</th>\n",
       "      <td>0.605660</td>\n",
       "      <td>0.002593</td>\n",
       "      <td>0.995915</td>\n",
       "      <td>-0.002775</td>\n",
       "      <td>-0.074384</td>\n",
       "      <td>0.130726</td>\n",
       "    </tr>\n",
       "    <tr>\n",
       "      <th>Disparate Impact Remover</th>\n",
       "      <th>Logistic Regression</th>\n",
       "      <td>0.552116</td>\n",
       "      <td>-0.018416</td>\n",
       "      <td>0.968697</td>\n",
       "      <td>-0.011812</td>\n",
       "      <td>-0.112101</td>\n",
       "      <td>0.286172</td>\n",
       "    </tr>\n",
       "    <tr>\n",
       "      <th>Prejudice Remover</th>\n",
       "      <th>Logistic Regression</th>\n",
       "      <td>0.577996</td>\n",
       "      <td>0.322218</td>\n",
       "      <td>1.704056</td>\n",
       "      <td>0.305534</td>\n",
       "      <td>0.333683</td>\n",
       "      <td>0.141457</td>\n",
       "    </tr>\n",
       "    <tr>\n",
       "      <th>Adversarial Debias</th>\n",
       "      <th>GD(No Debias)</th>\n",
       "      <td>0.582381</td>\n",
       "      <td>-0.037397</td>\n",
       "      <td>0.946429</td>\n",
       "      <td>-0.024259</td>\n",
       "      <td>-0.201676</td>\n",
       "      <td>0.241100</td>\n",
       "    </tr>\n",
       "    <tr>\n",
       "      <th>Adversarial Debias</th>\n",
       "      <th>GD(Debased)</th>\n",
       "      <td>0.472591</td>\n",
       "      <td>1.000000</td>\n",
       "      <td>inf</td>\n",
       "      <td>1.000000</td>\n",
       "      <td>1.000000</td>\n",
       "      <td>0.133931</td>\n",
       "    </tr>\n",
       "  </tbody>\n",
       "</table>\n",
       "</div>"
      ],
      "text/plain": [
       "                                               bal_acc  avg_odds_diff  \\\n",
       "Bias Mitigator           Classifier                                     \n",
       "None                     Logistic Regression  0.601632      -0.035800   \n",
       "Reweighing               Logistic Regression  0.605660       0.002593   \n",
       "Disparate Impact Remover Logistic Regression  0.552116      -0.018416   \n",
       "Prejudice Remover        Logistic Regression  0.577996       0.322218   \n",
       "Adversarial Debias       GD(No Debias)        0.582381      -0.037397   \n",
       "Adversarial Debias       GD(Debased)          0.472591       1.000000   \n",
       "\n",
       "                                              disp_imp  stat_par_diff  \\\n",
       "Bias Mitigator           Classifier                                     \n",
       "None                     Logistic Regression  0.938905      -0.042651   \n",
       "Reweighing               Logistic Regression  0.995915      -0.002775   \n",
       "Disparate Impact Remover Logistic Regression  0.968697      -0.011812   \n",
       "Prejudice Remover        Logistic Regression  1.704056       0.305534   \n",
       "Adversarial Debias       GD(No Debias)        0.946429      -0.024259   \n",
       "Adversarial Debias       GD(Debased)               inf       1.000000   \n",
       "\n",
       "                                              eq_opp_diff  theil_ind  \n",
       "Bias Mitigator           Classifier                                   \n",
       "None                     Logistic Regression    -0.098481   0.138181  \n",
       "Reweighing               Logistic Regression    -0.074384   0.130726  \n",
       "Disparate Impact Remover Logistic Regression    -0.112101   0.286172  \n",
       "Prejudice Remover        Logistic Regression     0.333683   0.141457  \n",
       "Adversarial Debias       GD(No Debias)          -0.201676   0.241100  \n",
       "Adversarial Debias       GD(Debased)             1.000000   0.133931  "
      ]
     },
     "execution_count": 35,
     "metadata": {},
     "output_type": "execute_result"
    }
   ],
   "source": [
    "pd.set_option('display.multi_sparse', False)\n",
    "results = [lr_orig_metrics, lr_transf_metrics,\n",
    "            lr_metrics_DIR,pr_orig_metrics, metrics_AD, metrics_AD2]\n",
    "debias = pd.Series(['None'] + ['Reweighing']\n",
    "                 + [\"Disparate Impact Remover\"] + ['Prejudice Remover']+ [\"Adversarial Debias\"]*2,\n",
    "                   name='Bias Mitigator')\n",
    "clf = pd.Series(['Logistic Regression']*4 + [\"GD(No Debias)\"] +[\"GD(Debased)\"],\n",
    "                name='Classifier')\n",
    "final_df = pd.concat([pd.DataFrame(metrics) for metrics in results], axis=0).set_index([debias, clf])\n",
    "final_df"
   ]
  },
  {
   "cell_type": "code",
   "execution_count": 36,
   "id": "outstanding-kenya",
   "metadata": {},
   "outputs": [
    {
     "data": {
      "text/html": [
       "<div>\n",
       "<style scoped>\n",
       "    .dataframe tbody tr th:only-of-type {\n",
       "        vertical-align: middle;\n",
       "    }\n",
       "\n",
       "    .dataframe tbody tr th {\n",
       "        vertical-align: top;\n",
       "    }\n",
       "\n",
       "    .dataframe thead th {\n",
       "        text-align: right;\n",
       "    }\n",
       "</style>\n",
       "<table border=\"1\" class=\"dataframe\">\n",
       "  <thead>\n",
       "    <tr style=\"text-align: right;\">\n",
       "      <th></th>\n",
       "      <th></th>\n",
       "      <th>bal_acc</th>\n",
       "      <th>avg_odds_diff</th>\n",
       "      <th>disp_imp</th>\n",
       "      <th>stat_par_diff</th>\n",
       "      <th>eq_opp_diff</th>\n",
       "      <th>theil_ind</th>\n",
       "    </tr>\n",
       "    <tr>\n",
       "      <th>Bias Mitigator</th>\n",
       "      <th>Classifier</th>\n",
       "      <th></th>\n",
       "      <th></th>\n",
       "      <th></th>\n",
       "      <th></th>\n",
       "      <th></th>\n",
       "      <th></th>\n",
       "    </tr>\n",
       "  </thead>\n",
       "  <tbody>\n",
       "    <tr>\n",
       "      <th>None</th>\n",
       "      <th>Logistic Regression</th>\n",
       "      <td>0.601632</td>\n",
       "      <td>-0.035800</td>\n",
       "      <td>0.938905</td>\n",
       "      <td>-0.042651</td>\n",
       "      <td>-0.098481</td>\n",
       "      <td>0.138181</td>\n",
       "    </tr>\n",
       "    <tr>\n",
       "      <th>Reweighing</th>\n",
       "      <th>Logistic Regression</th>\n",
       "      <td>0.605660</td>\n",
       "      <td>0.002593</td>\n",
       "      <td>0.995915</td>\n",
       "      <td>-0.002775</td>\n",
       "      <td>-0.074384</td>\n",
       "      <td>0.130726</td>\n",
       "    </tr>\n",
       "    <tr>\n",
       "      <th>Disparate Impact Remover</th>\n",
       "      <th>Logistic Regression</th>\n",
       "      <td>0.552116</td>\n",
       "      <td>-0.018416</td>\n",
       "      <td>0.968697</td>\n",
       "      <td>-0.011812</td>\n",
       "      <td>-0.112101</td>\n",
       "      <td>0.286172</td>\n",
       "    </tr>\n",
       "    <tr>\n",
       "      <th>Prejudice Remover</th>\n",
       "      <th>Logistic Regression</th>\n",
       "      <td>0.577996</td>\n",
       "      <td>0.322218</td>\n",
       "      <td>1.704056</td>\n",
       "      <td>0.305534</td>\n",
       "      <td>0.333683</td>\n",
       "      <td>0.141457</td>\n",
       "    </tr>\n",
       "    <tr>\n",
       "      <th>Adversarial Debias</th>\n",
       "      <th>GD(No Debias)</th>\n",
       "      <td>0.582381</td>\n",
       "      <td>-0.037397</td>\n",
       "      <td>0.946429</td>\n",
       "      <td>-0.024259</td>\n",
       "      <td>-0.201676</td>\n",
       "      <td>0.241100</td>\n",
       "    </tr>\n",
       "    <tr>\n",
       "      <th>Adversarial Debias</th>\n",
       "      <th>GD(Debased)</th>\n",
       "      <td>0.472591</td>\n",
       "      <td>1.000000</td>\n",
       "      <td>inf</td>\n",
       "      <td>1.000000</td>\n",
       "      <td>1.000000</td>\n",
       "      <td>0.133931</td>\n",
       "    </tr>\n",
       "  </tbody>\n",
       "</table>\n",
       "</div>"
      ],
      "text/plain": [
       "                                               bal_acc  avg_odds_diff  \\\n",
       "Bias Mitigator           Classifier                                     \n",
       "None                     Logistic Regression  0.601632      -0.035800   \n",
       "Reweighing               Logistic Regression  0.605660       0.002593   \n",
       "Disparate Impact Remover Logistic Regression  0.552116      -0.018416   \n",
       "Prejudice Remover        Logistic Regression  0.577996       0.322218   \n",
       "Adversarial Debias       GD(No Debias)        0.582381      -0.037397   \n",
       "Adversarial Debias       GD(Debased)          0.472591       1.000000   \n",
       "\n",
       "                                              disp_imp  stat_par_diff  \\\n",
       "Bias Mitigator           Classifier                                     \n",
       "None                     Logistic Regression  0.938905      -0.042651   \n",
       "Reweighing               Logistic Regression  0.995915      -0.002775   \n",
       "Disparate Impact Remover Logistic Regression  0.968697      -0.011812   \n",
       "Prejudice Remover        Logistic Regression  1.704056       0.305534   \n",
       "Adversarial Debias       GD(No Debias)        0.946429      -0.024259   \n",
       "Adversarial Debias       GD(Debased)               inf       1.000000   \n",
       "\n",
       "                                              eq_opp_diff  theil_ind  \n",
       "Bias Mitigator           Classifier                                   \n",
       "None                     Logistic Regression    -0.098481   0.138181  \n",
       "Reweighing               Logistic Regression    -0.074384   0.130726  \n",
       "Disparate Impact Remover Logistic Regression    -0.112101   0.286172  \n",
       "Prejudice Remover        Logistic Regression     0.333683   0.141457  \n",
       "Adversarial Debias       GD(No Debias)          -0.201676   0.241100  \n",
       "Adversarial Debias       GD(Debased)             1.000000   0.133931  "
      ]
     },
     "execution_count": 36,
     "metadata": {},
     "output_type": "execute_result"
    }
   ],
   "source": [
    "final_df.to_pickle(\"HeartFailure_Results_\"+ prefix_folder+\"_P_Pickle\")\n",
    "pickle = pd.read_pickle(\"HeartFailure_Results_\"+ prefix_folder+\"_P_Pickle\")\n",
    "pickle"
   ]
  },
  {
   "cell_type": "code",
   "execution_count": 37,
   "id": "adolescent-space",
   "metadata": {},
   "outputs": [
    {
     "data": {
      "text/plain": [
       "'HeartFailure_Results_LessFavored_P_Pickle'"
      ]
     },
     "execution_count": 37,
     "metadata": {},
     "output_type": "execute_result"
    }
   ],
   "source": [
    "(\"HeartFailure_Results_\"+ prefix_folder+\"_P_Pickle\")"
   ]
  },
  {
   "cell_type": "code",
   "execution_count": null,
   "id": "structural-wound",
   "metadata": {},
   "outputs": [],
   "source": []
  }
 ],
 "metadata": {
  "kernelspec": {
   "display_name": "Python 3",
   "language": "python",
   "name": "python3"
  },
  "language_info": {
   "codemirror_mode": {
    "name": "ipython",
    "version": 3
   },
   "file_extension": ".py",
   "mimetype": "text/x-python",
   "name": "python",
   "nbconvert_exporter": "python",
   "pygments_lexer": "ipython3",
   "version": "3.8.5"
  }
 },
 "nbformat": 4,
 "nbformat_minor": 5
}
