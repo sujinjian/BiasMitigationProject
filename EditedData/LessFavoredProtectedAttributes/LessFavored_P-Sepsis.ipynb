{
 "cells": [
  {
   "cell_type": "code",
   "execution_count": 1,
   "id": "norman-cotton",
   "metadata": {},
   "outputs": [],
   "source": [
    "import matplotlib.pyplot as plt\n",
    "import numpy as np\n",
    "import pandas as pd\n",
    "\n",
    "from IPython.display import Markdown, display\n",
    "\n",
    "# Datasets\n",
    "from aif360.datasets import StandardDataset\n",
    "\n",
    "# from PhysionetDataset.py import PhysionetDataset.py\n",
    "# Dataset = PhysionetDataset.py\n",
    "\n",
    "\n",
    "# Fairness metrics\n",
    "from aif360.metrics import BinaryLabelDatasetMetric\n",
    "from aif360.metrics import ClassificationMetric\n",
    "\n",
    "# Explainers\n",
    "from aif360.explainers import MetricTextExplainer\n",
    "\n",
    "# Scalers\n",
    "from sklearn.preprocessing import StandardScaler\n",
    "\n",
    "# Classifiers\n",
    "from sklearn.ensemble import RandomForestClassifier\n",
    "from sklearn.linear_model import LogisticRegression\n",
    "from sklearn.pipeline import make_pipeline\n",
    "\n",
    "# Bias mitigation techniques\n",
    "from aif360.algorithms.preprocessing import Reweighing\n",
    "from aif360.algorithms.inprocessing import PrejudiceRemover"
   ]
  },
  {
   "cell_type": "code",
   "execution_count": 2,
   "id": "recreational-interest",
   "metadata": {},
   "outputs": [],
   "source": [
    "target_folder = \"MoreFavoredProtectedAttributes\"\n",
    "prefix_folder = \"MoreFavored\""
   ]
  },
  {
   "cell_type": "code",
   "execution_count": 3,
   "id": "quality-storage",
   "metadata": {},
   "outputs": [],
   "source": [
    "#Features: https://journals.lww.com/ccmjournal/_layouts/15/oaks.journals/ImageView.aspx?k=ccmjournal:2020:02000:00010&i=T1&year=2020&issue=02000&article=00010&type=Fulltext\n",
    "\n",
    "#Data:https://archive.physionet.org/users/shared/challenge-2019/\n",
    "\n",
    "#Extensive pre-processing on Sepsis_PreProcess.ipynb"
   ]
  },
  {
   "cell_type": "code",
   "execution_count": 4,
   "id": "engaging-providence",
   "metadata": {},
   "outputs": [],
   "source": [
    "\n",
    "np.random.seed(1)\n",
    "\n",
    "default_mappings = {\n",
    "    'label_maps': [{1.0: '1'}],\n",
    "    'protected_attribute_maps': [{1.0: 'Male', 0.0: 'Female'}]\n",
    "}\n",
    "\n",
    "\n",
    "filepath = r'C:\\Users\\sujin\\Documents\\College\\PhD_Project\\Project/EditedData/'+ target_folder+'/sepsis_'+ prefix_folder+'_NoCol.csv'\n",
    "        \n",
    "filepath2 = r'C:\\Users\\sujin\\Documents\\College\\PhD_Project\\Project/EditedData/'+ target_folder+'/sepsis_'+ prefix_folder+'.csv'\n",
    "df2 = pd.read_csv(filepath2)\n",
    "df2.columns\n",
    "\n",
    "class PhysionetDataset(StandardDataset):\n",
    "\n",
    "    def __init__(self, label_name='SepsisLabel',\n",
    "                 favorable_classes=[1],\n",
    "                 protected_attribute_names=['Gender'],\n",
    "                 privileged_classes=[[1]],\n",
    "                 instance_weights_name=None,\n",
    "                 categorical_features=[],\n",
    "                 features_to_keep=[], features_to_drop=[],\n",
    "                 na_values=[], custom_preprocessing=None,\n",
    "                 metadata=default_mappings):\n",
    "\n",
    "\n",
    "        column_names = df2.columns\n",
    "        try:\n",
    "            df = pd.read_csv(filepath, header=None, names=column_names,\n",
    "                             na_values=na_values)\n",
    "            \n",
    "        except IOError as err:\n",
    "            print(\"IOError: {}\".format(err))\n",
    "            print(\"To use this class, please download the following files:\")\n",
    "            print(\"\\n\\thttps://archive.ics.uci.edu/ml/machine-learning-databases/statlog/german/german.data\")\n",
    "            print(\"\\thttps://archive.ics.uci.edu/ml/machine-learning-databases/statlog/german/german.doc\")\n",
    "            print(\"\\nand place them, as-is, in the folder:\")\n",
    "            print(\"\\n\\t{}\\n\".format(os.path.abspath(os.path.join(\n",
    "                os.path.abspath(__file__), '..', '..', 'data', 'raw', 'german'))))\n",
    "            import sys\n",
    "            sys.exit(1)\n",
    "\n",
    "        super(PhysionetDataset, self).__init__(df=df, label_name=label_name,\n",
    "                                               favorable_classes=favorable_classes,\n",
    "                                               protected_attribute_names=protected_attribute_names,\n",
    "                                               privileged_classes=privileged_classes,\n",
    "                                               instance_weights_name=instance_weights_name,\n",
    "                                               categorical_features=categorical_features,\n",
    "                                               features_to_keep=features_to_keep,\n",
    "                                               features_to_drop=features_to_drop, na_values=na_values,\n",
    "                                               custom_preprocessing=custom_preprocessing, metadata=metadata)\n"
   ]
  },
  {
   "cell_type": "code",
   "execution_count": 5,
   "id": "agricultural-civilian",
   "metadata": {},
   "outputs": [
    {
     "data": {
      "text/markdown": [
       "#### Training Dataset shape"
      ],
      "text/plain": [
       "<IPython.core.display.Markdown object>"
      ]
     },
     "metadata": {},
     "output_type": "display_data"
    },
    {
     "name": "stdout",
     "output_type": "stream",
     "text": [
      "(4801, 15)\n"
     ]
    },
    {
     "data": {
      "text/markdown": [
       "#### Validation Dataset shape"
      ],
      "text/plain": [
       "<IPython.core.display.Markdown object>"
      ]
     },
     "metadata": {},
     "output_type": "display_data"
    },
    {
     "name": "stdout",
     "output_type": "stream",
     "text": [
      "(2881, 15)\n"
     ]
    },
    {
     "data": {
      "text/markdown": [
       "#### Test Dataset shape"
      ],
      "text/plain": [
       "<IPython.core.display.Markdown object>"
      ]
     },
     "metadata": {},
     "output_type": "display_data"
    },
    {
     "name": "stdout",
     "output_type": "stream",
     "text": [
      "(1921, 15)\n"
     ]
    },
    {
     "data": {
      "text/markdown": [
       "#### Favorable and unfavorable labels"
      ],
      "text/plain": [
       "<IPython.core.display.Markdown object>"
      ]
     },
     "metadata": {},
     "output_type": "display_data"
    },
    {
     "name": "stdout",
     "output_type": "stream",
     "text": [
      "1.0 0.0\n"
     ]
    },
    {
     "data": {
      "text/markdown": [
       "#### Protected attribute names"
      ],
      "text/plain": [
       "<IPython.core.display.Markdown object>"
      ]
     },
     "metadata": {},
     "output_type": "display_data"
    },
    {
     "name": "stdout",
     "output_type": "stream",
     "text": [
      "['Gender']\n"
     ]
    },
    {
     "data": {
      "text/markdown": [
       "#### Privileged and unprivileged protected attribute values"
      ],
      "text/plain": [
       "<IPython.core.display.Markdown object>"
      ]
     },
     "metadata": {},
     "output_type": "display_data"
    },
    {
     "name": "stdout",
     "output_type": "stream",
     "text": [
      "[array([1.])] [array([0.])]\n"
     ]
    },
    {
     "data": {
      "text/markdown": [
       "#### Dataset feature names"
      ],
      "text/plain": [
       "<IPython.core.display.Markdown object>"
      ]
     },
     "metadata": {},
     "output_type": "display_data"
    },
    {
     "name": "stdout",
     "output_type": "stream",
     "text": [
      "['Unnamed: 0', 'HR', 'O2Sat', 'Temp', 'SBP', 'MAP', 'DBP', 'Resp', 'FiO2', 'pH', 'Glucose', 'Age', 'Gender', 'HospAdmTime', 'ICULOS']\n",
      "Disparate impact (probability of favorable outcome for unprivileged instances / probability of favorable outcome for privileged instances): 1.334561370363373\n"
     ]
    }
   ],
   "source": [
    "# 3.1. Load data & create splits for learning/validating/testing model¶\n",
    "\n",
    "\n",
    "(dataset_orig_train, dataset_orig_val, dataset_orig_test) = PhysionetDataset().split([0.5, 0.8], shuffle=True)\n",
    "\n",
    "sens_ind = 0\n",
    "sens_attr = dataset_orig_train.protected_attribute_names[sens_ind]\n",
    "\n",
    "unprivileged_groups = [{sens_attr: v} for v in\n",
    "                       dataset_orig_train.unprivileged_protected_attributes[sens_ind]]\n",
    "\n",
    "privileged_groups = [{sens_attr: v} for v in\n",
    "                     dataset_orig_train.privileged_protected_attributes[sens_ind]]\n",
    "\n",
    "\n",
    "def describe(train=None, val=None, test=None):\n",
    "    if train is not None:\n",
    "        display(Markdown(\"#### Training Dataset shape\"))\n",
    "        print(train.features.shape)\n",
    "    if val is not None:\n",
    "        display(Markdown(\"#### Validation Dataset shape\"))\n",
    "        print(val.features.shape)\n",
    "    display(Markdown(\"#### Test Dataset shape\"))\n",
    "    print(test.features.shape)\n",
    "    display(Markdown(\"#### Favorable and unfavorable labels\"))\n",
    "    print(test.favorable_label, test.unfavorable_label)\n",
    "    display(Markdown(\"#### Protected attribute names\"))\n",
    "    print(test.protected_attribute_names)\n",
    "    display(Markdown(\"#### Privileged and unprivileged protected attribute values\"))\n",
    "    print(test.privileged_protected_attributes,\n",
    "          test.unprivileged_protected_attributes)\n",
    "    display(Markdown(\"#### Dataset feature names\"))\n",
    "    print(test.feature_names)\n",
    "\n",
    "\n",
    "describe(dataset_orig_train, dataset_orig_val, dataset_orig_test)\n",
    "\n",
    "metric_orig_train = BinaryLabelDatasetMetric(\n",
    "    dataset_orig_train,\n",
    "    unprivileged_groups=unprivileged_groups,\n",
    "    privileged_groups=privileged_groups)\n",
    "explainer_orig_panel19_train = MetricTextExplainer(metric_orig_train)\n",
    "\n",
    "print(explainer_orig_panel19_train.disparate_impact())"
   ]
  },
  {
   "cell_type": "code",
   "execution_count": 6,
   "id": "interested-performer",
   "metadata": {},
   "outputs": [],
   "source": [
    "# 3.2. Learning a Logistic Regression (LR) classifier on original data¶\n",
    "# 3.2.1. Training LR model on original data\n",
    "\n",
    "dataset = dataset_orig_train\n",
    "model = make_pipeline(StandardScaler(),\n",
    "                      LogisticRegression(solver='liblinear', random_state=1))\n",
    "fit_params = {'logisticregression__sample_weight': dataset.instance_weights}\n",
    "\n",
    "lr_orig = model.fit(dataset.features, dataset.labels.ravel(), **fit_params)"
   ]
  },
  {
   "cell_type": "code",
   "execution_count": 7,
   "id": "comprehensive-jacksonville",
   "metadata": {},
   "outputs": [
    {
     "name": "stderr",
     "output_type": "stream",
     "text": [
      "divide by zero encountered in double_scalars\n",
      "invalid value encountered in double_scalars\n"
     ]
    },
    {
     "data": {
      "image/png": "[encoded data removed]",
      "text/plain": [
       "<Figure size 720x504 with 2 Axes>"
      ]
     },
     "metadata": {
      "needs_background": "light"
     },
     "output_type": "display_data"
    },
    {
     "data": {
      "image/png": "[encoded data removed]",
      "text/plain": [
       "<Figure size 720x504 with 2 Axes>"
      ]
     },
     "metadata": {
      "needs_background": "light"
     },
     "output_type": "display_data"
    },
    {
     "name": "stdout",
     "output_type": "stream",
     "text": [
      "Validation Scores:\n",
      "Threshold corresponding to Best balanced accuracy: 0.0200\n",
      "Best balanced accuracy: 0.6491\n",
      "Corresponding 1-min(DI, 1/DI) value: 0.2586\n",
      "Corresponding average odds difference value: -0.0848\n",
      "Corresponding statistical parity difference value: 0.0809\n",
      "Corresponding equal opportunity difference value: -0.2564\n",
      "Corresponding Theil index value: 0.0610\n"
     ]
    }
   ],
   "source": [
    "# 3.2.2. Validating LR model on original data¶\n",
    "\n",
    "from collections import defaultdict\n",
    "\n",
    "\n",
    "def test(dataset, model, thresh_arr):\n",
    "    try:\n",
    "        # sklearn classifier\n",
    "        y_val_pred_prob = model.predict_proba(dataset.features)\n",
    "        pos_ind = np.where(model.classes_ == dataset.favorable_label)[0][0]\n",
    "    except AttributeError:\n",
    "        # aif360 inprocessing algorithm\n",
    "        y_val_pred_prob = model.predict(dataset).scores\n",
    "        pos_ind = 0\n",
    "\n",
    "    metric_arrs = defaultdict(list)\n",
    "    for thresh in thresh_arr:\n",
    "        y_val_pred = (y_val_pred_prob[:, pos_ind] > thresh).astype(np.float64)\n",
    "\n",
    "        dataset_pred = dataset.copy()\n",
    "        dataset_pred.labels = y_val_pred\n",
    "        metric = ClassificationMetric(\n",
    "            dataset, dataset_pred,\n",
    "            unprivileged_groups=unprivileged_groups,\n",
    "            privileged_groups=privileged_groups)\n",
    "\n",
    "        metric_arrs['bal_acc'].append((metric.true_positive_rate()\n",
    "                                       + metric.true_negative_rate()) / 2)\n",
    "        metric_arrs['avg_odds_diff'].append(metric.average_odds_difference())\n",
    "        metric_arrs['disp_imp'].append(metric.disparate_impact())\n",
    "        metric_arrs['stat_par_diff'].append(metric.statistical_parity_difference())\n",
    "        metric_arrs['eq_opp_diff'].append(metric.equal_opportunity_difference())\n",
    "        metric_arrs['theil_ind'].append(metric.theil_index())\n",
    "\n",
    "    return metric_arrs\n",
    "\n",
    "\n",
    "thresh_arr = np.linspace(0.01, 0.5, 50)\n",
    "val_metrics = test(dataset=dataset_orig_val,\n",
    "                   model=lr_orig,\n",
    "                   thresh_arr=thresh_arr)\n",
    "lr_orig_best_ind = np.argmax(val_metrics['bal_acc'])\n",
    "\n",
    "\n",
    "def plot(x, x_name, y_left, y_left_name, y_right, y_right_name):\n",
    "    fig, ax1 = plt.subplots(figsize=(10, 7))\n",
    "    ax1.plot(x, y_left)\n",
    "    ax1.set_xlabel(x_name, fontsize=16, fontweight='bold')\n",
    "    ax1.set_ylabel(y_left_name, color='b', fontsize=16, fontweight='bold')\n",
    "    ax1.xaxis.set_tick_params(labelsize=14)\n",
    "    ax1.yaxis.set_tick_params(labelsize=14)\n",
    "    ax1.set_ylim(0.5, 0.8)\n",
    "\n",
    "    ax2 = ax1.twinx()\n",
    "    ax2.plot(x, y_right, color='r')\n",
    "    ax2.set_ylabel(y_right_name, color='r', fontsize=16, fontweight='bold')\n",
    "    if 'DI' in y_right_name:\n",
    "        ax2.set_ylim(0., 0.7)\n",
    "    else:\n",
    "        ax2.set_ylim(-0.25, 0.1)\n",
    "\n",
    "    best_ind = np.argmax(y_left)\n",
    "    ax2.axvline(np.array(x)[best_ind], color='k', linestyle=':')\n",
    "    ax2.yaxis.set_tick_params(labelsize=14)\n",
    "    ax2.grid(True)\n",
    "    plt.show()\n",
    "    \n",
    "    \n",
    "disp_imp = np.array(val_metrics['disp_imp'])\n",
    "disp_imp_err = 1 - np.minimum(disp_imp, 1 / disp_imp)\n",
    "plot(thresh_arr, 'Classification Thresholds',\n",
    "     val_metrics['bal_acc'], 'Balanced Accuracy',\n",
    "     disp_imp_err, '1 - min(DI, 1/DI)')\n",
    "\n",
    "plot(thresh_arr, 'Classification Thresholds',\n",
    "     val_metrics['bal_acc'], 'Balanced Accuracy',\n",
    "     val_metrics['avg_odds_diff'], 'avg. odds diff.')\n",
    "\n",
    "def describe_metrics(metrics, thresh_arr):\n",
    "    best_ind = np.argmax(metrics['bal_acc'])\n",
    "    print(\"Threshold corresponding to Best balanced accuracy: {:6.4f}\".format(thresh_arr[best_ind]))\n",
    "    print(\"Best balanced accuracy: {:6.4f}\".format(metrics['bal_acc'][best_ind]))\n",
    "#     disp_imp_at_best_ind = np.abs(1 - np.array(metrics['disp_imp']))[best_ind]\n",
    "    disp_imp_at_best_ind = 1 - min(metrics['disp_imp'][best_ind], 1/metrics['disp_imp'][best_ind])\n",
    "    print(\"Corresponding 1-min(DI, 1/DI) value: {:6.4f}\".format(disp_imp_at_best_ind))\n",
    "    print(\"Corresponding average odds difference value: {:6.4f}\".format(metrics['avg_odds_diff'][best_ind]))\n",
    "    print(\"Corresponding statistical parity difference value: {:6.4f}\".format(metrics['stat_par_diff'][best_ind]))\n",
    "    print(\"Corresponding equal opportunity difference value: {:6.4f}\".format(metrics['eq_opp_diff'][best_ind]))\n",
    "    print(\"Corresponding Theil index value: {:6.4f}\".format(metrics['theil_ind'][best_ind]))\n",
    "\n",
    "\n",
    "print(\"Validation Scores:\")\n",
    "describe_metrics(val_metrics, thresh_arr)"
   ]
  },
  {
   "cell_type": "code",
   "execution_count": 8,
   "id": "herbal-estonia",
   "metadata": {},
   "outputs": [
    {
     "name": "stdout",
     "output_type": "stream",
     "text": [
      "Test Scores:\n",
      "Threshold corresponding to Best balanced accuracy: 0.0200\n",
      "Best balanced accuracy: 0.6942\n",
      "Corresponding 1-min(DI, 1/DI) value: 0.2031\n",
      "Corresponding average odds difference value: -0.0438\n",
      "Corresponding statistical parity difference value: 0.0617\n",
      "Corresponding equal opportunity difference value: -0.1552\n",
      "Corresponding Theil index value: 0.0599\n",
      "Disparate impact (probability of favorable outcome for unprivileged instances / probability of favorable outcome for privileged instances): 1.0000000000000002\n"
     ]
    }
   ],
   "source": [
    "#3.2.3. Testing LR model on original data¶\n",
    "\n",
    "print(\"Test Scores:\")\n",
    "lr_orig_metrics = test(dataset=dataset_orig_test,\n",
    "                       model=lr_orig,\n",
    "                       thresh_arr=[thresh_arr[lr_orig_best_ind]])\n",
    "\n",
    "describe_metrics(lr_orig_metrics, [thresh_arr[lr_orig_best_ind]])\n",
    "\n",
    "#4. Bias mitigation using pre-processing technique - Reweighing¶\n",
    "\n",
    "#4.1. Transform data¶\n",
    "RW = Reweighing(unprivileged_groups=unprivileged_groups,\n",
    "                privileged_groups=privileged_groups)\n",
    "dataset_transf_train = RW.fit_transform(dataset_orig_train)\n",
    "\n",
    "#Metrics for transformed data\n",
    "\n",
    "metric_transf_train = BinaryLabelDatasetMetric(\n",
    "        dataset_transf_train,\n",
    "        unprivileged_groups=unprivileged_groups,\n",
    "        privileged_groups=privileged_groups)\n",
    "explainer_transf_train = MetricTextExplainer(metric_transf_train)\n",
    "\n",
    "print(explainer_transf_train.disparate_impact())"
   ]
  },
  {
   "cell_type": "code",
   "execution_count": 9,
   "id": "ordinary-kelly",
   "metadata": {
    "scrolled": false
   },
   "outputs": [
    {
     "name": "stderr",
     "output_type": "stream",
     "text": [
      "divide by zero encountered in double_scalars\n",
      "invalid value encountered in double_scalars\n"
     ]
    },
    {
     "data": {
      "image/png": "[encoded data removed]",
      "text/plain": [
       "<Figure size 720x504 with 2 Axes>"
      ]
     },
     "metadata": {
      "needs_background": "light"
     },
     "output_type": "display_data"
    },
    {
     "data": {
      "image/png": "[encoded data removed]",
      "text/plain": [
       "<Figure size 720x504 with 2 Axes>"
      ]
     },
     "metadata": {
      "needs_background": "light"
     },
     "output_type": "display_data"
    },
    {
     "name": "stdout",
     "output_type": "stream",
     "text": [
      "Threshold corresponding to Best balanced accuracy: 0.0200\n",
      "Best balanced accuracy: 0.6535\n",
      "Corresponding 1-min(DI, 1/DI) value: 0.2537\n",
      "Corresponding average odds difference value: -0.1585\n",
      "Corresponding statistical parity difference value: -0.0642\n",
      "Corresponding equal opportunity difference value: -0.2564\n",
      "Corresponding Theil index value: 0.0601\n"
     ]
    }
   ],
   "source": [
    "#4.2. Learning a Logistic Regression (LR) classifier on data transformed by reweighing¶\n",
    "\n",
    "#4.2.1. Training LR model after reweighing¶\n",
    "dataset = dataset_transf_train\n",
    "model = make_pipeline(StandardScaler(),\n",
    "                      LogisticRegression(solver='liblinear', random_state=1))\n",
    "fit_params = {'logisticregression__sample_weight': dataset.instance_weights}\n",
    "lr_transf = model.fit(dataset.features, dataset.labels.ravel(), **fit_params)\n",
    "\n",
    "#4.2.2. Validating LR model after reweighing¶\n",
    "\n",
    "\n",
    "thresh_arr = np.linspace(0.01, 0.5, 50)\n",
    "val_metrics = test(dataset=dataset_orig_val,\n",
    "                   model=lr_transf,\n",
    "                   thresh_arr=thresh_arr)\n",
    "lr_transf_best_ind = np.argmax(val_metrics['bal_acc'])\n",
    "\n",
    "disp_imp = np.array(val_metrics['disp_imp'])\n",
    "disp_imp_err = 1 - np.minimum(disp_imp, 1/disp_imp)\n",
    "\n",
    "plot(thresh_arr, 'Classification Thresholds',\n",
    "     val_metrics['bal_acc'], 'Balanced Accuracy',\n",
    "     disp_imp_err, '1 - min(DI, 1/DI)')\n",
    "\n",
    "plot(thresh_arr, 'Classification Thresholds',\n",
    "     val_metrics['bal_acc'], 'Balanced Accuracy',\n",
    "     val_metrics['avg_odds_diff'], 'avg. odds diff.')\n",
    "\n",
    "describe_metrics(val_metrics, thresh_arr)\n"
   ]
  },
  {
   "cell_type": "code",
   "execution_count": 10,
   "id": "polished-murder",
   "metadata": {},
   "outputs": [
    {
     "name": "stdout",
     "output_type": "stream",
     "text": [
      "Threshold corresponding to Best balanced accuracy: 0.0200\n",
      "Best balanced accuracy: 0.7139\n",
      "Corresponding 1-min(DI, 1/DI) value: 0.2601\n",
      "Corresponding average odds difference value: -0.1261\n",
      "Corresponding statistical parity difference value: -0.0676\n",
      "Corresponding equal opportunity difference value: -0.1897\n",
      "Corresponding Theil index value: 0.0586\n"
     ]
    }
   ],
   "source": [
    "#4.2.3. Testing LR model after reweighing¶\n",
    "lr_transf_metrics = test(dataset=dataset_orig_test,\n",
    "                         model=lr_transf,\n",
    "                         thresh_arr=[thresh_arr[lr_transf_best_ind]])\n",
    "describe_metrics(lr_transf_metrics, [thresh_arr[lr_transf_best_ind]])\n"
   ]
  },
  {
   "cell_type": "code",
   "execution_count": 11,
   "id": "indie-pitch",
   "metadata": {},
   "outputs": [
    {
     "data": {
      "image/png": "[encoded data removed]",
      "text/plain": [
       "<Figure size 720x504 with 2 Axes>"
      ]
     },
     "metadata": {
      "needs_background": "light"
     },
     "output_type": "display_data"
    },
    {
     "data": {
      "image/png": "[encoded data removed]",
      "text/plain": [
       "<Figure size 720x504 with 2 Axes>"
      ]
     },
     "metadata": {
      "needs_background": "light"
     },
     "output_type": "display_data"
    },
    {
     "name": "stdout",
     "output_type": "stream",
     "text": [
      "Threshold corresponding to Best balanced accuracy: 0.0200\n",
      "Best balanced accuracy: 0.6688\n",
      "Corresponding 1-min(DI, 1/DI) value: 0.3714\n",
      "Corresponding average odds difference value: -0.0024\n",
      "Corresponding statistical parity difference value: 0.1105\n",
      "Corresponding equal opportunity difference value: -0.1197\n",
      "Corresponding Theil index value: 0.0567\n"
     ]
    }
   ],
   "source": [
    "#5. Bias mitigation using in-processing technique - Prejudice Remover (PR)¶\n",
    "\n",
    "#5.1.1. Training a PR model\n",
    "model = PrejudiceRemover(sensitive_attr=sens_attr, eta=25.0)\n",
    "pr_orig_scaler = StandardScaler()\n",
    "\n",
    "dataset = dataset_orig_train.copy()\n",
    "dataset.features = pr_orig_scaler.fit_transform(dataset.features)\n",
    "\n",
    "pr_orig = model.fit(dataset)\n",
    "\n",
    "#5.1.2. Validating PR model¶\n",
    "\n",
    "thresh_arr = np.linspace(0.01, 0.50, 50)\n",
    "\n",
    "dataset = dataset_orig_val.copy()\n",
    "dataset.features = pr_orig_scaler.transform(dataset.features)\n",
    "\n",
    "val_metrics = test(dataset=dataset,\n",
    "                   model=pr_orig,\n",
    "                   thresh_arr=thresh_arr)\n",
    "pr_orig_best_ind = np.argmax(val_metrics['bal_acc'])\n",
    "disp_imp = np.array(val_metrics['disp_imp'])\n",
    "disp_imp_err = 1 - np.minimum(disp_imp, 1/disp_imp)\n",
    "\n",
    "plot(thresh_arr, 'Classification Thresholds',\n",
    "     val_metrics['bal_acc'], 'Balanced Accuracy',\n",
    "     disp_imp_err, '1 - min(DI, 1/DI)')\n",
    "\n",
    "plot(thresh_arr, 'Classification Thresholds',\n",
    "     val_metrics['bal_acc'], 'Balanced Accuracy',\n",
    "     val_metrics['avg_odds_diff'], 'avg. odds diff.')\n",
    "\n",
    "describe_metrics(val_metrics, thresh_arr)\n"
   ]
  },
  {
   "cell_type": "code",
   "execution_count": 12,
   "id": "departmental-barrel",
   "metadata": {},
   "outputs": [
    {
     "name": "stdout",
     "output_type": "stream",
     "text": [
      "Threshold corresponding to Best balanced accuracy: 0.0200\n",
      "Best balanced accuracy: 0.6960\n",
      "Corresponding 1-min(DI, 1/DI) value: 0.3345\n",
      "Corresponding average odds difference value: -0.0070\n",
      "Corresponding statistical parity difference value: 0.1008\n",
      "Corresponding equal opportunity difference value: -0.1207\n",
      "Corresponding Theil index value: 0.0570\n"
     ]
    }
   ],
   "source": [
    "#5.1.3. Testing PR model¶\n",
    "\n",
    "dataset = dataset_orig_test.copy()\n",
    "dataset.features = pr_orig_scaler.transform(dataset.features)\n",
    "\n",
    "pr_orig_metrics = test(dataset=dataset,\n",
    "                       model=pr_orig,\n",
    "                       thresh_arr=[thresh_arr[pr_orig_best_ind]])\n",
    "describe_metrics(pr_orig_metrics, [thresh_arr[pr_orig_best_ind]])"
   ]
  },
  {
   "cell_type": "code",
   "execution_count": 13,
   "id": "indonesian-examination",
   "metadata": {},
   "outputs": [
    {
     "data": {
      "text/html": [
       "<div>\n",
       "<style scoped>\n",
       "    .dataframe tbody tr th:only-of-type {\n",
       "        vertical-align: middle;\n",
       "    }\n",
       "\n",
       "    .dataframe tbody tr th {\n",
       "        vertical-align: top;\n",
       "    }\n",
       "\n",
       "    .dataframe thead th {\n",
       "        text-align: right;\n",
       "    }\n",
       "</style>\n",
       "<table border=\"1\" class=\"dataframe\">\n",
       "  <thead>\n",
       "    <tr style=\"text-align: right;\">\n",
       "      <th></th>\n",
       "      <th></th>\n",
       "      <th>bal_acc</th>\n",
       "      <th>avg_odds_diff</th>\n",
       "      <th>disp_imp</th>\n",
       "      <th>stat_par_diff</th>\n",
       "      <th>eq_opp_diff</th>\n",
       "      <th>theil_ind</th>\n",
       "    </tr>\n",
       "    <tr>\n",
       "      <th>Bias Mitigator</th>\n",
       "      <th>Classifier</th>\n",
       "      <th></th>\n",
       "      <th></th>\n",
       "      <th></th>\n",
       "      <th></th>\n",
       "      <th></th>\n",
       "      <th></th>\n",
       "    </tr>\n",
       "  </thead>\n",
       "  <tbody>\n",
       "    <tr>\n",
       "      <th></th>\n",
       "      <th>Logistic Regression</th>\n",
       "      <td>0.694241</td>\n",
       "      <td>-0.043788</td>\n",
       "      <td>1.254797</td>\n",
       "      <td>0.061709</td>\n",
       "      <td>-0.155172</td>\n",
       "      <td>0.059950</td>\n",
       "    </tr>\n",
       "    <tr>\n",
       "      <th>Reweighing</th>\n",
       "      <th>Logistic Regression</th>\n",
       "      <td>0.713895</td>\n",
       "      <td>-0.126086</td>\n",
       "      <td>0.739928</td>\n",
       "      <td>-0.067558</td>\n",
       "      <td>-0.189655</td>\n",
       "      <td>0.058572</td>\n",
       "    </tr>\n",
       "    <tr>\n",
       "      <th>Prejudice Remover</th>\n",
       "      <th></th>\n",
       "      <td>0.696039</td>\n",
       "      <td>-0.006956</td>\n",
       "      <td>1.502581</td>\n",
       "      <td>0.100778</td>\n",
       "      <td>-0.120690</td>\n",
       "      <td>0.056975</td>\n",
       "    </tr>\n",
       "  </tbody>\n",
       "</table>\n",
       "</div>"
      ],
      "text/plain": [
       "                                        bal_acc  avg_odds_diff  disp_imp  \\\n",
       "Bias Mitigator    Classifier                                               \n",
       "                  Logistic Regression  0.694241      -0.043788  1.254797   \n",
       "Reweighing        Logistic Regression  0.713895      -0.126086  0.739928   \n",
       "Prejudice Remover                      0.696039      -0.006956  1.502581   \n",
       "\n",
       "                                       stat_par_diff  eq_opp_diff  theil_ind  \n",
       "Bias Mitigator    Classifier                                                  \n",
       "                  Logistic Regression       0.061709    -0.155172   0.059950  \n",
       "Reweighing        Logistic Regression      -0.067558    -0.189655   0.058572  \n",
       "Prejudice Remover                           0.100778    -0.120690   0.056975  "
      ]
     },
     "execution_count": 13,
     "metadata": {},
     "output_type": "execute_result"
    }
   ],
   "source": [
    "import pandas as pd\n",
    "pd.set_option('display.multi_sparse', False)\n",
    "results = [lr_orig_metrics, lr_transf_metrics,\n",
    "            pr_orig_metrics]\n",
    "debias = pd.Series([''] + ['Reweighing']\n",
    "                 + ['Prejudice Remover'],\n",
    "                   name='Bias Mitigator')\n",
    "clf = pd.Series(['Logistic Regression']*2 + [''],\n",
    "                name='Classifier')\n",
    "pd.concat([pd.DataFrame(metrics) for metrics in results], axis=0).set_index([debias, clf])"
   ]
  },
  {
   "cell_type": "code",
   "execution_count": 14,
   "id": "twenty-digit",
   "metadata": {},
   "outputs": [],
   "source": [
    "#Disparate Impact Remover\n",
    "\n",
    "from aif360.algorithms.preprocessing import DisparateImpactRemover\n"
   ]
  },
  {
   "cell_type": "code",
   "execution_count": 15,
   "id": "separate-dining",
   "metadata": {},
   "outputs": [
    {
     "name": "stdout",
     "output_type": "stream",
     "text": [
      "Test Scores:\n",
      "Threshold corresponding to Best balanced accuracy: 0.0200\n",
      "Best balanced accuracy: 0.6942\n",
      "Corresponding 1-min(DI, 1/DI) value: 0.2031\n",
      "Corresponding average odds difference value: -0.0438\n",
      "Corresponding statistical parity difference value: 0.0617\n",
      "Corresponding equal opportunity difference value: -0.1552\n",
      "Corresponding Theil index value: 0.0599\n",
      "Disparate impact (probability of favorable outcome for unprivileged instances / probability of favorable outcome for privileged instances): 1.334561370363373\n"
     ]
    }
   ],
   "source": [
    "#3.2.3. Testing LR model on original data¶\n",
    "\n",
    "print(\"Test Scores:\")\n",
    "lr_orig_metrics = test(dataset=dataset_orig_test,\n",
    "                       model=lr_orig,\n",
    "                       thresh_arr=[thresh_arr[lr_orig_best_ind]])\n",
    "\n",
    "describe_metrics(lr_orig_metrics, [thresh_arr[lr_orig_best_ind]])\n",
    "\n",
    "#4. Bias mitigation using pre-processing technique - Disparate Impact Remover¶\n",
    "\n",
    "#4.1. Transform data¶\n",
    "\n",
    "\n",
    "di = DisparateImpactRemover(repair_level=1.0)\n",
    "dataset_transf_train = di.fit_transform(dataset_orig_train)\n",
    "dataset_transf_test = di.fit_transform(dataset_orig_test)\n",
    "\n",
    "#Metrics for transformed data\n",
    "\n",
    "metric_transf_train = BinaryLabelDatasetMetric(\n",
    "        dataset_transf_train,\n",
    "        unprivileged_groups=unprivileged_groups,\n",
    "        privileged_groups=privileged_groups)\n",
    "explainer_transf_train = MetricTextExplainer(metric_transf_train)\n",
    "\n",
    "print(explainer_transf_train.disparate_impact())"
   ]
  },
  {
   "cell_type": "code",
   "execution_count": 16,
   "id": "bizarre-anime",
   "metadata": {},
   "outputs": [
    {
     "name": "stdout",
     "output_type": "stream",
     "text": [
      "Threshold corresponding to Best balanced accuracy: 0.0300\n",
      "Best balanced accuracy: 0.6565\n",
      "Corresponding 1-min(DI, 1/DI) value: 0.4759\n",
      "Corresponding average odds difference value: 0.0414\n",
      "Corresponding statistical parity difference value: 0.1473\n",
      "Corresponding equal opportunity difference value: -0.0684\n",
      "Corresponding Theil index value: 0.0551\n"
     ]
    },
    {
     "name": "stderr",
     "output_type": "stream",
     "text": [
      "divide by zero encountered in double_scalars\n",
      "Matplotlib is currently using agg, which is a non-GUI backend, so cannot show the figure.\n",
      "Matplotlib is currently using agg, which is a non-GUI backend, so cannot show the figure.\n"
     ]
    },
    {
     "data": {
      "image/png": "[encoded data removed]",
      "text/plain": [
       "<Figure size 720x504 with 2 Axes>"
      ]
     },
     "metadata": {
      "needs_background": "light"
     },
     "output_type": "display_data"
    },
    {
     "data": {
      "image/png": "[encoded data removed]",
      "text/plain": [
       "<Figure size 720x504 with 2 Axes>"
      ]
     },
     "metadata": {
      "needs_background": "light"
     },
     "output_type": "display_data"
    }
   ],
   "source": [
    "#4.2.1. Training LR model after Disparate Impact Remover¶\n",
    "dataset = dataset_transf_train\n",
    "model = make_pipeline(StandardScaler(),\n",
    "                      LogisticRegression(solver='liblinear', random_state=1))\n",
    "fit_params = {'logisticregression__sample_weight': dataset.instance_weights}\n",
    "lr_transf = model.fit(dataset.features, dataset.labels.ravel(), **fit_params)\n",
    "\n",
    "#4.2.2. Validating LR model after Disdparate impact Remover¶\n",
    "\n",
    "\n",
    "thresh_arr = np.linspace(0.01, 0.5, 50)\n",
    "val_metrics = test(dataset=dataset_orig_val,\n",
    "                   model=lr_transf,\n",
    "                   thresh_arr=thresh_arr)\n",
    "lr_transf_best_ind = np.argmax(val_metrics['bal_acc'])\n",
    "\n",
    "disp_imp = np.array(val_metrics['disp_imp'])\n",
    "disp_imp_err = 1 - np.minimum(disp_imp, 1/disp_imp)\n",
    "\n",
    "plot(thresh_arr, 'Classification Thresholds',\n",
    "     val_metrics['bal_acc'], 'Balanced Accuracy',\n",
    "     disp_imp_err, '1 - min(DI, 1/DI)')\n",
    "\n",
    "plot(thresh_arr, 'Classification Thresholds',\n",
    "     val_metrics['bal_acc'], 'Balanced Accuracy',\n",
    "     val_metrics['avg_odds_diff'], 'avg. odds diff.')\n",
    "\n",
    "describe_metrics(val_metrics, thresh_arr)"
   ]
  },
  {
   "cell_type": "code",
   "execution_count": 17,
   "id": "prescribed-council",
   "metadata": {},
   "outputs": [
    {
     "name": "stdout",
     "output_type": "stream",
     "text": [
      "Threshold corresponding to Best balanced accuracy: 0.0300\n",
      "Best balanced accuracy: 0.6978\n",
      "Corresponding 1-min(DI, 1/DI) value: 0.4682\n",
      "Corresponding average odds difference value: 0.0299\n",
      "Corresponding statistical parity difference value: 0.1398\n",
      "Corresponding equal opportunity difference value: -0.0862\n",
      "Corresponding Theil index value: 0.0530\n"
     ]
    }
   ],
   "source": [
    "#Test LR DIR Model\n",
    "\n",
    "lr_metrics_DIR = test(dataset=dataset_orig_test,\n",
    "                         model=lr_transf,\n",
    "                         thresh_arr=[thresh_arr[lr_transf_best_ind]])\n",
    "describe_metrics(lr_metrics_DIR, [thresh_arr[lr_transf_best_ind]])"
   ]
  },
  {
   "cell_type": "code",
   "execution_count": 18,
   "id": "electrical-cursor",
   "metadata": {},
   "outputs": [
    {
     "data": {
      "text/html": [
       "<div>\n",
       "<style scoped>\n",
       "    .dataframe tbody tr th:only-of-type {\n",
       "        vertical-align: middle;\n",
       "    }\n",
       "\n",
       "    .dataframe tbody tr th {\n",
       "        vertical-align: top;\n",
       "    }\n",
       "\n",
       "    .dataframe thead th {\n",
       "        text-align: right;\n",
       "    }\n",
       "</style>\n",
       "<table border=\"1\" class=\"dataframe\">\n",
       "  <thead>\n",
       "    <tr style=\"text-align: right;\">\n",
       "      <th></th>\n",
       "      <th></th>\n",
       "      <th>bal_acc</th>\n",
       "      <th>avg_odds_diff</th>\n",
       "      <th>disp_imp</th>\n",
       "      <th>stat_par_diff</th>\n",
       "      <th>eq_opp_diff</th>\n",
       "      <th>theil_ind</th>\n",
       "    </tr>\n",
       "    <tr>\n",
       "      <th>Bias Mitigator</th>\n",
       "      <th>Classifier</th>\n",
       "      <th></th>\n",
       "      <th></th>\n",
       "      <th></th>\n",
       "      <th></th>\n",
       "      <th></th>\n",
       "      <th></th>\n",
       "    </tr>\n",
       "  </thead>\n",
       "  <tbody>\n",
       "    <tr>\n",
       "      <th></th>\n",
       "      <th>Logistic Regression</th>\n",
       "      <td>0.694241</td>\n",
       "      <td>-0.043788</td>\n",
       "      <td>1.254797</td>\n",
       "      <td>0.061709</td>\n",
       "      <td>-0.155172</td>\n",
       "      <td>0.059950</td>\n",
       "    </tr>\n",
       "    <tr>\n",
       "      <th>Reweighing</th>\n",
       "      <th>Logistic Regression</th>\n",
       "      <td>0.713895</td>\n",
       "      <td>-0.126086</td>\n",
       "      <td>0.739928</td>\n",
       "      <td>-0.067558</td>\n",
       "      <td>-0.189655</td>\n",
       "      <td>0.058572</td>\n",
       "    </tr>\n",
       "    <tr>\n",
       "      <th>Prejudice Remover</th>\n",
       "      <th></th>\n",
       "      <td>0.696039</td>\n",
       "      <td>-0.006956</td>\n",
       "      <td>1.502581</td>\n",
       "      <td>0.100778</td>\n",
       "      <td>-0.120690</td>\n",
       "      <td>0.056975</td>\n",
       "    </tr>\n",
       "    <tr>\n",
       "      <th>Disparate Impact Remover</th>\n",
       "      <th>Logistic Regression</th>\n",
       "      <td>0.697836</td>\n",
       "      <td>0.029875</td>\n",
       "      <td>1.880349</td>\n",
       "      <td>0.139847</td>\n",
       "      <td>-0.086207</td>\n",
       "      <td>0.053014</td>\n",
       "    </tr>\n",
       "  </tbody>\n",
       "</table>\n",
       "</div>"
      ],
      "text/plain": [
       "                                               bal_acc  avg_odds_diff  \\\n",
       "Bias Mitigator           Classifier                                     \n",
       "                         Logistic Regression  0.694241      -0.043788   \n",
       "Reweighing               Logistic Regression  0.713895      -0.126086   \n",
       "Prejudice Remover                             0.696039      -0.006956   \n",
       "Disparate Impact Remover Logistic Regression  0.697836       0.029875   \n",
       "\n",
       "                                              disp_imp  stat_par_diff  \\\n",
       "Bias Mitigator           Classifier                                     \n",
       "                         Logistic Regression  1.254797       0.061709   \n",
       "Reweighing               Logistic Regression  0.739928      -0.067558   \n",
       "Prejudice Remover                             1.502581       0.100778   \n",
       "Disparate Impact Remover Logistic Regression  1.880349       0.139847   \n",
       "\n",
       "                                              eq_opp_diff  theil_ind  \n",
       "Bias Mitigator           Classifier                                   \n",
       "                         Logistic Regression    -0.155172   0.059950  \n",
       "Reweighing               Logistic Regression    -0.189655   0.058572  \n",
       "Prejudice Remover                               -0.120690   0.056975  \n",
       "Disparate Impact Remover Logistic Regression    -0.086207   0.053014  "
      ]
     },
     "execution_count": 18,
     "metadata": {},
     "output_type": "execute_result"
    }
   ],
   "source": [
    "import pandas as pd\n",
    "pd.set_option('display.multi_sparse', False)\n",
    "results = [lr_orig_metrics, lr_transf_metrics,\n",
    "            pr_orig_metrics, lr_metrics_DIR]\n",
    "debias = pd.Series([''] + ['Reweighing']\n",
    "                 + ['Prejudice Remover'] + [\"Disparate Impact Remover\"],\n",
    "                   name='Bias Mitigator')\n",
    "clf = pd.Series(['Logistic Regression']*2 + [''] + [\"Logistic Regression\"],\n",
    "                name='Classifier')\n",
    "pd.concat([pd.DataFrame(metrics) for metrics in results], axis=0).set_index([debias, clf])"
   ]
  },
  {
   "cell_type": "code",
   "execution_count": null,
   "id": "soviet-feelings",
   "metadata": {},
   "outputs": [],
   "source": []
  },
  {
   "cell_type": "code",
   "execution_count": 19,
   "id": "cloudy-ethics",
   "metadata": {},
   "outputs": [
    {
     "data": {
      "text/markdown": [
       "#### Original training dataset"
      ],
      "text/plain": [
       "<IPython.core.display.Markdown object>"
      ]
     },
     "metadata": {},
     "output_type": "display_data"
    },
    {
     "name": "stdout",
     "output_type": "stream",
     "text": [
      "Train set: Difference in mean outcomes between unprivileged and privileged groups = 0.005818\n",
      "Test set: Difference in mean outcomes between unprivileged and privileged groups = -0.008491\n"
     ]
    }
   ],
   "source": [
    "from aif360.algorithms.inprocessing.adversarial_debiasing import AdversarialDebiasing\n",
    "from aif360.metrics import ClassificationMetric\n",
    "from sklearn.preprocessing import MaxAbsScaler\n",
    "import tensorflow.compat.v1 as tf\n",
    "tf.disable_eager_execution()\n",
    "\n",
    "\n",
    "# Metric for the original dataset\n",
    "metric_orig_train = BinaryLabelDatasetMetric(dataset_orig_train, \n",
    "                                             unprivileged_groups=unprivileged_groups,\n",
    "                                             privileged_groups=privileged_groups)\n",
    "display(Markdown(\"#### Original training dataset\"))\n",
    "print(\"Train set: Difference in mean outcomes between unprivileged and privileged groups = %f\" % metric_orig_train.mean_difference())\n",
    "metric_orig_test = BinaryLabelDatasetMetric(dataset_orig_test, \n",
    "                                             unprivileged_groups=unprivileged_groups,\n",
    "                                             privileged_groups=privileged_groups)\n",
    "print(\"Test set: Difference in mean outcomes between unprivileged and privileged groups = %f\" % metric_orig_test.mean_difference())"
   ]
  },
  {
   "cell_type": "code",
   "execution_count": 20,
   "id": "needed-lotus",
   "metadata": {},
   "outputs": [
    {
     "data": {
      "text/markdown": [
       "#### Scaled dataset - Verify that the scaling does not affect the group label statistics"
      ],
      "text/plain": [
       "<IPython.core.display.Markdown object>"
      ]
     },
     "metadata": {},
     "output_type": "display_data"
    },
    {
     "name": "stdout",
     "output_type": "stream",
     "text": [
      "Train set: Difference in mean outcomes between unprivileged and privileged groups = 0.005818\n",
      "Test set: Difference in mean outcomes between unprivileged and privileged groups = -0.008491\n"
     ]
    }
   ],
   "source": [
    "min_max_scaler = MaxAbsScaler()\n",
    "dataset_orig_train.features = min_max_scaler.fit_transform(dataset_orig_train.features)\n",
    "dataset_orig_test.features = min_max_scaler.transform(dataset_orig_test.features)\n",
    "metric_scaled_train = BinaryLabelDatasetMetric(dataset_orig_train, \n",
    "                             unprivileged_groups=unprivileged_groups,\n",
    "                             privileged_groups=privileged_groups)\n",
    "display(Markdown(\"#### Scaled dataset - Verify that the scaling does not affect the group label statistics\"))\n",
    "print(\"Train set: Difference in mean outcomes between unprivileged and privileged groups = %f\" % metric_scaled_train.mean_difference())\n",
    "metric_scaled_test = BinaryLabelDatasetMetric(dataset_orig_test, \n",
    "                             unprivileged_groups=unprivileged_groups,\n",
    "                             privileged_groups=privileged_groups)\n",
    "print(\"Test set: Difference in mean outcomes between unprivileged and privileged groups = %f\" % metric_scaled_test.mean_difference())"
   ]
  },
  {
   "cell_type": "code",
   "execution_count": 21,
   "id": "worthy-nutrition",
   "metadata": {},
   "outputs": [
    {
     "name": "stdout",
     "output_type": "stream",
     "text": [
      "WARNING:tensorflow:From C:\\Users\\sujin\\miniconda3\\lib\\site-packages\\tensorflow\\python\\util\\dispatch.py:201: calling dropout (from tensorflow.python.ops.nn_ops) with keep_prob is deprecated and will be removed in a future version.\n",
      "Instructions for updating:\n",
      "Please use `rate` instead of `keep_prob`. Rate should be set to `rate = 1 - keep_prob`.\n",
      "epoch 0; iter: 0; batch classifier loss: 0.804070\n",
      "epoch 1; iter: 0; batch classifier loss: 0.073288\n",
      "epoch 2; iter: 0; batch classifier loss: 0.092929\n",
      "epoch 3; iter: 0; batch classifier loss: 0.019389\n",
      "epoch 4; iter: 0; batch classifier loss: 0.080928\n",
      "epoch 5; iter: 0; batch classifier loss: 0.073923\n",
      "epoch 6; iter: 0; batch classifier loss: 0.150695\n",
      "epoch 7; iter: 0; batch classifier loss: 0.103241\n",
      "epoch 8; iter: 0; batch classifier loss: 0.084064\n",
      "epoch 9; iter: 0; batch classifier loss: 0.080180\n",
      "epoch 10; iter: 0; batch classifier loss: 0.084679\n",
      "epoch 11; iter: 0; batch classifier loss: 0.139019\n",
      "epoch 12; iter: 0; batch classifier loss: 0.135300\n",
      "epoch 13; iter: 0; batch classifier loss: 0.073785\n",
      "epoch 14; iter: 0; batch classifier loss: 0.045577\n",
      "epoch 15; iter: 0; batch classifier loss: 0.044946\n",
      "epoch 16; iter: 0; batch classifier loss: 0.078135\n",
      "epoch 17; iter: 0; batch classifier loss: 0.053872\n",
      "epoch 18; iter: 0; batch classifier loss: 0.104830\n",
      "epoch 19; iter: 0; batch classifier loss: 0.044503\n",
      "epoch 20; iter: 0; batch classifier loss: 0.054539\n",
      "epoch 21; iter: 0; batch classifier loss: 0.080974\n",
      "epoch 22; iter: 0; batch classifier loss: 0.076692\n",
      "epoch 23; iter: 0; batch classifier loss: 0.111983\n",
      "epoch 24; iter: 0; batch classifier loss: 0.122004\n",
      "epoch 25; iter: 0; batch classifier loss: 0.055509\n",
      "epoch 26; iter: 0; batch classifier loss: 0.076197\n",
      "epoch 27; iter: 0; batch classifier loss: 0.047954\n",
      "epoch 28; iter: 0; batch classifier loss: 0.132137\n",
      "epoch 29; iter: 0; batch classifier loss: 0.138704\n",
      "epoch 30; iter: 0; batch classifier loss: 0.099181\n",
      "epoch 31; iter: 0; batch classifier loss: 0.021658\n",
      "epoch 32; iter: 0; batch classifier loss: 0.110334\n",
      "epoch 33; iter: 0; batch classifier loss: 0.083033\n",
      "epoch 34; iter: 0; batch classifier loss: 0.042695\n",
      "epoch 35; iter: 0; batch classifier loss: 0.053090\n",
      "epoch 36; iter: 0; batch classifier loss: 0.020587\n",
      "epoch 37; iter: 0; batch classifier loss: 0.159702\n",
      "epoch 38; iter: 0; batch classifier loss: 0.046880\n",
      "epoch 39; iter: 0; batch classifier loss: 0.054244\n",
      "epoch 40; iter: 0; batch classifier loss: 0.068688\n",
      "epoch 41; iter: 0; batch classifier loss: 0.018057\n",
      "epoch 42; iter: 0; batch classifier loss: 0.050900\n",
      "epoch 43; iter: 0; batch classifier loss: 0.164859\n",
      "epoch 44; iter: 0; batch classifier loss: 0.092057\n",
      "epoch 45; iter: 0; batch classifier loss: 0.075271\n",
      "epoch 46; iter: 0; batch classifier loss: 0.090304\n",
      "epoch 47; iter: 0; batch classifier loss: 0.098688\n",
      "epoch 48; iter: 0; batch classifier loss: 0.045951\n",
      "epoch 49; iter: 0; batch classifier loss: 0.106014\n"
     ]
    },
    {
     "data": {
      "text/plain": [
       "<aif360.algorithms.inprocessing.adversarial_debiasing.AdversarialDebiasing at 0x14bda911f70>"
      ]
     },
     "execution_count": 21,
     "metadata": {},
     "output_type": "execute_result"
    }
   ],
   "source": [
    "#Learn plan classifier without debiasing\n",
    "# Load post-processing algorithm that equalizes the odds\n",
    "# Learn parameters with debias set to False\n",
    "sess = tf.Session()\n",
    "plain_model = AdversarialDebiasing(privileged_groups = privileged_groups,\n",
    "                          unprivileged_groups = unprivileged_groups,\n",
    "                          scope_name='plain_classifier',\n",
    "                          debias=False,\n",
    "                          sess=sess)\n",
    "\n",
    "plain_model.fit(dataset_orig_train)\n"
   ]
  },
  {
   "cell_type": "code",
   "execution_count": 22,
   "id": "northern-thumb",
   "metadata": {},
   "outputs": [],
   "source": [
    "# Apply the plain model to test data\n",
    "dataset_nodebiasing_train = plain_model.predict(dataset_orig_train)\n",
    "dataset_nodebiasing_test = plain_model.predict(dataset_orig_test)"
   ]
  },
  {
   "cell_type": "code",
   "execution_count": 23,
   "id": "single-arkansas",
   "metadata": {},
   "outputs": [
    {
     "data": {
      "text/markdown": [
       "#### Plain model - without debiasing - dataset metrics"
      ],
      "text/plain": [
       "<IPython.core.display.Markdown object>"
      ]
     },
     "metadata": {},
     "output_type": "display_data"
    },
    {
     "name": "stdout",
     "output_type": "stream",
     "text": [
      "Train set: Difference in mean outcomes between unprivileged and privileged groups = 0.000000\n",
      "Test set: Difference in mean outcomes between unprivileged and privileged groups = 0.000000\n"
     ]
    },
    {
     "data": {
      "text/markdown": [
       "#### Plain model - without debiasing - classification metrics"
      ],
      "text/plain": [
       "<IPython.core.display.Markdown object>"
      ]
     },
     "metadata": {},
     "output_type": "display_data"
    },
    {
     "name": "stdout",
     "output_type": "stream",
     "text": [
      "Test set: Classification accuracy = 0.982821\n",
      "Test set: Balanced classification accuracy = 0.500000\n",
      "Test set: Average odds difference = 0.000000\n",
      "Test set: Disparate impact = nan\n",
      "Test set: Statisticsal parity difference = 0.000000\n",
      "Test set: Equal opportunity difference = 0.000000\n",
      "Test set: Theil_index = 0.017328\n"
     ]
    },
    {
     "name": "stderr",
     "output_type": "stream",
     "text": [
      "invalid value encountered in double_scalars\n"
     ]
    }
   ],
   "source": [
    "# Metrics for the dataset from plain model (without debiasing)\n",
    "display(Markdown(\"#### Plain model - without debiasing - dataset metrics\"))\n",
    "metric_dataset_nodebiasing_train = BinaryLabelDatasetMetric(dataset_nodebiasing_train, \n",
    "                                             unprivileged_groups=unprivileged_groups,\n",
    "                                             privileged_groups=privileged_groups)\n",
    "\n",
    "print(\"Train set: Difference in mean outcomes between unprivileged and privileged groups = %f\" % metric_dataset_nodebiasing_train.mean_difference())\n",
    "\n",
    "metric_dataset_nodebiasing_test = BinaryLabelDatasetMetric(dataset_nodebiasing_test, \n",
    "                                             unprivileged_groups=unprivileged_groups,\n",
    "                                             privileged_groups=privileged_groups)\n",
    "\n",
    "print(\"Test set: Difference in mean outcomes between unprivileged and privileged groups = %f\" % metric_dataset_nodebiasing_test.mean_difference())\n",
    "\n",
    "display(Markdown(\"#### Plain model - without debiasing - classification metrics\"))\n",
    "classified_metric_nodebiasing_test = ClassificationMetric(dataset_orig_test, \n",
    "                                                 dataset_nodebiasing_test,\n",
    "                                                 unprivileged_groups=unprivileged_groups,\n",
    "                                                 privileged_groups=privileged_groups)\n",
    "\n",
    "print(\"Test set: Classification accuracy = %f\" % classified_metric_nodebiasing_test.accuracy())\n",
    "TPR = classified_metric_nodebiasing_test.true_positive_rate()\n",
    "TNR = classified_metric_nodebiasing_test.true_negative_rate()\n",
    "bal_acc_nodebiasing_test = 0.5*(TPR+TNR)\n",
    "print(\"Test set: Balanced classification accuracy = %f\" % bal_acc_nodebiasing_test)\n",
    "print(\"Test set: Average odds difference = %f\" % classified_metric_nodebiasing_test.average_odds_difference())\n",
    "print(\"Test set: Disparate impact = %f\" % classified_metric_nodebiasing_test.disparate_impact())\n",
    "print(\"Test set: Statisticsal parity difference = %f\" % classified_metric_nodebiasing_test.statistical_parity_difference())\n",
    "print(\"Test set: Equal opportunity difference = %f\" % classified_metric_nodebiasing_test.equal_opportunity_difference())\n",
    "print(\"Test set: Theil_index = %f\" % classified_metric_nodebiasing_test.theil_index())\n",
    "\n",
    "metrics_AD = defaultdict(list,\n",
    "            {'bal_acc': [bal_acc_nodebiasing_test],\n",
    "             'avg_odds_diff': [classified_metric_nodebiasing_test.average_odds_difference()],\n",
    "             'disp_imp': [classified_metric_nodebiasing_test.disparate_impact()],\n",
    "             'stat_par_diff': [classified_metric_nodebiasing_test.statistical_parity_difference()],\n",
    "             'eq_opp_diff': [classified_metric_nodebiasing_test.equal_opportunity_difference()],\n",
    "             'theil_ind': [classified_metric_nodebiasing_test.theil_index()]})\n"
   ]
  },
  {
   "cell_type": "code",
   "execution_count": 24,
   "id": "round-walter",
   "metadata": {},
   "outputs": [
    {
     "data": {
      "text/html": [
       "<div>\n",
       "<style scoped>\n",
       "    .dataframe tbody tr th:only-of-type {\n",
       "        vertical-align: middle;\n",
       "    }\n",
       "\n",
       "    .dataframe tbody tr th {\n",
       "        vertical-align: top;\n",
       "    }\n",
       "\n",
       "    .dataframe thead th {\n",
       "        text-align: right;\n",
       "    }\n",
       "</style>\n",
       "<table border=\"1\" class=\"dataframe\">\n",
       "  <thead>\n",
       "    <tr style=\"text-align: right;\">\n",
       "      <th></th>\n",
       "      <th></th>\n",
       "      <th>bal_acc</th>\n",
       "      <th>avg_odds_diff</th>\n",
       "      <th>disp_imp</th>\n",
       "      <th>stat_par_diff</th>\n",
       "      <th>eq_opp_diff</th>\n",
       "      <th>theil_ind</th>\n",
       "    </tr>\n",
       "    <tr>\n",
       "      <th>Bias Mitigator</th>\n",
       "      <th>Classifier</th>\n",
       "      <th></th>\n",
       "      <th></th>\n",
       "      <th></th>\n",
       "      <th></th>\n",
       "      <th></th>\n",
       "      <th></th>\n",
       "    </tr>\n",
       "  </thead>\n",
       "  <tbody>\n",
       "    <tr>\n",
       "      <th></th>\n",
       "      <th>Logistic Regression</th>\n",
       "      <td>0.694241</td>\n",
       "      <td>-0.043788</td>\n",
       "      <td>1.254797</td>\n",
       "      <td>0.061709</td>\n",
       "      <td>-0.155172</td>\n",
       "      <td>0.059950</td>\n",
       "    </tr>\n",
       "    <tr>\n",
       "      <th>Reweighing</th>\n",
       "      <th>Logistic Regression</th>\n",
       "      <td>0.713895</td>\n",
       "      <td>-0.126086</td>\n",
       "      <td>0.739928</td>\n",
       "      <td>-0.067558</td>\n",
       "      <td>-0.189655</td>\n",
       "      <td>0.058572</td>\n",
       "    </tr>\n",
       "    <tr>\n",
       "      <th>Prejudice Remover</th>\n",
       "      <th></th>\n",
       "      <td>0.696039</td>\n",
       "      <td>-0.006956</td>\n",
       "      <td>1.502581</td>\n",
       "      <td>0.100778</td>\n",
       "      <td>-0.120690</td>\n",
       "      <td>0.056975</td>\n",
       "    </tr>\n",
       "    <tr>\n",
       "      <th>Disparate Impact Remover</th>\n",
       "      <th>Logistic Regression</th>\n",
       "      <td>0.697836</td>\n",
       "      <td>0.029875</td>\n",
       "      <td>1.880349</td>\n",
       "      <td>0.139847</td>\n",
       "      <td>-0.086207</td>\n",
       "      <td>0.053014</td>\n",
       "    </tr>\n",
       "    <tr>\n",
       "      <th>Adversarial Debias</th>\n",
       "      <th>No Debias</th>\n",
       "      <td>0.500000</td>\n",
       "      <td>0.000000</td>\n",
       "      <td>NaN</td>\n",
       "      <td>0.000000</td>\n",
       "      <td>0.000000</td>\n",
       "      <td>0.017328</td>\n",
       "    </tr>\n",
       "  </tbody>\n",
       "</table>\n",
       "</div>"
      ],
      "text/plain": [
       "                                               bal_acc  avg_odds_diff  \\\n",
       "Bias Mitigator           Classifier                                     \n",
       "                         Logistic Regression  0.694241      -0.043788   \n",
       "Reweighing               Logistic Regression  0.713895      -0.126086   \n",
       "Prejudice Remover                             0.696039      -0.006956   \n",
       "Disparate Impact Remover Logistic Regression  0.697836       0.029875   \n",
       "Adversarial Debias       No Debias            0.500000       0.000000   \n",
       "\n",
       "                                              disp_imp  stat_par_diff  \\\n",
       "Bias Mitigator           Classifier                                     \n",
       "                         Logistic Regression  1.254797       0.061709   \n",
       "Reweighing               Logistic Regression  0.739928      -0.067558   \n",
       "Prejudice Remover                             1.502581       0.100778   \n",
       "Disparate Impact Remover Logistic Regression  1.880349       0.139847   \n",
       "Adversarial Debias       No Debias                 NaN       0.000000   \n",
       "\n",
       "                                              eq_opp_diff  theil_ind  \n",
       "Bias Mitigator           Classifier                                   \n",
       "                         Logistic Regression    -0.155172   0.059950  \n",
       "Reweighing               Logistic Regression    -0.189655   0.058572  \n",
       "Prejudice Remover                               -0.120690   0.056975  \n",
       "Disparate Impact Remover Logistic Regression    -0.086207   0.053014  \n",
       "Adversarial Debias       No Debias               0.000000   0.017328  "
      ]
     },
     "execution_count": 24,
     "metadata": {},
     "output_type": "execute_result"
    }
   ],
   "source": [
    "pd.set_option('display.multi_sparse', False)\n",
    "results = [lr_orig_metrics, lr_transf_metrics,\n",
    "            pr_orig_metrics, lr_metrics_DIR, metrics_AD]\n",
    "debias = pd.Series([''] + ['Reweighing']\n",
    "                 + ['Prejudice Remover'] + [\"Disparate Impact Remover\"] + [\"Adversarial Debias\"],\n",
    "                   name='Bias Mitigator')\n",
    "clf = pd.Series(['Logistic Regression']*2 + [''] + [\"Logistic Regression\"] + [\"No Debias\"],\n",
    "                name='Classifier')\n",
    "pd.concat([pd.DataFrame(metrics) for metrics in results], axis=0).set_index([debias, clf])"
   ]
  },
  {
   "cell_type": "code",
   "execution_count": 25,
   "id": "decimal-inspection",
   "metadata": {},
   "outputs": [
    {
     "name": "stdout",
     "output_type": "stream",
     "text": [
      "epoch 0; iter: 0; batch classifier loss: 0.790928; batch adversarial loss: 0.624524\n",
      "epoch 1; iter: 0; batch classifier loss: 0.344843; batch adversarial loss: 0.636335\n",
      "epoch 2; iter: 0; batch classifier loss: 0.196073; batch adversarial loss: 0.655435\n",
      "epoch 3; iter: 0; batch classifier loss: 0.131392; batch adversarial loss: 0.647946\n",
      "epoch 4; iter: 0; batch classifier loss: 0.114516; batch adversarial loss: 0.648149\n",
      "epoch 5; iter: 0; batch classifier loss: 0.122881; batch adversarial loss: 0.631504\n",
      "epoch 6; iter: 0; batch classifier loss: 0.151073; batch adversarial loss: 0.634660\n",
      "epoch 7; iter: 0; batch classifier loss: 0.089327; batch adversarial loss: 0.619258\n",
      "epoch 8; iter: 0; batch classifier loss: 0.099325; batch adversarial loss: 0.606692\n",
      "epoch 9; iter: 0; batch classifier loss: 0.121630; batch adversarial loss: 0.601291\n",
      "epoch 10; iter: 0; batch classifier loss: 0.102227; batch adversarial loss: 0.627119\n",
      "epoch 11; iter: 0; batch classifier loss: 0.082322; batch adversarial loss: 0.574454\n",
      "epoch 12; iter: 0; batch classifier loss: 0.114595; batch adversarial loss: 0.589707\n",
      "epoch 13; iter: 0; batch classifier loss: 0.174772; batch adversarial loss: 0.584317\n",
      "epoch 14; iter: 0; batch classifier loss: 0.076906; batch adversarial loss: 0.582944\n",
      "epoch 15; iter: 0; batch classifier loss: 0.150122; batch adversarial loss: 0.581827\n",
      "epoch 16; iter: 0; batch classifier loss: 0.074408; batch adversarial loss: 0.565092\n",
      "epoch 17; iter: 0; batch classifier loss: 0.079046; batch adversarial loss: 0.569350\n",
      "epoch 18; iter: 0; batch classifier loss: 0.020238; batch adversarial loss: 0.537497\n",
      "epoch 19; iter: 0; batch classifier loss: 0.067943; batch adversarial loss: 0.532779\n",
      "epoch 20; iter: 0; batch classifier loss: 0.147375; batch adversarial loss: 0.557819\n",
      "epoch 21; iter: 0; batch classifier loss: 0.167640; batch adversarial loss: 0.567587\n",
      "epoch 22; iter: 0; batch classifier loss: 0.025862; batch adversarial loss: 0.582821\n",
      "epoch 23; iter: 0; batch classifier loss: 0.085692; batch adversarial loss: 0.571065\n",
      "epoch 24; iter: 0; batch classifier loss: 0.085778; batch adversarial loss: 0.545839\n",
      "epoch 25; iter: 0; batch classifier loss: 0.083555; batch adversarial loss: 0.447407\n",
      "epoch 26; iter: 0; batch classifier loss: 0.108680; batch adversarial loss: 0.510326\n",
      "epoch 27; iter: 0; batch classifier loss: 0.091370; batch adversarial loss: 0.519767\n",
      "epoch 28; iter: 0; batch classifier loss: 0.014828; batch adversarial loss: 0.465381\n",
      "epoch 29; iter: 0; batch classifier loss: 0.073344; batch adversarial loss: 0.520756\n",
      "epoch 30; iter: 0; batch classifier loss: 0.120505; batch adversarial loss: 0.493634\n",
      "epoch 31; iter: 0; batch classifier loss: 0.045859; batch adversarial loss: 0.531667\n",
      "epoch 32; iter: 0; batch classifier loss: 0.063186; batch adversarial loss: 0.532976\n",
      "epoch 33; iter: 0; batch classifier loss: 0.149182; batch adversarial loss: 0.543791\n",
      "epoch 34; iter: 0; batch classifier loss: 0.100879; batch adversarial loss: 0.520440\n",
      "epoch 35; iter: 0; batch classifier loss: 0.130243; batch adversarial loss: 0.520518\n",
      "epoch 36; iter: 0; batch classifier loss: 0.064955; batch adversarial loss: 0.471611\n",
      "epoch 37; iter: 0; batch classifier loss: 0.040321; batch adversarial loss: 0.525203\n",
      "epoch 38; iter: 0; batch classifier loss: 0.042941; batch adversarial loss: 0.507473\n",
      "epoch 39; iter: 0; batch classifier loss: 0.109345; batch adversarial loss: 0.490780\n",
      "epoch 40; iter: 0; batch classifier loss: 0.132719; batch adversarial loss: 0.481206\n",
      "epoch 41; iter: 0; batch classifier loss: 0.122918; batch adversarial loss: 0.512750\n",
      "epoch 42; iter: 0; batch classifier loss: 0.125781; batch adversarial loss: 0.478604\n",
      "epoch 43; iter: 0; batch classifier loss: 0.075553; batch adversarial loss: 0.537278\n",
      "epoch 44; iter: 0; batch classifier loss: 0.113473; batch adversarial loss: 0.571281\n",
      "epoch 45; iter: 0; batch classifier loss: 0.221092; batch adversarial loss: 0.483944\n",
      "epoch 46; iter: 0; batch classifier loss: 0.076199; batch adversarial loss: 0.474871\n",
      "epoch 47; iter: 0; batch classifier loss: 0.095447; batch adversarial loss: 0.464487\n",
      "epoch 48; iter: 0; batch classifier loss: 0.174898; batch adversarial loss: 0.580523\n",
      "epoch 49; iter: 0; batch classifier loss: 0.012770; batch adversarial loss: 0.490230\n"
     ]
    },
    {
     "data": {
      "text/plain": [
       "<aif360.algorithms.inprocessing.adversarial_debiasing.AdversarialDebiasing at 0x14bda0c0730>"
      ]
     },
     "execution_count": 25,
     "metadata": {},
     "output_type": "execute_result"
    }
   ],
   "source": [
    "sess.close()\n",
    "tf.reset_default_graph()\n",
    "sess = tf.Session()\n",
    "debiased_model = AdversarialDebiasing(privileged_groups = privileged_groups,\n",
    "                          unprivileged_groups = unprivileged_groups,\n",
    "                          scope_name='debiased_classifier',\n",
    "                          debias=True,\n",
    "                          sess=sess)\n",
    "debiased_model.fit(dataset_orig_train)\n"
   ]
  },
  {
   "cell_type": "code",
   "execution_count": 26,
   "id": "exposed-accommodation",
   "metadata": {},
   "outputs": [],
   "source": [
    "# Apply the plain model to test data\n",
    "dataset_debiasing_train = debiased_model.predict(dataset_orig_train)\n",
    "dataset_debiasing_test = debiased_model.predict(dataset_orig_test)"
   ]
  },
  {
   "cell_type": "code",
   "execution_count": 27,
   "id": "tested-experience",
   "metadata": {},
   "outputs": [
    {
     "data": {
      "text/markdown": [
       "#### Plain model - without debiasing - dataset metrics"
      ],
      "text/plain": [
       "<IPython.core.display.Markdown object>"
      ]
     },
     "metadata": {},
     "output_type": "display_data"
    },
    {
     "name": "stdout",
     "output_type": "stream",
     "text": [
      "Train set: Difference in mean outcomes between unprivileged and privileged groups = 0.000000\n",
      "Test set: Difference in mean outcomes between unprivileged and privileged groups = 0.000000\n"
     ]
    },
    {
     "data": {
      "text/markdown": [
       "#### Model - with debiasing - dataset metrics"
      ],
      "text/plain": [
       "<IPython.core.display.Markdown object>"
      ]
     },
     "metadata": {},
     "output_type": "display_data"
    },
    {
     "name": "stdout",
     "output_type": "stream",
     "text": [
      "Train set: Difference in mean outcomes between unprivileged and privileged groups = 0.004496\n",
      "Test set: Difference in mean outcomes between unprivileged and privileged groups = 0.000000\n"
     ]
    },
    {
     "data": {
      "text/markdown": [
       "#### Plain model - without debiasing - classification metrics"
      ],
      "text/plain": [
       "<IPython.core.display.Markdown object>"
      ]
     },
     "metadata": {},
     "output_type": "display_data"
    },
    {
     "name": "stdout",
     "output_type": "stream",
     "text": [
      "Test set: Classification accuracy = 0.982821\n",
      "Test set: Balanced classification accuracy = 0.500000\n",
      "Test set: Disparate impact = nan\n",
      "Test set: Equal opportunity difference = 0.000000\n",
      "Test set: Average odds difference = 0.000000\n",
      "Test set: Theil_index = 0.017328\n"
     ]
    },
    {
     "data": {
      "text/markdown": [
       "#### Model - with debiasing - classification metrics"
      ],
      "text/plain": [
       "<IPython.core.display.Markdown object>"
      ]
     },
     "metadata": {},
     "output_type": "display_data"
    },
    {
     "name": "stdout",
     "output_type": "stream",
     "text": [
      "Test set: Classification accuracy = 0.982821\n",
      "Test set: Balanced classification accuracy = 0.500000\n",
      "Test set: Disparate impact = nan\n",
      "Test set: Equal opportunity difference = 0.000000\n",
      "Test set: Average odds difference = 0.000000\n",
      "Test set: Theil_index = 0.017328\n"
     ]
    },
    {
     "name": "stderr",
     "output_type": "stream",
     "text": [
      "invalid value encountered in double_scalars\n"
     ]
    }
   ],
   "source": [
    "# Metrics for the dataset from plain model (without debiasing)\n",
    "display(Markdown(\"#### Plain model - without debiasing - dataset metrics\"))\n",
    "print(\"Train set: Difference in mean outcomes between unprivileged and privileged groups = %f\" % metric_dataset_nodebiasing_train.mean_difference())\n",
    "print(\"Test set: Difference in mean outcomes between unprivileged and privileged groups = %f\" % metric_dataset_nodebiasing_test.mean_difference())\n",
    "\n",
    "# Metrics for the dataset from model with debiasing\n",
    "display(Markdown(\"#### Model - with debiasing - dataset metrics\"))\n",
    "metric_dataset_debiasing_train = BinaryLabelDatasetMetric(dataset_debiasing_train, \n",
    "                                             unprivileged_groups=unprivileged_groups,\n",
    "                                             privileged_groups=privileged_groups)\n",
    "\n",
    "print(\"Train set: Difference in mean outcomes between unprivileged and privileged groups = %f\" % metric_dataset_debiasing_train.mean_difference())\n",
    "\n",
    "metric_dataset_debiasing_test = BinaryLabelDatasetMetric(dataset_debiasing_test, \n",
    "                                             unprivileged_groups=unprivileged_groups,\n",
    "                                             privileged_groups=privileged_groups)\n",
    "\n",
    "print(\"Test set: Difference in mean outcomes between unprivileged and privileged groups = %f\" % metric_dataset_debiasing_test.mean_difference())\n",
    "\n",
    "\n",
    "\n",
    "display(Markdown(\"#### Plain model - without debiasing - classification metrics\"))\n",
    "print(\"Test set: Classification accuracy = %f\" % classified_metric_nodebiasing_test.accuracy())\n",
    "TPR = classified_metric_nodebiasing_test.true_positive_rate()\n",
    "TNR = classified_metric_nodebiasing_test.true_negative_rate()\n",
    "bal_acc_nodebiasing_test = 0.5*(TPR+TNR)\n",
    "print(\"Test set: Balanced classification accuracy = %f\" % bal_acc_nodebiasing_test)\n",
    "print(\"Test set: Disparate impact = %f\" % classified_metric_nodebiasing_test.disparate_impact())\n",
    "print(\"Test set: Equal opportunity difference = %f\" % classified_metric_nodebiasing_test.equal_opportunity_difference())\n",
    "print(\"Test set: Average odds difference = %f\" % classified_metric_nodebiasing_test.average_odds_difference())\n",
    "print(\"Test set: Theil_index = %f\" % classified_metric_nodebiasing_test.theil_index())\n",
    "\n",
    "\n",
    "\n",
    "\n",
    "\n",
    "display(Markdown(\"#### Model - with debiasing - classification metrics\"))\n",
    "classified_metric_debiasing_test = ClassificationMetric(dataset_orig_test, \n",
    "                                                 dataset_debiasing_test,\n",
    "                                                 unprivileged_groups=unprivileged_groups,\n",
    "                                                 privileged_groups=privileged_groups)\n",
    "print(\"Test set: Classification accuracy = %f\" % classified_metric_debiasing_test.accuracy())\n",
    "TPR = classified_metric_debiasing_test.true_positive_rate()\n",
    "TNR = classified_metric_debiasing_test.true_negative_rate()\n",
    "bal_acc_debiasing_test = 0.5*(TPR+TNR)\n",
    "print(\"Test set: Balanced classification accuracy = %f\" % bal_acc_debiasing_test)\n",
    "print(\"Test set: Disparate impact = %f\" % classified_metric_debiasing_test.disparate_impact())\n",
    "print(\"Test set: Equal opportunity difference = %f\" % classified_metric_debiasing_test.equal_opportunity_difference())\n",
    "print(\"Test set: Average odds difference = %f\" % classified_metric_debiasing_test.average_odds_difference())\n",
    "print(\"Test set: Theil_index = %f\" % classified_metric_debiasing_test.theil_index())\n",
    "\n",
    "metrics_AD2 = defaultdict(list,\n",
    "            {'bal_acc': [bal_acc_debiasing_test],\n",
    "             'avg_odds_diff': [classified_metric_debiasing_test.average_odds_difference()],\n",
    "             'disp_imp': [classified_metric_debiasing_test.disparate_impact()],\n",
    "             'stat_par_diff': [classified_metric_debiasing_test.statistical_parity_difference()],\n",
    "             'eq_opp_diff': [classified_metric_debiasing_test.equal_opportunity_difference()],\n",
    "             'theil_ind': [classified_metric_debiasing_test.theil_index()]})"
   ]
  },
  {
   "cell_type": "code",
   "execution_count": 28,
   "id": "appointed-sitting",
   "metadata": {},
   "outputs": [
    {
     "data": {
      "text/html": [
       "<div>\n",
       "<style scoped>\n",
       "    .dataframe tbody tr th:only-of-type {\n",
       "        vertical-align: middle;\n",
       "    }\n",
       "\n",
       "    .dataframe tbody tr th {\n",
       "        vertical-align: top;\n",
       "    }\n",
       "\n",
       "    .dataframe thead th {\n",
       "        text-align: right;\n",
       "    }\n",
       "</style>\n",
       "<table border=\"1\" class=\"dataframe\">\n",
       "  <thead>\n",
       "    <tr style=\"text-align: right;\">\n",
       "      <th></th>\n",
       "      <th></th>\n",
       "      <th>bal_acc</th>\n",
       "      <th>avg_odds_diff</th>\n",
       "      <th>disp_imp</th>\n",
       "      <th>stat_par_diff</th>\n",
       "      <th>eq_opp_diff</th>\n",
       "      <th>theil_ind</th>\n",
       "    </tr>\n",
       "    <tr>\n",
       "      <th>Bias Mitigator</th>\n",
       "      <th>Classifier</th>\n",
       "      <th></th>\n",
       "      <th></th>\n",
       "      <th></th>\n",
       "      <th></th>\n",
       "      <th></th>\n",
       "      <th></th>\n",
       "    </tr>\n",
       "  </thead>\n",
       "  <tbody>\n",
       "    <tr>\n",
       "      <th>None</th>\n",
       "      <th>Logistic Regression</th>\n",
       "      <td>0.694241</td>\n",
       "      <td>-0.043788</td>\n",
       "      <td>1.254797</td>\n",
       "      <td>0.061709</td>\n",
       "      <td>-0.155172</td>\n",
       "      <td>0.059950</td>\n",
       "    </tr>\n",
       "    <tr>\n",
       "      <th>Reweighing</th>\n",
       "      <th>Logistic Regression</th>\n",
       "      <td>0.713895</td>\n",
       "      <td>-0.126086</td>\n",
       "      <td>0.739928</td>\n",
       "      <td>-0.067558</td>\n",
       "      <td>-0.189655</td>\n",
       "      <td>0.058572</td>\n",
       "    </tr>\n",
       "    <tr>\n",
       "      <th>Disparate Impact Remover</th>\n",
       "      <th>Logistic Regression</th>\n",
       "      <td>0.697836</td>\n",
       "      <td>0.029875</td>\n",
       "      <td>1.880349</td>\n",
       "      <td>0.139847</td>\n",
       "      <td>-0.086207</td>\n",
       "      <td>0.053014</td>\n",
       "    </tr>\n",
       "    <tr>\n",
       "      <th>Prejudice Remover</th>\n",
       "      <th>Logistic Regression</th>\n",
       "      <td>0.696039</td>\n",
       "      <td>-0.006956</td>\n",
       "      <td>1.502581</td>\n",
       "      <td>0.100778</td>\n",
       "      <td>-0.120690</td>\n",
       "      <td>0.056975</td>\n",
       "    </tr>\n",
       "    <tr>\n",
       "      <th>Adversarial Debias</th>\n",
       "      <th>GD(No Debias)</th>\n",
       "      <td>0.500000</td>\n",
       "      <td>0.000000</td>\n",
       "      <td>NaN</td>\n",
       "      <td>0.000000</td>\n",
       "      <td>0.000000</td>\n",
       "      <td>0.017328</td>\n",
       "    </tr>\n",
       "    <tr>\n",
       "      <th>Adversarial Debias</th>\n",
       "      <th>GD(Debased)</th>\n",
       "      <td>0.500000</td>\n",
       "      <td>0.000000</td>\n",
       "      <td>NaN</td>\n",
       "      <td>0.000000</td>\n",
       "      <td>0.000000</td>\n",
       "      <td>0.017328</td>\n",
       "    </tr>\n",
       "  </tbody>\n",
       "</table>\n",
       "</div>"
      ],
      "text/plain": [
       "                                               bal_acc  avg_odds_diff  \\\n",
       "Bias Mitigator           Classifier                                     \n",
       "None                     Logistic Regression  0.694241      -0.043788   \n",
       "Reweighing               Logistic Regression  0.713895      -0.126086   \n",
       "Disparate Impact Remover Logistic Regression  0.697836       0.029875   \n",
       "Prejudice Remover        Logistic Regression  0.696039      -0.006956   \n",
       "Adversarial Debias       GD(No Debias)        0.500000       0.000000   \n",
       "Adversarial Debias       GD(Debased)          0.500000       0.000000   \n",
       "\n",
       "                                              disp_imp  stat_par_diff  \\\n",
       "Bias Mitigator           Classifier                                     \n",
       "None                     Logistic Regression  1.254797       0.061709   \n",
       "Reweighing               Logistic Regression  0.739928      -0.067558   \n",
       "Disparate Impact Remover Logistic Regression  1.880349       0.139847   \n",
       "Prejudice Remover        Logistic Regression  1.502581       0.100778   \n",
       "Adversarial Debias       GD(No Debias)             NaN       0.000000   \n",
       "Adversarial Debias       GD(Debased)               NaN       0.000000   \n",
       "\n",
       "                                              eq_opp_diff  theil_ind  \n",
       "Bias Mitigator           Classifier                                   \n",
       "None                     Logistic Regression    -0.155172   0.059950  \n",
       "Reweighing               Logistic Regression    -0.189655   0.058572  \n",
       "Disparate Impact Remover Logistic Regression    -0.086207   0.053014  \n",
       "Prejudice Remover        Logistic Regression    -0.120690   0.056975  \n",
       "Adversarial Debias       GD(No Debias)           0.000000   0.017328  \n",
       "Adversarial Debias       GD(Debased)             0.000000   0.017328  "
      ]
     },
     "execution_count": 28,
     "metadata": {},
     "output_type": "execute_result"
    }
   ],
   "source": [
    "pd.set_option('display.multi_sparse', False)\n",
    "results = [lr_orig_metrics, lr_transf_metrics,\n",
    "            lr_metrics_DIR,pr_orig_metrics, metrics_AD, metrics_AD2]\n",
    "debias = pd.Series(['None'] + ['Reweighing']\n",
    "                 + [\"Disparate Impact Remover\"] + ['Prejudice Remover']+ [\"Adversarial Debias\"]*2,\n",
    "                   name='Bias Mitigator')\n",
    "clf = pd.Series(['Logistic Regression']*4 + [\"GD(No Debias)\"] +[\"GD(Debased)\"],\n",
    "                name='Classifier')\n",
    "final_df = pd.concat([pd.DataFrame(metrics) for metrics in results], axis=0).set_index([debias, clf])\n",
    "final_df"
   ]
  },
  {
   "cell_type": "code",
   "execution_count": 30,
   "id": "outstanding-kenya",
   "metadata": {},
   "outputs": [
    {
     "data": {
      "text/html": [
       "<div>\n",
       "<style scoped>\n",
       "    .dataframe tbody tr th:only-of-type {\n",
       "        vertical-align: middle;\n",
       "    }\n",
       "\n",
       "    .dataframe tbody tr th {\n",
       "        vertical-align: top;\n",
       "    }\n",
       "\n",
       "    .dataframe thead th {\n",
       "        text-align: right;\n",
       "    }\n",
       "</style>\n",
       "<table border=\"1\" class=\"dataframe\">\n",
       "  <thead>\n",
       "    <tr style=\"text-align: right;\">\n",
       "      <th></th>\n",
       "      <th></th>\n",
       "      <th>bal_acc</th>\n",
       "      <th>avg_odds_diff</th>\n",
       "      <th>disp_imp</th>\n",
       "      <th>stat_par_diff</th>\n",
       "      <th>eq_opp_diff</th>\n",
       "      <th>theil_ind</th>\n",
       "    </tr>\n",
       "    <tr>\n",
       "      <th>Bias Mitigator</th>\n",
       "      <th>Classifier</th>\n",
       "      <th></th>\n",
       "      <th></th>\n",
       "      <th></th>\n",
       "      <th></th>\n",
       "      <th></th>\n",
       "      <th></th>\n",
       "    </tr>\n",
       "  </thead>\n",
       "  <tbody>\n",
       "    <tr>\n",
       "      <th>None</th>\n",
       "      <th>Logistic Regression</th>\n",
       "      <td>0.694241</td>\n",
       "      <td>-0.043788</td>\n",
       "      <td>1.254797</td>\n",
       "      <td>0.061709</td>\n",
       "      <td>-0.155172</td>\n",
       "      <td>0.059950</td>\n",
       "    </tr>\n",
       "    <tr>\n",
       "      <th>Reweighing</th>\n",
       "      <th>Logistic Regression</th>\n",
       "      <td>0.713895</td>\n",
       "      <td>-0.126086</td>\n",
       "      <td>0.739928</td>\n",
       "      <td>-0.067558</td>\n",
       "      <td>-0.189655</td>\n",
       "      <td>0.058572</td>\n",
       "    </tr>\n",
       "    <tr>\n",
       "      <th>Disparate Impact Remover</th>\n",
       "      <th>Logistic Regression</th>\n",
       "      <td>0.697836</td>\n",
       "      <td>0.029875</td>\n",
       "      <td>1.880349</td>\n",
       "      <td>0.139847</td>\n",
       "      <td>-0.086207</td>\n",
       "      <td>0.053014</td>\n",
       "    </tr>\n",
       "    <tr>\n",
       "      <th>Prejudice Remover</th>\n",
       "      <th>Logistic Regression</th>\n",
       "      <td>0.696039</td>\n",
       "      <td>-0.006956</td>\n",
       "      <td>1.502581</td>\n",
       "      <td>0.100778</td>\n",
       "      <td>-0.120690</td>\n",
       "      <td>0.056975</td>\n",
       "    </tr>\n",
       "    <tr>\n",
       "      <th>Adversarial Debias</th>\n",
       "      <th>GD(No Debias)</th>\n",
       "      <td>0.500000</td>\n",
       "      <td>0.000000</td>\n",
       "      <td>NaN</td>\n",
       "      <td>0.000000</td>\n",
       "      <td>0.000000</td>\n",
       "      <td>0.017328</td>\n",
       "    </tr>\n",
       "    <tr>\n",
       "      <th>Adversarial Debias</th>\n",
       "      <th>GD(Debased)</th>\n",
       "      <td>0.500000</td>\n",
       "      <td>0.000000</td>\n",
       "      <td>NaN</td>\n",
       "      <td>0.000000</td>\n",
       "      <td>0.000000</td>\n",
       "      <td>0.017328</td>\n",
       "    </tr>\n",
       "  </tbody>\n",
       "</table>\n",
       "</div>"
      ],
      "text/plain": [
       "                                               bal_acc  avg_odds_diff  \\\n",
       "Bias Mitigator           Classifier                                     \n",
       "None                     Logistic Regression  0.694241      -0.043788   \n",
       "Reweighing               Logistic Regression  0.713895      -0.126086   \n",
       "Disparate Impact Remover Logistic Regression  0.697836       0.029875   \n",
       "Prejudice Remover        Logistic Regression  0.696039      -0.006956   \n",
       "Adversarial Debias       GD(No Debias)        0.500000       0.000000   \n",
       "Adversarial Debias       GD(Debased)          0.500000       0.000000   \n",
       "\n",
       "                                              disp_imp  stat_par_diff  \\\n",
       "Bias Mitigator           Classifier                                     \n",
       "None                     Logistic Regression  1.254797       0.061709   \n",
       "Reweighing               Logistic Regression  0.739928      -0.067558   \n",
       "Disparate Impact Remover Logistic Regression  1.880349       0.139847   \n",
       "Prejudice Remover        Logistic Regression  1.502581       0.100778   \n",
       "Adversarial Debias       GD(No Debias)             NaN       0.000000   \n",
       "Adversarial Debias       GD(Debased)               NaN       0.000000   \n",
       "\n",
       "                                              eq_opp_diff  theil_ind  \n",
       "Bias Mitigator           Classifier                                   \n",
       "None                     Logistic Regression    -0.155172   0.059950  \n",
       "Reweighing               Logistic Regression    -0.189655   0.058572  \n",
       "Disparate Impact Remover Logistic Regression    -0.086207   0.053014  \n",
       "Prejudice Remover        Logistic Regression    -0.120690   0.056975  \n",
       "Adversarial Debias       GD(No Debias)           0.000000   0.017328  \n",
       "Adversarial Debias       GD(Debased)             0.000000   0.017328  "
      ]
     },
     "execution_count": 30,
     "metadata": {},
     "output_type": "execute_result"
    }
   ],
   "source": [
    "final_df.to_pickle(\"Sepsis_Results_\"+ prefix_folder+\"_P_Pickle\")\n",
    "pickle = pd.read_pickle(\"Sepsis_Results_\"+ prefix_folder+\"_P_Pickle\")\n",
    "pickle"
   ]
  },
  {
   "cell_type": "code",
   "execution_count": null,
   "id": "adolescent-space",
   "metadata": {},
   "outputs": [],
   "source": []
  },
  {
   "cell_type": "code",
   "execution_count": null,
   "id": "structural-wound",
   "metadata": {},
   "outputs": [],
   "source": []
  }
 ],
 "metadata": {
  "kernelspec": {
   "display_name": "Python 3",
   "language": "python",
   "name": "python3"
  },
  "language_info": {
   "codemirror_mode": {
    "name": "ipython",
    "version": 3
   },
   "file_extension": ".py",
   "mimetype": "text/x-python",
   "name": "python",
   "nbconvert_exporter": "python",
   "pygments_lexer": "ipython3",
   "version": "3.8.5"
  }
 },
 "nbformat": 4,
 "nbformat_minor": 5
}
