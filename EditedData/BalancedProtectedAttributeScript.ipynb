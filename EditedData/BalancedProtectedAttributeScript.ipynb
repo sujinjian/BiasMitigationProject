{
 "cells": [
  {
   "cell_type": "code",
   "execution_count": 65,
   "id": "unlimited-class",
   "metadata": {},
   "outputs": [],
   "source": [
    "import pandas as pd\n",
    "import matplotlib.pyplot as plt\n",
    "import numpy as np\n"
   ]
  },
  {
   "cell_type": "code",
   "execution_count": 66,
   "id": "adopted-stanley",
   "metadata": {},
   "outputs": [
    {
     "name": "stderr",
     "output_type": "stream",
     "text": [
      "C:\\Users\\sujin\\miniconda3\\lib\\site-packages\\IPython\\core\\interactiveshell.py:3165: DtypeWarning: Columns (3) have mixed types.Specify dtype option on import or set low_memory=False.\n",
      "  has_raised = await self.run_ast_nodes(code_ast.body, cell_name,\n"
     ]
    }
   ],
   "source": [
    "heart_failure = pd.read_csv(\"Original/HeartFailure.csv\")\n",
    "\n",
    "diabetes = pd.read_csv(\"Original/Diabetes.csv\")\n",
    "diabetes = diabetes[diabetes[\"gender\"] != \"Unknown/Invalid\"]\n",
    "diabetes[\"gender\"] = diabetes.gender.astype(int)\n",
    "\n",
    "post_acute = pd.read_csv(\"Original/PostAcute.csv\")\n",
    "sepsis = pd.read_csv(\"Original/Sepsis.csv\")\n"
   ]
  },
  {
   "cell_type": "code",
   "execution_count": 67,
   "id": "urban-still",
   "metadata": {},
   "outputs": [
    {
     "name": "stdout",
     "output_type": "stream",
     "text": [
      "heart_failure\n"
     ]
    },
    {
     "data": {
      "text/plain": [
       "0    1163\n",
       "1     845\n",
       "Name: gender, dtype: int64"
      ]
     },
     "metadata": {},
     "output_type": "display_data"
    },
    {
     "name": "stdout",
     "output_type": "stream",
     "text": [
      "diabetes\n"
     ]
    },
    {
     "data": {
      "text/plain": [
       "0    54708\n",
       "1    47055\n",
       "Name: gender, dtype: int64"
      ]
     },
     "metadata": {},
     "output_type": "display_data"
    },
    {
     "data": {
      "text/plain": [
       "array([0, 1])"
      ]
     },
     "metadata": {},
     "output_type": "display_data"
    },
    {
     "name": "stdout",
     "output_type": "stream",
     "text": [
      "post_acute\n"
     ]
    },
    {
     "data": {
      "text/plain": [
       "0    37241\n",
       "1    24823\n",
       "Name: Gender, dtype: int64"
      ]
     },
     "metadata": {},
     "output_type": "display_data"
    },
    {
     "name": "stdout",
     "output_type": "stream",
     "text": [
      "Sepsis\n"
     ]
    },
    {
     "data": {
      "text/plain": [
       "1    7682\n",
       "0    4078\n",
       "Name: Gender, dtype: int64"
      ]
     },
     "metadata": {},
     "output_type": "display_data"
    }
   ],
   "source": [
    "dataset_list = [heart_failure, diabetes, post_acute, sepsis]\n",
    "\n",
    "print(\"heart_failure\")\n",
    "display(heart_failure[\"gender\"].value_counts())\n",
    "\n",
    "print(\"diabetes\")\n",
    "display(diabetes[\"gender\"].value_counts())\n",
    "display(diabetes[\"gender\"].unique())\n",
    "\n",
    "print(\"post_acute\")\n",
    "display(post_acute[\"Gender\"].value_counts())\n",
    "\n",
    "\n",
    "print(\"Sepsis\")\n",
    "display(sepsis[\"Gender\"].value_counts())\n"
   ]
  },
  {
   "cell_type": "code",
   "execution_count": 68,
   "id": "spread-belarus",
   "metadata": {},
   "outputs": [
    {
     "data": {
      "text/plain": [
       "0    845\n",
       "1    845\n",
       "Name: gender, dtype: int64"
      ]
     },
     "metadata": {},
     "output_type": "display_data"
    }
   ],
   "source": [
    "df2 = heart_failure[heart_failure[\"gender\"] == 1]\n",
    "df = heart_failure[heart_failure[\"gender\"] == 0]\n",
    "remove_n = 318\n",
    "drop_indices = np.random.choice(df.index, remove_n, replace=False)\n",
    "df_subset = df.drop(drop_indices)\n",
    "\n",
    "heart_failure_balance = pd.concat([df_subset,df2])\n",
    "display(heart_failure_balance[\"gender\"].value_counts())\n",
    "\n",
    "heart_failure_balance = heart_failure_balance.sample(frac=1).reset_index(drop=True)\n",
    "\n",
    "\n",
    "heart_failure_balance.to_csv(\"BalancedProtectedAttributes/heart_failure_balance.csv\")\n",
    "heart_failure_balance.to_csv(\"BalancedProtectedAttributes/heart_failure_balance_NoCol.csv\", header = False)"
   ]
  },
  {
   "cell_type": "code",
   "execution_count": 61,
   "id": "associate-exception",
   "metadata": {},
   "outputs": [
    {
     "data": {
      "text/plain": [
       "0    47055\n",
       "1    47055\n",
       "Name: gender, dtype: int64"
      ]
     },
     "metadata": {},
     "output_type": "display_data"
    }
   ],
   "source": [
    "df2 = diabetes[diabetes[\"gender\"] == 1]\n",
    "df = diabetes[diabetes[\"gender\"] == 0]\n",
    "remove_n = 7653\n",
    "drop_indices = np.random.choice(df.index, remove_n, replace=False)\n",
    "df_subset = df.drop(drop_indices)\n",
    "\n",
    "diabetes_balance = pd.concat([df_subset,df2])\n",
    "display(diabetes_balance[\"gender\"].value_counts())\n",
    "\n",
    "diabetes_balance.to_csv(\"BalancedProtectedAttributes/diabetes_balance.csv\")\n",
    "diabetes_balance.to_csv(\"BalancedProtectedAttributes/diabetes_balance_NoCol.csv\", header = False)\n"
   ]
  },
  {
   "cell_type": "code",
   "execution_count": 64,
   "id": "empty-stock",
   "metadata": {},
   "outputs": [
    {
     "data": {
      "text/plain": [
       "0    24823\n",
       "1    24823\n",
       "Name: Gender, dtype: int64"
      ]
     },
     "metadata": {},
     "output_type": "display_data"
    }
   ],
   "source": [
    "df2 = post_acute[post_acute[\"Gender\"] == 1]\n",
    "df = post_acute[post_acute[\"Gender\"] == 0]\n",
    "remove_n = 12418\n",
    "drop_indices = np.random.choice(df.index, remove_n, replace=False)\n",
    "df_subset = df.drop(drop_indices)\n",
    "\n",
    "post_acute_balance = pd.concat([df_subset,df2])\n",
    "display(post_acute_balance[\"Gender\"].value_counts())\n",
    "\n",
    "post_acute_balance.to_csv(\"BalancedProtectedAttributes/post_acute_balance.csv\")\n",
    "post_acute_balance.to_csv(\"BalancedProtectedAttributes/post_acute_balance_NoCol.csv\", header = False)"
   ]
  },
  {
   "cell_type": "code",
   "execution_count": 63,
   "id": "settled-genetics",
   "metadata": {},
   "outputs": [
    {
     "data": {
      "text/plain": [
       "0    4078\n",
       "1    4078\n",
       "Name: Gender, dtype: int64"
      ]
     },
     "metadata": {},
     "output_type": "display_data"
    }
   ],
   "source": [
    "df = sepsis[sepsis[\"Gender\"] == 1]\n",
    "df2 = sepsis[sepsis[\"Gender\"] == 0]\n",
    "remove_n = 3604\n",
    "drop_indices = np.random.choice(df.index, remove_n, replace=False)\n",
    "df_subset = df.drop(drop_indices)\n",
    "\n",
    "sepsis_balance = pd.concat([df_subset,df2])\n",
    "display(sepsis_balance[\"Gender\"].value_counts())\n",
    "\n",
    "sepsis_balance.to_csv(\"BalancedProtectedAttributes/sepsis_balance.csv\")\n",
    "sepsis_balance.to_csv(\"BalancedProtectedAttributes/sepsis_balance_NoCol.csv\", header = False)"
   ]
  },
  {
   "cell_type": "code",
   "execution_count": null,
   "id": "collectible-pointer",
   "metadata": {},
   "outputs": [],
   "source": []
  }
 ],
 "metadata": {
  "kernelspec": {
   "display_name": "Python 3",
   "language": "python",
   "name": "python3"
  },
  "language_info": {
   "codemirror_mode": {
    "name": "ipython",
    "version": 3
   },
   "file_extension": ".py",
   "mimetype": "text/x-python",
   "name": "python",
   "nbconvert_exporter": "python",
   "pygments_lexer": "ipython3",
   "version": "3.8.5"
  }
 },
 "nbformat": 4,
 "nbformat_minor": 5
}
