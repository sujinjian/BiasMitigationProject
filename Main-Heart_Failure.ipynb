{
 "cells": [
  {
   "cell_type": "code",
   "execution_count": 5,
   "id": "norman-cotton",
   "metadata": {},
   "outputs": [],
   "source": [
    "import matplotlib.pyplot as plt\n",
    "import numpy as np\n",
    "import pandas as pd\n",
    "\n",
    "from IPython.display import Markdown, display\n",
    "\n",
    "# Datasets\n",
    "from aif360.datasets import StandardDataset\n",
    "\n",
    "# from PhysionetDataset.py import PhysionetDataset.py\n",
    "# Dataset = PhysionetDataset.py\n",
    "\n",
    "\n",
    "# Fairness metrics\n",
    "from aif360.metrics import BinaryLabelDatasetMetric\n",
    "from aif360.metrics import ClassificationMetric\n",
    "\n",
    "# Explainers\n",
    "from aif360.explainers import MetricTextExplainer\n",
    "\n",
    "# Scalers\n",
    "from sklearn.preprocessing import StandardScaler\n",
    "\n",
    "# Classifiers\n",
    "from sklearn.ensemble import RandomForestClassifier\n",
    "from sklearn.linear_model import LogisticRegression\n",
    "from sklearn.pipeline import make_pipeline\n",
    "\n",
    "# Bias mitigation techniques\n",
    "from aif360.algorithms.preprocessing import Reweighing\n",
    "from aif360.algorithms.inprocessing import PrejudiceRemover"
   ]
  },
  {
   "cell_type": "code",
   "execution_count": null,
   "id": "quality-storage",
   "metadata": {},
   "outputs": [],
   "source": []
  },
  {
   "cell_type": "code",
   "execution_count": 19,
   "id": "engaging-providence",
   "metadata": {},
   "outputs": [],
   "source": [
    "#Physionet Dataset\n",
    "#https://physionet.org/content/heart-failure-zigong/1.2/\n",
    "np.random.seed(1)\n",
    "\n",
    "default_mappings = {\n",
    "    'label_maps': [{1.0: '1'}],\n",
    "    'protected_attribute_maps': [{1.0: 'Male', 0.0: 'Female'}]\n",
    "}\n",
    "\n",
    "\n",
    "filepath = r'C:\\Users\\sujin\\Documents\\College\\PhD_Project\\Project\\PhysioNet_NoColumns.csv'\n",
    "        \n",
    "filepath2 = r'C:\\Users\\sujin\\Documents\\College\\PhD_Project\\Project\\PhysioNet_Columns.csv'\n",
    "df2 = pd.read_csv(filepath2)\n",
    "df2.columns\n",
    "\n",
    "class PhysionetDataset(StandardDataset):\n",
    "\n",
    "    def __init__(self, label_name='return.to.emergency.department.within.6.months',\n",
    "                 favorable_classes=[1],\n",
    "                 protected_attribute_names=['gender'],\n",
    "                 privileged_classes=[[1]],\n",
    "                 instance_weights_name=None,\n",
    "                 categorical_features=['DestinationDischarge', 'admission.ward', 'admission.way',\n",
    "                                       \"occupation\", \"discharge.department\", \"visit.times\",\n",
    "                                       \"type.of.heart.failure\", \"NYHA.cardiac.function.classification\",\n",
    "                                       'Killip.grade', \"ageCat\", \"type.II.respiratory.failure\", \"consciousness\",\n",
    "                                       \"respiratory.support.\", \"oxygen.inhalation\", \"outcome.during.hospitalization\"],\n",
    "                 features_to_keep=[], features_to_drop=[\"inpatient.number\"],\n",
    "                 na_values=[], custom_preprocessing=None,\n",
    "                 metadata=default_mappings):\n",
    "\n",
    "\n",
    "        column_names = df2.columns\n",
    "        try:\n",
    "            df = pd.read_csv(filepath, header=None, names=column_names,\n",
    "                             na_values=na_values)\n",
    "            \n",
    "        except IOError as err:\n",
    "            print(\"IOError: {}\".format(err))\n",
    "            print(\"To use this class, please download the following files:\")\n",
    "            print(\"\\n\\thttps://archive.ics.uci.edu/ml/machine-learning-databases/statlog/german/german.data\")\n",
    "            print(\"\\thttps://archive.ics.uci.edu/ml/machine-learning-databases/statlog/german/german.doc\")\n",
    "            print(\"\\nand place them, as-is, in the folder:\")\n",
    "            print(\"\\n\\t{}\\n\".format(os.path.abspath(os.path.join(\n",
    "                os.path.abspath(__file__), '..', '..', 'data', 'raw', 'german'))))\n",
    "            import sys\n",
    "            sys.exit(1)\n",
    "\n",
    "        super(PhysionetDataset, self).__init__(df=df, label_name=label_name,\n",
    "                                               favorable_classes=favorable_classes,\n",
    "                                               protected_attribute_names=protected_attribute_names,\n",
    "                                               privileged_classes=privileged_classes,\n",
    "                                               instance_weights_name=instance_weights_name,\n",
    "                                               categorical_features=categorical_features,\n",
    "                                               features_to_keep=features_to_keep,\n",
    "                                               features_to_drop=features_to_drop, na_values=na_values,\n",
    "                                               custom_preprocessing=custom_preprocessing, metadata=metadata)\n"
   ]
  },
  {
   "cell_type": "code",
   "execution_count": 20,
   "id": "agricultural-civilian",
   "metadata": {},
   "outputs": [
    {
     "name": "stdout",
     "output_type": "stream",
     "text": [
      "<bound method NDFrame.head of       inpatient.number DestinationDischarge admission.ward admission.way  \\\n",
      "0               857781                 Home     Cardiology  NonEmergency   \n",
      "1               743087                 Home     Cardiology  NonEmergency   \n",
      "2               866418                 Home     Cardiology  NonEmergency   \n",
      "3               775928                 Home     Cardiology     Emergency   \n",
      "4               810128                 Home     Cardiology  NonEmergency   \n",
      "...                ...                  ...            ...           ...   \n",
      "2003            740689   HealthcareFacility    GeneralWard     Emergency   \n",
      "2004            734280   HealthcareFacility    GeneralWard     Emergency   \n",
      "2005            781004   HealthcareFacility     Cardiology     Emergency   \n",
      "2006            744870              Unknown     Cardiology  NonEmergency   \n",
      "2007            791864                 Home     Cardiology     Emergency   \n",
      "\n",
      "         occupation discharge.department  visit.times  gender  \\\n",
      "0     UrbanResident           Cardiology            1       1   \n",
      "1     UrbanResident           Cardiology            1       0   \n",
      "2            farmer           Cardiology            2       1   \n",
      "3     UrbanResident           Cardiology            1       1   \n",
      "4     UrbanResident           Cardiology            1       0   \n",
      "...             ...                  ...          ...     ...   \n",
      "2003         Others          GeneralWard            1       0   \n",
      "2004  UrbanResident          GeneralWard            1       0   \n",
      "2005  UrbanResident           Cardiology            1       1   \n",
      "2006  UrbanResident           Cardiology            1       1   \n",
      "2007  UrbanResident           Cardiology            1       0   \n",
      "\n",
      "      body.temperature  pulse  ...  glutamyltranspeptidase  \\\n",
      "0                 36.7     87  ...                      83   \n",
      "1                 36.8     95  ...                      17   \n",
      "2                 36.5     98  ...                      27   \n",
      "3                 36.0     73  ...                     134   \n",
      "4                 35.0     88  ...                      17   \n",
      "...                ...    ...  ...                     ...   \n",
      "2003              36.1    117  ...                      27   \n",
      "2004              36.3     70  ...                      14   \n",
      "2005              36.8    113  ...                      39   \n",
      "2006              36.4    134  ...                      39   \n",
      "2007              36.3    100  ...                      41   \n",
      "\n",
      "      glutamic.pyruvic.transaminase  alkaline.phosphatase  total.bilirubin  \\\n",
      "0                              65.0                    61             18.3   \n",
      "1                              19.0                    69             18.3   \n",
      "2                              10.0                    76             11.9   \n",
      "3                               9.0                   191             51.6   \n",
      "4                              19.0                    61             11.8   \n",
      "...                             ...                   ...              ...   \n",
      "2003                            6.0                    59             12.3   \n",
      "2004                           10.0                    66             41.8   \n",
      "2005                           21.0                    80             18.3   \n",
      "2006                           21.0                    80             18.3   \n",
      "2007                           48.0                   112             36.3   \n",
      "\n",
      "      total.bile.acid total.protein low.density.lipoprotein.cholesterol  \\\n",
      "0                 4.9          61.9                                1.90   \n",
      "1                 2.4          66.1                                1.26   \n",
      "2                 2.4          60.8                                2.13   \n",
      "3                 9.4          67.1                                1.31   \n",
      "4                 3.3          71.9                                1.21   \n",
      "...               ...           ...                                 ...   \n",
      "2003              1.9          68.4                                1.76   \n",
      "2004              3.0          63.7                                0.93   \n",
      "2005              4.7          64.7                                1.76   \n",
      "2006              4.7          64.7                                1.76   \n",
      "2007              2.7          72.3                                2.94   \n",
      "\n",
      "     triglyceride  high.density.lipoprotein.cholesterol   ageCat  \n",
      "0            2.69                                  0.84  (69,79]  \n",
      "1            0.84                                  1.30  (69,79]  \n",
      "2            1.53                                  0.94  (59,69]  \n",
      "3            0.92                                  0.98  (69,79]  \n",
      "4            0.62                                  0.91  (69,79]  \n",
      "...           ...                                   ...      ...  \n",
      "2003         0.96                                  1.07  (79,89]  \n",
      "2004         0.38                                  0.61  (79,89]  \n",
      "2005         0.96                                  1.07  (39,49]  \n",
      "2006         0.96                                  1.07  (49,59]  \n",
      "2007         0.82                                  1.37  (79,89]  \n",
      "\n",
      "[2008 rows x 90 columns]>\n"
     ]
    },
    {
     "data": {
      "text/markdown": [
       "#### Training Dataset shape"
      ],
      "text/plain": [
       "<IPython.core.display.Markdown object>"
      ]
     },
     "metadata": {},
     "output_type": "display_data"
    },
    {
     "name": "stdout",
     "output_type": "stream",
     "text": [
      "(1004, 129)\n"
     ]
    },
    {
     "data": {
      "text/markdown": [
       "#### Validation Dataset shape"
      ],
      "text/plain": [
       "<IPython.core.display.Markdown object>"
      ]
     },
     "metadata": {},
     "output_type": "display_data"
    },
    {
     "name": "stdout",
     "output_type": "stream",
     "text": [
      "(602, 129)\n"
     ]
    },
    {
     "data": {
      "text/markdown": [
       "#### Test Dataset shape"
      ],
      "text/plain": [
       "<IPython.core.display.Markdown object>"
      ]
     },
     "metadata": {},
     "output_type": "display_data"
    },
    {
     "name": "stdout",
     "output_type": "stream",
     "text": [
      "(402, 129)\n"
     ]
    },
    {
     "data": {
      "text/markdown": [
       "#### Favorable and unfavorable labels"
      ],
      "text/plain": [
       "<IPython.core.display.Markdown object>"
      ]
     },
     "metadata": {},
     "output_type": "display_data"
    },
    {
     "name": "stdout",
     "output_type": "stream",
     "text": [
      "1.0 0.0\n"
     ]
    },
    {
     "data": {
      "text/markdown": [
       "#### Protected attribute names"
      ],
      "text/plain": [
       "<IPython.core.display.Markdown object>"
      ]
     },
     "metadata": {},
     "output_type": "display_data"
    },
    {
     "name": "stdout",
     "output_type": "stream",
     "text": [
      "['gender']\n"
     ]
    },
    {
     "data": {
      "text/markdown": [
       "#### Privileged and unprivileged protected attribute values"
      ],
      "text/plain": [
       "<IPython.core.display.Markdown object>"
      ]
     },
     "metadata": {},
     "output_type": "display_data"
    },
    {
     "name": "stdout",
     "output_type": "stream",
     "text": [
      "[array([1.])] [array([0.])]\n"
     ]
    },
    {
     "data": {
      "text/markdown": [
       "#### Dataset feature names"
      ],
      "text/plain": [
       "<IPython.core.display.Markdown object>"
      ]
     },
     "metadata": {},
     "output_type": "display_data"
    },
    {
     "name": "stdout",
     "output_type": "stream",
     "text": [
      "['gender', 'body.temperature', 'pulse', 'respiration', 'map', 'weight', 'height', 'BMI', 'myocardial.infarction', 'congestive.heart.failure', 'peripheral.vascular.disease', 'cerebrovascular.disease', 'dementia', 'Chronic.obstructive.pulmonary.disease', 'connective.tissue.disease', 'peptic.ulcer.disease', 'diabetes', 'moderate.to.severe.chronic.kidney.disease', 'hemiplegia', 'malignant.lymphoma', 'solid.tumor', 'liver.disease', 'AIDS', 'eye.opening', 'movement', 'fio2', 'acute.renal.failure', 'left.ventricular.end.diastolic.diameter.LV', 'creatinine.enzymatic.method', 'urea', 'uric.acid', 'glomerular.filtration.rate', 'cystatin', 'monocyte.ratio', 'lymphocyte.count', 'mean.hemoglobin.volume', 'mean.hemoglobin.concentration', 'mean.platelet.volume', 'basophil.count', 'eosinophil.count', 'hemoglobin', 'platelet.distribution.width', 'platelet.hematocrit', 'neutrophil.count', 'D.dimer', 'international.normalized.ratio', 'activated.partial.thromboplastin.time', 'thrombin.time', 'prothrombin.activity', 'fibrinogen', 'carbon.dioxide.binding.capacity', 'calcium', 'potassium', 'sodium', 'creatine.kinase.isoenzyme.to.creatine.kinase', 'hydroxybutyrate.dehydrogenase.to.lactate.dehydrogenase', 'hydroxybutyrate.dehydrogenase', 'glutamic.oxaloacetic.transaminase', 'creatine.kinase', 'creatine.kinase.isoenzyme', 'brain.natriuretic.peptide', 'nucleotidase', 'fucosidase', 'white.globulin.ratio', 'glutamyltranspeptidase', 'glutamic.pyruvic.transaminase', 'alkaline.phosphatase', 'total.bilirubin', 'total.bile.acid', 'total.protein', 'low.density.lipoprotein.cholesterol', 'triglyceride', 'high.density.lipoprotein.cholesterol', 'DestinationDischarge=Died', 'DestinationDischarge=HealthcareFacility', 'DestinationDischarge=Home', 'DestinationDischarge=Unknown', 'admission.ward=Cardiology', 'admission.ward=GeneralWard', 'admission.ward=ICU', 'admission.ward=Others', 'admission.way=Emergency', 'admission.way=NonEmergency', 'occupation=Officer', 'occupation=Others', 'occupation=UrbanResident', 'occupation=farmer', 'occupation=worker', 'discharge.department=Cardiology', 'discharge.department=GeneralWard', 'discharge.department=ICU', 'discharge.department=Others', 'visit.times=1', 'visit.times=2', 'visit.times=3', 'visit.times=4', 'visit.times=5', 'type.of.heart.failure=Both', 'type.of.heart.failure=Left', 'type.of.heart.failure=Right', 'NYHA.cardiac.function.classification=II', 'NYHA.cardiac.function.classification=III', 'NYHA.cardiac.function.classification=IV', 'Killip.grade=I', 'Killip.grade=II', 'Killip.grade=III', 'Killip.grade=IV', 'type.II.respiratory.failure=NonTypeII', 'type.II.respiratory.failure=TypeII', 'consciousness=Clear', 'consciousness=Nonresponsive', 'consciousness=ResponsiveToPain', 'consciousness=ResponsiveToSound', 'respiratory.support.=IMV', 'respiratory.support.=NIMV', 'respiratory.support.=None', 'oxygen.inhalation=AmbientAir', 'oxygen.inhalation=OxygenTherapy', 'outcome.during.hospitalization=Alive', 'outcome.during.hospitalization=Dead', 'outcome.during.hospitalization=DischargeAgainstOrder', 'ageCat=(21,29]', 'ageCat=(29,39]', 'ageCat=(39,49]', 'ageCat=(49,59]', 'ageCat=(59,69]', 'ageCat=(69,79]', 'ageCat=(79,89]', 'ageCat=(89,110]']\n",
      "Disparate impact (probability of favorable outcome for unprivileged instances / probability of favorable outcome for privileged instances): 0.91140456182473\n"
     ]
    }
   ],
   "source": [
    "# 3.1. Load data & create splits for learning/validating/testing model¶\n",
    "\n",
    "\n",
    "(dataset_orig_train, dataset_orig_val, dataset_orig_test) = PhysionetDataset().split([0.5, 0.8], shuffle=True)\n",
    "\n",
    "sens_ind = 0\n",
    "sens_attr = dataset_orig_train.protected_attribute_names[sens_ind]\n",
    "\n",
    "unprivileged_groups = [{sens_attr: v} for v in\n",
    "                       dataset_orig_train.unprivileged_protected_attributes[sens_ind]]\n",
    "\n",
    "privileged_groups = [{sens_attr: v} for v in\n",
    "                     dataset_orig_train.privileged_protected_attributes[sens_ind]]\n",
    "\n",
    "\n",
    "def describe(train=None, val=None, test=None):\n",
    "    if train is not None:\n",
    "        display(Markdown(\"#### Training Dataset shape\"))\n",
    "        print(train.features.shape)\n",
    "    if val is not None:\n",
    "        display(Markdown(\"#### Validation Dataset shape\"))\n",
    "        print(val.features.shape)\n",
    "    display(Markdown(\"#### Test Dataset shape\"))\n",
    "    print(test.features.shape)\n",
    "    display(Markdown(\"#### Favorable and unfavorable labels\"))\n",
    "    print(test.favorable_label, test.unfavorable_label)\n",
    "    display(Markdown(\"#### Protected attribute names\"))\n",
    "    print(test.protected_attribute_names)\n",
    "    display(Markdown(\"#### Privileged and unprivileged protected attribute values\"))\n",
    "    print(test.privileged_protected_attributes,\n",
    "          test.unprivileged_protected_attributes)\n",
    "    display(Markdown(\"#### Dataset feature names\"))\n",
    "    print(test.feature_names)\n",
    "\n",
    "\n",
    "describe(dataset_orig_train, dataset_orig_val, dataset_orig_test)\n",
    "\n",
    "metric_orig_train = BinaryLabelDatasetMetric(\n",
    "    dataset_orig_train,\n",
    "    unprivileged_groups=unprivileged_groups,\n",
    "    privileged_groups=privileged_groups)\n",
    "explainer_orig_panel19_train = MetricTextExplainer(metric_orig_train)\n",
    "\n",
    "print(explainer_orig_panel19_train.disparate_impact())"
   ]
  },
  {
   "cell_type": "code",
   "execution_count": 21,
   "id": "interested-performer",
   "metadata": {},
   "outputs": [],
   "source": [
    "# 3.2. Learning a Logistic Regression (LR) classifier on original data¶\n",
    "# 3.2.1. Training LR model on original data\n",
    "\n",
    "dataset = dataset_orig_train\n",
    "model = make_pipeline(StandardScaler(),\n",
    "                      LogisticRegression(solver='liblinear', random_state=1))\n",
    "fit_params = {'logisticregression__sample_weight': dataset.instance_weights}\n",
    "\n",
    "lr_orig = model.fit(dataset.features, dataset.labels.ravel(), **fit_params)"
   ]
  },
  {
   "cell_type": "code",
   "execution_count": 9,
   "id": "comprehensive-jacksonville",
   "metadata": {},
   "outputs": [
    {
     "data": {
      "image/png": "[encoded data removed]",
      "text/plain": [
       "<Figure size 720x504 with 2 Axes>"
      ]
     },
     "metadata": {
      "needs_background": "light"
     },
     "output_type": "display_data"
    },
    {
     "data": {
      "image/png": "[encoded data removed]",
      "text/plain": [
       "<Figure size 720x504 with 2 Axes>"
      ]
     },
     "metadata": {
      "needs_background": "light"
     },
     "output_type": "display_data"
    },
    {
     "name": "stdout",
     "output_type": "stream",
     "text": [
      "Validation Scores:\n",
      "Threshold corresponding to Best balanced accuracy: 0.4200\n",
      "Best balanced accuracy: 0.5992\n",
      "Corresponding 1-min(DI, 1/DI) value: 0.1312\n",
      "Corresponding average odds difference value: -0.0566\n",
      "Corresponding statistical parity difference value: -0.0565\n",
      "Corresponding equal opportunity difference value: -0.0609\n",
      "Corresponding Theil index value: 0.2631\n"
     ]
    }
   ],
   "source": [
    "# 3.2.2. Validating LR model on original data¶\n",
    "\n",
    "from collections import defaultdict\n",
    "\n",
    "\n",
    "def test(dataset, model, thresh_arr):\n",
    "    try:\n",
    "        # sklearn classifier\n",
    "        y_val_pred_prob = model.predict_proba(dataset.features)\n",
    "        pos_ind = np.where(model.classes_ == dataset.favorable_label)[0][0]\n",
    "    except AttributeError:\n",
    "        # aif360 inprocessing algorithm\n",
    "        y_val_pred_prob = model.predict(dataset).scores\n",
    "        pos_ind = 0\n",
    "\n",
    "    metric_arrs = defaultdict(list)\n",
    "    for thresh in thresh_arr:\n",
    "        y_val_pred = (y_val_pred_prob[:, pos_ind] > thresh).astype(np.float64)\n",
    "\n",
    "        dataset_pred = dataset.copy()\n",
    "        dataset_pred.labels = y_val_pred\n",
    "        metric = ClassificationMetric(\n",
    "            dataset, dataset_pred,\n",
    "            unprivileged_groups=unprivileged_groups,\n",
    "            privileged_groups=privileged_groups)\n",
    "\n",
    "        metric_arrs['bal_acc'].append((metric.true_positive_rate()\n",
    "                                       + metric.true_negative_rate()) / 2)\n",
    "        metric_arrs['avg_odds_diff'].append(metric.average_odds_difference())\n",
    "        metric_arrs['disp_imp'].append(metric.disparate_impact())\n",
    "        metric_arrs['stat_par_diff'].append(metric.statistical_parity_difference())\n",
    "        metric_arrs['eq_opp_diff'].append(metric.equal_opportunity_difference())\n",
    "        metric_arrs['theil_ind'].append(metric.theil_index())\n",
    "\n",
    "    return metric_arrs\n",
    "\n",
    "\n",
    "thresh_arr = np.linspace(0.01, 0.5, 50)\n",
    "val_metrics = test(dataset=dataset_orig_val,\n",
    "                   model=lr_orig,\n",
    "                   thresh_arr=thresh_arr)\n",
    "lr_orig_best_ind = np.argmax(val_metrics['bal_acc'])\n",
    "\n",
    "\n",
    "def plot(x, x_name, y_left, y_left_name, y_right, y_right_name):\n",
    "    fig, ax1 = plt.subplots(figsize=(10, 7))\n",
    "    ax1.plot(x, y_left)\n",
    "    ax1.set_xlabel(x_name, fontsize=16, fontweight='bold')\n",
    "    ax1.set_ylabel(y_left_name, color='b', fontsize=16, fontweight='bold')\n",
    "    ax1.xaxis.set_tick_params(labelsize=14)\n",
    "    ax1.yaxis.set_tick_params(labelsize=14)\n",
    "    ax1.set_ylim(0.5, 0.8)\n",
    "\n",
    "    ax2 = ax1.twinx()\n",
    "    ax2.plot(x, y_right, color='r')\n",
    "    ax2.set_ylabel(y_right_name, color='r', fontsize=16, fontweight='bold')\n",
    "    if 'DI' in y_right_name:\n",
    "        ax2.set_ylim(0., 0.7)\n",
    "    else:\n",
    "        ax2.set_ylim(-0.25, 0.1)\n",
    "\n",
    "    best_ind = np.argmax(y_left)\n",
    "    ax2.axvline(np.array(x)[best_ind], color='k', linestyle=':')\n",
    "    ax2.yaxis.set_tick_params(labelsize=14)\n",
    "    ax2.grid(True)\n",
    "    plt.show()\n",
    "    \n",
    "    \n",
    "disp_imp = np.array(val_metrics['disp_imp'])\n",
    "disp_imp_err = 1 - np.minimum(disp_imp, 1 / disp_imp)\n",
    "plot(thresh_arr, 'Classification Thresholds',\n",
    "     val_metrics['bal_acc'], 'Balanced Accuracy',\n",
    "     disp_imp_err, '1 - min(DI, 1/DI)')\n",
    "\n",
    "plot(thresh_arr, 'Classification Thresholds',\n",
    "     val_metrics['bal_acc'], 'Balanced Accuracy',\n",
    "     val_metrics['avg_odds_diff'], 'avg. odds diff.')\n",
    "\n",
    "def describe_metrics(metrics, thresh_arr):\n",
    "    best_ind = np.argmax(metrics['bal_acc'])\n",
    "    print(\"Threshold corresponding to Best balanced accuracy: {:6.4f}\".format(thresh_arr[best_ind]))\n",
    "    print(\"Best balanced accuracy: {:6.4f}\".format(metrics['bal_acc'][best_ind]))\n",
    "#     disp_imp_at_best_ind = np.abs(1 - np.array(metrics['disp_imp']))[best_ind]\n",
    "    disp_imp_at_best_ind = 1 - min(metrics['disp_imp'][best_ind], 1/metrics['disp_imp'][best_ind])\n",
    "    print(\"Corresponding 1-min(DI, 1/DI) value: {:6.4f}\".format(disp_imp_at_best_ind))\n",
    "    print(\"Corresponding average odds difference value: {:6.4f}\".format(metrics['avg_odds_diff'][best_ind]))\n",
    "    print(\"Corresponding statistical parity difference value: {:6.4f}\".format(metrics['stat_par_diff'][best_ind]))\n",
    "    print(\"Corresponding equal opportunity difference value: {:6.4f}\".format(metrics['eq_opp_diff'][best_ind]))\n",
    "    print(\"Corresponding Theil index value: {:6.4f}\".format(metrics['theil_ind'][best_ind]))\n",
    "\n",
    "\n",
    "print(\"Validation Scores:\")\n",
    "describe_metrics(val_metrics, thresh_arr)"
   ]
  },
  {
   "cell_type": "code",
   "execution_count": 76,
   "id": "herbal-estonia",
   "metadata": {},
   "outputs": [
    {
     "name": "stdout",
     "output_type": "stream",
     "text": [
      "Test Scores:\n",
      "Threshold corresponding to Best balanced accuracy: 0.4200\n",
      "Best balanced accuracy: 0.5829\n",
      "Corresponding 1-min(DI, 1/DI) value: 0.2061\n",
      "Corresponding average odds difference value: -0.0848\n",
      "Corresponding statistical parity difference value: -0.0902\n",
      "Corresponding equal opportunity difference value: -0.0724\n",
      "Corresponding Theil index value: 0.2638\n",
      "Disparate impact (probability of favorable outcome for unprivileged instances / probability of favorable outcome for privileged instances): 0.9999999999999996\n"
     ]
    }
   ],
   "source": [
    "#3.2.3. Testing LR model on original data¶\n",
    "\n",
    "print(\"Test Scores:\")\n",
    "lr_orig_metrics = test(dataset=dataset_orig_test,\n",
    "                       model=lr_orig,\n",
    "                       thresh_arr=[thresh_arr[lr_orig_best_ind]])\n",
    "\n",
    "describe_metrics(lr_orig_metrics, [thresh_arr[lr_orig_best_ind]])\n",
    "\n",
    "#4. Bias mitigation using pre-processing technique - Reweighing¶\n",
    "\n",
    "#4.1. Transform data¶\n",
    "RW = Reweighing(unprivileged_groups=unprivileged_groups,\n",
    "                privileged_groups=privileged_groups)\n",
    "dataset_transf_train = RW.fit_transform(dataset_orig_train)\n",
    "\n",
    "#Metrics for transformed data\n",
    "\n",
    "metric_transf_train = BinaryLabelDatasetMetric(\n",
    "        dataset_transf_train,\n",
    "        unprivileged_groups=unprivileged_groups,\n",
    "        privileged_groups=privileged_groups)\n",
    "explainer_transf_train = MetricTextExplainer(metric_transf_train)\n",
    "\n",
    "print(explainer_transf_train.disparate_impact())"
   ]
  },
  {
   "cell_type": "code",
   "execution_count": 77,
   "id": "ordinary-kelly",
   "metadata": {
    "scrolled": false
   },
   "outputs": [
    {
     "name": "stdout",
     "output_type": "stream",
     "text": [
      "Threshold corresponding to Best balanced accuracy: 0.4100\n",
      "Best balanced accuracy: 0.5958\n",
      "Corresponding 1-min(DI, 1/DI) value: 0.0195\n",
      "Corresponding average odds difference value: -0.0033\n",
      "Corresponding statistical parity difference value: -0.0080\n",
      "Corresponding equal opportunity difference value: 0.0153\n",
      "Corresponding Theil index value: 0.2618\n"
     ]
    },
    {
     "name": "stderr",
     "output_type": "stream",
     "text": [
      "Matplotlib is currently using agg, which is a non-GUI backend, so cannot show the figure.\n",
      "Matplotlib is currently using agg, which is a non-GUI backend, so cannot show the figure.\n"
     ]
    },
    {
     "data": {
      "image/png": "[encoded data removed]",
      "text/plain": [
       "<Figure size 720x504 with 2 Axes>"
      ]
     },
     "metadata": {
      "needs_background": "light"
     },
     "output_type": "display_data"
    },
    {
     "data": {
      "image/png": "[encoded data removed]",
      "text/plain": [
       "<Figure size 720x504 with 2 Axes>"
      ]
     },
     "metadata": {
      "needs_background": "light"
     },
     "output_type": "display_data"
    }
   ],
   "source": [
    "#4.2. Learning a Logistic Regression (LR) classifier on data transformed by reweighing¶\n",
    "\n",
    "#4.2.1. Training LR model after reweighing¶\n",
    "dataset = dataset_transf_train\n",
    "model = make_pipeline(StandardScaler(),\n",
    "                      LogisticRegression(solver='liblinear', random_state=1))\n",
    "fit_params = {'logisticregression__sample_weight': dataset.instance_weights}\n",
    "lr_transf = model.fit(dataset.features, dataset.labels.ravel(), **fit_params)\n",
    "\n",
    "#4.2.2. Validating LR model after reweighing¶\n",
    "\n",
    "\n",
    "thresh_arr = np.linspace(0.01, 0.5, 50)\n",
    "val_metrics = test(dataset=dataset_orig_val,\n",
    "                   model=lr_transf,\n",
    "                   thresh_arr=thresh_arr)\n",
    "lr_transf_best_ind = np.argmax(val_metrics['bal_acc'])\n",
    "\n",
    "disp_imp = np.array(val_metrics['disp_imp'])\n",
    "disp_imp_err = 1 - np.minimum(disp_imp, 1/disp_imp)\n",
    "\n",
    "plot(thresh_arr, 'Classification Thresholds',\n",
    "     val_metrics['bal_acc'], 'Balanced Accuracy',\n",
    "     disp_imp_err, '1 - min(DI, 1/DI)')\n",
    "\n",
    "plot(thresh_arr, 'Classification Thresholds',\n",
    "     val_metrics['bal_acc'], 'Balanced Accuracy',\n",
    "     val_metrics['avg_odds_diff'], 'avg. odds diff.')\n",
    "\n",
    "describe_metrics(val_metrics, thresh_arr)\n"
   ]
  },
  {
   "cell_type": "code",
   "execution_count": 78,
   "id": "polished-murder",
   "metadata": {},
   "outputs": [
    {
     "name": "stdout",
     "output_type": "stream",
     "text": [
      "Threshold corresponding to Best balanced accuracy: 0.4100\n",
      "Best balanced accuracy: 0.5884\n",
      "Corresponding 1-min(DI, 1/DI) value: 0.0833\n",
      "Corresponding average odds difference value: -0.0315\n",
      "Corresponding statistical parity difference value: -0.0355\n",
      "Corresponding equal opportunity difference value: -0.0254\n",
      "Corresponding Theil index value: 0.2524\n"
     ]
    }
   ],
   "source": [
    "#4.2.3. Testing LR model after reweighing¶\n",
    "lr_transf_metrics = test(dataset=dataset_orig_test,\n",
    "                         model=lr_transf,\n",
    "                         thresh_arr=[thresh_arr[lr_transf_best_ind]])\n",
    "describe_metrics(lr_transf_metrics, [thresh_arr[lr_transf_best_ind]])\n"
   ]
  },
  {
   "cell_type": "code",
   "execution_count": 79,
   "id": "indie-pitch",
   "metadata": {},
   "outputs": [
    {
     "name": "stdout",
     "output_type": "stream",
     "text": [
      "Threshold corresponding to Best balanced accuracy: 0.2100\n",
      "Best balanced accuracy: 0.5921\n",
      "Corresponding 1-min(DI, 1/DI) value: 0.0555\n",
      "Corresponding average odds difference value: 0.0317\n",
      "Corresponding statistical parity difference value: 0.0368\n",
      "Corresponding equal opportunity difference value: 0.0039\n",
      "Corresponding Theil index value: 0.1591\n"
     ]
    },
    {
     "name": "stderr",
     "output_type": "stream",
     "text": [
      "Matplotlib is currently using agg, which is a non-GUI backend, so cannot show the figure.\n",
      "Matplotlib is currently using agg, which is a non-GUI backend, so cannot show the figure.\n"
     ]
    },
    {
     "data": {
      "image/png": "[encoded data removed]",
      "text/plain": [
       "<Figure size 720x504 with 2 Axes>"
      ]
     },
     "metadata": {
      "needs_background": "light"
     },
     "output_type": "display_data"
    },
    {
     "data": {
      "image/png": "[encoded data removed]",
      "text/plain": [
       "<Figure size 720x504 with 2 Axes>"
      ]
     },
     "metadata": {
      "needs_background": "light"
     },
     "output_type": "display_data"
    }
   ],
   "source": [
    "#5. Bias mitigation using in-processing technique - Prejudice Remover (PR)¶\n",
    "\n",
    "#5.1.1. Training a PR model\n",
    "model = PrejudiceRemover(sensitive_attr=sens_attr, eta=25.0)\n",
    "pr_orig_scaler = StandardScaler()\n",
    "\n",
    "dataset = dataset_orig_train.copy()\n",
    "dataset.features = pr_orig_scaler.fit_transform(dataset.features)\n",
    "\n",
    "pr_orig = model.fit(dataset)\n",
    "\n",
    "#5.1.2. Validating PR model¶\n",
    "\n",
    "thresh_arr = np.linspace(0.01, 0.50, 50)\n",
    "\n",
    "dataset = dataset_orig_val.copy()\n",
    "dataset.features = pr_orig_scaler.transform(dataset.features)\n",
    "\n",
    "val_metrics = test(dataset=dataset,\n",
    "                   model=pr_orig,\n",
    "                   thresh_arr=thresh_arr)\n",
    "pr_orig_best_ind = np.argmax(val_metrics['bal_acc'])\n",
    "disp_imp = np.array(val_metrics['disp_imp'])\n",
    "disp_imp_err = 1 - np.minimum(disp_imp, 1/disp_imp)\n",
    "\n",
    "plot(thresh_arr, 'Classification Thresholds',\n",
    "     val_metrics['bal_acc'], 'Balanced Accuracy',\n",
    "     disp_imp_err, '1 - min(DI, 1/DI)')\n",
    "\n",
    "plot(thresh_arr, 'Classification Thresholds',\n",
    "     val_metrics['bal_acc'], 'Balanced Accuracy',\n",
    "     val_metrics['avg_odds_diff'], 'avg. odds diff.')\n",
    "\n",
    "describe_metrics(val_metrics, thresh_arr)\n"
   ]
  },
  {
   "cell_type": "code",
   "execution_count": 80,
   "id": "departmental-barrel",
   "metadata": {},
   "outputs": [
    {
     "name": "stdout",
     "output_type": "stream",
     "text": [
      "Threshold corresponding to Best balanced accuracy: 0.2100\n",
      "Best balanced accuracy: 0.5737\n",
      "Corresponding 1-min(DI, 1/DI) value: 0.0409\n",
      "Corresponding average odds difference value: 0.0264\n",
      "Corresponding statistical parity difference value: 0.0283\n",
      "Corresponding equal opportunity difference value: 0.0108\n",
      "Corresponding Theil index value: 0.1476\n"
     ]
    }
   ],
   "source": [
    "#5.1.3. Testing PR model¶\n",
    "\n",
    "dataset = dataset_orig_test.copy()\n",
    "dataset.features = pr_orig_scaler.transform(dataset.features)\n",
    "\n",
    "pr_orig_metrics = test(dataset=dataset,\n",
    "                       model=pr_orig,\n",
    "                       thresh_arr=[thresh_arr[pr_orig_best_ind]])\n",
    "describe_metrics(pr_orig_metrics, [thresh_arr[pr_orig_best_ind]])"
   ]
  },
  {
   "cell_type": "code",
   "execution_count": 81,
   "id": "indonesian-examination",
   "metadata": {},
   "outputs": [
    {
     "data": {
      "text/html": [
       "<div>\n",
       "<style scoped>\n",
       "    .dataframe tbody tr th:only-of-type {\n",
       "        vertical-align: middle;\n",
       "    }\n",
       "\n",
       "    .dataframe tbody tr th {\n",
       "        vertical-align: top;\n",
       "    }\n",
       "\n",
       "    .dataframe thead th {\n",
       "        text-align: right;\n",
       "    }\n",
       "</style>\n",
       "<table border=\"1\" class=\"dataframe\">\n",
       "  <thead>\n",
       "    <tr style=\"text-align: right;\">\n",
       "      <th></th>\n",
       "      <th></th>\n",
       "      <th>bal_acc</th>\n",
       "      <th>avg_odds_diff</th>\n",
       "      <th>disp_imp</th>\n",
       "      <th>stat_par_diff</th>\n",
       "      <th>eq_opp_diff</th>\n",
       "      <th>theil_ind</th>\n",
       "    </tr>\n",
       "    <tr>\n",
       "      <th>Bias Mitigator</th>\n",
       "      <th>Classifier</th>\n",
       "      <th></th>\n",
       "      <th></th>\n",
       "      <th></th>\n",
       "      <th></th>\n",
       "      <th></th>\n",
       "      <th></th>\n",
       "    </tr>\n",
       "  </thead>\n",
       "  <tbody>\n",
       "    <tr>\n",
       "      <th></th>\n",
       "      <th>Logistic Regression</th>\n",
       "      <td>0.582911</td>\n",
       "      <td>-0.084798</td>\n",
       "      <td>0.793933</td>\n",
       "      <td>-0.090230</td>\n",
       "      <td>-0.072426</td>\n",
       "      <td>0.263803</td>\n",
       "    </tr>\n",
       "    <tr>\n",
       "      <th>Reweighing</th>\n",
       "      <th>Logistic Regression</th>\n",
       "      <td>0.588429</td>\n",
       "      <td>-0.031474</td>\n",
       "      <td>0.916726</td>\n",
       "      <td>-0.035478</td>\n",
       "      <td>-0.025368</td>\n",
       "      <td>0.252357</td>\n",
       "    </tr>\n",
       "    <tr>\n",
       "      <th>Prejudice Remover</th>\n",
       "      <th></th>\n",
       "      <td>0.573653</td>\n",
       "      <td>0.026369</td>\n",
       "      <td>1.042650</td>\n",
       "      <td>0.028265</td>\n",
       "      <td>0.010846</td>\n",
       "      <td>0.147566</td>\n",
       "    </tr>\n",
       "  </tbody>\n",
       "</table>\n",
       "</div>"
      ],
      "text/plain": [
       "                                        bal_acc  avg_odds_diff  disp_imp  \\\n",
       "Bias Mitigator    Classifier                                               \n",
       "                  Logistic Regression  0.582911      -0.084798  0.793933   \n",
       "Reweighing        Logistic Regression  0.588429      -0.031474  0.916726   \n",
       "Prejudice Remover                      0.573653       0.026369  1.042650   \n",
       "\n",
       "                                       stat_par_diff  eq_opp_diff  theil_ind  \n",
       "Bias Mitigator    Classifier                                                  \n",
       "                  Logistic Regression      -0.090230    -0.072426   0.263803  \n",
       "Reweighing        Logistic Regression      -0.035478    -0.025368   0.252357  \n",
       "Prejudice Remover                           0.028265     0.010846   0.147566  "
      ]
     },
     "execution_count": 81,
     "metadata": {},
     "output_type": "execute_result"
    }
   ],
   "source": [
    "import pandas as pd\n",
    "pd.set_option('display.multi_sparse', False)\n",
    "results = [lr_orig_metrics, lr_transf_metrics,\n",
    "            pr_orig_metrics]\n",
    "debias = pd.Series([''] + ['Reweighing']\n",
    "                 + ['Prejudice Remover'],\n",
    "                   name='Bias Mitigator')\n",
    "clf = pd.Series(['Logistic Regression']*2 + [''],\n",
    "                name='Classifier')\n",
    "pd.concat([pd.DataFrame(metrics) for metrics in results], axis=0).set_index([debias, clf])"
   ]
  },
  {
   "cell_type": "code",
   "execution_count": 82,
   "id": "twenty-digit",
   "metadata": {},
   "outputs": [],
   "source": [
    "#Disparate Impact Remover\n",
    "\n",
    "from aif360.algorithms.preprocessing import DisparateImpactRemover\n"
   ]
  },
  {
   "cell_type": "code",
   "execution_count": 83,
   "id": "separate-dining",
   "metadata": {},
   "outputs": [
    {
     "name": "stdout",
     "output_type": "stream",
     "text": [
      "Test Scores:\n",
      "Threshold corresponding to Best balanced accuracy: 0.4200\n",
      "Best balanced accuracy: 0.5829\n",
      "Corresponding 1-min(DI, 1/DI) value: 0.2061\n",
      "Corresponding average odds difference value: -0.0848\n",
      "Corresponding statistical parity difference value: -0.0902\n",
      "Corresponding equal opportunity difference value: -0.0724\n",
      "Corresponding Theil index value: 0.2638\n",
      "Disparate impact (probability of favorable outcome for unprivileged instances / probability of favorable outcome for privileged instances): 0.91140456182473\n"
     ]
    }
   ],
   "source": [
    "#3.2.3. Testing LR model on original data¶\n",
    "\n",
    "print(\"Test Scores:\")\n",
    "lr_orig_metrics = test(dataset=dataset_orig_test,\n",
    "                       model=lr_orig,\n",
    "                       thresh_arr=[thresh_arr[lr_orig_best_ind]])\n",
    "\n",
    "describe_metrics(lr_orig_metrics, [thresh_arr[lr_orig_best_ind]])\n",
    "\n",
    "#4. Bias mitigation using pre-processing technique - Disparate Impact Remover¶\n",
    "\n",
    "#4.1. Transform data¶\n",
    "\n",
    "\n",
    "di = DisparateImpactRemover(repair_level=1.0)\n",
    "dataset_transf_train = di.fit_transform(dataset_orig_train)\n",
    "dataset_transf_test = di.fit_transform(dataset_orig_test)\n",
    "\n",
    "#Metrics for transformed data\n",
    "\n",
    "metric_transf_train = BinaryLabelDatasetMetric(\n",
    "        dataset_transf_train,\n",
    "        unprivileged_groups=unprivileged_groups,\n",
    "        privileged_groups=privileged_groups)\n",
    "explainer_transf_train = MetricTextExplainer(metric_transf_train)\n",
    "\n",
    "print(explainer_transf_train.disparate_impact())"
   ]
  },
  {
   "cell_type": "code",
   "execution_count": 84,
   "id": "bizarre-anime",
   "metadata": {},
   "outputs": [
    {
     "name": "stdout",
     "output_type": "stream",
     "text": [
      "Threshold corresponding to Best balanced accuracy: 0.4000\n",
      "Best balanced accuracy: 0.5965\n",
      "Corresponding 1-min(DI, 1/DI) value: 0.2230\n",
      "Corresponding average odds difference value: -0.1163\n",
      "Corresponding statistical parity difference value: -0.1166\n",
      "Corresponding equal opportunity difference value: -0.1184\n",
      "Corresponding Theil index value: 0.2399\n"
     ]
    },
    {
     "name": "stderr",
     "output_type": "stream",
     "text": [
      "Matplotlib is currently using agg, which is a non-GUI backend, so cannot show the figure.\n",
      "Matplotlib is currently using agg, which is a non-GUI backend, so cannot show the figure.\n"
     ]
    },
    {
     "data": {
      "image/png": "[encoded data removed]",
      "text/plain": [
       "<Figure size 720x504 with 2 Axes>"
      ]
     },
     "metadata": {
      "needs_background": "light"
     },
     "output_type": "display_data"
    },
    {
     "data": {
      "image/png": "[encoded data removed]",
      "text/plain": [
       "<Figure size 720x504 with 2 Axes>"
      ]
     },
     "metadata": {
      "needs_background": "light"
     },
     "output_type": "display_data"
    }
   ],
   "source": [
    "#4.2.1. Training LR model after Disparate Impact Remover¶\n",
    "dataset = dataset_transf_train\n",
    "model = make_pipeline(StandardScaler(),\n",
    "                      LogisticRegression(solver='liblinear', random_state=1))\n",
    "fit_params = {'logisticregression__sample_weight': dataset.instance_weights}\n",
    "lr_transf = model.fit(dataset.features, dataset.labels.ravel(), **fit_params)\n",
    "\n",
    "#4.2.2. Validating LR model after Disdparate impact Remover¶\n",
    "\n",
    "\n",
    "thresh_arr = np.linspace(0.01, 0.5, 50)\n",
    "val_metrics = test(dataset=dataset_orig_val,\n",
    "                   model=lr_transf,\n",
    "                   thresh_arr=thresh_arr)\n",
    "lr_transf_best_ind = np.argmax(val_metrics['bal_acc'])\n",
    "\n",
    "disp_imp = np.array(val_metrics['disp_imp'])\n",
    "disp_imp_err = 1 - np.minimum(disp_imp, 1/disp_imp)\n",
    "\n",
    "plot(thresh_arr, 'Classification Thresholds',\n",
    "     val_metrics['bal_acc'], 'Balanced Accuracy',\n",
    "     disp_imp_err, '1 - min(DI, 1/DI)')\n",
    "\n",
    "plot(thresh_arr, 'Classification Thresholds',\n",
    "     val_metrics['bal_acc'], 'Balanced Accuracy',\n",
    "     val_metrics['avg_odds_diff'], 'avg. odds diff.')\n",
    "\n",
    "describe_metrics(val_metrics, thresh_arr)"
   ]
  },
  {
   "cell_type": "code",
   "execution_count": 85,
   "id": "prescribed-council",
   "metadata": {},
   "outputs": [
    {
     "name": "stdout",
     "output_type": "stream",
     "text": [
      "Threshold corresponding to Best balanced accuracy: 0.4000\n",
      "Best balanced accuracy: 0.5957\n",
      "Corresponding 1-min(DI, 1/DI) value: 0.2973\n",
      "Corresponding average odds difference value: -0.1670\n",
      "Corresponding statistical parity difference value: -0.1689\n",
      "Corresponding equal opportunity difference value: -0.1699\n",
      "Corresponding Theil index value: 0.2219\n"
     ]
    }
   ],
   "source": [
    "#Test LR DIR Model\n",
    "\n",
    "lr_metrics_DIR = test(dataset=dataset_orig_test,\n",
    "                         model=lr_transf,\n",
    "                         thresh_arr=[thresh_arr[lr_transf_best_ind]])\n",
    "describe_metrics(lr_metrics_DIR, [thresh_arr[lr_transf_best_ind]])"
   ]
  },
  {
   "cell_type": "code",
   "execution_count": 86,
   "id": "electrical-cursor",
   "metadata": {},
   "outputs": [
    {
     "data": {
      "text/html": [
       "<div>\n",
       "<style scoped>\n",
       "    .dataframe tbody tr th:only-of-type {\n",
       "        vertical-align: middle;\n",
       "    }\n",
       "\n",
       "    .dataframe tbody tr th {\n",
       "        vertical-align: top;\n",
       "    }\n",
       "\n",
       "    .dataframe thead th {\n",
       "        text-align: right;\n",
       "    }\n",
       "</style>\n",
       "<table border=\"1\" class=\"dataframe\">\n",
       "  <thead>\n",
       "    <tr style=\"text-align: right;\">\n",
       "      <th></th>\n",
       "      <th></th>\n",
       "      <th>bal_acc</th>\n",
       "      <th>avg_odds_diff</th>\n",
       "      <th>disp_imp</th>\n",
       "      <th>stat_par_diff</th>\n",
       "      <th>eq_opp_diff</th>\n",
       "      <th>theil_ind</th>\n",
       "    </tr>\n",
       "    <tr>\n",
       "      <th>Bias Mitigator</th>\n",
       "      <th>Classifier</th>\n",
       "      <th></th>\n",
       "      <th></th>\n",
       "      <th></th>\n",
       "      <th></th>\n",
       "      <th></th>\n",
       "      <th></th>\n",
       "    </tr>\n",
       "  </thead>\n",
       "  <tbody>\n",
       "    <tr>\n",
       "      <th></th>\n",
       "      <th>Logistic Regression</th>\n",
       "      <td>0.582911</td>\n",
       "      <td>-0.084798</td>\n",
       "      <td>0.793933</td>\n",
       "      <td>-0.090230</td>\n",
       "      <td>-0.072426</td>\n",
       "      <td>0.263803</td>\n",
       "    </tr>\n",
       "    <tr>\n",
       "      <th>Reweighing</th>\n",
       "      <th>Logistic Regression</th>\n",
       "      <td>0.588429</td>\n",
       "      <td>-0.031474</td>\n",
       "      <td>0.916726</td>\n",
       "      <td>-0.035478</td>\n",
       "      <td>-0.025368</td>\n",
       "      <td>0.252357</td>\n",
       "    </tr>\n",
       "    <tr>\n",
       "      <th>Prejudice Remover</th>\n",
       "      <th></th>\n",
       "      <td>0.573653</td>\n",
       "      <td>0.026369</td>\n",
       "      <td>1.042650</td>\n",
       "      <td>0.028265</td>\n",
       "      <td>0.010846</td>\n",
       "      <td>0.147566</td>\n",
       "    </tr>\n",
       "    <tr>\n",
       "      <th>Disparate Impact Remover</th>\n",
       "      <th>Logistic Regression</th>\n",
       "      <td>0.595697</td>\n",
       "      <td>-0.167005</td>\n",
       "      <td>0.702656</td>\n",
       "      <td>-0.168906</td>\n",
       "      <td>-0.169853</td>\n",
       "      <td>0.221920</td>\n",
       "    </tr>\n",
       "  </tbody>\n",
       "</table>\n",
       "</div>"
      ],
      "text/plain": [
       "                                               bal_acc  avg_odds_diff  \\\n",
       "Bias Mitigator           Classifier                                     \n",
       "                         Logistic Regression  0.582911      -0.084798   \n",
       "Reweighing               Logistic Regression  0.588429      -0.031474   \n",
       "Prejudice Remover                             0.573653       0.026369   \n",
       "Disparate Impact Remover Logistic Regression  0.595697      -0.167005   \n",
       "\n",
       "                                              disp_imp  stat_par_diff  \\\n",
       "Bias Mitigator           Classifier                                     \n",
       "                         Logistic Regression  0.793933      -0.090230   \n",
       "Reweighing               Logistic Regression  0.916726      -0.035478   \n",
       "Prejudice Remover                             1.042650       0.028265   \n",
       "Disparate Impact Remover Logistic Regression  0.702656      -0.168906   \n",
       "\n",
       "                                              eq_opp_diff  theil_ind  \n",
       "Bias Mitigator           Classifier                                   \n",
       "                         Logistic Regression    -0.072426   0.263803  \n",
       "Reweighing               Logistic Regression    -0.025368   0.252357  \n",
       "Prejudice Remover                                0.010846   0.147566  \n",
       "Disparate Impact Remover Logistic Regression    -0.169853   0.221920  "
      ]
     },
     "execution_count": 86,
     "metadata": {},
     "output_type": "execute_result"
    }
   ],
   "source": [
    "import pandas as pd\n",
    "pd.set_option('display.multi_sparse', False)\n",
    "results = [lr_orig_metrics, lr_transf_metrics,\n",
    "            pr_orig_metrics, lr_metrics_DIR]\n",
    "debias = pd.Series([''] + ['Reweighing']\n",
    "                 + ['Prejudice Remover'] + [\"Disparate Impact Remover\"],\n",
    "                   name='Bias Mitigator')\n",
    "clf = pd.Series(['Logistic Regression']*2 + [''] + [\"Logistic Regression\"],\n",
    "                name='Classifier')\n",
    "pd.concat([pd.DataFrame(metrics) for metrics in results], axis=0).set_index([debias, clf])"
   ]
  },
  {
   "cell_type": "code",
   "execution_count": null,
   "id": "soviet-feelings",
   "metadata": {},
   "outputs": [],
   "source": []
  },
  {
   "cell_type": "code",
   "execution_count": 87,
   "id": "cloudy-ethics",
   "metadata": {},
   "outputs": [
    {
     "data": {
      "text/markdown": [
       "#### Original training dataset"
      ],
      "text/plain": [
       "<IPython.core.display.Markdown object>"
      ]
     },
     "metadata": {},
     "output_type": "display_data"
    },
    {
     "name": "stdout",
     "output_type": "stream",
     "text": [
      "Train set: Difference in mean outcomes between unprivileged and privileged groups = -0.036205\n",
      "Test set: Difference in mean outcomes between unprivileged and privileged groups = -0.013891\n"
     ]
    }
   ],
   "source": [
    "from aif360.algorithms.inprocessing.adversarial_debiasing import AdversarialDebiasing\n",
    "from aif360.metrics import ClassificationMetric\n",
    "from sklearn.preprocessing import MaxAbsScaler\n",
    "import tensorflow.compat.v1 as tf\n",
    "tf.disable_eager_execution()\n",
    "\n",
    "\n",
    "# Metric for the original dataset\n",
    "metric_orig_train = BinaryLabelDatasetMetric(dataset_orig_train, \n",
    "                                             unprivileged_groups=unprivileged_groups,\n",
    "                                             privileged_groups=privileged_groups)\n",
    "display(Markdown(\"#### Original training dataset\"))\n",
    "print(\"Train set: Difference in mean outcomes between unprivileged and privileged groups = %f\" % metric_orig_train.mean_difference())\n",
    "metric_orig_test = BinaryLabelDatasetMetric(dataset_orig_test, \n",
    "                                             unprivileged_groups=unprivileged_groups,\n",
    "                                             privileged_groups=privileged_groups)\n",
    "print(\"Test set: Difference in mean outcomes between unprivileged and privileged groups = %f\" % metric_orig_test.mean_difference())"
   ]
  },
  {
   "cell_type": "code",
   "execution_count": 88,
   "id": "needed-lotus",
   "metadata": {},
   "outputs": [
    {
     "data": {
      "text/markdown": [
       "#### Scaled dataset - Verify that the scaling does not affect the group label statistics"
      ],
      "text/plain": [
       "<IPython.core.display.Markdown object>"
      ]
     },
     "metadata": {},
     "output_type": "display_data"
    },
    {
     "name": "stdout",
     "output_type": "stream",
     "text": [
      "Train set: Difference in mean outcomes between unprivileged and privileged groups = -0.036205\n",
      "Test set: Difference in mean outcomes between unprivileged and privileged groups = -0.013891\n"
     ]
    }
   ],
   "source": [
    "min_max_scaler = MaxAbsScaler()\n",
    "dataset_orig_train.features = min_max_scaler.fit_transform(dataset_orig_train.features)\n",
    "dataset_orig_test.features = min_max_scaler.transform(dataset_orig_test.features)\n",
    "metric_scaled_train = BinaryLabelDatasetMetric(dataset_orig_train, \n",
    "                             unprivileged_groups=unprivileged_groups,\n",
    "                             privileged_groups=privileged_groups)\n",
    "display(Markdown(\"#### Scaled dataset - Verify that the scaling does not affect the group label statistics\"))\n",
    "print(\"Train set: Difference in mean outcomes between unprivileged and privileged groups = %f\" % metric_scaled_train.mean_difference())\n",
    "metric_scaled_test = BinaryLabelDatasetMetric(dataset_orig_test, \n",
    "                             unprivileged_groups=unprivileged_groups,\n",
    "                             privileged_groups=privileged_groups)\n",
    "print(\"Test set: Difference in mean outcomes between unprivileged and privileged groups = %f\" % metric_scaled_test.mean_difference())"
   ]
  },
  {
   "cell_type": "code",
   "execution_count": 89,
   "id": "worthy-nutrition",
   "metadata": {},
   "outputs": [
    {
     "name": "stdout",
     "output_type": "stream",
     "text": [
      "epoch 0; iter: 0; batch classifier loss: 0.673327\n",
      "epoch 1; iter: 0; batch classifier loss: 0.686832\n",
      "epoch 2; iter: 0; batch classifier loss: 0.699498\n",
      "epoch 3; iter: 0; batch classifier loss: 0.609149\n",
      "epoch 4; iter: 0; batch classifier loss: 0.614318\n",
      "epoch 5; iter: 0; batch classifier loss: 0.583147\n",
      "epoch 6; iter: 0; batch classifier loss: 0.584280\n",
      "epoch 7; iter: 0; batch classifier loss: 0.618432\n",
      "epoch 8; iter: 0; batch classifier loss: 0.626918\n",
      "epoch 9; iter: 0; batch classifier loss: 0.570964\n",
      "epoch 10; iter: 0; batch classifier loss: 0.617173\n",
      "epoch 11; iter: 0; batch classifier loss: 0.587663\n",
      "epoch 12; iter: 0; batch classifier loss: 0.599606\n",
      "epoch 13; iter: 0; batch classifier loss: 0.549663\n",
      "epoch 14; iter: 0; batch classifier loss: 0.546140\n",
      "epoch 15; iter: 0; batch classifier loss: 0.541502\n",
      "epoch 16; iter: 0; batch classifier loss: 0.580891\n",
      "epoch 17; iter: 0; batch classifier loss: 0.602328\n",
      "epoch 18; iter: 0; batch classifier loss: 0.621864\n",
      "epoch 19; iter: 0; batch classifier loss: 0.535255\n",
      "epoch 20; iter: 0; batch classifier loss: 0.580783\n",
      "epoch 21; iter: 0; batch classifier loss: 0.578829\n",
      "epoch 22; iter: 0; batch classifier loss: 0.538587\n",
      "epoch 23; iter: 0; batch classifier loss: 0.590071\n",
      "epoch 24; iter: 0; batch classifier loss: 0.565300\n",
      "epoch 25; iter: 0; batch classifier loss: 0.510998\n",
      "epoch 26; iter: 0; batch classifier loss: 0.545219\n",
      "epoch 27; iter: 0; batch classifier loss: 0.560246\n",
      "epoch 28; iter: 0; batch classifier loss: 0.536477\n",
      "epoch 29; iter: 0; batch classifier loss: 0.528751\n",
      "epoch 30; iter: 0; batch classifier loss: 0.528852\n",
      "epoch 31; iter: 0; batch classifier loss: 0.520484\n",
      "epoch 32; iter: 0; batch classifier loss: 0.520119\n",
      "epoch 33; iter: 0; batch classifier loss: 0.533946\n",
      "epoch 34; iter: 0; batch classifier loss: 0.530266\n",
      "epoch 35; iter: 0; batch classifier loss: 0.506175\n",
      "epoch 36; iter: 0; batch classifier loss: 0.514493\n",
      "epoch 37; iter: 0; batch classifier loss: 0.510548\n",
      "epoch 38; iter: 0; batch classifier loss: 0.505591\n",
      "epoch 39; iter: 0; batch classifier loss: 0.505090\n",
      "epoch 40; iter: 0; batch classifier loss: 0.500330\n",
      "epoch 41; iter: 0; batch classifier loss: 0.530874\n",
      "epoch 42; iter: 0; batch classifier loss: 0.503920\n",
      "epoch 43; iter: 0; batch classifier loss: 0.489785\n",
      "epoch 44; iter: 0; batch classifier loss: 0.464535\n",
      "epoch 45; iter: 0; batch classifier loss: 0.470683\n",
      "epoch 46; iter: 0; batch classifier loss: 0.514975\n",
      "epoch 47; iter: 0; batch classifier loss: 0.474542\n",
      "epoch 48; iter: 0; batch classifier loss: 0.471344\n",
      "epoch 49; iter: 0; batch classifier loss: 0.486192\n"
     ]
    },
    {
     "data": {
      "text/plain": [
       "<aif360.algorithms.inprocessing.adversarial_debiasing.AdversarialDebiasing at 0x28f3d983400>"
      ]
     },
     "execution_count": 89,
     "metadata": {},
     "output_type": "execute_result"
    }
   ],
   "source": [
    "#Learn plan classifier without debiasing\n",
    "# Load post-processing algorithm that equalizes the odds\n",
    "# Learn parameters with debias set to False\n",
    "sess = tf.Session()\n",
    "plain_model = AdversarialDebiasing(privileged_groups = privileged_groups,\n",
    "                          unprivileged_groups = unprivileged_groups,\n",
    "                          scope_name='plain_classifier',\n",
    "                          debias=False,\n",
    "                          sess=sess)\n",
    "\n",
    "plain_model.fit(dataset_orig_train)\n"
   ]
  },
  {
   "cell_type": "code",
   "execution_count": 90,
   "id": "northern-thumb",
   "metadata": {},
   "outputs": [],
   "source": [
    "# Apply the plain model to test data\n",
    "dataset_nodebiasing_train = plain_model.predict(dataset_orig_train)\n",
    "dataset_nodebiasing_test = plain_model.predict(dataset_orig_test)"
   ]
  },
  {
   "cell_type": "code",
   "execution_count": 91,
   "id": "single-arkansas",
   "metadata": {},
   "outputs": [
    {
     "data": {
      "text/markdown": [
       "#### Plain model - without debiasing - dataset metrics"
      ],
      "text/plain": [
       "<IPython.core.display.Markdown object>"
      ]
     },
     "metadata": {},
     "output_type": "display_data"
    },
    {
     "name": "stdout",
     "output_type": "stream",
     "text": [
      "Train set: Difference in mean outcomes between unprivileged and privileged groups = -0.078624\n",
      "Test set: Difference in mean outcomes between unprivileged and privileged groups = -0.048429\n"
     ]
    },
    {
     "data": {
      "text/markdown": [
       "#### Plain model - without debiasing - classification metrics"
      ],
      "text/plain": [
       "<IPython.core.display.Markdown object>"
      ]
     },
     "metadata": {},
     "output_type": "display_data"
    },
    {
     "name": "stdout",
     "output_type": "stream",
     "text": [
      "Test set: Classification accuracy = 0.626866\n",
      "Test set: Balanced classification accuracy = 0.560098\n",
      "Test set: Average odds difference = -0.057676\n",
      "Test set: Disparate impact = 0.809662\n",
      "Test set: Statisticsal parity difference = -0.048429\n",
      "Test set: Equal opportunity difference = -0.100551\n",
      "Test set: Theil_index = 0.341187\n"
     ]
    }
   ],
   "source": [
    "# Metrics for the dataset from plain model (without debiasing)\n",
    "display(Markdown(\"#### Plain model - without debiasing - dataset metrics\"))\n",
    "metric_dataset_nodebiasing_train = BinaryLabelDatasetMetric(dataset_nodebiasing_train, \n",
    "                                             unprivileged_groups=unprivileged_groups,\n",
    "                                             privileged_groups=privileged_groups)\n",
    "\n",
    "print(\"Train set: Difference in mean outcomes between unprivileged and privileged groups = %f\" % metric_dataset_nodebiasing_train.mean_difference())\n",
    "\n",
    "metric_dataset_nodebiasing_test = BinaryLabelDatasetMetric(dataset_nodebiasing_test, \n",
    "                                             unprivileged_groups=unprivileged_groups,\n",
    "                                             privileged_groups=privileged_groups)\n",
    "\n",
    "print(\"Test set: Difference in mean outcomes between unprivileged and privileged groups = %f\" % metric_dataset_nodebiasing_test.mean_difference())\n",
    "\n",
    "display(Markdown(\"#### Plain model - without debiasing - classification metrics\"))\n",
    "classified_metric_nodebiasing_test = ClassificationMetric(dataset_orig_test, \n",
    "                                                 dataset_nodebiasing_test,\n",
    "                                                 unprivileged_groups=unprivileged_groups,\n",
    "                                                 privileged_groups=privileged_groups)\n",
    "\n",
    "print(\"Test set: Classification accuracy = %f\" % classified_metric_nodebiasing_test.accuracy())\n",
    "TPR = classified_metric_nodebiasing_test.true_positive_rate()\n",
    "TNR = classified_metric_nodebiasing_test.true_negative_rate()\n",
    "bal_acc_nodebiasing_test = 0.5*(TPR+TNR)\n",
    "print(\"Test set: Balanced classification accuracy = %f\" % bal_acc_nodebiasing_test)\n",
    "print(\"Test set: Average odds difference = %f\" % classified_metric_nodebiasing_test.average_odds_difference())\n",
    "print(\"Test set: Disparate impact = %f\" % classified_metric_nodebiasing_test.disparate_impact())\n",
    "print(\"Test set: Statisticsal parity difference = %f\" % classified_metric_nodebiasing_test.statistical_parity_difference())\n",
    "print(\"Test set: Equal opportunity difference = %f\" % classified_metric_nodebiasing_test.equal_opportunity_difference())\n",
    "print(\"Test set: Theil_index = %f\" % classified_metric_nodebiasing_test.theil_index())\n",
    "\n",
    "metrics_AD = defaultdict(list,\n",
    "            {'bal_acc': [bal_acc_nodebiasing_test],\n",
    "             'avg_odds_diff': [classified_metric_nodebiasing_test.average_odds_difference()],\n",
    "             'disp_imp': [classified_metric_nodebiasing_test.disparate_impact()],\n",
    "             'stat_par_diff': [classified_metric_nodebiasing_test.statistical_parity_difference()],\n",
    "             'eq_opp_diff': [classified_metric_nodebiasing_test.equal_opportunity_difference()],\n",
    "             'theil_ind': [classified_metric_nodebiasing_test.theil_index()]})\n"
   ]
  },
  {
   "cell_type": "code",
   "execution_count": 92,
   "id": "round-walter",
   "metadata": {},
   "outputs": [
    {
     "data": {
      "text/html": [
       "<div>\n",
       "<style scoped>\n",
       "    .dataframe tbody tr th:only-of-type {\n",
       "        vertical-align: middle;\n",
       "    }\n",
       "\n",
       "    .dataframe tbody tr th {\n",
       "        vertical-align: top;\n",
       "    }\n",
       "\n",
       "    .dataframe thead th {\n",
       "        text-align: right;\n",
       "    }\n",
       "</style>\n",
       "<table border=\"1\" class=\"dataframe\">\n",
       "  <thead>\n",
       "    <tr style=\"text-align: right;\">\n",
       "      <th></th>\n",
       "      <th></th>\n",
       "      <th>bal_acc</th>\n",
       "      <th>avg_odds_diff</th>\n",
       "      <th>disp_imp</th>\n",
       "      <th>stat_par_diff</th>\n",
       "      <th>eq_opp_diff</th>\n",
       "      <th>theil_ind</th>\n",
       "    </tr>\n",
       "    <tr>\n",
       "      <th>Bias Mitigator</th>\n",
       "      <th>Classifier</th>\n",
       "      <th></th>\n",
       "      <th></th>\n",
       "      <th></th>\n",
       "      <th></th>\n",
       "      <th></th>\n",
       "      <th></th>\n",
       "    </tr>\n",
       "  </thead>\n",
       "  <tbody>\n",
       "    <tr>\n",
       "      <th></th>\n",
       "      <th>Logistic Regression</th>\n",
       "      <td>0.582911</td>\n",
       "      <td>-0.084798</td>\n",
       "      <td>0.793933</td>\n",
       "      <td>-0.090230</td>\n",
       "      <td>-0.072426</td>\n",
       "      <td>0.263803</td>\n",
       "    </tr>\n",
       "    <tr>\n",
       "      <th>Reweighing</th>\n",
       "      <th>Logistic Regression</th>\n",
       "      <td>0.588429</td>\n",
       "      <td>-0.031474</td>\n",
       "      <td>0.916726</td>\n",
       "      <td>-0.035478</td>\n",
       "      <td>-0.025368</td>\n",
       "      <td>0.252357</td>\n",
       "    </tr>\n",
       "    <tr>\n",
       "      <th>Prejudice Remover</th>\n",
       "      <th></th>\n",
       "      <td>0.573653</td>\n",
       "      <td>0.026369</td>\n",
       "      <td>1.042650</td>\n",
       "      <td>0.028265</td>\n",
       "      <td>0.010846</td>\n",
       "      <td>0.147566</td>\n",
       "    </tr>\n",
       "    <tr>\n",
       "      <th>Disparate Impact Remover</th>\n",
       "      <th>Logistic Regression</th>\n",
       "      <td>0.595697</td>\n",
       "      <td>-0.167005</td>\n",
       "      <td>0.702656</td>\n",
       "      <td>-0.168906</td>\n",
       "      <td>-0.169853</td>\n",
       "      <td>0.221920</td>\n",
       "    </tr>\n",
       "    <tr>\n",
       "      <th>Adversarial Debias</th>\n",
       "      <th>No Debias</th>\n",
       "      <td>0.560098</td>\n",
       "      <td>-0.057676</td>\n",
       "      <td>0.809662</td>\n",
       "      <td>-0.048429</td>\n",
       "      <td>-0.100551</td>\n",
       "      <td>0.341187</td>\n",
       "    </tr>\n",
       "  </tbody>\n",
       "</table>\n",
       "</div>"
      ],
      "text/plain": [
       "                                               bal_acc  avg_odds_diff  \\\n",
       "Bias Mitigator           Classifier                                     \n",
       "                         Logistic Regression  0.582911      -0.084798   \n",
       "Reweighing               Logistic Regression  0.588429      -0.031474   \n",
       "Prejudice Remover                             0.573653       0.026369   \n",
       "Disparate Impact Remover Logistic Regression  0.595697      -0.167005   \n",
       "Adversarial Debias       No Debias            0.560098      -0.057676   \n",
       "\n",
       "                                              disp_imp  stat_par_diff  \\\n",
       "Bias Mitigator           Classifier                                     \n",
       "                         Logistic Regression  0.793933      -0.090230   \n",
       "Reweighing               Logistic Regression  0.916726      -0.035478   \n",
       "Prejudice Remover                             1.042650       0.028265   \n",
       "Disparate Impact Remover Logistic Regression  0.702656      -0.168906   \n",
       "Adversarial Debias       No Debias            0.809662      -0.048429   \n",
       "\n",
       "                                              eq_opp_diff  theil_ind  \n",
       "Bias Mitigator           Classifier                                   \n",
       "                         Logistic Regression    -0.072426   0.263803  \n",
       "Reweighing               Logistic Regression    -0.025368   0.252357  \n",
       "Prejudice Remover                                0.010846   0.147566  \n",
       "Disparate Impact Remover Logistic Regression    -0.169853   0.221920  \n",
       "Adversarial Debias       No Debias              -0.100551   0.341187  "
      ]
     },
     "execution_count": 92,
     "metadata": {},
     "output_type": "execute_result"
    }
   ],
   "source": [
    "pd.set_option('display.multi_sparse', False)\n",
    "results = [lr_orig_metrics, lr_transf_metrics,\n",
    "            pr_orig_metrics, lr_metrics_DIR, metrics_AD]\n",
    "debias = pd.Series([''] + ['Reweighing']\n",
    "                 + ['Prejudice Remover'] + [\"Disparate Impact Remover\"] + [\"Adversarial Debias\"],\n",
    "                   name='Bias Mitigator')\n",
    "clf = pd.Series(['Logistic Regression']*2 + [''] + [\"Logistic Regression\"] + [\"No Debias\"],\n",
    "                name='Classifier')\n",
    "pd.concat([pd.DataFrame(metrics) for metrics in results], axis=0).set_index([debias, clf])"
   ]
  },
  {
   "cell_type": "code",
   "execution_count": 93,
   "id": "decimal-inspection",
   "metadata": {},
   "outputs": [
    {
     "name": "stdout",
     "output_type": "stream",
     "text": [
      "epoch 0; iter: 0; batch classifier loss: 0.679520; batch adversarial loss: 0.700189\n",
      "epoch 1; iter: 0; batch classifier loss: 0.662756; batch adversarial loss: 0.702133\n",
      "epoch 2; iter: 0; batch classifier loss: 0.662859; batch adversarial loss: 0.727849\n",
      "epoch 3; iter: 0; batch classifier loss: 0.661263; batch adversarial loss: 0.710588\n",
      "epoch 4; iter: 0; batch classifier loss: 0.638472; batch adversarial loss: 0.679105\n",
      "epoch 5; iter: 0; batch classifier loss: 0.646623; batch adversarial loss: 0.714690\n",
      "epoch 6; iter: 0; batch classifier loss: 0.633157; batch adversarial loss: 0.668078\n",
      "epoch 7; iter: 0; batch classifier loss: 0.605498; batch adversarial loss: 0.711883\n",
      "epoch 8; iter: 0; batch classifier loss: 0.641088; batch adversarial loss: 0.725256\n",
      "epoch 9; iter: 0; batch classifier loss: 0.626826; batch adversarial loss: 0.704126\n",
      "epoch 10; iter: 0; batch classifier loss: 0.583959; batch adversarial loss: 0.729024\n",
      "epoch 11; iter: 0; batch classifier loss: 0.593480; batch adversarial loss: 0.710411\n",
      "epoch 12; iter: 0; batch classifier loss: 0.621628; batch adversarial loss: 0.716582\n",
      "epoch 13; iter: 0; batch classifier loss: 0.573762; batch adversarial loss: 0.709239\n",
      "epoch 14; iter: 0; batch classifier loss: 0.583600; batch adversarial loss: 0.719029\n",
      "epoch 15; iter: 0; batch classifier loss: 0.604746; batch adversarial loss: 0.731271\n",
      "epoch 16; iter: 0; batch classifier loss: 0.598923; batch adversarial loss: 0.686418\n",
      "epoch 17; iter: 0; batch classifier loss: 0.613063; batch adversarial loss: 0.678067\n",
      "epoch 18; iter: 0; batch classifier loss: 0.562660; batch adversarial loss: 0.719833\n",
      "epoch 19; iter: 0; batch classifier loss: 0.615558; batch adversarial loss: 0.693782\n",
      "epoch 20; iter: 0; batch classifier loss: 0.562349; batch adversarial loss: 0.705745\n",
      "epoch 21; iter: 0; batch classifier loss: 0.582648; batch adversarial loss: 0.702652\n",
      "epoch 22; iter: 0; batch classifier loss: 0.608819; batch adversarial loss: 0.704394\n",
      "epoch 23; iter: 0; batch classifier loss: 0.586371; batch adversarial loss: 0.704703\n",
      "epoch 24; iter: 0; batch classifier loss: 0.551355; batch adversarial loss: 0.709302\n",
      "epoch 25; iter: 0; batch classifier loss: 0.574333; batch adversarial loss: 0.719123\n",
      "epoch 26; iter: 0; batch classifier loss: 0.581515; batch adversarial loss: 0.695857\n",
      "epoch 27; iter: 0; batch classifier loss: 0.532572; batch adversarial loss: 0.693829\n",
      "epoch 28; iter: 0; batch classifier loss: 0.565396; batch adversarial loss: 0.699738\n",
      "epoch 29; iter: 0; batch classifier loss: 0.537365; batch adversarial loss: 0.704557\n",
      "epoch 30; iter: 0; batch classifier loss: 0.488005; batch adversarial loss: 0.691507\n",
      "epoch 31; iter: 0; batch classifier loss: 0.513400; batch adversarial loss: 0.701899\n",
      "epoch 32; iter: 0; batch classifier loss: 0.537137; batch adversarial loss: 0.684464\n",
      "epoch 33; iter: 0; batch classifier loss: 0.523339; batch adversarial loss: 0.683525\n",
      "epoch 34; iter: 0; batch classifier loss: 0.561934; batch adversarial loss: 0.709990\n",
      "epoch 35; iter: 0; batch classifier loss: 0.507489; batch adversarial loss: 0.681950\n",
      "epoch 36; iter: 0; batch classifier loss: 0.561567; batch adversarial loss: 0.707736\n",
      "epoch 37; iter: 0; batch classifier loss: 0.518336; batch adversarial loss: 0.699893\n",
      "epoch 38; iter: 0; batch classifier loss: 0.511337; batch adversarial loss: 0.697438\n",
      "epoch 39; iter: 0; batch classifier loss: 0.450756; batch adversarial loss: 0.709900\n",
      "epoch 40; iter: 0; batch classifier loss: 0.473672; batch adversarial loss: 0.701985\n",
      "epoch 41; iter: 0; batch classifier loss: 0.501792; batch adversarial loss: 0.679898\n",
      "epoch 42; iter: 0; batch classifier loss: 0.501854; batch adversarial loss: 0.674899\n",
      "epoch 43; iter: 0; batch classifier loss: 0.514378; batch adversarial loss: 0.679144\n",
      "epoch 44; iter: 0; batch classifier loss: 0.472926; batch adversarial loss: 0.695961\n",
      "epoch 45; iter: 0; batch classifier loss: 0.433089; batch adversarial loss: 0.707605\n",
      "epoch 46; iter: 0; batch classifier loss: 0.486328; batch adversarial loss: 0.711062\n",
      "epoch 47; iter: 0; batch classifier loss: 0.521528; batch adversarial loss: 0.691450\n",
      "epoch 48; iter: 0; batch classifier loss: 0.488006; batch adversarial loss: 0.666427\n",
      "epoch 49; iter: 0; batch classifier loss: 0.479324; batch adversarial loss: 0.685616\n"
     ]
    },
    {
     "data": {
      "text/plain": [
       "<aif360.algorithms.inprocessing.adversarial_debiasing.AdversarialDebiasing at 0x28f3a37e340>"
      ]
     },
     "execution_count": 93,
     "metadata": {},
     "output_type": "execute_result"
    }
   ],
   "source": [
    "sess.close()\n",
    "tf.reset_default_graph()\n",
    "sess = tf.Session()\n",
    "debiased_model = AdversarialDebiasing(privileged_groups = privileged_groups,\n",
    "                          unprivileged_groups = unprivileged_groups,\n",
    "                          scope_name='debiased_classifier',\n",
    "                          debias=True,\n",
    "                          sess=sess)\n",
    "debiased_model.fit(dataset_orig_train)\n"
   ]
  },
  {
   "cell_type": "code",
   "execution_count": 94,
   "id": "exposed-accommodation",
   "metadata": {},
   "outputs": [],
   "source": [
    "# Apply the plain model to test data\n",
    "dataset_debiasing_train = debiased_model.predict(dataset_orig_train)\n",
    "dataset_debiasing_test = debiased_model.predict(dataset_orig_test)"
   ]
  },
  {
   "cell_type": "code",
   "execution_count": 95,
   "id": "tested-experience",
   "metadata": {},
   "outputs": [
    {
     "data": {
      "text/markdown": [
       "#### Plain model - without debiasing - dataset metrics"
      ],
      "text/plain": [
       "<IPython.core.display.Markdown object>"
      ]
     },
     "metadata": {},
     "output_type": "display_data"
    },
    {
     "name": "stdout",
     "output_type": "stream",
     "text": [
      "Train set: Difference in mean outcomes between unprivileged and privileged groups = -0.078624\n",
      "Test set: Difference in mean outcomes between unprivileged and privileged groups = -0.048429\n"
     ]
    },
    {
     "data": {
      "text/markdown": [
       "#### Model - with debiasing - dataset metrics"
      ],
      "text/plain": [
       "<IPython.core.display.Markdown object>"
      ]
     },
     "metadata": {},
     "output_type": "display_data"
    },
    {
     "name": "stdout",
     "output_type": "stream",
     "text": [
      "Train set: Difference in mean outcomes between unprivileged and privileged groups = -0.102253\n",
      "Test set: Difference in mean outcomes between unprivileged and privileged groups = -0.076974\n"
     ]
    },
    {
     "data": {
      "text/markdown": [
       "#### Plain model - without debiasing - classification metrics"
      ],
      "text/plain": [
       "<IPython.core.display.Markdown object>"
      ]
     },
     "metadata": {},
     "output_type": "display_data"
    },
    {
     "name": "stdout",
     "output_type": "stream",
     "text": [
      "Test set: Classification accuracy = 0.626866\n",
      "Test set: Balanced classification accuracy = 0.560098\n",
      "Test set: Disparate impact = 0.809662\n",
      "Test set: Equal opportunity difference = -0.100551\n",
      "Test set: Average odds difference = -0.057676\n",
      "Test set: Theil_index = 0.341187\n"
     ]
    },
    {
     "data": {
      "text/markdown": [
       "#### Model - with debiasing - classification metrics"
      ],
      "text/plain": [
       "<IPython.core.display.Markdown object>"
      ]
     },
     "metadata": {},
     "output_type": "display_data"
    },
    {
     "name": "stdout",
     "output_type": "stream",
     "text": [
      "Test set: Classification accuracy = 0.621891\n",
      "Test set: Balanced classification accuracy = 0.561663\n",
      "Test set: Disparate impact = 0.739828\n",
      "Test set: Equal opportunity difference = -0.108272\n",
      "Test set: Average odds difference = -0.081967\n",
      "Test set: Theil_index = 0.330792\n"
     ]
    }
   ],
   "source": [
    "# Metrics for the dataset from plain model (without debiasing)\n",
    "display(Markdown(\"#### Plain model - without debiasing - dataset metrics\"))\n",
    "print(\"Train set: Difference in mean outcomes between unprivileged and privileged groups = %f\" % metric_dataset_nodebiasing_train.mean_difference())\n",
    "print(\"Test set: Difference in mean outcomes between unprivileged and privileged groups = %f\" % metric_dataset_nodebiasing_test.mean_difference())\n",
    "\n",
    "# Metrics for the dataset from model with debiasing\n",
    "display(Markdown(\"#### Model - with debiasing - dataset metrics\"))\n",
    "metric_dataset_debiasing_train = BinaryLabelDatasetMetric(dataset_debiasing_train, \n",
    "                                             unprivileged_groups=unprivileged_groups,\n",
    "                                             privileged_groups=privileged_groups)\n",
    "\n",
    "print(\"Train set: Difference in mean outcomes between unprivileged and privileged groups = %f\" % metric_dataset_debiasing_train.mean_difference())\n",
    "\n",
    "metric_dataset_debiasing_test = BinaryLabelDatasetMetric(dataset_debiasing_test, \n",
    "                                             unprivileged_groups=unprivileged_groups,\n",
    "                                             privileged_groups=privileged_groups)\n",
    "\n",
    "print(\"Test set: Difference in mean outcomes between unprivileged and privileged groups = %f\" % metric_dataset_debiasing_test.mean_difference())\n",
    "\n",
    "\n",
    "\n",
    "display(Markdown(\"#### Plain model - without debiasing - classification metrics\"))\n",
    "print(\"Test set: Classification accuracy = %f\" % classified_metric_nodebiasing_test.accuracy())\n",
    "TPR = classified_metric_nodebiasing_test.true_positive_rate()\n",
    "TNR = classified_metric_nodebiasing_test.true_negative_rate()\n",
    "bal_acc_nodebiasing_test = 0.5*(TPR+TNR)\n",
    "print(\"Test set: Balanced classification accuracy = %f\" % bal_acc_nodebiasing_test)\n",
    "print(\"Test set: Disparate impact = %f\" % classified_metric_nodebiasing_test.disparate_impact())\n",
    "print(\"Test set: Equal opportunity difference = %f\" % classified_metric_nodebiasing_test.equal_opportunity_difference())\n",
    "print(\"Test set: Average odds difference = %f\" % classified_metric_nodebiasing_test.average_odds_difference())\n",
    "print(\"Test set: Theil_index = %f\" % classified_metric_nodebiasing_test.theil_index())\n",
    "\n",
    "\n",
    "\n",
    "\n",
    "\n",
    "display(Markdown(\"#### Model - with debiasing - classification metrics\"))\n",
    "classified_metric_debiasing_test = ClassificationMetric(dataset_orig_test, \n",
    "                                                 dataset_debiasing_test,\n",
    "                                                 unprivileged_groups=unprivileged_groups,\n",
    "                                                 privileged_groups=privileged_groups)\n",
    "print(\"Test set: Classification accuracy = %f\" % classified_metric_debiasing_test.accuracy())\n",
    "TPR = classified_metric_debiasing_test.true_positive_rate()\n",
    "TNR = classified_metric_debiasing_test.true_negative_rate()\n",
    "bal_acc_debiasing_test = 0.5*(TPR+TNR)\n",
    "print(\"Test set: Balanced classification accuracy = %f\" % bal_acc_debiasing_test)\n",
    "print(\"Test set: Disparate impact = %f\" % classified_metric_debiasing_test.disparate_impact())\n",
    "print(\"Test set: Equal opportunity difference = %f\" % classified_metric_debiasing_test.equal_opportunity_difference())\n",
    "print(\"Test set: Average odds difference = %f\" % classified_metric_debiasing_test.average_odds_difference())\n",
    "print(\"Test set: Theil_index = %f\" % classified_metric_debiasing_test.theil_index())\n",
    "\n",
    "metrics_AD2 = defaultdict(list,\n",
    "            {'bal_acc': [bal_acc_debiasing_test],\n",
    "             'avg_odds_diff': [classified_metric_debiasing_test.average_odds_difference()],\n",
    "             'disp_imp': [classified_metric_debiasing_test.disparate_impact()],\n",
    "             'stat_par_diff': [classified_metric_debiasing_test.statistical_parity_difference()],\n",
    "             'eq_opp_diff': [classified_metric_debiasing_test.equal_opportunity_difference()],\n",
    "             'theil_ind': [classified_metric_debiasing_test.theil_index()]})"
   ]
  },
  {
   "cell_type": "code",
   "execution_count": 125,
   "id": "appointed-sitting",
   "metadata": {},
   "outputs": [
    {
     "data": {
      "text/html": [
       "<div>\n",
       "<style scoped>\n",
       "    .dataframe tbody tr th:only-of-type {\n",
       "        vertical-align: middle;\n",
       "    }\n",
       "\n",
       "    .dataframe tbody tr th {\n",
       "        vertical-align: top;\n",
       "    }\n",
       "\n",
       "    .dataframe thead th {\n",
       "        text-align: right;\n",
       "    }\n",
       "</style>\n",
       "<table border=\"1\" class=\"dataframe\">\n",
       "  <thead>\n",
       "    <tr style=\"text-align: right;\">\n",
       "      <th></th>\n",
       "      <th></th>\n",
       "      <th>bal_acc</th>\n",
       "      <th>avg_odds_diff</th>\n",
       "      <th>disp_imp</th>\n",
       "      <th>stat_par_diff</th>\n",
       "      <th>eq_opp_diff</th>\n",
       "      <th>theil_ind</th>\n",
       "    </tr>\n",
       "    <tr>\n",
       "      <th>Bias Mitigator</th>\n",
       "      <th>Classifier</th>\n",
       "      <th></th>\n",
       "      <th></th>\n",
       "      <th></th>\n",
       "      <th></th>\n",
       "      <th></th>\n",
       "      <th></th>\n",
       "    </tr>\n",
       "  </thead>\n",
       "  <tbody>\n",
       "    <tr>\n",
       "      <th>None</th>\n",
       "      <th>Logistic Regression</th>\n",
       "      <td>0.582911</td>\n",
       "      <td>-0.084798</td>\n",
       "      <td>0.793933</td>\n",
       "      <td>-0.090230</td>\n",
       "      <td>-0.072426</td>\n",
       "      <td>0.263803</td>\n",
       "    </tr>\n",
       "    <tr>\n",
       "      <th>Reweighing</th>\n",
       "      <th>Logistic Regression</th>\n",
       "      <td>0.588429</td>\n",
       "      <td>-0.031474</td>\n",
       "      <td>0.916726</td>\n",
       "      <td>-0.035478</td>\n",
       "      <td>-0.025368</td>\n",
       "      <td>0.252357</td>\n",
       "    </tr>\n",
       "    <tr>\n",
       "      <th>Disparate Impact Remover</th>\n",
       "      <th>Logistic Regression</th>\n",
       "      <td>0.595697</td>\n",
       "      <td>-0.167005</td>\n",
       "      <td>0.702656</td>\n",
       "      <td>-0.168906</td>\n",
       "      <td>-0.169853</td>\n",
       "      <td>0.221920</td>\n",
       "    </tr>\n",
       "    <tr>\n",
       "      <th>Prejudice Remover</th>\n",
       "      <th>Logistic Regression</th>\n",
       "      <td>0.573653</td>\n",
       "      <td>0.026369</td>\n",
       "      <td>1.042650</td>\n",
       "      <td>0.028265</td>\n",
       "      <td>0.010846</td>\n",
       "      <td>0.147566</td>\n",
       "    </tr>\n",
       "    <tr>\n",
       "      <th>Adversarial Debias</th>\n",
       "      <th>GD(No Debias)</th>\n",
       "      <td>0.560098</td>\n",
       "      <td>-0.057676</td>\n",
       "      <td>0.809662</td>\n",
       "      <td>-0.048429</td>\n",
       "      <td>-0.100551</td>\n",
       "      <td>0.341187</td>\n",
       "    </tr>\n",
       "    <tr>\n",
       "      <th>Adversarial Debias</th>\n",
       "      <th>GD(Debased)</th>\n",
       "      <td>0.561663</td>\n",
       "      <td>-0.081967</td>\n",
       "      <td>0.739828</td>\n",
       "      <td>-0.076974</td>\n",
       "      <td>-0.108272</td>\n",
       "      <td>0.330792</td>\n",
       "    </tr>\n",
       "  </tbody>\n",
       "</table>\n",
       "</div>"
      ],
      "text/plain": [
       "                                               bal_acc  avg_odds_diff  \\\n",
       "Bias Mitigator           Classifier                                     \n",
       "None                     Logistic Regression  0.582911      -0.084798   \n",
       "Reweighing               Logistic Regression  0.588429      -0.031474   \n",
       "Disparate Impact Remover Logistic Regression  0.595697      -0.167005   \n",
       "Prejudice Remover        Logistic Regression  0.573653       0.026369   \n",
       "Adversarial Debias       GD(No Debias)        0.560098      -0.057676   \n",
       "Adversarial Debias       GD(Debased)          0.561663      -0.081967   \n",
       "\n",
       "                                              disp_imp  stat_par_diff  \\\n",
       "Bias Mitigator           Classifier                                     \n",
       "None                     Logistic Regression  0.793933      -0.090230   \n",
       "Reweighing               Logistic Regression  0.916726      -0.035478   \n",
       "Disparate Impact Remover Logistic Regression  0.702656      -0.168906   \n",
       "Prejudice Remover        Logistic Regression  1.042650       0.028265   \n",
       "Adversarial Debias       GD(No Debias)        0.809662      -0.048429   \n",
       "Adversarial Debias       GD(Debased)          0.739828      -0.076974   \n",
       "\n",
       "                                              eq_opp_diff  theil_ind  \n",
       "Bias Mitigator           Classifier                                   \n",
       "None                     Logistic Regression    -0.072426   0.263803  \n",
       "Reweighing               Logistic Regression    -0.025368   0.252357  \n",
       "Disparate Impact Remover Logistic Regression    -0.169853   0.221920  \n",
       "Prejudice Remover        Logistic Regression     0.010846   0.147566  \n",
       "Adversarial Debias       GD(No Debias)          -0.100551   0.341187  \n",
       "Adversarial Debias       GD(Debased)            -0.108272   0.330792  "
      ]
     },
     "execution_count": 125,
     "metadata": {},
     "output_type": "execute_result"
    }
   ],
   "source": [
    "pd.set_option('display.multi_sparse', False)\n",
    "results = [lr_orig_metrics, lr_transf_metrics,\n",
    "            lr_metrics_DIR,pr_orig_metrics, metrics_AD, metrics_AD2]\n",
    "debias = pd.Series(['None'] + ['Reweighing']\n",
    "                 + [\"Disparate Impact Remover\"] + ['Prejudice Remover']+ [\"Adversarial Debias\"]*2,\n",
    "                   name='Bias Mitigator')\n",
    "clf = pd.Series(['Logistic Regression']*4 + [\"GD(No Debias)\"] +[\"GD(Debased)\"],\n",
    "                name='Classifier')\n",
    "final_df = pd.concat([pd.DataFrame(metrics) for metrics in results], axis=0).set_index([debias, clf])\n",
    "final_df"
   ]
  },
  {
   "cell_type": "code",
   "execution_count": 126,
   "id": "outstanding-kenya",
   "metadata": {},
   "outputs": [
    {
     "data": {
      "text/html": [
       "<div>\n",
       "<style scoped>\n",
       "    .dataframe tbody tr th:only-of-type {\n",
       "        vertical-align: middle;\n",
       "    }\n",
       "\n",
       "    .dataframe tbody tr th {\n",
       "        vertical-align: top;\n",
       "    }\n",
       "\n",
       "    .dataframe thead th {\n",
       "        text-align: right;\n",
       "    }\n",
       "</style>\n",
       "<table border=\"1\" class=\"dataframe\">\n",
       "  <thead>\n",
       "    <tr style=\"text-align: right;\">\n",
       "      <th></th>\n",
       "      <th></th>\n",
       "      <th>bal_acc</th>\n",
       "      <th>avg_odds_diff</th>\n",
       "      <th>disp_imp</th>\n",
       "      <th>stat_par_diff</th>\n",
       "      <th>eq_opp_diff</th>\n",
       "      <th>theil_ind</th>\n",
       "    </tr>\n",
       "    <tr>\n",
       "      <th>Bias Mitigator</th>\n",
       "      <th>Classifier</th>\n",
       "      <th></th>\n",
       "      <th></th>\n",
       "      <th></th>\n",
       "      <th></th>\n",
       "      <th></th>\n",
       "      <th></th>\n",
       "    </tr>\n",
       "  </thead>\n",
       "  <tbody>\n",
       "    <tr>\n",
       "      <th>None</th>\n",
       "      <th>Logistic Regression</th>\n",
       "      <td>0.582911</td>\n",
       "      <td>-0.084798</td>\n",
       "      <td>0.793933</td>\n",
       "      <td>-0.090230</td>\n",
       "      <td>-0.072426</td>\n",
       "      <td>0.263803</td>\n",
       "    </tr>\n",
       "    <tr>\n",
       "      <th>Reweighing</th>\n",
       "      <th>Logistic Regression</th>\n",
       "      <td>0.588429</td>\n",
       "      <td>-0.031474</td>\n",
       "      <td>0.916726</td>\n",
       "      <td>-0.035478</td>\n",
       "      <td>-0.025368</td>\n",
       "      <td>0.252357</td>\n",
       "    </tr>\n",
       "    <tr>\n",
       "      <th>Disparate Impact Remover</th>\n",
       "      <th>Logistic Regression</th>\n",
       "      <td>0.595697</td>\n",
       "      <td>-0.167005</td>\n",
       "      <td>0.702656</td>\n",
       "      <td>-0.168906</td>\n",
       "      <td>-0.169853</td>\n",
       "      <td>0.221920</td>\n",
       "    </tr>\n",
       "    <tr>\n",
       "      <th>Prejudice Remover</th>\n",
       "      <th>Logistic Regression</th>\n",
       "      <td>0.573653</td>\n",
       "      <td>0.026369</td>\n",
       "      <td>1.042650</td>\n",
       "      <td>0.028265</td>\n",
       "      <td>0.010846</td>\n",
       "      <td>0.147566</td>\n",
       "    </tr>\n",
       "    <tr>\n",
       "      <th>Adversarial Debias</th>\n",
       "      <th>GD(No Debias)</th>\n",
       "      <td>0.560098</td>\n",
       "      <td>-0.057676</td>\n",
       "      <td>0.809662</td>\n",
       "      <td>-0.048429</td>\n",
       "      <td>-0.100551</td>\n",
       "      <td>0.341187</td>\n",
       "    </tr>\n",
       "    <tr>\n",
       "      <th>Adversarial Debias</th>\n",
       "      <th>GD(Debased)</th>\n",
       "      <td>0.561663</td>\n",
       "      <td>-0.081967</td>\n",
       "      <td>0.739828</td>\n",
       "      <td>-0.076974</td>\n",
       "      <td>-0.108272</td>\n",
       "      <td>0.330792</td>\n",
       "    </tr>\n",
       "  </tbody>\n",
       "</table>\n",
       "</div>"
      ],
      "text/plain": [
       "                                               bal_acc  avg_odds_diff  \\\n",
       "Bias Mitigator           Classifier                                     \n",
       "None                     Logistic Regression  0.582911      -0.084798   \n",
       "Reweighing               Logistic Regression  0.588429      -0.031474   \n",
       "Disparate Impact Remover Logistic Regression  0.595697      -0.167005   \n",
       "Prejudice Remover        Logistic Regression  0.573653       0.026369   \n",
       "Adversarial Debias       GD(No Debias)        0.560098      -0.057676   \n",
       "Adversarial Debias       GD(Debased)          0.561663      -0.081967   \n",
       "\n",
       "                                              disp_imp  stat_par_diff  \\\n",
       "Bias Mitigator           Classifier                                     \n",
       "None                     Logistic Regression  0.793933      -0.090230   \n",
       "Reweighing               Logistic Regression  0.916726      -0.035478   \n",
       "Disparate Impact Remover Logistic Regression  0.702656      -0.168906   \n",
       "Prejudice Remover        Logistic Regression  1.042650       0.028265   \n",
       "Adversarial Debias       GD(No Debias)        0.809662      -0.048429   \n",
       "Adversarial Debias       GD(Debased)          0.739828      -0.076974   \n",
       "\n",
       "                                              eq_opp_diff  theil_ind  \n",
       "Bias Mitigator           Classifier                                   \n",
       "None                     Logistic Regression    -0.072426   0.263803  \n",
       "Reweighing               Logistic Regression    -0.025368   0.252357  \n",
       "Disparate Impact Remover Logistic Regression    -0.169853   0.221920  \n",
       "Prejudice Remover        Logistic Regression     0.010846   0.147566  \n",
       "Adversarial Debias       GD(No Debias)          -0.100551   0.341187  \n",
       "Adversarial Debias       GD(Debased)            -0.108272   0.330792  "
      ]
     },
     "execution_count": 126,
     "metadata": {},
     "output_type": "execute_result"
    }
   ],
   "source": [
    "final_df.to_pickle(\"HeartFailure_Results_Pickle\")\n",
    "pickle = pd.read_pickle(\"HeartFailure_Results_Pickle\")\n",
    "pickle"
   ]
  },
  {
   "cell_type": "code",
   "execution_count": null,
   "id": "adolescent-space",
   "metadata": {},
   "outputs": [],
   "source": []
  },
  {
   "cell_type": "code",
   "execution_count": null,
   "id": "structural-wound",
   "metadata": {},
   "outputs": [],
   "source": []
  }
 ],
 "metadata": {
  "kernelspec": {
   "display_name": "Python 3",
   "language": "python",
   "name": "python3"
  },
  "language_info": {
   "codemirror_mode": {
    "name": "ipython",
    "version": 3
   },
   "file_extension": ".py",
   "mimetype": "text/x-python",
   "name": "python",
   "nbconvert_exporter": "python",
   "pygments_lexer": "ipython3",
   "version": "3.8.5"
  }
 },
 "nbformat": 4,
 "nbformat_minor": 5
}
