{
 "cells": [
  {
   "cell_type": "code",
   "execution_count": 108,
   "id": "norman-cotton",
   "metadata": {},
   "outputs": [],
   "source": [
    "import matplotlib.pyplot as plt\n",
    "import numpy as np\n",
    "import pandas as pd\n",
    "\n",
    "from IPython.display import Markdown, display\n",
    "\n",
    "# Datasets\n",
    "from aif360.datasets import StandardDataset\n",
    "\n",
    "# from PhysionetDataset.py import PhysionetDataset.py\n",
    "# Dataset = PhysionetDataset.py\n",
    "\n",
    "\n",
    "# Fairness metrics\n",
    "from aif360.metrics import BinaryLabelDatasetMetric\n",
    "from aif360.metrics import ClassificationMetric\n",
    "\n",
    "# Explainers\n",
    "from aif360.explainers import MetricTextExplainer\n",
    "\n",
    "# Scalers\n",
    "from sklearn.preprocessing import StandardScaler\n",
    "\n",
    "# Classifiers\n",
    "from sklearn.ensemble import RandomForestClassifier\n",
    "from sklearn.linear_model import LogisticRegression\n",
    "from sklearn.pipeline import make_pipeline\n",
    "\n",
    "# Bias mitigation techniques\n",
    "from aif360.algorithms.preprocessing import Reweighing\n",
    "from aif360.algorithms.inprocessing import PrejudiceRemover"
   ]
  },
  {
   "cell_type": "code",
   "execution_count": null,
   "id": "quality-storage",
   "metadata": {},
   "outputs": [],
   "source": []
  },
  {
   "cell_type": "code",
   "execution_count": null,
   "id": "nonprofit-semiconductor",
   "metadata": {},
   "outputs": [],
   "source": []
  },
  {
   "cell_type": "code",
   "execution_count": null,
   "id": "authentic-sitting",
   "metadata": {},
   "outputs": [],
   "source": []
  },
  {
   "cell_type": "code",
   "execution_count": null,
   "id": "buried-steps",
   "metadata": {},
   "outputs": [],
   "source": []
  },
  {
   "cell_type": "code",
   "execution_count": 81,
   "id": "engaging-providence",
   "metadata": {},
   "outputs": [],
   "source": [
    "from aif360.datasets import GermanDataset\n",
    "\n",
    "dataset_orig = GermanDataset(\n",
    "    protected_attribute_names=['sex'],           # this dataset also contains protected                                                 # attribute for \"sex\" which we do not                                                 # consider in this evaluation # ignore sex-related attributes\n",
    ")"
   ]
  },
  {
   "cell_type": "code",
   "execution_count": null,
   "id": "exceptional-cabin",
   "metadata": {},
   "outputs": [],
   "source": []
  },
  {
   "cell_type": "code",
   "execution_count": 82,
   "id": "agricultural-civilian",
   "metadata": {},
   "outputs": [
    {
     "data": {
      "text/markdown": [
       "#### Training Dataset shape"
      ],
      "text/plain": [
       "<IPython.core.display.Markdown object>"
      ]
     },
     "metadata": {},
     "output_type": "display_data"
    },
    {
     "name": "stdout",
     "output_type": "stream",
     "text": [
      "(600, 58)\n"
     ]
    },
    {
     "data": {
      "text/markdown": [
       "#### Validation Dataset shape"
      ],
      "text/plain": [
       "<IPython.core.display.Markdown object>"
      ]
     },
     "metadata": {},
     "output_type": "display_data"
    },
    {
     "name": "stdout",
     "output_type": "stream",
     "text": [
      "(200, 58)\n"
     ]
    },
    {
     "data": {
      "text/markdown": [
       "#### Test Dataset shape"
      ],
      "text/plain": [
       "<IPython.core.display.Markdown object>"
      ]
     },
     "metadata": {},
     "output_type": "display_data"
    },
    {
     "name": "stdout",
     "output_type": "stream",
     "text": [
      "(200, 58)\n"
     ]
    },
    {
     "data": {
      "text/markdown": [
       "#### Favorable and unfavorable labels"
      ],
      "text/plain": [
       "<IPython.core.display.Markdown object>"
      ]
     },
     "metadata": {},
     "output_type": "display_data"
    },
    {
     "name": "stdout",
     "output_type": "stream",
     "text": [
      "1.0 2.0\n"
     ]
    },
    {
     "data": {
      "text/markdown": [
       "#### Protected attribute names"
      ],
      "text/plain": [
       "<IPython.core.display.Markdown object>"
      ]
     },
     "metadata": {},
     "output_type": "display_data"
    },
    {
     "name": "stdout",
     "output_type": "stream",
     "text": [
      "['sex', 'age']\n"
     ]
    },
    {
     "data": {
      "text/markdown": [
       "#### Privileged and unprivileged protected attribute values"
      ],
      "text/plain": [
       "<IPython.core.display.Markdown object>"
      ]
     },
     "metadata": {},
     "output_type": "display_data"
    },
    {
     "name": "stdout",
     "output_type": "stream",
     "text": [
      "[array([1.]), array([1.])] [array([0.]), array([0.])]\n"
     ]
    },
    {
     "data": {
      "text/markdown": [
       "#### Dataset feature names"
      ],
      "text/plain": [
       "<IPython.core.display.Markdown object>"
      ]
     },
     "metadata": {},
     "output_type": "display_data"
    },
    {
     "name": "stdout",
     "output_type": "stream",
     "text": [
      "['month', 'credit_amount', 'investment_as_income_percentage', 'residence_since', 'age', 'number_of_credits', 'people_liable_for', 'sex', 'status=A11', 'status=A12', 'status=A13', 'status=A14', 'credit_history=A30', 'credit_history=A31', 'credit_history=A32', 'credit_history=A33', 'credit_history=A34', 'purpose=A40', 'purpose=A41', 'purpose=A410', 'purpose=A42', 'purpose=A43', 'purpose=A44', 'purpose=A45', 'purpose=A46', 'purpose=A48', 'purpose=A49', 'savings=A61', 'savings=A62', 'savings=A63', 'savings=A64', 'savings=A65', 'employment=A71', 'employment=A72', 'employment=A73', 'employment=A74', 'employment=A75', 'other_debtors=A101', 'other_debtors=A102', 'other_debtors=A103', 'property=A121', 'property=A122', 'property=A123', 'property=A124', 'installment_plans=A141', 'installment_plans=A142', 'installment_plans=A143', 'housing=A151', 'housing=A152', 'housing=A153', 'skill_level=A171', 'skill_level=A172', 'skill_level=A173', 'skill_level=A174', 'telephone=A191', 'telephone=A192', 'foreign_worker=A201', 'foreign_worker=A202']\n",
      "Disparate impact (probability of favorable outcome for unprivileged instances / probability of favorable outcome for privileged instances): 0.9299183788347875\n"
     ]
    }
   ],
   "source": [
    "# 3.1. Load data & create splits for learning/validating/testing model¶\n",
    "\n",
    "\n",
    "(dataset_orig_train, dataset_orig_val, dataset_orig_test) = GermanDataset(protected_attribute_names=['sex']).split([0.5, 0.8], shuffle=True)\n",
    "\n",
    "sens_ind = 0\n",
    "sens_attr = dataset_orig_train.protected_attribute_names[sens_ind]\n",
    "\n",
    "unprivileged_groups = [{sens_attr: v} for v in\n",
    "                       dataset_orig_train.unprivileged_protected_attributes[sens_ind]]\n",
    "\n",
    "privileged_groups = [{sens_attr: v} for v in\n",
    "                     dataset_orig_train.privileged_protected_attributes[sens_ind]]\n",
    "\n",
    "\n",
    "def describe(train=None, val=None, test=None):\n",
    "    if train is not None:\n",
    "        display(Markdown(\"#### Training Dataset shape\"))\n",
    "        print(train.features.shape)\n",
    "    if val is not None:\n",
    "        display(Markdown(\"#### Validation Dataset shape\"))\n",
    "        print(val.features.shape)\n",
    "    display(Markdown(\"#### Test Dataset shape\"))\n",
    "    print(test.features.shape)\n",
    "    display(Markdown(\"#### Favorable and unfavorable labels\"))\n",
    "    print(test.favorable_label, test.unfavorable_label)\n",
    "    display(Markdown(\"#### Protected attribute names\"))\n",
    "    print(test.protected_attribute_names)\n",
    "    display(Markdown(\"#### Privileged and unprivileged protected attribute values\"))\n",
    "    print(test.privileged_protected_attributes,\n",
    "          test.unprivileged_protected_attributes)\n",
    "    display(Markdown(\"#### Dataset feature names\"))\n",
    "    print(test.feature_names)\n",
    "\n",
    "\n",
    "describe(dataset_orig_train, dataset_orig_val, dataset_orig_test)\n",
    "\n",
    "metric_orig_train = BinaryLabelDatasetMetric(\n",
    "    dataset_orig_train,\n",
    "    unprivileged_groups=unprivileged_groups,\n",
    "    privileged_groups=privileged_groups)\n",
    "explainer_orig_panel19_train = MetricTextExplainer(metric_orig_train)\n",
    "\n",
    "print(explainer_orig_panel19_train.disparate_impact())"
   ]
  },
  {
   "cell_type": "code",
   "execution_count": 83,
   "id": "interested-performer",
   "metadata": {},
   "outputs": [],
   "source": [
    "# 3.2. Learning a Logistic Regression (LR) classifier on original data¶\n",
    "# 3.2.1. Training LR model on original data\n",
    "\n",
    "dataset = dataset_orig_train\n",
    "model = make_pipeline(StandardScaler(),\n",
    "                      LogisticRegression(solver='liblinear', random_state=1))\n",
    "fit_params = {'logisticregression__sample_weight': dataset.instance_weights}\n",
    "\n",
    "lr_orig = model.fit(dataset.features, dataset.labels.ravel(), **fit_params)"
   ]
  },
  {
   "cell_type": "code",
   "execution_count": 84,
   "id": "comprehensive-jacksonville",
   "metadata": {},
   "outputs": [
    {
     "name": "stdout",
     "output_type": "stream",
     "text": [
      "Validation Scores:\n",
      "Threshold corresponding to Best balanced accuracy: 0.0100\n",
      "Best balanced accuracy: 0.5000\n",
      "Corresponding 1-min(DI, 1/DI) value: 0.0000\n",
      "Corresponding average odds difference value: 0.0000\n",
      "Corresponding statistical parity difference value: 0.0000\n",
      "Corresponding equal opportunity difference value: 0.0000\n",
      "Corresponding Theil index value: 0.0591\n"
     ]
    },
    {
     "name": "stderr",
     "output_type": "stream",
     "text": [
      "Matplotlib is currently using agg, which is a non-GUI backend, so cannot show the figure.\n",
      "Matplotlib is currently using agg, which is a non-GUI backend, so cannot show the figure.\n"
     ]
    },
    {
     "data": {
      "image/png": "[encoded data removed]",
      "text/plain": [
       "<Figure size 720x504 with 2 Axes>"
      ]
     },
     "metadata": {
      "needs_background": "light"
     },
     "output_type": "display_data"
    },
    {
     "data": {
      "image/png": "[encoded data removed]",
      "text/plain": [
       "<Figure size 720x504 with 2 Axes>"
      ]
     },
     "metadata": {
      "needs_background": "light"
     },
     "output_type": "display_data"
    }
   ],
   "source": [
    "# 3.2.2. Validating LR model on original data¶\n",
    "\n",
    "from collections import defaultdict\n",
    "\n",
    "\n",
    "def test(dataset, model, thresh_arr):\n",
    "    try:\n",
    "        # sklearn classifier\n",
    "        y_val_pred_prob = model.predict_proba(dataset.features)\n",
    "        pos_ind = np.where(model.classes_ == dataset.favorable_label)[0][0]\n",
    "    except AttributeError:\n",
    "        # aif360 inprocessing algorithm\n",
    "        y_val_pred_prob = model.predict(dataset).scores\n",
    "        pos_ind = 0\n",
    "\n",
    "    metric_arrs = defaultdict(list)\n",
    "    for thresh in thresh_arr:\n",
    "        y_val_pred = (y_val_pred_prob[:, pos_ind] > thresh).astype(np.float64)\n",
    "\n",
    "        dataset_pred = dataset.copy()\n",
    "        dataset_pred.labels = y_val_pred\n",
    "        metric = ClassificationMetric(\n",
    "            dataset, dataset_pred,\n",
    "            unprivileged_groups=unprivileged_groups,\n",
    "            privileged_groups=privileged_groups)\n",
    "\n",
    "        metric_arrs['bal_acc'].append((metric.true_positive_rate()\n",
    "                                       + metric.true_negative_rate()) / 2)\n",
    "        metric_arrs['avg_odds_diff'].append(metric.average_odds_difference())\n",
    "        metric_arrs['disp_imp'].append(metric.disparate_impact())\n",
    "        metric_arrs['stat_par_diff'].append(metric.statistical_parity_difference())\n",
    "        metric_arrs['eq_opp_diff'].append(metric.equal_opportunity_difference())\n",
    "        metric_arrs['theil_ind'].append(metric.theil_index())\n",
    "\n",
    "    return metric_arrs\n",
    "\n",
    "\n",
    "thresh_arr = np.linspace(0.01, 0.5, 50)\n",
    "val_metrics = test(dataset=dataset_orig_val,\n",
    "                   model=lr_orig,\n",
    "                   thresh_arr=thresh_arr)\n",
    "lr_orig_best_ind = np.argmax(val_metrics['bal_acc'])\n",
    "\n",
    "\n",
    "def plot(x, x_name, y_left, y_left_name, y_right, y_right_name):\n",
    "    fig, ax1 = plt.subplots(figsize=(10, 7))\n",
    "    ax1.plot(x, y_left)\n",
    "    ax1.set_xlabel(x_name, fontsize=16, fontweight='bold')\n",
    "    ax1.set_ylabel(y_left_name, color='b', fontsize=16, fontweight='bold')\n",
    "    ax1.xaxis.set_tick_params(labelsize=14)\n",
    "    ax1.yaxis.set_tick_params(labelsize=14)\n",
    "    ax1.set_ylim(0.5, 0.8)\n",
    "\n",
    "    ax2 = ax1.twinx()\n",
    "    ax2.plot(x, y_right, color='r')\n",
    "    ax2.set_ylabel(y_right_name, color='r', fontsize=16, fontweight='bold')\n",
    "    if 'DI' in y_right_name:\n",
    "        ax2.set_ylim(0., 0.7)\n",
    "    else:\n",
    "        ax2.set_ylim(-0.25, 0.1)\n",
    "\n",
    "    best_ind = np.argmax(y_left)\n",
    "    ax2.axvline(np.array(x)[best_ind], color='k', linestyle=':')\n",
    "    ax2.yaxis.set_tick_params(labelsize=14)\n",
    "    ax2.grid(True)\n",
    "    plt.show()\n",
    "    \n",
    "    \n",
    "disp_imp = np.array(val_metrics['disp_imp'])\n",
    "disp_imp_err = 1 - np.minimum(disp_imp, 1 / disp_imp)\n",
    "plot(thresh_arr, 'Classification Thresholds',\n",
    "     val_metrics['bal_acc'], 'Balanced Accuracy',\n",
    "     disp_imp_err, '1 - min(DI, 1/DI)')\n",
    "\n",
    "plot(thresh_arr, 'Classification Thresholds',\n",
    "     val_metrics['bal_acc'], 'Balanced Accuracy',\n",
    "     val_metrics['avg_odds_diff'], 'avg. odds diff.')\n",
    "\n",
    "def describe_metrics(metrics, thresh_arr):\n",
    "    best_ind = np.argmax(metrics['bal_acc'])\n",
    "    print(\"Threshold corresponding to Best balanced accuracy: {:6.4f}\".format(thresh_arr[best_ind]))\n",
    "    print(\"Best balanced accuracy: {:6.4f}\".format(metrics['bal_acc'][best_ind]))\n",
    "#     disp_imp_at_best_ind = np.abs(1 - np.array(metrics['disp_imp']))[best_ind]\n",
    "    disp_imp_at_best_ind = 1 - min(metrics['disp_imp'][best_ind], 1/metrics['disp_imp'][best_ind])\n",
    "    print(\"Corresponding 1-min(DI, 1/DI) value: {:6.4f}\".format(disp_imp_at_best_ind))\n",
    "    print(\"Corresponding average odds difference value: {:6.4f}\".format(metrics['avg_odds_diff'][best_ind]))\n",
    "    print(\"Corresponding statistical parity difference value: {:6.4f}\".format(metrics['stat_par_diff'][best_ind]))\n",
    "    print(\"Corresponding equal opportunity difference value: {:6.4f}\".format(metrics['eq_opp_diff'][best_ind]))\n",
    "    print(\"Corresponding Theil index value: {:6.4f}\".format(metrics['theil_ind'][best_ind]))\n",
    "\n",
    "\n",
    "print(\"Validation Scores:\")\n",
    "describe_metrics(val_metrics, thresh_arr)"
   ]
  },
  {
   "cell_type": "code",
   "execution_count": 85,
   "id": "herbal-estonia",
   "metadata": {},
   "outputs": [
    {
     "name": "stdout",
     "output_type": "stream",
     "text": [
      "Test Scores:\n",
      "Threshold corresponding to Best balanced accuracy: 0.0100\n",
      "Best balanced accuracy: 0.5000\n",
      "Corresponding 1-min(DI, 1/DI) value: 0.0000\n",
      "Corresponding average odds difference value: 0.0000\n",
      "Corresponding statistical parity difference value: 0.0000\n",
      "Corresponding equal opportunity difference value: 0.0000\n",
      "Corresponding Theil index value: 0.0584\n",
      "Disparate impact (probability of favorable outcome for unprivileged instances / probability of favorable outcome for privileged instances): 0.9999999999999997\n"
     ]
    }
   ],
   "source": [
    "#3.2.3. Testing LR model on original data¶\n",
    "\n",
    "print(\"Test Scores:\")\n",
    "lr_orig_metrics = test(dataset=dataset_orig_test,\n",
    "                       model=lr_orig,\n",
    "                       thresh_arr=[thresh_arr[lr_orig_best_ind]])\n",
    "\n",
    "describe_metrics(lr_orig_metrics, [thresh_arr[lr_orig_best_ind]])\n",
    "\n",
    "#4. Bias mitigation using pre-processing technique - Reweighing¶\n",
    "\n",
    "#4.1. Transform data¶\n",
    "RW = Reweighing(unprivileged_groups=unprivileged_groups,\n",
    "                privileged_groups=privileged_groups)\n",
    "dataset_transf_train = RW.fit_transform(dataset_orig_train)\n",
    "\n",
    "#Metrics for transformed data\n",
    "\n",
    "metric_transf_train = BinaryLabelDatasetMetric(\n",
    "        dataset_transf_train,\n",
    "        unprivileged_groups=unprivileged_groups,\n",
    "        privileged_groups=privileged_groups)\n",
    "explainer_transf_train = MetricTextExplainer(metric_transf_train)\n",
    "\n",
    "print(explainer_transf_train.disparate_impact())"
   ]
  },
  {
   "cell_type": "code",
   "execution_count": 86,
   "id": "ordinary-kelly",
   "metadata": {
    "scrolled": false
   },
   "outputs": [
    {
     "name": "stdout",
     "output_type": "stream",
     "text": [
      "Threshold corresponding to Best balanced accuracy: 0.0100\n",
      "Best balanced accuracy: 0.5000\n",
      "Corresponding 1-min(DI, 1/DI) value: 0.0000\n",
      "Corresponding average odds difference value: 0.0000\n",
      "Corresponding statistical parity difference value: 0.0000\n",
      "Corresponding equal opportunity difference value: 0.0000\n",
      "Corresponding Theil index value: 0.0591\n"
     ]
    },
    {
     "name": "stderr",
     "output_type": "stream",
     "text": [
      "Matplotlib is currently using agg, which is a non-GUI backend, so cannot show the figure.\n",
      "Matplotlib is currently using agg, which is a non-GUI backend, so cannot show the figure.\n"
     ]
    },
    {
     "data": {
      "image/png": "[encoded data removed]",
      "text/plain": [
       "<Figure size 720x504 with 2 Axes>"
      ]
     },
     "metadata": {
      "needs_background": "light"
     },
     "output_type": "display_data"
    },
    {
     "data": {
      "image/png": "[encoded data removed]",
      "text/plain": [
       "<Figure size 720x504 with 2 Axes>"
      ]
     },
     "metadata": {
      "needs_background": "light"
     },
     "output_type": "display_data"
    }
   ],
   "source": [
    "#4.2. Learning a Logistic Regression (LR) classifier on data transformed by reweighing¶\n",
    "\n",
    "#4.2.1. Training LR model after reweighing¶\n",
    "dataset = dataset_transf_train\n",
    "model = make_pipeline(StandardScaler(),\n",
    "                      LogisticRegression(solver='liblinear', random_state=1))\n",
    "fit_params = {'logisticregression__sample_weight': dataset.instance_weights}\n",
    "lr_transf = model.fit(dataset.features, dataset.labels.ravel(), **fit_params)\n",
    "\n",
    "#4.2.2. Validating LR model after reweighing¶\n",
    "\n",
    "\n",
    "thresh_arr = np.linspace(0.01, 0.5, 50)\n",
    "val_metrics = test(dataset=dataset_orig_val,\n",
    "                   model=lr_transf,\n",
    "                   thresh_arr=thresh_arr)\n",
    "lr_transf_best_ind = np.argmax(val_metrics['bal_acc'])\n",
    "\n",
    "disp_imp = np.array(val_metrics['disp_imp'])\n",
    "disp_imp_err = 1 - np.minimum(disp_imp, 1/disp_imp)\n",
    "\n",
    "plot(thresh_arr, 'Classification Thresholds',\n",
    "     val_metrics['bal_acc'], 'Balanced Accuracy',\n",
    "     disp_imp_err, '1 - min(DI, 1/DI)')\n",
    "\n",
    "plot(thresh_arr, 'Classification Thresholds',\n",
    "     val_metrics['bal_acc'], 'Balanced Accuracy',\n",
    "     val_metrics['avg_odds_diff'], 'avg. odds diff.')\n",
    "\n",
    "describe_metrics(val_metrics, thresh_arr)\n"
   ]
  },
  {
   "cell_type": "code",
   "execution_count": 87,
   "id": "polished-murder",
   "metadata": {},
   "outputs": [
    {
     "name": "stdout",
     "output_type": "stream",
     "text": [
      "Threshold corresponding to Best balanced accuracy: 0.0100\n",
      "Best balanced accuracy: 0.5000\n",
      "Corresponding 1-min(DI, 1/DI) value: 0.0000\n",
      "Corresponding average odds difference value: 0.0000\n",
      "Corresponding statistical parity difference value: 0.0000\n",
      "Corresponding equal opportunity difference value: 0.0000\n",
      "Corresponding Theil index value: 0.0584\n"
     ]
    }
   ],
   "source": [
    "#4.2.3. Testing LR model after reweighing¶\n",
    "lr_transf_metrics = test(dataset=dataset_orig_test,\n",
    "                         model=lr_transf,\n",
    "                         thresh_arr=[thresh_arr[lr_transf_best_ind]])\n",
    "describe_metrics(lr_transf_metrics, [thresh_arr[lr_transf_best_ind]])\n"
   ]
  },
  {
   "cell_type": "code",
   "execution_count": 88,
   "id": "indie-pitch",
   "metadata": {},
   "outputs": [
    {
     "name": "stderr",
     "output_type": "stream",
     "text": [
      "Matplotlib is currently using agg, which is a non-GUI backend, so cannot show the figure.\n",
      "Matplotlib is currently using agg, which is a non-GUI backend, so cannot show the figure.\n"
     ]
    },
    {
     "name": "stdout",
     "output_type": "stream",
     "text": [
      "Threshold corresponding to Best balanced accuracy: 0.0100\n",
      "Best balanced accuracy: 0.5000\n",
      "Corresponding 1-min(DI, 1/DI) value: 0.0000\n",
      "Corresponding average odds difference value: 0.0000\n",
      "Corresponding statistical parity difference value: 0.0000\n",
      "Corresponding equal opportunity difference value: 0.0000\n",
      "Corresponding Theil index value: 0.0591\n"
     ]
    },
    {
     "data": {
      "image/png": "[encoded data removed]",
      "text/plain": [
       "<Figure size 720x504 with 2 Axes>"
      ]
     },
     "metadata": {
      "needs_background": "light"
     },
     "output_type": "display_data"
    },
    {
     "data": {
      "image/png": "[encoded data removed]",
      "text/plain": [
       "<Figure size 720x504 with 2 Axes>"
      ]
     },
     "metadata": {
      "needs_background": "light"
     },
     "output_type": "display_data"
    }
   ],
   "source": [
    "#5. Bias mitigation using in-processing technique - Prejudice Remover (PR)¶\n",
    "\n",
    "#5.1.1. Training a PR model\n",
    "model = PrejudiceRemover(sensitive_attr=sens_attr, eta=25.0)\n",
    "pr_orig_scaler = StandardScaler()\n",
    "\n",
    "dataset = dataset_orig_train.copy()\n",
    "dataset.features = pr_orig_scaler.fit_transform(dataset.features)\n",
    "\n",
    "pr_orig = model.fit(dataset)\n",
    "\n",
    "#5.1.2. Validating PR model¶\n",
    "\n",
    "thresh_arr = np.linspace(0.01, 0.50, 50)\n",
    "\n",
    "dataset = dataset_orig_val.copy()\n",
    "dataset.features = pr_orig_scaler.transform(dataset.features)\n",
    "\n",
    "val_metrics = test(dataset=dataset,\n",
    "                   model=pr_orig,\n",
    "                   thresh_arr=thresh_arr)\n",
    "pr_orig_best_ind = np.argmax(val_metrics['bal_acc'])\n",
    "disp_imp = np.array(val_metrics['disp_imp'])\n",
    "disp_imp_err = 1 - np.minimum(disp_imp, 1/disp_imp)\n",
    "\n",
    "plot(thresh_arr, 'Classification Thresholds',\n",
    "     val_metrics['bal_acc'], 'Balanced Accuracy',\n",
    "     disp_imp_err, '1 - min(DI, 1/DI)')\n",
    "\n",
    "plot(thresh_arr, 'Classification Thresholds',\n",
    "     val_metrics['bal_acc'], 'Balanced Accuracy',\n",
    "     val_metrics['avg_odds_diff'], 'avg. odds diff.')\n",
    "\n",
    "describe_metrics(val_metrics, thresh_arr)\n"
   ]
  },
  {
   "cell_type": "code",
   "execution_count": 89,
   "id": "departmental-barrel",
   "metadata": {},
   "outputs": [
    {
     "name": "stdout",
     "output_type": "stream",
     "text": [
      "Threshold corresponding to Best balanced accuracy: 0.0100\n",
      "Best balanced accuracy: 0.5000\n",
      "Corresponding 1-min(DI, 1/DI) value: 0.0328\n",
      "Corresponding average odds difference value: -0.0417\n",
      "Corresponding statistical parity difference value: -0.0328\n",
      "Corresponding equal opportunity difference value: 0.0000\n",
      "Corresponding Theil index value: 0.0580\n"
     ]
    }
   ],
   "source": [
    "#5.1.3. Testing PR model¶\n",
    "\n",
    "dataset = dataset_orig_test.copy()\n",
    "dataset.features = pr_orig_scaler.transform(dataset.features)\n",
    "\n",
    "pr_orig_metrics = test(dataset=dataset,\n",
    "                       model=pr_orig,\n",
    "                       thresh_arr=[thresh_arr[pr_orig_best_ind]])\n",
    "describe_metrics(pr_orig_metrics, [thresh_arr[pr_orig_best_ind]])"
   ]
  },
  {
   "cell_type": "code",
   "execution_count": 90,
   "id": "indonesian-examination",
   "metadata": {},
   "outputs": [
    {
     "data": {
      "text/html": [
       "<div>\n",
       "<style scoped>\n",
       "    .dataframe tbody tr th:only-of-type {\n",
       "        vertical-align: middle;\n",
       "    }\n",
       "\n",
       "    .dataframe tbody tr th {\n",
       "        vertical-align: top;\n",
       "    }\n",
       "\n",
       "    .dataframe thead th {\n",
       "        text-align: right;\n",
       "    }\n",
       "</style>\n",
       "<table border=\"1\" class=\"dataframe\">\n",
       "  <thead>\n",
       "    <tr style=\"text-align: right;\">\n",
       "      <th></th>\n",
       "      <th></th>\n",
       "      <th>bal_acc</th>\n",
       "      <th>avg_odds_diff</th>\n",
       "      <th>disp_imp</th>\n",
       "      <th>stat_par_diff</th>\n",
       "      <th>eq_opp_diff</th>\n",
       "      <th>theil_ind</th>\n",
       "    </tr>\n",
       "    <tr>\n",
       "      <th>Bias Mitigator</th>\n",
       "      <th>Classifier</th>\n",
       "      <th></th>\n",
       "      <th></th>\n",
       "      <th></th>\n",
       "      <th></th>\n",
       "      <th></th>\n",
       "      <th></th>\n",
       "    </tr>\n",
       "  </thead>\n",
       "  <tbody>\n",
       "    <tr>\n",
       "      <th></th>\n",
       "      <th>Logistic Regression</th>\n",
       "      <td>0.5</td>\n",
       "      <td>0.000000</td>\n",
       "      <td>1.000000</td>\n",
       "      <td>0.000000</td>\n",
       "      <td>0.0</td>\n",
       "      <td>0.058440</td>\n",
       "    </tr>\n",
       "    <tr>\n",
       "      <th>Reweighing</th>\n",
       "      <th>Logistic Regression</th>\n",
       "      <td>0.5</td>\n",
       "      <td>0.000000</td>\n",
       "      <td>1.000000</td>\n",
       "      <td>0.000000</td>\n",
       "      <td>0.0</td>\n",
       "      <td>0.058440</td>\n",
       "    </tr>\n",
       "    <tr>\n",
       "      <th>Prejudice Remover</th>\n",
       "      <th></th>\n",
       "      <td>0.5</td>\n",
       "      <td>-0.041667</td>\n",
       "      <td>0.967213</td>\n",
       "      <td>-0.032787</td>\n",
       "      <td>0.0</td>\n",
       "      <td>0.058027</td>\n",
       "    </tr>\n",
       "  </tbody>\n",
       "</table>\n",
       "</div>"
      ],
      "text/plain": [
       "                                       bal_acc  avg_odds_diff  disp_imp  \\\n",
       "Bias Mitigator    Classifier                                              \n",
       "                  Logistic Regression      0.5       0.000000  1.000000   \n",
       "Reweighing        Logistic Regression      0.5       0.000000  1.000000   \n",
       "Prejudice Remover                          0.5      -0.041667  0.967213   \n",
       "\n",
       "                                       stat_par_diff  eq_opp_diff  theil_ind  \n",
       "Bias Mitigator    Classifier                                                  \n",
       "                  Logistic Regression       0.000000          0.0   0.058440  \n",
       "Reweighing        Logistic Regression       0.000000          0.0   0.058440  \n",
       "Prejudice Remover                          -0.032787          0.0   0.058027  "
      ]
     },
     "execution_count": 90,
     "metadata": {},
     "output_type": "execute_result"
    }
   ],
   "source": [
    "import pandas as pd\n",
    "pd.set_option('display.multi_sparse', False)\n",
    "results = [lr_orig_metrics, lr_transf_metrics,\n",
    "            pr_orig_metrics]\n",
    "debias = pd.Series([''] + ['Reweighing']\n",
    "                 + ['Prejudice Remover'],\n",
    "                   name='Bias Mitigator')\n",
    "clf = pd.Series(['Logistic Regression']*2 + [''],\n",
    "                name='Classifier')\n",
    "pd.concat([pd.DataFrame(metrics) for metrics in results], axis=0).set_index([debias, clf])"
   ]
  },
  {
   "cell_type": "code",
   "execution_count": 91,
   "id": "twenty-digit",
   "metadata": {},
   "outputs": [],
   "source": [
    "#Disparate Impact Remover\n",
    "\n",
    "from aif360.algorithms.preprocessing import DisparateImpactRemover\n"
   ]
  },
  {
   "cell_type": "code",
   "execution_count": 92,
   "id": "separate-dining",
   "metadata": {},
   "outputs": [
    {
     "name": "stdout",
     "output_type": "stream",
     "text": [
      "Test Scores:\n",
      "Threshold corresponding to Best balanced accuracy: 0.0100\n",
      "Best balanced accuracy: 0.5000\n",
      "Corresponding 1-min(DI, 1/DI) value: 0.0000\n",
      "Corresponding average odds difference value: 0.0000\n",
      "Corresponding statistical parity difference value: 0.0000\n",
      "Corresponding equal opportunity difference value: 0.0000\n",
      "Corresponding Theil index value: 0.0584\n",
      "Disparate impact (probability of favorable outcome for unprivileged instances / probability of favorable outcome for privileged instances): 0.9299183788347875\n"
     ]
    }
   ],
   "source": [
    "#3.2.3. Testing LR model on original data¶\n",
    "\n",
    "print(\"Test Scores:\")\n",
    "lr_orig_metrics = test(dataset=dataset_orig_test,\n",
    "                       model=lr_orig,\n",
    "                       thresh_arr=[thresh_arr[lr_orig_best_ind]])\n",
    "\n",
    "describe_metrics(lr_orig_metrics, [thresh_arr[lr_orig_best_ind]])\n",
    "\n",
    "#4. Bias mitigation using pre-processing technique - Disparate Impact Remover¶\n",
    "\n",
    "#4.1. Transform data¶\n",
    "\n",
    "\n",
    "di = DisparateImpactRemover(repair_level=1.0)\n",
    "dataset_transf_train = di.fit_transform(dataset_orig_train)\n",
    "dataset_transf_test = di.fit_transform(dataset_orig_test)\n",
    "\n",
    "#Metrics for transformed data\n",
    "\n",
    "metric_transf_train = BinaryLabelDatasetMetric(\n",
    "        dataset_transf_train,\n",
    "        unprivileged_groups=unprivileged_groups,\n",
    "        privileged_groups=privileged_groups)\n",
    "explainer_transf_train = MetricTextExplainer(metric_transf_train)\n",
    "\n",
    "print(explainer_transf_train.disparate_impact())"
   ]
  },
  {
   "cell_type": "code",
   "execution_count": 93,
   "id": "bizarre-anime",
   "metadata": {},
   "outputs": [
    {
     "name": "stdout",
     "output_type": "stream",
     "text": [
      "Threshold corresponding to Best balanced accuracy: 0.0100\n",
      "Best balanced accuracy: 0.5000\n",
      "Corresponding 1-min(DI, 1/DI) value: 0.0000\n",
      "Corresponding average odds difference value: 0.0000\n",
      "Corresponding statistical parity difference value: 0.0000\n",
      "Corresponding equal opportunity difference value: 0.0000\n",
      "Corresponding Theil index value: 0.0591\n"
     ]
    },
    {
     "name": "stderr",
     "output_type": "stream",
     "text": [
      "Matplotlib is currently using agg, which is a non-GUI backend, so cannot show the figure.\n",
      "Matplotlib is currently using agg, which is a non-GUI backend, so cannot show the figure.\n"
     ]
    },
    {
     "data": {
      "image/png": "[encoded data removed]",
      "text/plain": [
       "<Figure size 720x504 with 2 Axes>"
      ]
     },
     "metadata": {
      "needs_background": "light"
     },
     "output_type": "display_data"
    },
    {
     "data": {
      "image/png": "[encoded data removed]",
      "text/plain": [
       "<Figure size 720x504 with 2 Axes>"
      ]
     },
     "metadata": {
      "needs_background": "light"
     },
     "output_type": "display_data"
    }
   ],
   "source": [
    "#4.2.1. Training LR model after Disparate Impact Remover¶\n",
    "dataset = dataset_transf_train\n",
    "model = make_pipeline(StandardScaler(),\n",
    "                      LogisticRegression(solver='liblinear', random_state=1))\n",
    "fit_params = {'logisticregression__sample_weight': dataset.instance_weights}\n",
    "lr_transf = model.fit(dataset.features, dataset.labels.ravel(), **fit_params)\n",
    "\n",
    "#4.2.2. Validating LR model after Disdparate impact Remover¶\n",
    "\n",
    "\n",
    "thresh_arr = np.linspace(0.01, 0.5, 50)\n",
    "val_metrics = test(dataset=dataset_orig_val,\n",
    "                   model=lr_transf,\n",
    "                   thresh_arr=thresh_arr)\n",
    "lr_transf_best_ind = np.argmax(val_metrics['bal_acc'])\n",
    "\n",
    "disp_imp = np.array(val_metrics['disp_imp'])\n",
    "disp_imp_err = 1 - np.minimum(disp_imp, 1/disp_imp)\n",
    "\n",
    "plot(thresh_arr, 'Classification Thresholds',\n",
    "     val_metrics['bal_acc'], 'Balanced Accuracy',\n",
    "     disp_imp_err, '1 - min(DI, 1/DI)')\n",
    "\n",
    "plot(thresh_arr, 'Classification Thresholds',\n",
    "     val_metrics['bal_acc'], 'Balanced Accuracy',\n",
    "     val_metrics['avg_odds_diff'], 'avg. odds diff.')\n",
    "\n",
    "describe_metrics(val_metrics, thresh_arr)"
   ]
  },
  {
   "cell_type": "code",
   "execution_count": 94,
   "id": "prescribed-council",
   "metadata": {},
   "outputs": [
    {
     "name": "stdout",
     "output_type": "stream",
     "text": [
      "Threshold corresponding to Best balanced accuracy: 0.0100\n",
      "Best balanced accuracy: 0.5000\n",
      "Corresponding 1-min(DI, 1/DI) value: 0.0000\n",
      "Corresponding average odds difference value: 0.0000\n",
      "Corresponding statistical parity difference value: 0.0000\n",
      "Corresponding equal opportunity difference value: 0.0000\n",
      "Corresponding Theil index value: 0.0584\n"
     ]
    }
   ],
   "source": [
    "#Test LR DIR Model\n",
    "\n",
    "lr_metrics_DIR = test(dataset=dataset_orig_test,\n",
    "                         model=lr_transf,\n",
    "                         thresh_arr=[thresh_arr[lr_transf_best_ind]])\n",
    "describe_metrics(lr_metrics_DIR, [thresh_arr[lr_transf_best_ind]])"
   ]
  },
  {
   "cell_type": "code",
   "execution_count": 95,
   "id": "electrical-cursor",
   "metadata": {},
   "outputs": [
    {
     "data": {
      "text/html": [
       "<div>\n",
       "<style scoped>\n",
       "    .dataframe tbody tr th:only-of-type {\n",
       "        vertical-align: middle;\n",
       "    }\n",
       "\n",
       "    .dataframe tbody tr th {\n",
       "        vertical-align: top;\n",
       "    }\n",
       "\n",
       "    .dataframe thead th {\n",
       "        text-align: right;\n",
       "    }\n",
       "</style>\n",
       "<table border=\"1\" class=\"dataframe\">\n",
       "  <thead>\n",
       "    <tr style=\"text-align: right;\">\n",
       "      <th></th>\n",
       "      <th></th>\n",
       "      <th>bal_acc</th>\n",
       "      <th>avg_odds_diff</th>\n",
       "      <th>disp_imp</th>\n",
       "      <th>stat_par_diff</th>\n",
       "      <th>eq_opp_diff</th>\n",
       "      <th>theil_ind</th>\n",
       "    </tr>\n",
       "    <tr>\n",
       "      <th>Bias Mitigator</th>\n",
       "      <th>Classifier</th>\n",
       "      <th></th>\n",
       "      <th></th>\n",
       "      <th></th>\n",
       "      <th></th>\n",
       "      <th></th>\n",
       "      <th></th>\n",
       "    </tr>\n",
       "  </thead>\n",
       "  <tbody>\n",
       "    <tr>\n",
       "      <th></th>\n",
       "      <th>Logistic Regression</th>\n",
       "      <td>0.5</td>\n",
       "      <td>0.000000</td>\n",
       "      <td>1.000000</td>\n",
       "      <td>0.000000</td>\n",
       "      <td>0.0</td>\n",
       "      <td>0.058440</td>\n",
       "    </tr>\n",
       "    <tr>\n",
       "      <th>Reweighing</th>\n",
       "      <th>Logistic Regression</th>\n",
       "      <td>0.5</td>\n",
       "      <td>0.000000</td>\n",
       "      <td>1.000000</td>\n",
       "      <td>0.000000</td>\n",
       "      <td>0.0</td>\n",
       "      <td>0.058440</td>\n",
       "    </tr>\n",
       "    <tr>\n",
       "      <th>Prejudice Remover</th>\n",
       "      <th></th>\n",
       "      <td>0.5</td>\n",
       "      <td>-0.041667</td>\n",
       "      <td>0.967213</td>\n",
       "      <td>-0.032787</td>\n",
       "      <td>0.0</td>\n",
       "      <td>0.058027</td>\n",
       "    </tr>\n",
       "    <tr>\n",
       "      <th>Disparate Impact Remover</th>\n",
       "      <th>Logistic Regression</th>\n",
       "      <td>0.5</td>\n",
       "      <td>0.000000</td>\n",
       "      <td>1.000000</td>\n",
       "      <td>0.000000</td>\n",
       "      <td>0.0</td>\n",
       "      <td>0.058440</td>\n",
       "    </tr>\n",
       "  </tbody>\n",
       "</table>\n",
       "</div>"
      ],
      "text/plain": [
       "                                              bal_acc  avg_odds_diff  \\\n",
       "Bias Mitigator           Classifier                                    \n",
       "                         Logistic Regression      0.5       0.000000   \n",
       "Reweighing               Logistic Regression      0.5       0.000000   \n",
       "Prejudice Remover                                 0.5      -0.041667   \n",
       "Disparate Impact Remover Logistic Regression      0.5       0.000000   \n",
       "\n",
       "                                              disp_imp  stat_par_diff  \\\n",
       "Bias Mitigator           Classifier                                     \n",
       "                         Logistic Regression  1.000000       0.000000   \n",
       "Reweighing               Logistic Regression  1.000000       0.000000   \n",
       "Prejudice Remover                             0.967213      -0.032787   \n",
       "Disparate Impact Remover Logistic Regression  1.000000       0.000000   \n",
       "\n",
       "                                              eq_opp_diff  theil_ind  \n",
       "Bias Mitigator           Classifier                                   \n",
       "                         Logistic Regression          0.0   0.058440  \n",
       "Reweighing               Logistic Regression          0.0   0.058440  \n",
       "Prejudice Remover                                     0.0   0.058027  \n",
       "Disparate Impact Remover Logistic Regression          0.0   0.058440  "
      ]
     },
     "execution_count": 95,
     "metadata": {},
     "output_type": "execute_result"
    }
   ],
   "source": [
    "import pandas as pd\n",
    "pd.set_option('display.multi_sparse', False)\n",
    "results = [lr_orig_metrics, lr_transf_metrics,\n",
    "            pr_orig_metrics, lr_metrics_DIR]\n",
    "debias = pd.Series([''] + ['Reweighing']\n",
    "                 + ['Prejudice Remover'] + [\"Disparate Impact Remover\"],\n",
    "                   name='Bias Mitigator')\n",
    "clf = pd.Series(['Logistic Regression']*2 + [''] + [\"Logistic Regression\"],\n",
    "                name='Classifier')\n",
    "pd.concat([pd.DataFrame(metrics) for metrics in results], axis=0).set_index([debias, clf])"
   ]
  },
  {
   "cell_type": "code",
   "execution_count": null,
   "id": "soviet-feelings",
   "metadata": {},
   "outputs": [],
   "source": []
  },
  {
   "cell_type": "code",
   "execution_count": 96,
   "id": "cloudy-ethics",
   "metadata": {},
   "outputs": [
    {
     "data": {
      "text/markdown": [
       "#### Original training dataset"
      ],
      "text/plain": [
       "<IPython.core.display.Markdown object>"
      ]
     },
     "metadata": {},
     "output_type": "display_data"
    },
    {
     "name": "stdout",
     "output_type": "stream",
     "text": [
      "Train set: Difference in mean outcomes between unprivileged and privileged groups = -0.051586\n",
      "Test set: Difference in mean outcomes between unprivileged and privileged groups = -0.105673\n"
     ]
    }
   ],
   "source": [
    "from aif360.algorithms.inprocessing.adversarial_debiasing import AdversarialDebiasing\n",
    "from aif360.metrics import ClassificationMetric\n",
    "from sklearn.preprocessing import MaxAbsScaler\n",
    "import tensorflow.compat.v1 as tf\n",
    "tf.disable_eager_execution()\n",
    "\n",
    "\n",
    "# Metric for the original dataset\n",
    "metric_orig_train = BinaryLabelDatasetMetric(dataset_orig_train, \n",
    "                                             unprivileged_groups=unprivileged_groups,\n",
    "                                             privileged_groups=privileged_groups)\n",
    "display(Markdown(\"#### Original training dataset\"))\n",
    "print(\"Train set: Difference in mean outcomes between unprivileged and privileged groups = %f\" % metric_orig_train.mean_difference())\n",
    "metric_orig_test = BinaryLabelDatasetMetric(dataset_orig_test, \n",
    "                                             unprivileged_groups=unprivileged_groups,\n",
    "                                             privileged_groups=privileged_groups)\n",
    "print(\"Test set: Difference in mean outcomes between unprivileged and privileged groups = %f\" % metric_orig_test.mean_difference())"
   ]
  },
  {
   "cell_type": "code",
   "execution_count": 97,
   "id": "needed-lotus",
   "metadata": {},
   "outputs": [
    {
     "data": {
      "text/markdown": [
       "#### Scaled dataset - Verify that the scaling does not affect the group label statistics"
      ],
      "text/plain": [
       "<IPython.core.display.Markdown object>"
      ]
     },
     "metadata": {},
     "output_type": "display_data"
    },
    {
     "name": "stdout",
     "output_type": "stream",
     "text": [
      "Train set: Difference in mean outcomes between unprivileged and privileged groups = -0.051586\n",
      "Test set: Difference in mean outcomes between unprivileged and privileged groups = -0.105673\n"
     ]
    }
   ],
   "source": [
    "min_max_scaler = MaxAbsScaler()\n",
    "dataset_orig_train.features = min_max_scaler.fit_transform(dataset_orig_train.features)\n",
    "dataset_orig_test.features = min_max_scaler.transform(dataset_orig_test.features)\n",
    "metric_scaled_train = BinaryLabelDatasetMetric(dataset_orig_train, \n",
    "                             unprivileged_groups=unprivileged_groups,\n",
    "                             privileged_groups=privileged_groups)\n",
    "display(Markdown(\"#### Scaled dataset - Verify that the scaling does not affect the group label statistics\"))\n",
    "print(\"Train set: Difference in mean outcomes between unprivileged and privileged groups = %f\" % metric_scaled_train.mean_difference())\n",
    "metric_scaled_test = BinaryLabelDatasetMetric(dataset_orig_test, \n",
    "                             unprivileged_groups=unprivileged_groups,\n",
    "                             privileged_groups=privileged_groups)\n",
    "print(\"Test set: Difference in mean outcomes between unprivileged and privileged groups = %f\" % metric_scaled_test.mean_difference())"
   ]
  },
  {
   "cell_type": "code",
   "execution_count": 98,
   "id": "worthy-nutrition",
   "metadata": {},
   "outputs": [
    {
     "name": "stdout",
     "output_type": "stream",
     "text": [
      "epoch 0; iter: 0; batch classifier loss: 0.833862\n",
      "epoch 1; iter: 0; batch classifier loss: 0.690688\n",
      "epoch 2; iter: 0; batch classifier loss: 0.576258\n",
      "epoch 3; iter: 0; batch classifier loss: 0.576724\n",
      "epoch 4; iter: 0; batch classifier loss: 0.616521\n",
      "epoch 5; iter: 0; batch classifier loss: 0.615689\n",
      "epoch 6; iter: 0; batch classifier loss: 0.643348\n",
      "epoch 7; iter: 0; batch classifier loss: 0.529663\n",
      "epoch 8; iter: 0; batch classifier loss: 0.528079\n",
      "epoch 9; iter: 0; batch classifier loss: 0.516189\n",
      "epoch 10; iter: 0; batch classifier loss: 0.547635\n",
      "epoch 11; iter: 0; batch classifier loss: 0.535794\n",
      "epoch 12; iter: 0; batch classifier loss: 0.470130\n",
      "epoch 13; iter: 0; batch classifier loss: 0.461391\n",
      "epoch 14; iter: 0; batch classifier loss: 0.466745\n",
      "epoch 15; iter: 0; batch classifier loss: 0.458562\n",
      "epoch 16; iter: 0; batch classifier loss: 0.367181\n",
      "epoch 17; iter: 0; batch classifier loss: 0.445803\n",
      "epoch 18; iter: 0; batch classifier loss: 0.424319\n",
      "epoch 19; iter: 0; batch classifier loss: 0.458445\n",
      "epoch 20; iter: 0; batch classifier loss: 0.416258\n",
      "epoch 21; iter: 0; batch classifier loss: 0.395496\n",
      "epoch 22; iter: 0; batch classifier loss: 0.503982\n",
      "epoch 23; iter: 0; batch classifier loss: 0.443430\n",
      "epoch 24; iter: 0; batch classifier loss: 0.387439\n",
      "epoch 25; iter: 0; batch classifier loss: 0.422862\n",
      "epoch 26; iter: 0; batch classifier loss: 0.448578\n",
      "epoch 27; iter: 0; batch classifier loss: 0.428686\n",
      "epoch 28; iter: 0; batch classifier loss: 0.429749\n",
      "epoch 29; iter: 0; batch classifier loss: 0.390826\n",
      "epoch 30; iter: 0; batch classifier loss: 0.358398\n",
      "epoch 31; iter: 0; batch classifier loss: 0.404470\n",
      "epoch 32; iter: 0; batch classifier loss: 0.373205\n",
      "epoch 33; iter: 0; batch classifier loss: 0.389296\n",
      "epoch 34; iter: 0; batch classifier loss: 0.384264\n",
      "epoch 35; iter: 0; batch classifier loss: 0.384878\n",
      "epoch 36; iter: 0; batch classifier loss: 0.348294\n",
      "epoch 37; iter: 0; batch classifier loss: 0.310552\n",
      "epoch 38; iter: 0; batch classifier loss: 0.373400\n",
      "epoch 39; iter: 0; batch classifier loss: 0.408708\n",
      "epoch 40; iter: 0; batch classifier loss: 0.364941\n",
      "epoch 41; iter: 0; batch classifier loss: 0.373792\n",
      "epoch 42; iter: 0; batch classifier loss: 0.387170\n",
      "epoch 43; iter: 0; batch classifier loss: 0.383675\n",
      "epoch 44; iter: 0; batch classifier loss: 0.317862\n",
      "epoch 45; iter: 0; batch classifier loss: 0.365214\n",
      "epoch 46; iter: 0; batch classifier loss: 0.428987\n",
      "epoch 47; iter: 0; batch classifier loss: 0.310593\n",
      "epoch 48; iter: 0; batch classifier loss: 0.321279\n",
      "epoch 49; iter: 0; batch classifier loss: 0.369851\n"
     ]
    },
    {
     "data": {
      "text/plain": [
       "<aif360.algorithms.inprocessing.adversarial_debiasing.AdversarialDebiasing at 0x23f9026f670>"
      ]
     },
     "execution_count": 98,
     "metadata": {},
     "output_type": "execute_result"
    }
   ],
   "source": [
    "#Learn plan classifier without debiasing\n",
    "# Load post-processing algorithm that equalizes the odds\n",
    "# Learn parameters with debias set to False\n",
    "sess = tf.Session()\n",
    "plain_model = AdversarialDebiasing(privileged_groups = privileged_groups,\n",
    "                          unprivileged_groups = unprivileged_groups,\n",
    "                          scope_name='plain_classifier',\n",
    "                          debias=False,\n",
    "                          sess=sess)\n",
    "\n",
    "plain_model.fit(dataset_orig_train)\n"
   ]
  },
  {
   "cell_type": "code",
   "execution_count": 99,
   "id": "northern-thumb",
   "metadata": {},
   "outputs": [],
   "source": [
    "# Apply the plain model to test data\n",
    "dataset_nodebiasing_train = plain_model.predict(dataset_orig_train)\n",
    "dataset_nodebiasing_test = plain_model.predict(dataset_orig_test)"
   ]
  },
  {
   "cell_type": "code",
   "execution_count": 100,
   "id": "single-arkansas",
   "metadata": {},
   "outputs": [
    {
     "data": {
      "text/markdown": [
       "#### Plain model - without debiasing - dataset metrics"
      ],
      "text/plain": [
       "<IPython.core.display.Markdown object>"
      ]
     },
     "metadata": {},
     "output_type": "display_data"
    },
    {
     "name": "stdout",
     "output_type": "stream",
     "text": [
      "Train set: Difference in mean outcomes between unprivileged and privileged groups = -0.078013\n",
      "Test set: Difference in mean outcomes between unprivileged and privileged groups = -0.136809\n"
     ]
    },
    {
     "data": {
      "text/markdown": [
       "#### Plain model - without debiasing - classification metrics"
      ],
      "text/plain": [
       "<IPython.core.display.Markdown object>"
      ]
     },
     "metadata": {},
     "output_type": "display_data"
    },
    {
     "name": "stdout",
     "output_type": "stream",
     "text": [
      "Test set: Classification accuracy = 0.750000\n",
      "Test set: Balanced classification accuracy = 0.663143\n",
      "Test set: Average odds difference = -0.137766\n",
      "Test set: Disparate impact = 0.837467\n",
      "Test set: Statisticsal parity difference = -0.136809\n",
      "Test set: Equal opportunity difference = -0.017199\n",
      "Test set: Theil_index = 0.115657\n"
     ]
    }
   ],
   "source": [
    "# Metrics for the dataset from plain model (without debiasing)\n",
    "display(Markdown(\"#### Plain model - without debiasing - dataset metrics\"))\n",
    "metric_dataset_nodebiasing_train = BinaryLabelDatasetMetric(dataset_nodebiasing_train, \n",
    "                                             unprivileged_groups=unprivileged_groups,\n",
    "                                             privileged_groups=privileged_groups)\n",
    "\n",
    "print(\"Train set: Difference in mean outcomes between unprivileged and privileged groups = %f\" % metric_dataset_nodebiasing_train.mean_difference())\n",
    "\n",
    "metric_dataset_nodebiasing_test = BinaryLabelDatasetMetric(dataset_nodebiasing_test, \n",
    "                                             unprivileged_groups=unprivileged_groups,\n",
    "                                             privileged_groups=privileged_groups)\n",
    "\n",
    "print(\"Test set: Difference in mean outcomes between unprivileged and privileged groups = %f\" % metric_dataset_nodebiasing_test.mean_difference())\n",
    "\n",
    "display(Markdown(\"#### Plain model - without debiasing - classification metrics\"))\n",
    "classified_metric_nodebiasing_test = ClassificationMetric(dataset_orig_test, \n",
    "                                                 dataset_nodebiasing_test,\n",
    "                                                 unprivileged_groups=unprivileged_groups,\n",
    "                                                 privileged_groups=privileged_groups)\n",
    "\n",
    "print(\"Test set: Classification accuracy = %f\" % classified_metric_nodebiasing_test.accuracy())\n",
    "TPR = classified_metric_nodebiasing_test.true_positive_rate()\n",
    "TNR = classified_metric_nodebiasing_test.true_negative_rate()\n",
    "bal_acc_nodebiasing_test = 0.5*(TPR+TNR)\n",
    "print(\"Test set: Balanced classification accuracy = %f\" % bal_acc_nodebiasing_test)\n",
    "print(\"Test set: Average odds difference = %f\" % classified_metric_nodebiasing_test.average_odds_difference())\n",
    "print(\"Test set: Disparate impact = %f\" % classified_metric_nodebiasing_test.disparate_impact())\n",
    "print(\"Test set: Statisticsal parity difference = %f\" % classified_metric_nodebiasing_test.statistical_parity_difference())\n",
    "print(\"Test set: Equal opportunity difference = %f\" % classified_metric_nodebiasing_test.equal_opportunity_difference())\n",
    "print(\"Test set: Theil_index = %f\" % classified_metric_nodebiasing_test.theil_index())\n",
    "\n",
    "metrics_AD = defaultdict(list,\n",
    "            {'bal_acc': [bal_acc_nodebiasing_test],\n",
    "             'avg_odds_diff': [classified_metric_nodebiasing_test.average_odds_difference()],\n",
    "             'disp_imp': [classified_metric_nodebiasing_test.disparate_impact()],\n",
    "             'stat_par_diff': [classified_metric_nodebiasing_test.statistical_parity_difference()],\n",
    "             'eq_opp_diff': [classified_metric_nodebiasing_test.equal_opportunity_difference()],\n",
    "             'theil_ind': [classified_metric_nodebiasing_test.theil_index()]})\n"
   ]
  },
  {
   "cell_type": "code",
   "execution_count": 101,
   "id": "round-walter",
   "metadata": {},
   "outputs": [
    {
     "data": {
      "text/html": [
       "<div>\n",
       "<style scoped>\n",
       "    .dataframe tbody tr th:only-of-type {\n",
       "        vertical-align: middle;\n",
       "    }\n",
       "\n",
       "    .dataframe tbody tr th {\n",
       "        vertical-align: top;\n",
       "    }\n",
       "\n",
       "    .dataframe thead th {\n",
       "        text-align: right;\n",
       "    }\n",
       "</style>\n",
       "<table border=\"1\" class=\"dataframe\">\n",
       "  <thead>\n",
       "    <tr style=\"text-align: right;\">\n",
       "      <th></th>\n",
       "      <th></th>\n",
       "      <th>bal_acc</th>\n",
       "      <th>avg_odds_diff</th>\n",
       "      <th>disp_imp</th>\n",
       "      <th>stat_par_diff</th>\n",
       "      <th>eq_opp_diff</th>\n",
       "      <th>theil_ind</th>\n",
       "    </tr>\n",
       "    <tr>\n",
       "      <th>Bias Mitigator</th>\n",
       "      <th>Classifier</th>\n",
       "      <th></th>\n",
       "      <th></th>\n",
       "      <th></th>\n",
       "      <th></th>\n",
       "      <th></th>\n",
       "      <th></th>\n",
       "    </tr>\n",
       "  </thead>\n",
       "  <tbody>\n",
       "    <tr>\n",
       "      <th></th>\n",
       "      <th>Logistic Regression</th>\n",
       "      <td>0.500000</td>\n",
       "      <td>0.000000</td>\n",
       "      <td>1.000000</td>\n",
       "      <td>0.000000</td>\n",
       "      <td>0.000000</td>\n",
       "      <td>0.058440</td>\n",
       "    </tr>\n",
       "    <tr>\n",
       "      <th>Reweighing</th>\n",
       "      <th>Logistic Regression</th>\n",
       "      <td>0.500000</td>\n",
       "      <td>0.000000</td>\n",
       "      <td>1.000000</td>\n",
       "      <td>0.000000</td>\n",
       "      <td>0.000000</td>\n",
       "      <td>0.058440</td>\n",
       "    </tr>\n",
       "    <tr>\n",
       "      <th>Prejudice Remover</th>\n",
       "      <th></th>\n",
       "      <td>0.500000</td>\n",
       "      <td>-0.041667</td>\n",
       "      <td>0.967213</td>\n",
       "      <td>-0.032787</td>\n",
       "      <td>0.000000</td>\n",
       "      <td>0.058027</td>\n",
       "    </tr>\n",
       "    <tr>\n",
       "      <th>Disparate Impact Remover</th>\n",
       "      <th>Logistic Regression</th>\n",
       "      <td>0.500000</td>\n",
       "      <td>0.000000</td>\n",
       "      <td>1.000000</td>\n",
       "      <td>0.000000</td>\n",
       "      <td>0.000000</td>\n",
       "      <td>0.058440</td>\n",
       "    </tr>\n",
       "    <tr>\n",
       "      <th>Adversarial Debias</th>\n",
       "      <th>No Debias</th>\n",
       "      <td>0.663143</td>\n",
       "      <td>-0.137766</td>\n",
       "      <td>0.837467</td>\n",
       "      <td>-0.136809</td>\n",
       "      <td>-0.017199</td>\n",
       "      <td>0.115657</td>\n",
       "    </tr>\n",
       "  </tbody>\n",
       "</table>\n",
       "</div>"
      ],
      "text/plain": [
       "                                               bal_acc  avg_odds_diff  \\\n",
       "Bias Mitigator           Classifier                                     \n",
       "                         Logistic Regression  0.500000       0.000000   \n",
       "Reweighing               Logistic Regression  0.500000       0.000000   \n",
       "Prejudice Remover                             0.500000      -0.041667   \n",
       "Disparate Impact Remover Logistic Regression  0.500000       0.000000   \n",
       "Adversarial Debias       No Debias            0.663143      -0.137766   \n",
       "\n",
       "                                              disp_imp  stat_par_diff  \\\n",
       "Bias Mitigator           Classifier                                     \n",
       "                         Logistic Regression  1.000000       0.000000   \n",
       "Reweighing               Logistic Regression  1.000000       0.000000   \n",
       "Prejudice Remover                             0.967213      -0.032787   \n",
       "Disparate Impact Remover Logistic Regression  1.000000       0.000000   \n",
       "Adversarial Debias       No Debias            0.837467      -0.136809   \n",
       "\n",
       "                                              eq_opp_diff  theil_ind  \n",
       "Bias Mitigator           Classifier                                   \n",
       "                         Logistic Regression     0.000000   0.058440  \n",
       "Reweighing               Logistic Regression     0.000000   0.058440  \n",
       "Prejudice Remover                                0.000000   0.058027  \n",
       "Disparate Impact Remover Logistic Regression     0.000000   0.058440  \n",
       "Adversarial Debias       No Debias              -0.017199   0.115657  "
      ]
     },
     "execution_count": 101,
     "metadata": {},
     "output_type": "execute_result"
    }
   ],
   "source": [
    "pd.set_option('display.multi_sparse', False)\n",
    "results = [lr_orig_metrics, lr_transf_metrics,\n",
    "            pr_orig_metrics, lr_metrics_DIR, metrics_AD]\n",
    "debias = pd.Series([''] + ['Reweighing']\n",
    "                 + ['Prejudice Remover'] + [\"Disparate Impact Remover\"] + [\"Adversarial Debias\"],\n",
    "                   name='Bias Mitigator')\n",
    "clf = pd.Series(['Logistic Regression']*2 + [''] + [\"Logistic Regression\"] + [\"No Debias\"],\n",
    "                name='Classifier')\n",
    "pd.concat([pd.DataFrame(metrics) for metrics in results], axis=0).set_index([debias, clf])"
   ]
  },
  {
   "cell_type": "code",
   "execution_count": 102,
   "id": "decimal-inspection",
   "metadata": {},
   "outputs": [
    {
     "name": "stdout",
     "output_type": "stream",
     "text": [
      "epoch 0; iter: 0; batch classifier loss: 0.703865; batch adversarial loss: 0.674856\n",
      "epoch 1; iter: 0; batch classifier loss: 0.599318; batch adversarial loss: 0.688490\n",
      "epoch 2; iter: 0; batch classifier loss: 0.587060; batch adversarial loss: 0.682324\n",
      "epoch 3; iter: 0; batch classifier loss: 0.523150; batch adversarial loss: 0.687185\n",
      "epoch 4; iter: 0; batch classifier loss: 0.523875; batch adversarial loss: 0.676139\n",
      "epoch 5; iter: 0; batch classifier loss: 0.513420; batch adversarial loss: 0.660694\n",
      "epoch 6; iter: 0; batch classifier loss: 0.588926; batch adversarial loss: 0.636616\n",
      "epoch 7; iter: 0; batch classifier loss: 0.493932; batch adversarial loss: 0.667301\n",
      "epoch 8; iter: 0; batch classifier loss: 0.502531; batch adversarial loss: 0.676895\n",
      "epoch 9; iter: 0; batch classifier loss: 0.441832; batch adversarial loss: 0.678560\n",
      "epoch 10; iter: 0; batch classifier loss: 0.430973; batch adversarial loss: 0.672591\n",
      "epoch 11; iter: 0; batch classifier loss: 0.475783; batch adversarial loss: 0.655344\n",
      "epoch 12; iter: 0; batch classifier loss: 0.502445; batch adversarial loss: 0.672579\n",
      "epoch 13; iter: 0; batch classifier loss: 0.423664; batch adversarial loss: 0.687874\n",
      "epoch 14; iter: 0; batch classifier loss: 0.392619; batch adversarial loss: 0.658332\n",
      "epoch 15; iter: 0; batch classifier loss: 0.437345; batch adversarial loss: 0.651087\n",
      "epoch 16; iter: 0; batch classifier loss: 0.424551; batch adversarial loss: 0.686285\n",
      "epoch 17; iter: 0; batch classifier loss: 0.416661; batch adversarial loss: 0.655363\n",
      "epoch 18; iter: 0; batch classifier loss: 0.424133; batch adversarial loss: 0.647572\n",
      "epoch 19; iter: 0; batch classifier loss: 0.464148; batch adversarial loss: 0.639973\n",
      "epoch 20; iter: 0; batch classifier loss: 0.378903; batch adversarial loss: 0.676942\n",
      "epoch 21; iter: 0; batch classifier loss: 0.497328; batch adversarial loss: 0.631731\n",
      "epoch 22; iter: 0; batch classifier loss: 0.397716; batch adversarial loss: 0.665326\n",
      "epoch 23; iter: 0; batch classifier loss: 0.386772; batch adversarial loss: 0.660995\n",
      "epoch 24; iter: 0; batch classifier loss: 0.438178; batch adversarial loss: 0.651384\n",
      "epoch 25; iter: 0; batch classifier loss: 0.425890; batch adversarial loss: 0.644002\n",
      "epoch 26; iter: 0; batch classifier loss: 0.420431; batch adversarial loss: 0.633320\n",
      "epoch 27; iter: 0; batch classifier loss: 0.367428; batch adversarial loss: 0.670330\n",
      "epoch 28; iter: 0; batch classifier loss: 0.414962; batch adversarial loss: 0.656853\n",
      "epoch 29; iter: 0; batch classifier loss: 0.414739; batch adversarial loss: 0.650292\n",
      "epoch 30; iter: 0; batch classifier loss: 0.518155; batch adversarial loss: 0.673265\n",
      "epoch 31; iter: 0; batch classifier loss: 0.374488; batch adversarial loss: 0.666480\n",
      "epoch 32; iter: 0; batch classifier loss: 0.418891; batch adversarial loss: 0.651796\n",
      "epoch 33; iter: 0; batch classifier loss: 0.423370; batch adversarial loss: 0.632007\n",
      "epoch 34; iter: 0; batch classifier loss: 0.334182; batch adversarial loss: 0.643904\n",
      "epoch 35; iter: 0; batch classifier loss: 0.408975; batch adversarial loss: 0.645961\n",
      "epoch 36; iter: 0; batch classifier loss: 0.338487; batch adversarial loss: 0.635893\n",
      "epoch 37; iter: 0; batch classifier loss: 0.398906; batch adversarial loss: 0.658602\n",
      "epoch 38; iter: 0; batch classifier loss: 0.334146; batch adversarial loss: 0.619397\n",
      "epoch 39; iter: 0; batch classifier loss: 0.319206; batch adversarial loss: 0.634310\n",
      "epoch 40; iter: 0; batch classifier loss: 0.378864; batch adversarial loss: 0.628485\n",
      "epoch 41; iter: 0; batch classifier loss: 0.366637; batch adversarial loss: 0.612960\n",
      "epoch 42; iter: 0; batch classifier loss: 0.293056; batch adversarial loss: 0.633599\n",
      "epoch 43; iter: 0; batch classifier loss: 0.382413; batch adversarial loss: 0.660462\n",
      "epoch 44; iter: 0; batch classifier loss: 0.305862; batch adversarial loss: 0.616375\n",
      "epoch 45; iter: 0; batch classifier loss: 0.387446; batch adversarial loss: 0.629493\n",
      "epoch 46; iter: 0; batch classifier loss: 0.356655; batch adversarial loss: 0.623995\n",
      "epoch 47; iter: 0; batch classifier loss: 0.328224; batch adversarial loss: 0.672007\n",
      "epoch 48; iter: 0; batch classifier loss: 0.317579; batch adversarial loss: 0.622410\n",
      "epoch 49; iter: 0; batch classifier loss: 0.379293; batch adversarial loss: 0.649022\n"
     ]
    },
    {
     "data": {
      "text/plain": [
       "<aif360.algorithms.inprocessing.adversarial_debiasing.AdversarialDebiasing at 0x23f90255220>"
      ]
     },
     "execution_count": 102,
     "metadata": {},
     "output_type": "execute_result"
    }
   ],
   "source": [
    "sess.close()\n",
    "tf.reset_default_graph()\n",
    "sess = tf.Session()\n",
    "debiased_model = AdversarialDebiasing(privileged_groups = privileged_groups,\n",
    "                          unprivileged_groups = unprivileged_groups,\n",
    "                          scope_name='debiased_classifier',\n",
    "                          debias=True,\n",
    "                          sess=sess)\n",
    "debiased_model.fit(dataset_orig_train)\n"
   ]
  },
  {
   "cell_type": "code",
   "execution_count": 103,
   "id": "exposed-accommodation",
   "metadata": {},
   "outputs": [],
   "source": [
    "# Apply the plain model to test data\n",
    "dataset_debiasing_train = debiased_model.predict(dataset_orig_train)\n",
    "dataset_debiasing_test = debiased_model.predict(dataset_orig_test)"
   ]
  },
  {
   "cell_type": "code",
   "execution_count": 104,
   "id": "tested-experience",
   "metadata": {},
   "outputs": [
    {
     "data": {
      "text/markdown": [
       "#### Plain model - without debiasing - dataset metrics"
      ],
      "text/plain": [
       "<IPython.core.display.Markdown object>"
      ]
     },
     "metadata": {},
     "output_type": "display_data"
    },
    {
     "name": "stdout",
     "output_type": "stream",
     "text": [
      "Train set: Difference in mean outcomes between unprivileged and privileged groups = -0.078013\n",
      "Test set: Difference in mean outcomes between unprivileged and privileged groups = -0.136809\n"
     ]
    },
    {
     "data": {
      "text/markdown": [
       "#### Model - with debiasing - dataset metrics"
      ],
      "text/plain": [
       "<IPython.core.display.Markdown object>"
      ]
     },
     "metadata": {},
     "output_type": "display_data"
    },
    {
     "name": "stdout",
     "output_type": "stream",
     "text": [
      "Train set: Difference in mean outcomes between unprivileged and privileged groups = 0.012689\n",
      "Test set: Difference in mean outcomes between unprivileged and privileged groups = -0.106027\n"
     ]
    },
    {
     "data": {
      "text/markdown": [
       "#### Plain model - without debiasing - classification metrics"
      ],
      "text/plain": [
       "<IPython.core.display.Markdown object>"
      ]
     },
     "metadata": {},
     "output_type": "display_data"
    },
    {
     "name": "stdout",
     "output_type": "stream",
     "text": [
      "Test set: Classification accuracy = 0.750000\n",
      "Test set: Balanced classification accuracy = 0.663143\n",
      "Test set: Disparate impact = 0.837467\n",
      "Test set: Equal opportunity difference = -0.017199\n",
      "Test set: Average odds difference = -0.137766\n",
      "Test set: Theil_index = 0.115657\n"
     ]
    },
    {
     "data": {
      "text/markdown": [
       "#### Model - with debiasing - classification metrics"
      ],
      "text/plain": [
       "<IPython.core.display.Markdown object>"
      ]
     },
     "metadata": {},
     "output_type": "display_data"
    },
    {
     "name": "stdout",
     "output_type": "stream",
     "text": [
      "Test set: Classification accuracy = 0.745000\n",
      "Test set: Balanced classification accuracy = 0.659467\n",
      "Test set: Disparate impact = 0.871846\n",
      "Test set: Equal opportunity difference = -0.007098\n",
      "Test set: Average odds difference = -0.099382\n",
      "Test set: Theil_index = 0.121159\n"
     ]
    }
   ],
   "source": [
    "# Metrics for the dataset from plain model (without debiasing)\n",
    "display(Markdown(\"#### Plain model - without debiasing - dataset metrics\"))\n",
    "print(\"Train set: Difference in mean outcomes between unprivileged and privileged groups = %f\" % metric_dataset_nodebiasing_train.mean_difference())\n",
    "print(\"Test set: Difference in mean outcomes between unprivileged and privileged groups = %f\" % metric_dataset_nodebiasing_test.mean_difference())\n",
    "\n",
    "# Metrics for the dataset from model with debiasing\n",
    "display(Markdown(\"#### Model - with debiasing - dataset metrics\"))\n",
    "metric_dataset_debiasing_train = BinaryLabelDatasetMetric(dataset_debiasing_train, \n",
    "                                             unprivileged_groups=unprivileged_groups,\n",
    "                                             privileged_groups=privileged_groups)\n",
    "\n",
    "print(\"Train set: Difference in mean outcomes between unprivileged and privileged groups = %f\" % metric_dataset_debiasing_train.mean_difference())\n",
    "\n",
    "metric_dataset_debiasing_test = BinaryLabelDatasetMetric(dataset_debiasing_test, \n",
    "                                             unprivileged_groups=unprivileged_groups,\n",
    "                                             privileged_groups=privileged_groups)\n",
    "\n",
    "print(\"Test set: Difference in mean outcomes between unprivileged and privileged groups = %f\" % metric_dataset_debiasing_test.mean_difference())\n",
    "\n",
    "\n",
    "\n",
    "display(Markdown(\"#### Plain model - without debiasing - classification metrics\"))\n",
    "print(\"Test set: Classification accuracy = %f\" % classified_metric_nodebiasing_test.accuracy())\n",
    "TPR = classified_metric_nodebiasing_test.true_positive_rate()\n",
    "TNR = classified_metric_nodebiasing_test.true_negative_rate()\n",
    "bal_acc_nodebiasing_test = 0.5*(TPR+TNR)\n",
    "print(\"Test set: Balanced classification accuracy = %f\" % bal_acc_nodebiasing_test)\n",
    "print(\"Test set: Disparate impact = %f\" % classified_metric_nodebiasing_test.disparate_impact())\n",
    "print(\"Test set: Equal opportunity difference = %f\" % classified_metric_nodebiasing_test.equal_opportunity_difference())\n",
    "print(\"Test set: Average odds difference = %f\" % classified_metric_nodebiasing_test.average_odds_difference())\n",
    "print(\"Test set: Theil_index = %f\" % classified_metric_nodebiasing_test.theil_index())\n",
    "\n",
    "\n",
    "\n",
    "\n",
    "\n",
    "display(Markdown(\"#### Model - with debiasing - classification metrics\"))\n",
    "classified_metric_debiasing_test = ClassificationMetric(dataset_orig_test, \n",
    "                                                 dataset_debiasing_test,\n",
    "                                                 unprivileged_groups=unprivileged_groups,\n",
    "                                                 privileged_groups=privileged_groups)\n",
    "print(\"Test set: Classification accuracy = %f\" % classified_metric_debiasing_test.accuracy())\n",
    "TPR = classified_metric_debiasing_test.true_positive_rate()\n",
    "TNR = classified_metric_debiasing_test.true_negative_rate()\n",
    "bal_acc_debiasing_test = 0.5*(TPR+TNR)\n",
    "print(\"Test set: Balanced classification accuracy = %f\" % bal_acc_debiasing_test)\n",
    "print(\"Test set: Disparate impact = %f\" % classified_metric_debiasing_test.disparate_impact())\n",
    "print(\"Test set: Equal opportunity difference = %f\" % classified_metric_debiasing_test.equal_opportunity_difference())\n",
    "print(\"Test set: Average odds difference = %f\" % classified_metric_debiasing_test.average_odds_difference())\n",
    "print(\"Test set: Theil_index = %f\" % classified_metric_debiasing_test.theil_index())\n",
    "\n",
    "metrics_AD2 = defaultdict(list,\n",
    "            {'bal_acc': [bal_acc_debiasing_test],\n",
    "             'avg_odds_diff': [classified_metric_debiasing_test.average_odds_difference()],\n",
    "             'disp_imp': [classified_metric_debiasing_test.disparate_impact()],\n",
    "             'stat_par_diff': [classified_metric_debiasing_test.statistical_parity_difference()],\n",
    "             'eq_opp_diff': [classified_metric_debiasing_test.equal_opportunity_difference()],\n",
    "             'theil_ind': [classified_metric_debiasing_test.theil_index()]})"
   ]
  },
  {
   "cell_type": "code",
   "execution_count": 105,
   "id": "appointed-sitting",
   "metadata": {},
   "outputs": [
    {
     "data": {
      "text/html": [
       "<div>\n",
       "<style scoped>\n",
       "    .dataframe tbody tr th:only-of-type {\n",
       "        vertical-align: middle;\n",
       "    }\n",
       "\n",
       "    .dataframe tbody tr th {\n",
       "        vertical-align: top;\n",
       "    }\n",
       "\n",
       "    .dataframe thead th {\n",
       "        text-align: right;\n",
       "    }\n",
       "</style>\n",
       "<table border=\"1\" class=\"dataframe\">\n",
       "  <thead>\n",
       "    <tr style=\"text-align: right;\">\n",
       "      <th></th>\n",
       "      <th></th>\n",
       "      <th>bal_acc</th>\n",
       "      <th>avg_odds_diff</th>\n",
       "      <th>disp_imp</th>\n",
       "      <th>stat_par_diff</th>\n",
       "      <th>eq_opp_diff</th>\n",
       "      <th>theil_ind</th>\n",
       "    </tr>\n",
       "    <tr>\n",
       "      <th>Bias Mitigator</th>\n",
       "      <th>Classifier</th>\n",
       "      <th></th>\n",
       "      <th></th>\n",
       "      <th></th>\n",
       "      <th></th>\n",
       "      <th></th>\n",
       "      <th></th>\n",
       "    </tr>\n",
       "  </thead>\n",
       "  <tbody>\n",
       "    <tr>\n",
       "      <th>None</th>\n",
       "      <th>Logistic Regression</th>\n",
       "      <td>0.500000</td>\n",
       "      <td>0.000000</td>\n",
       "      <td>1.000000</td>\n",
       "      <td>0.000000</td>\n",
       "      <td>0.000000</td>\n",
       "      <td>0.058440</td>\n",
       "    </tr>\n",
       "    <tr>\n",
       "      <th>Reweighing</th>\n",
       "      <th>Logistic Regression</th>\n",
       "      <td>0.500000</td>\n",
       "      <td>0.000000</td>\n",
       "      <td>1.000000</td>\n",
       "      <td>0.000000</td>\n",
       "      <td>0.000000</td>\n",
       "      <td>0.058440</td>\n",
       "    </tr>\n",
       "    <tr>\n",
       "      <th>Disparate Impact Remover</th>\n",
       "      <th>Logistic Regression</th>\n",
       "      <td>0.500000</td>\n",
       "      <td>0.000000</td>\n",
       "      <td>1.000000</td>\n",
       "      <td>0.000000</td>\n",
       "      <td>0.000000</td>\n",
       "      <td>0.058440</td>\n",
       "    </tr>\n",
       "    <tr>\n",
       "      <th>Prejudice Remover</th>\n",
       "      <th>Logistic Regression</th>\n",
       "      <td>0.500000</td>\n",
       "      <td>-0.041667</td>\n",
       "      <td>0.967213</td>\n",
       "      <td>-0.032787</td>\n",
       "      <td>0.000000</td>\n",
       "      <td>0.058027</td>\n",
       "    </tr>\n",
       "    <tr>\n",
       "      <th>Adversarial Debias</th>\n",
       "      <th>GD(No Debias)</th>\n",
       "      <td>0.663143</td>\n",
       "      <td>-0.137766</td>\n",
       "      <td>0.837467</td>\n",
       "      <td>-0.136809</td>\n",
       "      <td>-0.017199</td>\n",
       "      <td>0.115657</td>\n",
       "    </tr>\n",
       "    <tr>\n",
       "      <th>Adversarial Debias</th>\n",
       "      <th>GD(Debased)</th>\n",
       "      <td>0.659467</td>\n",
       "      <td>-0.099382</td>\n",
       "      <td>0.871846</td>\n",
       "      <td>-0.106027</td>\n",
       "      <td>-0.007098</td>\n",
       "      <td>0.121159</td>\n",
       "    </tr>\n",
       "  </tbody>\n",
       "</table>\n",
       "</div>"
      ],
      "text/plain": [
       "                                               bal_acc  avg_odds_diff  \\\n",
       "Bias Mitigator           Classifier                                     \n",
       "None                     Logistic Regression  0.500000       0.000000   \n",
       "Reweighing               Logistic Regression  0.500000       0.000000   \n",
       "Disparate Impact Remover Logistic Regression  0.500000       0.000000   \n",
       "Prejudice Remover        Logistic Regression  0.500000      -0.041667   \n",
       "Adversarial Debias       GD(No Debias)        0.663143      -0.137766   \n",
       "Adversarial Debias       GD(Debased)          0.659467      -0.099382   \n",
       "\n",
       "                                              disp_imp  stat_par_diff  \\\n",
       "Bias Mitigator           Classifier                                     \n",
       "None                     Logistic Regression  1.000000       0.000000   \n",
       "Reweighing               Logistic Regression  1.000000       0.000000   \n",
       "Disparate Impact Remover Logistic Regression  1.000000       0.000000   \n",
       "Prejudice Remover        Logistic Regression  0.967213      -0.032787   \n",
       "Adversarial Debias       GD(No Debias)        0.837467      -0.136809   \n",
       "Adversarial Debias       GD(Debased)          0.871846      -0.106027   \n",
       "\n",
       "                                              eq_opp_diff  theil_ind  \n",
       "Bias Mitigator           Classifier                                   \n",
       "None                     Logistic Regression     0.000000   0.058440  \n",
       "Reweighing               Logistic Regression     0.000000   0.058440  \n",
       "Disparate Impact Remover Logistic Regression     0.000000   0.058440  \n",
       "Prejudice Remover        Logistic Regression     0.000000   0.058027  \n",
       "Adversarial Debias       GD(No Debias)          -0.017199   0.115657  \n",
       "Adversarial Debias       GD(Debased)            -0.007098   0.121159  "
      ]
     },
     "execution_count": 105,
     "metadata": {},
     "output_type": "execute_result"
    }
   ],
   "source": [
    "pd.set_option('display.multi_sparse', False)\n",
    "results = [lr_orig_metrics, lr_transf_metrics,\n",
    "            lr_metrics_DIR,pr_orig_metrics, metrics_AD, metrics_AD2]\n",
    "debias = pd.Series(['None'] + ['Reweighing']\n",
    "                 + [\"Disparate Impact Remover\"] + ['Prejudice Remover']+ [\"Adversarial Debias\"]*2,\n",
    "                   name='Bias Mitigator')\n",
    "clf = pd.Series(['Logistic Regression']*4 + [\"GD(No Debias)\"] +[\"GD(Debased)\"],\n",
    "                name='Classifier')\n",
    "final_df = pd.concat([pd.DataFrame(metrics) for metrics in results], axis=0).set_index([debias, clf])\n",
    "final_df"
   ]
  },
  {
   "cell_type": "code",
   "execution_count": 106,
   "id": "outstanding-kenya",
   "metadata": {},
   "outputs": [],
   "source": [
    "final_df.to_pickle(\"German_Results_Pickle2\")\n"
   ]
  },
  {
   "cell_type": "code",
   "execution_count": 107,
   "id": "adolescent-space",
   "metadata": {},
   "outputs": [
    {
     "data": {
      "text/html": [
       "<div>\n",
       "<style scoped>\n",
       "    .dataframe tbody tr th:only-of-type {\n",
       "        vertical-align: middle;\n",
       "    }\n",
       "\n",
       "    .dataframe tbody tr th {\n",
       "        vertical-align: top;\n",
       "    }\n",
       "\n",
       "    .dataframe thead th {\n",
       "        text-align: right;\n",
       "    }\n",
       "</style>\n",
       "<table border=\"1\" class=\"dataframe\">\n",
       "  <thead>\n",
       "    <tr style=\"text-align: right;\">\n",
       "      <th></th>\n",
       "      <th></th>\n",
       "      <th>bal_acc</th>\n",
       "      <th>avg_odds_diff</th>\n",
       "      <th>disp_imp</th>\n",
       "      <th>stat_par_diff</th>\n",
       "      <th>eq_opp_diff</th>\n",
       "      <th>theil_ind</th>\n",
       "    </tr>\n",
       "    <tr>\n",
       "      <th>Bias Mitigator</th>\n",
       "      <th>Classifier</th>\n",
       "      <th></th>\n",
       "      <th></th>\n",
       "      <th></th>\n",
       "      <th></th>\n",
       "      <th></th>\n",
       "      <th></th>\n",
       "    </tr>\n",
       "  </thead>\n",
       "  <tbody>\n",
       "    <tr>\n",
       "      <th>None</th>\n",
       "      <th>Logistic Regression</th>\n",
       "      <td>0.500000</td>\n",
       "      <td>0.000000</td>\n",
       "      <td>1.000000</td>\n",
       "      <td>0.000000</td>\n",
       "      <td>0.000000</td>\n",
       "      <td>0.058440</td>\n",
       "    </tr>\n",
       "    <tr>\n",
       "      <th>Reweighing</th>\n",
       "      <th>Logistic Regression</th>\n",
       "      <td>0.500000</td>\n",
       "      <td>0.000000</td>\n",
       "      <td>1.000000</td>\n",
       "      <td>0.000000</td>\n",
       "      <td>0.000000</td>\n",
       "      <td>0.058440</td>\n",
       "    </tr>\n",
       "    <tr>\n",
       "      <th>Disparate Impact Remover</th>\n",
       "      <th>Logistic Regression</th>\n",
       "      <td>0.500000</td>\n",
       "      <td>0.000000</td>\n",
       "      <td>1.000000</td>\n",
       "      <td>0.000000</td>\n",
       "      <td>0.000000</td>\n",
       "      <td>0.058440</td>\n",
       "    </tr>\n",
       "    <tr>\n",
       "      <th>Prejudice Remover</th>\n",
       "      <th>Logistic Regression</th>\n",
       "      <td>0.500000</td>\n",
       "      <td>-0.041667</td>\n",
       "      <td>0.967213</td>\n",
       "      <td>-0.032787</td>\n",
       "      <td>0.000000</td>\n",
       "      <td>0.058027</td>\n",
       "    </tr>\n",
       "    <tr>\n",
       "      <th>Adversarial Debias</th>\n",
       "      <th>GD(No Debias)</th>\n",
       "      <td>0.663143</td>\n",
       "      <td>-0.137766</td>\n",
       "      <td>0.837467</td>\n",
       "      <td>-0.136809</td>\n",
       "      <td>-0.017199</td>\n",
       "      <td>0.115657</td>\n",
       "    </tr>\n",
       "    <tr>\n",
       "      <th>Adversarial Debias</th>\n",
       "      <th>GD(Debased)</th>\n",
       "      <td>0.659467</td>\n",
       "      <td>-0.099382</td>\n",
       "      <td>0.871846</td>\n",
       "      <td>-0.106027</td>\n",
       "      <td>-0.007098</td>\n",
       "      <td>0.121159</td>\n",
       "    </tr>\n",
       "  </tbody>\n",
       "</table>\n",
       "</div>"
      ],
      "text/plain": [
       "                                               bal_acc  avg_odds_diff  \\\n",
       "Bias Mitigator           Classifier                                     \n",
       "None                     Logistic Regression  0.500000       0.000000   \n",
       "Reweighing               Logistic Regression  0.500000       0.000000   \n",
       "Disparate Impact Remover Logistic Regression  0.500000       0.000000   \n",
       "Prejudice Remover        Logistic Regression  0.500000      -0.041667   \n",
       "Adversarial Debias       GD(No Debias)        0.663143      -0.137766   \n",
       "Adversarial Debias       GD(Debased)          0.659467      -0.099382   \n",
       "\n",
       "                                              disp_imp  stat_par_diff  \\\n",
       "Bias Mitigator           Classifier                                     \n",
       "None                     Logistic Regression  1.000000       0.000000   \n",
       "Reweighing               Logistic Regression  1.000000       0.000000   \n",
       "Disparate Impact Remover Logistic Regression  1.000000       0.000000   \n",
       "Prejudice Remover        Logistic Regression  0.967213      -0.032787   \n",
       "Adversarial Debias       GD(No Debias)        0.837467      -0.136809   \n",
       "Adversarial Debias       GD(Debased)          0.871846      -0.106027   \n",
       "\n",
       "                                              eq_opp_diff  theil_ind  \n",
       "Bias Mitigator           Classifier                                   \n",
       "None                     Logistic Regression     0.000000   0.058440  \n",
       "Reweighing               Logistic Regression     0.000000   0.058440  \n",
       "Disparate Impact Remover Logistic Regression     0.000000   0.058440  \n",
       "Prejudice Remover        Logistic Regression     0.000000   0.058027  \n",
       "Adversarial Debias       GD(No Debias)          -0.017199   0.115657  \n",
       "Adversarial Debias       GD(Debased)            -0.007098   0.121159  "
      ]
     },
     "execution_count": 107,
     "metadata": {},
     "output_type": "execute_result"
    }
   ],
   "source": [
    "pickle = pd.read_pickle(\"German_Results_Pickle2\")\n",
    "pickle"
   ]
  },
  {
   "cell_type": "code",
   "execution_count": null,
   "id": "structural-wound",
   "metadata": {},
   "outputs": [],
   "source": []
  },
  {
   "cell_type": "code",
   "execution_count": null,
   "id": "demonstrated-sugar",
   "metadata": {},
   "outputs": [],
   "source": []
  },
  {
   "cell_type": "code",
   "execution_count": null,
   "id": "beneficial-strain",
   "metadata": {},
   "outputs": [],
   "source": []
  }
 ],
 "metadata": {
  "kernelspec": {
   "display_name": "Python 3",
   "language": "python",
   "name": "python3"
  },
  "language_info": {
   "codemirror_mode": {
    "name": "ipython",
    "version": 3
   },
   "file_extension": ".py",
   "mimetype": "text/x-python",
   "name": "python",
   "nbconvert_exporter": "python",
   "pygments_lexer": "ipython3",
   "version": "3.8.5"
  }
 },
 "nbformat": 4,
 "nbformat_minor": 5
}
