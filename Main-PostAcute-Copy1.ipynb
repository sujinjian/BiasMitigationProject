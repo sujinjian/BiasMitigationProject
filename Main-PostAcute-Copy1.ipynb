{
 "cells": [
  {
   "cell_type": "code",
   "execution_count": 1,
   "id": "norman-cotton",
   "metadata": {},
   "outputs": [],
   "source": [
    "import matplotlib.pyplot as plt\n",
    "import numpy as np\n",
    "import pandas as pd\n",
    "\n",
    "from IPython.display import Markdown, display\n",
    "\n",
    "# Datasets\n",
    "from aif360.datasets import StandardDataset\n",
    "\n",
    "# from PhysionetDataset.py import PhysionetDataset.py\n",
    "# Dataset = PhysionetDataset.py\n",
    "\n",
    "\n",
    "# Fairness metrics\n",
    "from aif360.metrics import BinaryLabelDatasetMetric\n",
    "from aif360.metrics import ClassificationMetric\n",
    "\n",
    "# Explainers\n",
    "from aif360.explainers import MetricTextExplainer\n",
    "\n",
    "# Scalers\n",
    "from sklearn.preprocessing import StandardScaler\n",
    "\n",
    "# Classifiers\n",
    "from sklearn.ensemble import RandomForestClassifier\n",
    "from sklearn.linear_model import LogisticRegression\n",
    "from sklearn.pipeline import make_pipeline\n",
    "\n",
    "# Bias mitigation techniques\n",
    "from aif360.algorithms.preprocessing import Reweighing\n",
    "from aif360.algorithms.inprocessing import PrejudiceRemover"
   ]
  },
  {
   "cell_type": "code",
   "execution_count": 2,
   "id": "quality-storage",
   "metadata": {},
   "outputs": [],
   "source": [
    "#Data Engineering on dataset\n",
    "#Turn \"Gender\" into binary, 1=Male, 0=Female\n",
    "#Removed columns CZ to ET\n",
    "#Remove NotEmployed due to large amount of missing values\n",
    "\n",
    "\n",
    "#filepath = r'C:\\Users\\sujin\\Documents\\College\\PhD_Project\\Project\\sample50pct.csv'\n",
    "#df = pd.read_csv(filepath)\n",
    "\n",
    "\n",
    "#df[\"Gender\"] = df[\"Gender\"].replace(\"MALE\", 1)\n",
    "#df[\"Gender\"] = df[\"Gender\"].replace(\"FEMALE\", 0)\n",
    "\n",
    "#df.drop(df.iloc[:, 103:150], inplace = True, axis = 1)\n",
    "#df.drop([\"NotEmployed\"],axis = 1,inplace = True)\n",
    "\n",
    "\n",
    "#df.to_csv(r'C:\\Users\\sujin\\Documents\\College\\PhD_Project\\Project\\PostAcute_Columns.csv', index = False)\n",
    "\n",
    "\n"
   ]
  },
  {
   "cell_type": "code",
   "execution_count": 3,
   "id": "surgical-shooting",
   "metadata": {},
   "outputs": [
    {
     "name": "stdout",
     "output_type": "stream",
     "text": [
      "(62064, 192)\n"
     ]
    },
    {
     "data": {
      "text/html": [
       "<div>\n",
       "<style scoped>\n",
       "    .dataframe tbody tr th:only-of-type {\n",
       "        vertical-align: middle;\n",
       "    }\n",
       "\n",
       "    .dataframe tbody tr th {\n",
       "        vertical-align: top;\n",
       "    }\n",
       "\n",
       "    .dataframe thead th {\n",
       "        text-align: right;\n",
       "    }\n",
       "</style>\n",
       "<table border=\"1\" class=\"dataframe\">\n",
       "  <thead>\n",
       "    <tr style=\"text-align: right;\">\n",
       "      <th></th>\n",
       "      <th>facility_id</th>\n",
       "      <th>PatientType</th>\n",
       "      <th>Age</th>\n",
       "      <th>Gender</th>\n",
       "      <th>MaritalStatus</th>\n",
       "      <th>Alcohol_Substance_Abuse_cur</th>\n",
       "      <th>AMI_cur</th>\n",
       "      <th>Anemia_cur</th>\n",
       "      <th>Aneurysm_cur</th>\n",
       "      <th>Anxiety_disorder_cur</th>\n",
       "      <th>...</th>\n",
       "      <th>Dialysis</th>\n",
       "      <th>Infusion</th>\n",
       "      <th>Non_Actue_Care_Infusion</th>\n",
       "      <th>Trach</th>\n",
       "      <th>Wound_care</th>\n",
       "      <th>N3_Home_Equipment_DCPlan</th>\n",
       "      <th>N3_Home_Equipment_YN</th>\n",
       "      <th>N3_Alcohol_Frequency</th>\n",
       "      <th>N3_CP</th>\n",
       "      <th>N3_Physician</th>\n",
       "    </tr>\n",
       "  </thead>\n",
       "  <tbody>\n",
       "    <tr>\n",
       "      <th>0</th>\n",
       "      <td>facility 7</td>\n",
       "      <td>Inpatient</td>\n",
       "      <td>27</td>\n",
       "      <td>0</td>\n",
       "      <td>MARRIED</td>\n",
       "      <td>0</td>\n",
       "      <td>0</td>\n",
       "      <td>0</td>\n",
       "      <td>0</td>\n",
       "      <td>0</td>\n",
       "      <td>...</td>\n",
       "      <td>0</td>\n",
       "      <td>0</td>\n",
       "      <td>0</td>\n",
       "      <td>0</td>\n",
       "      <td>0</td>\n",
       "      <td>None</td>\n",
       "      <td>0</td>\n",
       "      <td>0</td>\n",
       "      <td>0</td>\n",
       "      <td>1</td>\n",
       "    </tr>\n",
       "    <tr>\n",
       "      <th>1</th>\n",
       "      <td>facility 3</td>\n",
       "      <td>Inpatient</td>\n",
       "      <td>35</td>\n",
       "      <td>0</td>\n",
       "      <td>MARRIED</td>\n",
       "      <td>0</td>\n",
       "      <td>0</td>\n",
       "      <td>0</td>\n",
       "      <td>0</td>\n",
       "      <td>0</td>\n",
       "      <td>...</td>\n",
       "      <td>0</td>\n",
       "      <td>0</td>\n",
       "      <td>0</td>\n",
       "      <td>0</td>\n",
       "      <td>0</td>\n",
       "      <td>None</td>\n",
       "      <td>0</td>\n",
       "      <td>0</td>\n",
       "      <td>0</td>\n",
       "      <td>0</td>\n",
       "    </tr>\n",
       "    <tr>\n",
       "      <th>2</th>\n",
       "      <td>facility 7</td>\n",
       "      <td>Inpatient</td>\n",
       "      <td>29</td>\n",
       "      <td>0</td>\n",
       "      <td>MARRIED</td>\n",
       "      <td>0</td>\n",
       "      <td>0</td>\n",
       "      <td>0</td>\n",
       "      <td>0</td>\n",
       "      <td>0</td>\n",
       "      <td>...</td>\n",
       "      <td>0</td>\n",
       "      <td>0</td>\n",
       "      <td>0</td>\n",
       "      <td>0</td>\n",
       "      <td>0</td>\n",
       "      <td>None</td>\n",
       "      <td>0</td>\n",
       "      <td>0</td>\n",
       "      <td>0</td>\n",
       "      <td>0</td>\n",
       "    </tr>\n",
       "    <tr>\n",
       "      <th>3</th>\n",
       "      <td>facility 4</td>\n",
       "      <td>Inpatient</td>\n",
       "      <td>34</td>\n",
       "      <td>0</td>\n",
       "      <td>MARRIED</td>\n",
       "      <td>0</td>\n",
       "      <td>0</td>\n",
       "      <td>0</td>\n",
       "      <td>0</td>\n",
       "      <td>0</td>\n",
       "      <td>...</td>\n",
       "      <td>0</td>\n",
       "      <td>0</td>\n",
       "      <td>0</td>\n",
       "      <td>0</td>\n",
       "      <td>0</td>\n",
       "      <td>None</td>\n",
       "      <td>0</td>\n",
       "      <td>0</td>\n",
       "      <td>0</td>\n",
       "      <td>1</td>\n",
       "    </tr>\n",
       "    <tr>\n",
       "      <th>4</th>\n",
       "      <td>facility 4</td>\n",
       "      <td>Inpatient</td>\n",
       "      <td>32</td>\n",
       "      <td>0</td>\n",
       "      <td>MARRIED</td>\n",
       "      <td>0</td>\n",
       "      <td>0</td>\n",
       "      <td>0</td>\n",
       "      <td>0</td>\n",
       "      <td>0</td>\n",
       "      <td>...</td>\n",
       "      <td>0</td>\n",
       "      <td>0</td>\n",
       "      <td>0</td>\n",
       "      <td>0</td>\n",
       "      <td>0</td>\n",
       "      <td>None</td>\n",
       "      <td>0</td>\n",
       "      <td>0</td>\n",
       "      <td>0</td>\n",
       "      <td>0</td>\n",
       "    </tr>\n",
       "  </tbody>\n",
       "</table>\n",
       "<p>5 rows × 192 columns</p>\n",
       "</div>"
      ],
      "text/plain": [
       "  facility_id PatientType  Age  Gender MaritalStatus  \\\n",
       "0  facility 7   Inpatient   27       0       MARRIED   \n",
       "1  facility 3   Inpatient   35       0       MARRIED   \n",
       "2  facility 7   Inpatient   29       0       MARRIED   \n",
       "3  facility 4   Inpatient   34       0       MARRIED   \n",
       "4  facility 4   Inpatient   32       0       MARRIED   \n",
       "\n",
       "   Alcohol_Substance_Abuse_cur  AMI_cur  Anemia_cur  Aneurysm_cur  \\\n",
       "0                            0        0           0             0   \n",
       "1                            0        0           0             0   \n",
       "2                            0        0           0             0   \n",
       "3                            0        0           0             0   \n",
       "4                            0        0           0             0   \n",
       "\n",
       "   Anxiety_disorder_cur  ...  Dialysis  Infusion  Non_Actue_Care_Infusion  \\\n",
       "0                     0  ...         0         0                        0   \n",
       "1                     0  ...         0         0                        0   \n",
       "2                     0  ...         0         0                        0   \n",
       "3                     0  ...         0         0                        0   \n",
       "4                     0  ...         0         0                        0   \n",
       "\n",
       "   Trach  Wound_care  N3_Home_Equipment_DCPlan  N3_Home_Equipment_YN  \\\n",
       "0      0           0                      None                     0   \n",
       "1      0           0                      None                     0   \n",
       "2      0           0                      None                     0   \n",
       "3      0           0                      None                     0   \n",
       "4      0           0                      None                     0   \n",
       "\n",
       "   N3_Alcohol_Frequency  N3_CP  N3_Physician  \n",
       "0                     0      0             1  \n",
       "1                     0      0             0  \n",
       "2                     0      0             0  \n",
       "3                     0      0             1  \n",
       "4                     0      0             0  \n",
       "\n",
       "[5 rows x 192 columns]"
      ]
     },
     "metadata": {},
     "output_type": "display_data"
    },
    {
     "data": {
      "text/plain": [
       "0    37241\n",
       "1    24823\n",
       "Name: Gender, dtype: int64"
      ]
     },
     "metadata": {},
     "output_type": "display_data"
    }
   ],
   "source": [
    "import numpy as np\n",
    "import pandas as pd\n",
    "filepath = r'C:\\Users\\sujin\\Documents\\College\\PhD_Project\\Project\\PostAcute_Columns.csv'\n",
    "data = pd.read_csv(filepath)\n",
    "print(data.shape)\n",
    "display(data.head())\n",
    "\n",
    "display(data['Gender'].value_counts())\n",
    "\n"
   ]
  },
  {
   "cell_type": "code",
   "execution_count": 4,
   "id": "double-recovery",
   "metadata": {},
   "outputs": [
    {
     "name": "stdout",
     "output_type": "stream",
     "text": [
      "Readmitted vs Non-readmitted(All Data), 1 = readmitted\n"
     ]
    },
    {
     "data": {
      "text/plain": [
       "0    57634\n",
       "1     4430\n",
       "Name: readmit30, dtype: int64"
      ]
     },
     "metadata": {},
     "output_type": "display_data"
    },
    {
     "name": "stdout",
     "output_type": "stream",
     "text": [
      "Readmitted vs Non-readmitted(Male), 1 = readmitted\n"
     ]
    },
    {
     "data": {
      "text/plain": [
       "0    22862\n",
       "1     1961\n",
       "Name: readmit30, dtype: int64"
      ]
     },
     "metadata": {},
     "output_type": "display_data"
    },
    {
     "name": "stdout",
     "output_type": "stream",
     "text": [
      "Readmitted vs Non-readmitted(Femle), 1 = readmitted\n"
     ]
    },
    {
     "data": {
      "text/plain": [
       "0    34772\n",
       "1     2469\n",
       "Name: readmit30, dtype: int64"
      ]
     },
     "metadata": {},
     "output_type": "display_data"
    }
   ],
   "source": [
    "target = 'readmit30'\n",
    "gender = \"Gender\"\n",
    "print(\"Readmitted vs Non-readmitted(All Data), 1 = readmitted\")\n",
    "display(data[target].value_counts())\n",
    "\n",
    "print(\"Readmitted vs Non-readmitted(Male), 1 = readmitted\")\n",
    "data1 = data[data[gender] == 1]\n",
    "display(data1[target].value_counts())\n",
    "\n",
    "print(\"Readmitted vs Non-readmitted(Femle), 1 = readmitted\")\n",
    "data1 = data[data[gender] == 0]\n",
    "display(data1[target].value_counts())\n"
   ]
  },
  {
   "cell_type": "code",
   "execution_count": 5,
   "id": "bulgarian-times",
   "metadata": {},
   "outputs": [
    {
     "data": {
      "text/plain": [
       "['facility_id',\n",
       " 'PatientType',\n",
       " 'MaritalStatus',\n",
       " 'Alcohol_Substance_Abuse_cur',\n",
       " 'AMI_cur',\n",
       " 'Anemia_cur',\n",
       " 'Aneurysm_cur',\n",
       " 'Anxiety_disorder_cur',\n",
       " 'Asthma_cur',\n",
       " 'AV_Fistula_cur',\n",
       " 'Cardiac_arrhythmia_cur',\n",
       " 'CDI_cur',\n",
       " 'Cellulitis_cur',\n",
       " 'Chest_pain_cur',\n",
       " 'Chronic_pain_cur',\n",
       " 'Coagulation_Disorder_cur',\n",
       " 'Coma_cur',\n",
       " 'COPD_emphysema_cur',\n",
       " 'Cystic_Fibrosis_cur',\n",
       " 'Dementia_cur',\n",
       " 'DVT_PE_cur',\n",
       " 'ESBL_cur',\n",
       " 'Esophagitis_gastro_cur',\n",
       " 'ESRD_cur',\n",
       " 'Falls_history_cur',\n",
       " 'GI_hemorrhage_cur',\n",
       " 'HIV_cur',\n",
       " 'Hyperlipidemia_cur',\n",
       " 'Kidney_UTI_cur',\n",
       " 'Leukemia_LMM_cur',\n",
       " 'Liver_Disease_cur',\n",
       " 'Lupus_CTD_cur',\n",
       " 'Malignancy_cur',\n",
       " 'Malnutrition_cur',\n",
       " 'MDRO_cur',\n",
       " 'Mood_disorder_cur',\n",
       " 'MRSA_infections_cur',\n",
       " 'Multiple_sclerosis_cur',\n",
       " 'Obesity_cur',\n",
       " 'Osteomyelitis_cur',\n",
       " 'Other_HDNSC_cur',\n",
       " 'Pancreatitis_cur',\n",
       " 'Parkinsons_disease_cur',\n",
       " 'Peripheral_VD_cur',\n",
       " 'Personality_disorder_cur',\n",
       " 'Pneumonia_cur',\n",
       " 'Pressure_ulcer_cur',\n",
       " 'Psychotic_disorder1_cur',\n",
       " 'Psychotic_disorder2_cur',\n",
       " 'RF_with_hemo_cur',\n",
       " 'RF_without_hemo_cur',\n",
       " 'Rheumatoid_Arthritis_cur',\n",
       " 'Sepsis_cur',\n",
       " 'Short_breath_cur',\n",
       " 'Sickle_Cell_Anemia_cur',\n",
       " 'Spinal_cord_injury_cur',\n",
       " 'Stroke_cur',\n",
       " 'Surgical_complications_cur',\n",
       " 'Trauma_cur',\n",
       " 'VRE_cur',\n",
       " 'WBC_disorder_cur',\n",
       " 'ErInLastSixMo',\n",
       " 'ErInLastYr',\n",
       " 'InpatientInLastSixMo',\n",
       " 'InpatientInLastYr',\n",
       " 'NbrErInLastYr',\n",
       " 'NbrInpatientInLastYr',\n",
       " 'NbrObsInLastYr',\n",
       " 'ObsInLastSixMo',\n",
       " 'ObsInLastYr',\n",
       " 'AMAHsitory',\n",
       " 'elective',\n",
       " 'Acuity',\n",
       " 'AMA',\n",
       " 'Expire',\n",
       " 'Race_Caucasian',\n",
       " 'Race_AfricanA',\n",
       " 'Race_Hispanic',\n",
       " 'Race_Other',\n",
       " 'RACE2',\n",
       " 'NotMarried',\n",
       " 'Insurance_Commercial',\n",
       " 'Insurance_Medicare',\n",
       " 'Insurance_Medicaid',\n",
       " 'Insurance_SelfPay',\n",
       " 'Insurance_Others',\n",
       " 'Insurance_SelfOther',\n",
       " 'FINANCIALCLASS2',\n",
       " 'AdmitFromSNF',\n",
       " 'Heart_Failure_cur',\n",
       " 'SmokingStatusYN',\n",
       " 'LivingAloneYN',\n",
       " 'ComorbidityIndex',\n",
       " 'Summer',\n",
       " 'Winter',\n",
       " 'age75yn',\n",
       " 'dischargegrp',\n",
       " 'MEDSERgrp3',\n",
       " 'Antibiotics_cur',\n",
       " 'Digoxin_cur',\n",
       " 'Diuretics_cur',\n",
       " 'Heparin_cur',\n",
       " 'Insulin_cur',\n",
       " 'Platelet_Ag_cur',\n",
       " 'Spironolactone_cur',\n",
       " 'Steroid_Inhalers_cur',\n",
       " 'Warfarin_cur',\n",
       " 'Antibiotics_hst',\n",
       " 'Digoxin_hst',\n",
       " 'Diuretics_hst',\n",
       " 'Heparin_hst',\n",
       " 'Insulin_hst',\n",
       " 'Platelet_Ag_hst',\n",
       " 'Spironolactone_hst',\n",
       " 'Steroid_Inhalers_hst',\n",
       " 'Warfarin_hst',\n",
       " 'BMICAT',\n",
       " 'N2_ADL_AT_HOME_REHAB_D',\n",
       " 'N2_ANY_OPEN_PRESSURE_ULCERS_D',\n",
       " 'N2_APPETITE_D_num',\n",
       " 'N2_CURRENT_NUTRITION1_D',\n",
       " 'N2_DO_YOU_EXERCISE_D_num',\n",
       " 'N2_EATING_DIFFICULTIES_D',\n",
       " 'N2_FINAL_DC_ARRANG_CONF_WITH_D',\n",
       " 'N2_FUNC_STAT_AMBULATION_D',\n",
       " 'N2_FUNC_STAT_BATHING_D',\n",
       " 'N2_FUNC_STAT_DRESSING_D',\n",
       " 'N2_FUNC_STAT_DRIVING_D',\n",
       " 'N2_FUNC_STAT_EATING_D',\n",
       " 'N2_FUNC_STAT_GROOMING_D',\n",
       " 'N2_FUNC_STAT_TOILETING_D',\n",
       " 'N2_FUNC_STAT_TRANSFERS_D',\n",
       " 'N2_FUNC_STAT_PRIOR_TO_ADMI_D',\n",
       " 'N2_FUNC_STAT_SCORE_num',\n",
       " 'N2_HOME_DIET_D',\n",
       " 'N2_LIVING_ARRANGEMENT_PTA_D',\n",
       " 'N2_NUTRITIONAL_CLASS_D',\n",
       " 'N2_NUTRITIONAL_STATUS_D_num',\n",
       " 'N2_PATIENT_LIVES_ALONE_D',\n",
       " 'N2_POOR_INTAKE_GREATER_1_WK_D',\n",
       " 'N2_RECENT_MAJOR_STRESSORS_D',\n",
       " 'N2_RECENTLY_THINKING_SUICIDE_D',\n",
       " 'N2_RELIG_CULT_PRACTICES_HOSP_D',\n",
       " 'N2_SERVICES_NEEDED_D_C_PLAN_D',\n",
       " 'N2_SERVICE_PTA_Oxygen',\n",
       " 'N2_SLEEP_PATTERN_D_NORMAL',\n",
       " 'N2_SOCIAL_NOSUPPORT_REHAB_D',\n",
       " 'N2_TPN_HOSPITAL_D',\n",
       " 'N2_UNPLANNED_WT_LOSS_IN_1_MO_D',\n",
       " 'N2_VENOUS_ACCESS_DEVICES_D',\n",
       " 'N2_CULTURAL_PRACTICES_D2',\n",
       " 'N2_ABUSE_ALL',\n",
       " 'Actue_Care_Infusion',\n",
       " 'Dialysis',\n",
       " 'Infusion',\n",
       " 'Non_Actue_Care_Infusion',\n",
       " 'Trach',\n",
       " 'Wound_care',\n",
       " 'N3_Home_Equipment_DCPlan',\n",
       " 'N3_Home_Equipment_YN',\n",
       " 'N3_Alcohol_Frequency',\n",
       " 'N3_CP',\n",
       " 'N3_Physician']"
      ]
     },
     "execution_count": 5,
     "metadata": {},
     "output_type": "execute_result"
    }
   ],
   "source": [
    "pd.options.display.max_columns = None\n",
    "\n",
    "\n",
    "\n",
    "filepath = r'C:\\Users\\sujin\\Documents\\College\\PhD_Project\\Project\\PostAcute.csv'\n",
    "        \n",
    "filepath2 = r'C:\\Users\\sujin\\Documents\\College\\PhD_Project\\Project\\PostAcute_Columns.csv'\n",
    "df2 = pd.read_csv(filepath2)\n",
    "df3=df2\n",
    "df3.drop(['Age','LOSDAYS', 'BNPChg','BUNChg','GLUCOSEChg','GLYHEMOChg','INRChg','HbAChg','LIVERChg','PLTChg',\n",
    "          'PTTChg','SRCChg','SRSChg','WBCChg','ALBChg','APHChg','CA19Chg','CO2Chg','LDChg','O2Chg','PCO2Chg',\n",
    "          'PSAChg','CALChg','SERCHLChg','MAGChg','SERPOTChg','TROChg', \"Gender\", \"readmit30\"], axis=1, inplace = True)\n",
    "\n",
    "categorical_attributes = df3.columns.tolist()\n",
    "categorical_attributes\n",
    "\n",
    "\n"
   ]
  },
  {
   "cell_type": "code",
   "execution_count": 6,
   "id": "engaging-providence",
   "metadata": {},
   "outputs": [],
   "source": [
    "#PostAcute Treatment Dataset\n",
    "#https://dataverse.harvard.edu/file.xhtml?persistentId=doi:10.7910/DVN/N6Z4MV/7UDTMR&version=1.0\n",
    "np.random.seed(1)\n",
    "\n",
    "default_mappings = {\n",
    "    'label_maps': [{1.0: '1'}],\n",
    "    'protected_attribute_maps': [{1.0: 'Male', 0.0: 'Female'}]\n",
    "}\n",
    "\n",
    "\n",
    "filepath = r'C:\\Users\\sujin\\Documents\\College\\PhD_Project\\Project\\PostAcute.csv'\n",
    "        \n",
    "filepath2 = r'C:\\Users\\sujin\\Documents\\College\\PhD_Project\\Project\\PostAcute_Columns.csv'\n",
    "df2 = pd.read_csv(filepath2)\n",
    "df3=df2\n",
    "df3.drop(['Age','LOSDAYS', 'BNPChg','BUNChg','GLUCOSEChg','GLYHEMOChg','INRChg','HbAChg','LIVERChg','PLTChg',\n",
    "          'PTTChg','SRCChg','SRSChg','WBCChg','ALBChg','APHChg','CA19Chg','CO2Chg','LDChg','O2Chg','PCO2Chg',\n",
    "          'PSAChg','CALChg','SERCHLChg','MAGChg','SERPOTChg','TROChg', \"Gender\", \"readmit30\"], axis=1, inplace = True)\n",
    "\n",
    "categorical_attributes = df3.columns.tolist()\n",
    "\n",
    "\n",
    "\n",
    "class PostAcuteDataset(StandardDataset):\n",
    "\n",
    "    def __init__(self, label_name='readmit30',\n",
    "                 favorable_classes=[1],\n",
    "                 protected_attribute_names=['Gender'],\n",
    "                 privileged_classes=[[1]],\n",
    "                 instance_weights_name=None,\n",
    "                 categorical_features=categorical_attributes,\n",
    "                 features_to_keep=[], features_to_drop=[],\n",
    "                 na_values=[], custom_preprocessing=None,\n",
    "                 metadata=default_mappings):\n",
    "\n",
    "\n",
    "\n",
    "        column_names = df2.columns.tolist()\n",
    "        try:\n",
    "            df = pd.read_csv(filepath, header=None, names=column_names,\n",
    "                             na_values=na_values)\n",
    "            \n",
    "            #print(df)\n",
    "        except IOError as err:\n",
    "            print(\"IOError: {}\".format(err))\n",
    "            print(\"To use this class, please download the following files:\")\n",
    "            print(\"\\n\\thttps://archive.ics.uci.edu/ml/machine-learning-databases/statlog/german/german.data\")\n",
    "            print(\"\\thttps://archive.ics.uci.edu/ml/machine-learning-databases/statlog/german/german.doc\")\n",
    "            print(\"\\nand place them, as-is, in the folder:\")\n",
    "            print(\"\\n\\t{}\\n\".format(os.path.abspath(os.path.join(\n",
    "                os.path.abspath(__file__), '..', '..', 'data', 'raw', 'german'))))\n",
    "            import sys\n",
    "            sys.exit(1)\n",
    "\n",
    "        super(PostAcuteDataset, self).__init__(df=df, label_name=label_name,\n",
    "                                               favorable_classes=favorable_classes,\n",
    "                                               protected_attribute_names=protected_attribute_names,\n",
    "                                               privileged_classes=privileged_classes,\n",
    "                                               instance_weights_name=instance_weights_name,\n",
    "                                               categorical_features=categorical_features,\n",
    "                                               features_to_keep=features_to_keep,\n",
    "                                               features_to_drop=features_to_drop, na_values=na_values,\n",
    "                                               custom_preprocessing=custom_preprocessing, metadata=metadata)\n"
   ]
  },
  {
   "cell_type": "code",
   "execution_count": 7,
   "id": "acquired-savannah",
   "metadata": {},
   "outputs": [
    {
     "data": {
      "text/plain": [
       "(62064, 192)"
      ]
     },
     "execution_count": 7,
     "metadata": {},
     "output_type": "execute_result"
    }
   ],
   "source": [
    "df2 = pd.read_csv(filepath2)\n",
    "df = pd.read_csv(filepath, header=None, names=df2.columns)\n",
    "df.shape\n",
    "#df.drop(df[df.gender == 'Unknown/Invalid'].index, inplace=True)\n",
    "#df['gender'] = df['gender'].astype(int)\n",
    "#df.loc[df['gender'] == 0]\n",
    "\n"
   ]
  },
  {
   "cell_type": "code",
   "execution_count": 8,
   "id": "agricultural-civilian",
   "metadata": {},
   "outputs": [
    {
     "name": "stderr",
     "output_type": "stream",
     "text": [
      "WARNING:root:Missing Data: 122 rows removed from PostAcuteDataset.\n"
     ]
    },
    {
     "data": {
      "text/markdown": [
       "#### Training Dataset shape"
      ],
      "text/plain": [
       "<IPython.core.display.Markdown object>"
      ]
     },
     "metadata": {},
     "output_type": "display_data"
    },
    {
     "name": "stdout",
     "output_type": "stream",
     "text": [
      "(30971, 519)\n"
     ]
    },
    {
     "data": {
      "text/markdown": [
       "#### Validation Dataset shape"
      ],
      "text/plain": [
       "<IPython.core.display.Markdown object>"
      ]
     },
     "metadata": {},
     "output_type": "display_data"
    },
    {
     "name": "stdout",
     "output_type": "stream",
     "text": [
      "(18582, 519)\n"
     ]
    },
    {
     "data": {
      "text/markdown": [
       "#### Test Dataset shape"
      ],
      "text/plain": [
       "<IPython.core.display.Markdown object>"
      ]
     },
     "metadata": {},
     "output_type": "display_data"
    },
    {
     "name": "stdout",
     "output_type": "stream",
     "text": [
      "(12389, 519)\n"
     ]
    },
    {
     "data": {
      "text/markdown": [
       "#### Favorable and unfavorable labels"
      ],
      "text/plain": [
       "<IPython.core.display.Markdown object>"
      ]
     },
     "metadata": {},
     "output_type": "display_data"
    },
    {
     "name": "stdout",
     "output_type": "stream",
     "text": [
      "1.0 0.0\n"
     ]
    },
    {
     "data": {
      "text/markdown": [
       "#### Protected attribute names"
      ],
      "text/plain": [
       "<IPython.core.display.Markdown object>"
      ]
     },
     "metadata": {},
     "output_type": "display_data"
    },
    {
     "name": "stdout",
     "output_type": "stream",
     "text": [
      "['Gender']\n"
     ]
    },
    {
     "data": {
      "text/markdown": [
       "#### Privileged and unprivileged protected attribute values"
      ],
      "text/plain": [
       "<IPython.core.display.Markdown object>"
      ]
     },
     "metadata": {},
     "output_type": "display_data"
    },
    {
     "name": "stdout",
     "output_type": "stream",
     "text": [
      "[array([1.])] [array([0.])]\n"
     ]
    },
    {
     "data": {
      "text/markdown": [
       "#### Dataset feature names"
      ],
      "text/plain": [
       "<IPython.core.display.Markdown object>"
      ]
     },
     "metadata": {},
     "output_type": "display_data"
    },
    {
     "name": "stdout",
     "output_type": "stream",
     "text": [
      "['Age', 'Gender', 'LOSDAYS', 'BNPChg', 'BUNChg', 'GLUCOSEChg', 'GLYHEMOChg', 'INRChg', 'HbAChg', 'LIVERChg', 'PLTChg', 'PTTChg', 'SRCChg', 'SRSChg', 'WBCChg', 'ALBChg', 'APHChg', 'CA19Chg', 'CO2Chg', 'LDChg', 'O2Chg', 'PCO2Chg', 'PSAChg', 'CALChg', 'SERCHLChg', 'MAGChg', 'SERPOTChg', 'TROChg', 'facility_id=facility 1', 'facility_id=facility 2', 'facility_id=facility 3', 'facility_id=facility 4', 'facility_id=facility 5', 'facility_id=facility 6', 'facility_id=facility 7', 'facility_id=facility 8', 'PatientType=Inpatient', 'MaritalStatus=A', 'MaritalStatus=CIVIL UN', 'MaritalStatus=DIVORCED', 'MaritalStatus=LIFE PAR', 'MaritalStatus=MARRIED', 'MaritalStatus=SINGLE', 'MaritalStatus=WIDOWED', 'Alcohol_Substance_Abuse_cur=0', 'Alcohol_Substance_Abuse_cur=1', 'AMI_cur=0', 'AMI_cur=1', 'Anemia_cur=0', 'Anemia_cur=1', 'Aneurysm_cur=0', 'Aneurysm_cur=1', 'Anxiety_disorder_cur=0', 'Anxiety_disorder_cur=1', 'Asthma_cur=0', 'Asthma_cur=1', 'AV_Fistula_cur=0', 'AV_Fistula_cur=1', 'Cardiac_arrhythmia_cur=0', 'Cardiac_arrhythmia_cur=1', 'CDI_cur=0', 'CDI_cur=1', 'Cellulitis_cur=0', 'Cellulitis_cur=1', 'Chest_pain_cur=0', 'Chest_pain_cur=1', 'Chronic_pain_cur=0', 'Chronic_pain_cur=1', 'Coagulation_Disorder_cur=0', 'Coagulation_Disorder_cur=1', 'Coma_cur=0', 'Coma_cur=1', 'COPD_emphysema_cur=0', 'COPD_emphysema_cur=1', 'Cystic_Fibrosis_cur=0', 'Cystic_Fibrosis_cur=1', 'Dementia_cur=0', 'Dementia_cur=1', 'DVT_PE_cur=0', 'DVT_PE_cur=1', 'ESBL_cur=0', 'ESBL_cur=1', 'Esophagitis_gastro_cur=0', 'Esophagitis_gastro_cur=1', 'ESRD_cur=0', 'ESRD_cur=1', 'Falls_history_cur=0', 'Falls_history_cur=1', 'GI_hemorrhage_cur=0', 'GI_hemorrhage_cur=1', 'HIV_cur=0', 'HIV_cur=1', 'Hyperlipidemia_cur=0', 'Hyperlipidemia_cur=1', 'Kidney_UTI_cur=0', 'Kidney_UTI_cur=1', 'Leukemia_LMM_cur=0', 'Leukemia_LMM_cur=1', 'Liver_Disease_cur=0', 'Liver_Disease_cur=1', 'Lupus_CTD_cur=0', 'Lupus_CTD_cur=1', 'Malignancy_cur=0', 'Malignancy_cur=1', 'Malnutrition_cur=0', 'Malnutrition_cur=1', 'MDRO_cur=0', 'MDRO_cur=1', 'Mood_disorder_cur=0', 'Mood_disorder_cur=1', 'MRSA_infections_cur=0', 'MRSA_infections_cur=1', 'Multiple_sclerosis_cur=0', 'Multiple_sclerosis_cur=1', 'Obesity_cur=0', 'Obesity_cur=1', 'Osteomyelitis_cur=0', 'Osteomyelitis_cur=1', 'Other_HDNSC_cur=0', 'Other_HDNSC_cur=1', 'Pancreatitis_cur=0', 'Pancreatitis_cur=1', 'Parkinsons_disease_cur=0', 'Parkinsons_disease_cur=1', 'Peripheral_VD_cur=0', 'Peripheral_VD_cur=1', 'Personality_disorder_cur=0', 'Personality_disorder_cur=1', 'Pneumonia_cur=0', 'Pneumonia_cur=1', 'Pressure_ulcer_cur=0', 'Pressure_ulcer_cur=1', 'Psychotic_disorder1_cur=0', 'Psychotic_disorder1_cur=1', 'Psychotic_disorder2_cur=0', 'Psychotic_disorder2_cur=1', 'RF_with_hemo_cur=0', 'RF_with_hemo_cur=1', 'RF_without_hemo_cur=0', 'RF_without_hemo_cur=1', 'Rheumatoid_Arthritis_cur=0', 'Rheumatoid_Arthritis_cur=1', 'Sepsis_cur=0', 'Sepsis_cur=1', 'Short_breath_cur=0', 'Short_breath_cur=1', 'Sickle_Cell_Anemia_cur=0', 'Sickle_Cell_Anemia_cur=1', 'Spinal_cord_injury_cur=0', 'Spinal_cord_injury_cur=1', 'Stroke_cur=0', 'Stroke_cur=1', 'Surgical_complications_cur=0', 'Surgical_complications_cur=1', 'Trauma_cur=0', 'Trauma_cur=1', 'VRE_cur=0', 'VRE_cur=1', 'WBC_disorder_cur=0', 'WBC_disorder_cur=1', 'ErInLastSixMo=0', 'ErInLastSixMo=1', 'ErInLastYr=0', 'ErInLastYr=1', 'InpatientInLastSixMo=0', 'InpatientInLastSixMo=1', 'InpatientInLastYr=0', 'InpatientInLastYr=1', 'NbrErInLastYr=0', 'NbrErInLastYr=1', 'NbrErInLastYr=2', 'NbrErInLastYr=3', 'NbrErInLastYr=4', 'NbrErInLastYr=5', 'NbrErInLastYr=6', 'NbrErInLastYr=7', 'NbrErInLastYr=8', 'NbrErInLastYr=9', 'NbrErInLastYr=10', 'NbrErInLastYr=11', 'NbrErInLastYr=12', 'NbrErInLastYr=13', 'NbrErInLastYr=14', 'NbrErInLastYr=15', 'NbrErInLastYr=16', 'NbrErInLastYr=17', 'NbrErInLastYr=18', 'NbrErInLastYr=19', 'NbrErInLastYr=20', 'NbrErInLastYr=21', 'NbrErInLastYr=22', 'NbrErInLastYr=24', 'NbrErInLastYr=25', 'NbrErInLastYr=26', 'NbrErInLastYr=27', 'NbrErInLastYr=28', 'NbrErInLastYr=29', 'NbrErInLastYr=31', 'NbrErInLastYr=34', 'NbrErInLastYr=36', 'NbrErInLastYr=43', 'NbrErInLastYr=49', 'NbrErInLastYr=57', 'NbrErInLastYr=95', 'NbrInpatientInLastYr=0', 'NbrInpatientInLastYr=1', 'NbrInpatientInLastYr=2', 'NbrInpatientInLastYr=3', 'NbrInpatientInLastYr=4', 'NbrInpatientInLastYr=5', 'NbrInpatientInLastYr=6', 'NbrInpatientInLastYr=7', 'NbrInpatientInLastYr=8', 'NbrInpatientInLastYr=9', 'NbrInpatientInLastYr=10', 'NbrInpatientInLastYr=11', 'NbrInpatientInLastYr=12', 'NbrInpatientInLastYr=13', 'NbrInpatientInLastYr=14', 'NbrInpatientInLastYr=15', 'NbrInpatientInLastYr=16', 'NbrInpatientInLastYr=18', 'NbrInpatientInLastYr=19', 'NbrObsInLastYr=0', 'NbrObsInLastYr=1', 'NbrObsInLastYr=2', 'NbrObsInLastYr=3', 'NbrObsInLastYr=4', 'NbrObsInLastYr=5', 'NbrObsInLastYr=6', 'NbrObsInLastYr=7', 'NbrObsInLastYr=8', 'NbrObsInLastYr=9', 'NbrObsInLastYr=10', 'NbrObsInLastYr=19', 'NbrObsInLastYr=23', 'ObsInLastSixMo=0', 'ObsInLastSixMo=1', 'ObsInLastYr=0', 'ObsInLastYr=1', 'AMAHsitory=0', 'AMAHsitory=1', 'AMAHsitory=2', 'AMAHsitory=3', 'AMAHsitory=4', 'AMAHsitory=5', 'AMAHsitory=6', 'AMAHsitory=7', 'AMAHsitory=9', 'AMAHsitory=10', 'AMAHsitory=11', 'AMAHsitory=13', 'AMAHsitory=14', 'AMAHsitory=15', 'AMAHsitory=18', 'AMAHsitory=19', 'AMAHsitory=24', 'AMAHsitory=25', 'AMAHsitory=45', 'elective=0', 'elective=1', 'Acuity=0', 'Acuity=1', 'AMA=0', 'AMA=1', 'Expire=0', 'Race_Caucasian=0', 'Race_Caucasian=1', 'Race_AfricanA=0', 'Race_AfricanA=1', 'Race_Hispanic=0', 'Race_Hispanic=1', 'Race_Other=0', 'Race_Other=1', 'RACE2=1. Caucasian', 'RACE2=2. African A', 'RACE2=3. Hispanic', 'RACE2=4. Other', 'NotMarried=0', 'NotMarried=1', 'Insurance_Commercial=0', 'Insurance_Commercial=1', 'Insurance_Medicare=0', 'Insurance_Medicare=1', 'Insurance_Medicaid=0', 'Insurance_Medicaid=1', 'Insurance_SelfPay=0', 'Insurance_SelfPay=1', 'Insurance_Others=0', 'Insurance_Others=1', 'Insurance_SelfOther=0', 'Insurance_SelfOther=1', 'FINANCIALCLASS2=1. Commercial', 'FINANCIALCLASS2=2. Medicare', 'FINANCIALCLASS2=3. Medicaid', 'FINANCIALCLASS2=4. Self-pay', 'FINANCIALCLASS2=5. Other', 'AdmitFromSNF=0', 'AdmitFromSNF=1', 'Heart_Failure_cur=0', 'Heart_Failure_cur=1', 'SmokingStatusYN=0', 'SmokingStatusYN=1', 'LivingAloneYN=0', 'LivingAloneYN=1', 'ComorbidityIndex=0', 'ComorbidityIndex=1', 'ComorbidityIndex=2', 'ComorbidityIndex=3', 'ComorbidityIndex=4', 'ComorbidityIndex=5', 'ComorbidityIndex=6', 'ComorbidityIndex=7', 'ComorbidityIndex=8', 'ComorbidityIndex=9', 'ComorbidityIndex=10', 'ComorbidityIndex=11', 'ComorbidityIndex=12', 'ComorbidityIndex=13', 'ComorbidityIndex=14', 'ComorbidityIndex=15', 'ComorbidityIndex=16', 'ComorbidityIndex=17', 'ComorbidityIndex=18', 'ComorbidityIndex=19', 'ComorbidityIndex=20', 'Summer=0', 'Summer=1', 'Winter=0', 'Winter=1', 'age75yn=0', 'age75yn=1', 'dischargegrp=1.DISCH/TRANS TO HOME CARE OR HOME HEALTH', 'dischargegrp=2.Discharge to SNF', 'dischargegrp=3. Discharged to LTC, federal hospital, p', 'dischargegrp=4.Discharged to Rehab', 'dischargegrp=5.Discharged to home/ self-care', 'dischargegrp=7.AMA', 'dischargegrp=8.OTHERS', 'MEDSERgrp3=MED', 'MEDSERgrp3=OBG', 'MEDSERgrp3=OTH', 'MEDSERgrp3=SGP', 'Antibiotics_cur=0', 'Antibiotics_cur=1', 'Digoxin_cur=0', 'Digoxin_cur=1', 'Diuretics_cur=0', 'Diuretics_cur=1', 'Heparin_cur=0', 'Heparin_cur=1', 'Insulin_cur=0', 'Insulin_cur=1', 'Platelet_Ag_cur=0', 'Platelet_Ag_cur=1', 'Spironolactone_cur=0', 'Spironolactone_cur=1', 'Steroid_Inhalers_cur=0', 'Steroid_Inhalers_cur=1', 'Warfarin_cur=0', 'Warfarin_cur=1', 'Antibiotics_hst=0', 'Antibiotics_hst=1', 'Digoxin_hst=0', 'Digoxin_hst=1', 'Diuretics_hst=0', 'Diuretics_hst=1', 'Heparin_hst=0', 'Heparin_hst=1', 'Insulin_hst=0', 'Insulin_hst=1', 'Platelet_Ag_hst=0', 'Platelet_Ag_hst=1', 'Spironolactone_hst=0', 'Spironolactone_hst=1', 'Steroid_Inhalers_hst=0', 'Steroid_Inhalers_hst=1', 'Warfarin_hst=0', 'Warfarin_hst=1', 'BMICAT=1. UNDERWEIGHT', 'BMICAT=2. NORMAL', 'BMICAT=3. OVERWEIGHT', 'BMICAT=4. OBESE', 'BMICAT=5. UNKNOWN', 'N2_ADL_AT_HOME_REHAB_D=0. No Equipment', 'N2_ANY_OPEN_PRESSURE_ULCERS_D=0', 'N2_ANY_OPEN_PRESSURE_ULCERS_D=1', 'N2_APPETITE_D_num=1.poor', 'N2_APPETITE_D_num=2.good', 'N2_APPETITE_D_num=3.fair', 'N2_CURRENT_NUTRITION1_D=0. No NUTRITION Control', 'N2_CURRENT_NUTRITION1_D=1. Have NUTRITION Control', 'N2_DO_YOU_EXERCISE_D_num=1.Never', 'N2_DO_YOU_EXERCISE_D_num=2.Seldom', 'N2_DO_YOU_EXERCISE_D_num=3.Occasionally', 'N2_DO_YOU_EXERCISE_D_num=4.Regularly', 'N2_EATING_DIFFICULTIES_D=0. NO EAT DIFFICULTY', 'N2_EATING_DIFFICULTIES_D=1. Have EAT DIFFICULTY', 'N2_FINAL_DC_ARRANG_CONF_WITH_D=3', 'N2_FUNC_STAT_AMBULATION_D=0.Independent', 'N2_FUNC_STAT_AMBULATION_D=1.Required Assistant', 'N2_FUNC_STAT_AMBULATION_D=2.Total Assist', 'N2_FUNC_STAT_BATHING_D=0.Independent', 'N2_FUNC_STAT_BATHING_D=1.Required Assistant', 'N2_FUNC_STAT_BATHING_D=2.Total Assist', 'N2_FUNC_STAT_DRESSING_D=0.Independent', 'N2_FUNC_STAT_DRESSING_D=1.Required Assistant', 'N2_FUNC_STAT_DRESSING_D=2.Total Assist', 'N2_FUNC_STAT_DRIVING_D=0.Independent', 'N2_FUNC_STAT_DRIVING_D=1.Required Assistant', 'N2_FUNC_STAT_DRIVING_D=2.Total Assist', 'N2_FUNC_STAT_EATING_D=0.Independent', 'N2_FUNC_STAT_EATING_D=1.Required Assistant', 'N2_FUNC_STAT_EATING_D=2.Total Assist', 'N2_FUNC_STAT_GROOMING_D=0.Independent', 'N2_FUNC_STAT_GROOMING_D=1.Required Assistant', 'N2_FUNC_STAT_GROOMING_D=2.Total Assist', 'N2_FUNC_STAT_TOILETING_D=0.Independent', 'N2_FUNC_STAT_TOILETING_D=1.Required Assistant', 'N2_FUNC_STAT_TOILETING_D=2.Total Assist', 'N2_FUNC_STAT_TRANSFERS_D=0.Independent', 'N2_FUNC_STAT_TRANSFERS_D=1.Required Assistant', 'N2_FUNC_STAT_TRANSFERS_D=2.Total Assist', 'N2_FUNC_STAT_PRIOR_TO_ADMI_D=0.Independent', 'N2_FUNC_STAT_PRIOR_TO_ADMI_D=1.Required Assistant', 'N2_FUNC_STAT_SCORE_num=0', 'N2_FUNC_STAT_SCORE_num=1', 'N2_FUNC_STAT_SCORE_num=2', 'N2_FUNC_STAT_SCORE_num=3', 'N2_FUNC_STAT_SCORE_num=4', 'N2_FUNC_STAT_SCORE_num=5', 'N2_FUNC_STAT_SCORE_num=6', 'N2_FUNC_STAT_SCORE_num=7', 'N2_FUNC_STAT_SCORE_num=8', 'N2_FUNC_STAT_SCORE_num=9', 'N2_FUNC_STAT_SCORE_num=10', 'N2_FUNC_STAT_SCORE_num=11', 'N2_FUNC_STAT_SCORE_num=12', 'N2_FUNC_STAT_SCORE_num=13', 'N2_FUNC_STAT_SCORE_num=14', 'N2_FUNC_STAT_SCORE_num=15', 'N2_FUNC_STAT_SCORE_num=16', 'N2_FUNC_STAT_SCORE_num=17', 'N2_HOME_DIET_D=1.Regular Diet', 'N2_HOME_DIET_D=2.Healthy Diet Required', 'N2_HOME_DIET_D=3.Assisted Diet Required', 'N2_LIVING_ARRANGEMENT_PTA_D=1.facility', 'N2_LIVING_ARRANGEMENT_PTA_D=2.home', 'N2_LIVING_ARRANGEMENT_PTA_D=3.homeless', 'N2_LIVING_ARRANGEMENT_PTA_D=4.no arrangement', 'N2_NUTRITIONAL_CLASS_D=1.Malnutrition', 'N2_NUTRITIONAL_CLASS_D=2.Normal', 'N2_NUTRITIONAL_CLASS_D=3.Obese', 'N2_NUTRITIONAL_STATUS_D_num=0.No Concern', 'N2_NUTRITIONAL_STATUS_D_num=1.Mild Risk', 'N2_NUTRITIONAL_STATUS_D_num=2.Moderate Risk', 'N2_NUTRITIONAL_STATUS_D_num=3.Severe Risk', 'N2_PATIENT_LIVES_ALONE_D=0.Not Alone', 'N2_PATIENT_LIVES_ALONE_D=1.live alone', 'N2_POOR_INTAKE_GREATER_1_WK_D=0', 'N2_POOR_INTAKE_GREATER_1_WK_D=1', 'N2_RECENT_MAJOR_STRESSORS_D=0.No Stressor', 'N2_RECENT_MAJOR_STRESSORS_D=1.Illness', 'N2_RECENT_MAJOR_STRESSORS_D=2.Home+Family', 'N2_RECENT_MAJOR_STRESSORS_D=3.Finances', 'N2_RECENT_MAJOR_STRESSORS_D=4.Others(Multiple Stressors', 'N2_RECENTLY_THINKING_SUICIDE_D=0', 'N2_RECENTLY_THINKING_SUICIDE_D=1', 'N2_RELIG_CULT_PRACTICES_HOSP_D=0', 'N2_RELIG_CULT_PRACTICES_HOSP_D=1', 'N2_SERVICES_NEEDED_D_C_PLAN_D=0', 'N2_SERVICES_NEEDED_D_C_PLAN_D=1', 'N2_SERVICES_NEEDED_D_C_PLAN_D=2', 'N2_SERVICES_NEEDED_D_C_PLAN_D=3', 'N2_SERVICE_PTA_Oxygen=0', 'N2_SERVICE_PTA_Oxygen=1', 'N2_SLEEP_PATTERN_D_NORMAL=0.not within 6-8 hours', 'N2_SLEEP_PATTERN_D_NORMAL=1.within 6-8 hours', 'N2_SOCIAL_NOSUPPORT_REHAB_D=0.possible support', 'N2_SOCIAL_NOSUPPORT_REHAB_D=1.No support', 'N2_TPN_HOSPITAL_D=0', 'N2_TPN_HOSPITAL_D=1', 'N2_UNPLANNED_WT_LOSS_IN_1_MO_D=0', 'N2_UNPLANNED_WT_LOSS_IN_1_MO_D=1', 'N2_VENOUS_ACCESS_DEVICES_D=0', 'N2_VENOUS_ACCESS_DEVICES_D=1', 'N2_CULTURAL_PRACTICES_D2=0', 'N2_CULTURAL_PRACTICES_D2=1', 'N2_ABUSE_ALL=0', 'N2_ABUSE_ALL=1', 'Actue_Care_Infusion=0', 'Actue_Care_Infusion=1', 'Dialysis=0', 'Dialysis=1', 'Infusion=0', 'Infusion=1', 'Non_Actue_Care_Infusion=0', 'Non_Actue_Care_Infusion=1', 'Trach=0', 'Trach=1', 'Wound_care=0', 'Wound_care=1', 'N3_Home_Equipment_DCPlan=Hospital Bed', 'N3_Home_Equipment_DCPlan=Nebulizer', 'N3_Home_Equipment_DCPlan=None', 'N3_Home_Equipment_DCPlan=Other', 'N3_Home_Equipment_DCPlan=Oxygen', 'N3_Home_Equipment_DCPlan=Walker', 'N3_Home_Equipment_DCPlan=Wheelchair', 'N3_Home_Equipment_YN=0', 'N3_Home_Equipment_YN=1', 'N3_Alcohol_Frequency=0', 'N3_Alcohol_Frequency=1', 'N3_Alcohol_Frequency=2', 'N3_Alcohol_Frequency=3', 'N3_CP=0', 'N3_CP=1', 'N3_Physician=0', 'N3_Physician=1']\n",
      "Disparate impact (probability of favorable outcome for unprivileged instances / probability of favorable outcome for privileged instances): 0.8357496952023612\n"
     ]
    }
   ],
   "source": [
    "# 3.1. Load data & create splits for learning/validating/testing model¶\n",
    "\n",
    "\n",
    "(dataset_orig_train, dataset_orig_val, dataset_orig_test) = PostAcuteDataset().split([0.5, 0.8], shuffle=True)\n",
    "\n",
    "sens_ind = 0\n",
    "sens_attr = dataset_orig_train.protected_attribute_names[sens_ind]\n",
    "\n",
    "unprivileged_groups = [{sens_attr: v} for v in\n",
    "                       dataset_orig_train.unprivileged_protected_attributes[sens_ind]]\n",
    "\n",
    "privileged_groups = [{sens_attr: v} for v in\n",
    "                     dataset_orig_train.privileged_protected_attributes[sens_ind]]\n",
    "\n",
    "\n",
    "def describe(train=None, val=None, test=None):\n",
    "    if train is not None:\n",
    "        display(Markdown(\"#### Training Dataset shape\"))\n",
    "        print(train.features.shape)\n",
    "    if val is not None:\n",
    "        display(Markdown(\"#### Validation Dataset shape\"))\n",
    "        print(val.features.shape)\n",
    "    display(Markdown(\"#### Test Dataset shape\"))\n",
    "    print(test.features.shape)\n",
    "    display(Markdown(\"#### Favorable and unfavorable labels\"))\n",
    "    print(test.favorable_label, test.unfavorable_label)\n",
    "    display(Markdown(\"#### Protected attribute names\"))\n",
    "    print(test.protected_attribute_names)\n",
    "    display(Markdown(\"#### Privileged and unprivileged protected attribute values\"))\n",
    "    print(test.privileged_protected_attributes,\n",
    "          test.unprivileged_protected_attributes)\n",
    "    display(Markdown(\"#### Dataset feature names\"))\n",
    "    print(test.feature_names)\n",
    "\n",
    "\n",
    "describe(dataset_orig_train, dataset_orig_val, dataset_orig_test)\n",
    "\n",
    "metric_orig_train = BinaryLabelDatasetMetric(\n",
    "    dataset_orig_train,\n",
    "    unprivileged_groups=unprivileged_groups,\n",
    "    privileged_groups=privileged_groups)\n",
    "explainer_orig_panel19_train = MetricTextExplainer(metric_orig_train)\n",
    "\n",
    "print(explainer_orig_panel19_train.disparate_impact())"
   ]
  },
  {
   "cell_type": "code",
   "execution_count": 9,
   "id": "interested-performer",
   "metadata": {},
   "outputs": [],
   "source": [
    "# 3.2. Learning a Logistic Regression (LR) classifier on original data¶\n",
    "# 3.2.1. Training LR model on original data\n",
    "\n",
    "dataset = dataset_orig_train\n",
    "model = make_pipeline(StandardScaler(),\n",
    "                      LogisticRegression(solver='liblinear', random_state=1))\n",
    "fit_params = {'logisticregression__sample_weight': dataset.instance_weights}\n",
    "\n",
    "lr_orig = model.fit(dataset.features, dataset.labels.ravel(), **fit_params)"
   ]
  },
  {
   "cell_type": "code",
   "execution_count": 10,
   "id": "comprehensive-jacksonville",
   "metadata": {},
   "outputs": [
    {
     "data": {
      "image/png": "[encoded data removed]",
      "text/plain": [
       "<Figure size 720x504 with 2 Axes>"
      ]
     },
     "metadata": {
      "needs_background": "light"
     },
     "output_type": "display_data"
    },
    {
     "data": {
      "image/png": "[encoded data removed]",
      "text/plain": [
       "<Figure size 720x504 with 2 Axes>"
      ]
     },
     "metadata": {
      "needs_background": "light"
     },
     "output_type": "display_data"
    },
    {
     "name": "stdout",
     "output_type": "stream",
     "text": [
      "Validation Scores:\n",
      "Threshold corresponding to Best balanced accuracy: 0.0600\n",
      "Best balanced accuracy: 0.6968\n",
      "Corresponding 1-min(DI, 1/DI) value: 0.1554\n",
      "Corresponding average odds difference value: -0.0433\n",
      "Corresponding statistical parity difference value: -0.0618\n",
      "Corresponding equal opportunity difference value: -0.0262\n",
      "Corresponding Theil index value: 0.0769\n"
     ]
    }
   ],
   "source": [
    "# 3.2.2. Validating LR model on original data¶\n",
    "\n",
    "from collections import defaultdict\n",
    "\n",
    "\n",
    "def test(dataset, model, thresh_arr):\n",
    "    try:\n",
    "        # sklearn classifier\n",
    "        y_val_pred_prob = model.predict_proba(dataset.features)\n",
    "        pos_ind = np.where(model.classes_ == dataset.favorable_label)[0][0]\n",
    "    except AttributeError:\n",
    "        # aif360 inprocessing algorithm\n",
    "        y_val_pred_prob = model.predict(dataset).scores\n",
    "        pos_ind = 0\n",
    "\n",
    "    metric_arrs = defaultdict(list)\n",
    "    for thresh in thresh_arr:\n",
    "        y_val_pred = (y_val_pred_prob[:, pos_ind] > thresh).astype(np.float64)\n",
    "\n",
    "        dataset_pred = dataset.copy()\n",
    "        dataset_pred.labels = y_val_pred\n",
    "        metric = ClassificationMetric(\n",
    "            dataset, dataset_pred,\n",
    "            unprivileged_groups=unprivileged_groups,\n",
    "            privileged_groups=privileged_groups)\n",
    "\n",
    "        metric_arrs['bal_acc'].append((metric.true_positive_rate()\n",
    "                                       + metric.true_negative_rate()) / 2)\n",
    "        metric_arrs['avg_odds_diff'].append(metric.average_odds_difference())\n",
    "        metric_arrs['disp_imp'].append(metric.disparate_impact())\n",
    "        metric_arrs['stat_par_diff'].append(metric.statistical_parity_difference())\n",
    "        metric_arrs['eq_opp_diff'].append(metric.equal_opportunity_difference())\n",
    "        metric_arrs['theil_ind'].append(metric.theil_index())\n",
    "\n",
    "    return metric_arrs\n",
    "\n",
    "\n",
    "thresh_arr = np.linspace(0.01, 0.5, 50)\n",
    "val_metrics = test(dataset=dataset_orig_val,\n",
    "                   model=lr_orig,\n",
    "                   thresh_arr=thresh_arr)\n",
    "lr_orig_best_ind = np.argmax(val_metrics['bal_acc'])\n",
    "\n",
    "\n",
    "def plot(x, x_name, y_left, y_left_name, y_right, y_right_name):\n",
    "    fig, ax1 = plt.subplots(figsize=(10, 7))\n",
    "    ax1.plot(x, y_left)\n",
    "    ax1.set_xlabel(x_name, fontsize=16, fontweight='bold')\n",
    "    ax1.set_ylabel(y_left_name, color='b', fontsize=16, fontweight='bold')\n",
    "    ax1.xaxis.set_tick_params(labelsize=14)\n",
    "    ax1.yaxis.set_tick_params(labelsize=14)\n",
    "    ax1.set_ylim(0.5, 0.8)\n",
    "\n",
    "    ax2 = ax1.twinx()\n",
    "    ax2.plot(x, y_right, color='r')\n",
    "    ax2.set_ylabel(y_right_name, color='r', fontsize=16, fontweight='bold')\n",
    "    if 'DI' in y_right_name:\n",
    "        ax2.set_ylim(0., 0.7)\n",
    "    else:\n",
    "        ax2.set_ylim(-0.25, 0.1)\n",
    "\n",
    "    best_ind = np.argmax(y_left)\n",
    "    ax2.axvline(np.array(x)[best_ind], color='k', linestyle=':')\n",
    "    ax2.yaxis.set_tick_params(labelsize=14)\n",
    "    ax2.grid(True)\n",
    "    plt.show()\n",
    "    \n",
    "    \n",
    "disp_imp = np.array(val_metrics['disp_imp'])\n",
    "disp_imp_err = 1 - np.minimum(disp_imp, 1 / disp_imp)\n",
    "plot(thresh_arr, 'Classification Thresholds',\n",
    "     val_metrics['bal_acc'], 'Balanced Accuracy',\n",
    "     disp_imp_err, '1 - min(DI, 1/DI)')\n",
    "\n",
    "plot(thresh_arr, 'Classification Thresholds',\n",
    "     val_metrics['bal_acc'], 'Balanced Accuracy',\n",
    "     val_metrics['avg_odds_diff'], 'avg. odds diff.')\n",
    "\n",
    "def describe_metrics(metrics, thresh_arr):\n",
    "    best_ind = np.argmax(metrics['bal_acc'])\n",
    "    print(\"Threshold corresponding to Best balanced accuracy: {:6.4f}\".format(thresh_arr[best_ind]))\n",
    "    print(\"Best balanced accuracy: {:6.4f}\".format(metrics['bal_acc'][best_ind]))\n",
    "#     disp_imp_at_best_ind = np.abs(1 - np.array(metrics['disp_imp']))[best_ind]\n",
    "    disp_imp_at_best_ind = 1 - min(metrics['disp_imp'][best_ind], 1/metrics['disp_imp'][best_ind])\n",
    "    print(\"Corresponding 1-min(DI, 1/DI) value: {:6.4f}\".format(disp_imp_at_best_ind))\n",
    "    print(\"Corresponding average odds difference value: {:6.4f}\".format(metrics['avg_odds_diff'][best_ind]))\n",
    "    print(\"Corresponding statistical parity difference value: {:6.4f}\".format(metrics['stat_par_diff'][best_ind]))\n",
    "    print(\"Corresponding equal opportunity difference value: {:6.4f}\".format(metrics['eq_opp_diff'][best_ind]))\n",
    "    print(\"Corresponding Theil index value: {:6.4f}\".format(metrics['theil_ind'][best_ind]))\n",
    "\n",
    "\n",
    "print(\"Validation Scores:\")\n",
    "describe_metrics(val_metrics, thresh_arr)"
   ]
  },
  {
   "cell_type": "code",
   "execution_count": 11,
   "id": "herbal-estonia",
   "metadata": {},
   "outputs": [
    {
     "name": "stdout",
     "output_type": "stream",
     "text": [
      "Test Scores:\n",
      "Threshold corresponding to Best balanced accuracy: 0.0600\n",
      "Best balanced accuracy: 0.6981\n",
      "Corresponding 1-min(DI, 1/DI) value: 0.1612\n",
      "Corresponding average odds difference value: -0.0337\n",
      "Corresponding statistical parity difference value: -0.0636\n",
      "Corresponding equal opportunity difference value: -0.0060\n",
      "Corresponding Theil index value: 0.0788\n",
      "Disparate impact (probability of favorable outcome for unprivileged instances / probability of favorable outcome for privileged instances): 1.0000000000000002\n"
     ]
    }
   ],
   "source": [
    "#3.2.3. Testing LR model on original data¶\n",
    "\n",
    "print(\"Test Scores:\")\n",
    "lr_orig_metrics = test(dataset=dataset_orig_test,\n",
    "                       model=lr_orig,\n",
    "                       thresh_arr=[thresh_arr[lr_orig_best_ind]])\n",
    "\n",
    "describe_metrics(lr_orig_metrics, [thresh_arr[lr_orig_best_ind]])\n",
    "\n",
    "#4. Bias mitigation using pre-processing technique - Reweighing¶\n",
    "\n",
    "#4.1. Transform data¶\n",
    "RW = Reweighing(unprivileged_groups=unprivileged_groups,\n",
    "                privileged_groups=privileged_groups)\n",
    "dataset_transf_train = RW.fit_transform(dataset_orig_train)\n",
    "\n",
    "#Metrics for transformed data\n",
    "\n",
    "metric_transf_train = BinaryLabelDatasetMetric(\n",
    "        dataset_transf_train,\n",
    "        unprivileged_groups=unprivileged_groups,\n",
    "        privileged_groups=privileged_groups)\n",
    "explainer_transf_train = MetricTextExplainer(metric_transf_train)\n",
    "\n",
    "print(explainer_transf_train.disparate_impact())"
   ]
  },
  {
   "cell_type": "code",
   "execution_count": 12,
   "id": "ordinary-kelly",
   "metadata": {
    "scrolled": false
   },
   "outputs": [
    {
     "data": {
      "image/png": "[encoded data removed]",
      "text/plain": [
       "<Figure size 720x504 with 2 Axes>"
      ]
     },
     "metadata": {
      "needs_background": "light"
     },
     "output_type": "display_data"
    },
    {
     "data": {
      "image/png": "[encoded data removed]",
      "text/plain": [
       "<Figure size 720x504 with 2 Axes>"
      ]
     },
     "metadata": {
      "needs_background": "light"
     },
     "output_type": "display_data"
    },
    {
     "name": "stdout",
     "output_type": "stream",
     "text": [
      "Threshold corresponding to Best balanced accuracy: 0.0600\n",
      "Best balanced accuracy: 0.6973\n",
      "Corresponding 1-min(DI, 1/DI) value: 0.0091\n",
      "Corresponding average odds difference value: 0.0123\n",
      "Corresponding statistical parity difference value: -0.0033\n",
      "Corresponding equal opportunity difference value: 0.0260\n",
      "Corresponding Theil index value: 0.0769\n"
     ]
    }
   ],
   "source": [
    "#4.2. Learning a Logistic Regression (LR) classifier on data transformed by reweighing¶\n",
    "\n",
    "#4.2.1. Training LR model after reweighing¶\n",
    "dataset = dataset_transf_train\n",
    "model = make_pipeline(StandardScaler(),\n",
    "                      LogisticRegression(solver='liblinear', random_state=1))\n",
    "fit_params = {'logisticregression__sample_weight': dataset.instance_weights}\n",
    "lr_transf = model.fit(dataset.features, dataset.labels.ravel(), **fit_params)\n",
    "\n",
    "#4.2.2. Validating LR model after reweighing¶\n",
    "\n",
    "\n",
    "thresh_arr = np.linspace(0.01, 0.5, 50)\n",
    "val_metrics = test(dataset=dataset_orig_val,\n",
    "                   model=lr_transf,\n",
    "                   thresh_arr=thresh_arr)\n",
    "lr_transf_best_ind = np.argmax(val_metrics['bal_acc'])\n",
    "\n",
    "disp_imp = np.array(val_metrics['disp_imp'])\n",
    "disp_imp_err = 1 - np.minimum(disp_imp, 1/disp_imp)\n",
    "\n",
    "plot(thresh_arr, 'Classification Thresholds',\n",
    "     val_metrics['bal_acc'], 'Balanced Accuracy',\n",
    "     disp_imp_err, '1 - min(DI, 1/DI)')\n",
    "\n",
    "plot(thresh_arr, 'Classification Thresholds',\n",
    "     val_metrics['bal_acc'], 'Balanced Accuracy',\n",
    "     val_metrics['avg_odds_diff'], 'avg. odds diff.')\n",
    "\n",
    "describe_metrics(val_metrics, thresh_arr)\n"
   ]
  },
  {
   "cell_type": "code",
   "execution_count": 13,
   "id": "polished-murder",
   "metadata": {},
   "outputs": [
    {
     "name": "stdout",
     "output_type": "stream",
     "text": [
      "Threshold corresponding to Best balanced accuracy: 0.0600\n",
      "Best balanced accuracy: 0.6993\n",
      "Corresponding 1-min(DI, 1/DI) value: 0.0121\n",
      "Corresponding average odds difference value: 0.0274\n",
      "Corresponding statistical parity difference value: -0.0043\n",
      "Corresponding equal opportunity difference value: 0.0571\n",
      "Corresponding Theil index value: 0.0787\n"
     ]
    }
   ],
   "source": [
    "#4.2.3. Testing LR model after reweighing¶\n",
    "lr_transf_metrics = test(dataset=dataset_orig_test,\n",
    "                         model=lr_transf,\n",
    "                         thresh_arr=[thresh_arr[lr_transf_best_ind]])\n",
    "describe_metrics(lr_transf_metrics, [thresh_arr[lr_transf_best_ind]])\n"
   ]
  },
  {
   "cell_type": "code",
   "execution_count": 14,
   "id": "indie-pitch",
   "metadata": {},
   "outputs": [
    {
     "data": {
      "image/png": "[encoded data removed]",
      "text/plain": [
       "<Figure size 720x504 with 2 Axes>"
      ]
     },
     "metadata": {
      "needs_background": "light"
     },
     "output_type": "display_data"
    },
    {
     "data": {
      "image/png": "[encoded data removed]",
      "text/plain": [
       "<Figure size 720x504 with 2 Axes>"
      ]
     },
     "metadata": {
      "needs_background": "light"
     },
     "output_type": "display_data"
    },
    {
     "name": "stdout",
     "output_type": "stream",
     "text": [
      "Threshold corresponding to Best balanced accuracy: 0.0700\n",
      "Best balanced accuracy: 0.6889\n",
      "Corresponding 1-min(DI, 1/DI) value: 0.0115\n",
      "Corresponding average odds difference value: 0.0307\n",
      "Corresponding statistical parity difference value: 0.0035\n",
      "Corresponding equal opportunity difference value: 0.0580\n",
      "Corresponding Theil index value: 0.0789\n"
     ]
    }
   ],
   "source": [
    "#5. Bias mitigation using in-processing technique - Prejudice Remover (PR)¶\n",
    "\n",
    "#5.1.1. Training a PR model\n",
    "model = PrejudiceRemover(sensitive_attr=sens_attr, eta=25.0)\n",
    "pr_orig_scaler = StandardScaler()\n",
    "\n",
    "dataset = dataset_orig_train.copy()\n",
    "dataset.features = pr_orig_scaler.fit_transform(dataset.features)\n",
    "\n",
    "pr_orig = model.fit(dataset)\n",
    "\n",
    "#5.1.2. Validating PR model¶\n",
    "\n",
    "thresh_arr = np.linspace(0.01, 0.50, 50)\n",
    "\n",
    "dataset = dataset_orig_val.copy()\n",
    "dataset.features = pr_orig_scaler.transform(dataset.features)\n",
    "\n",
    "val_metrics = test(dataset=dataset,\n",
    "                   model=pr_orig,\n",
    "                   thresh_arr=thresh_arr)\n",
    "pr_orig_best_ind = np.argmax(val_metrics['bal_acc'])\n",
    "disp_imp = np.array(val_metrics['disp_imp'])\n",
    "disp_imp_err = 1 - np.minimum(disp_imp, 1/disp_imp)\n",
    "\n",
    "plot(thresh_arr, 'Classification Thresholds',\n",
    "     val_metrics['bal_acc'], 'Balanced Accuracy',\n",
    "     disp_imp_err, '1 - min(DI, 1/DI)')\n",
    "\n",
    "plot(thresh_arr, 'Classification Thresholds',\n",
    "     val_metrics['bal_acc'], 'Balanced Accuracy',\n",
    "     val_metrics['avg_odds_diff'], 'avg. odds diff.')\n",
    "\n",
    "describe_metrics(val_metrics, thresh_arr)\n"
   ]
  },
  {
   "cell_type": "code",
   "execution_count": 15,
   "id": "departmental-barrel",
   "metadata": {},
   "outputs": [
    {
     "name": "stdout",
     "output_type": "stream",
     "text": [
      "Threshold corresponding to Best balanced accuracy: 0.0700\n",
      "Best balanced accuracy: 0.6897\n",
      "Corresponding 1-min(DI, 1/DI) value: 0.0168\n",
      "Corresponding average odds difference value: 0.0445\n",
      "Corresponding statistical parity difference value: 0.0051\n",
      "Corresponding equal opportunity difference value: 0.0837\n",
      "Corresponding Theil index value: 0.0812\n"
     ]
    }
   ],
   "source": [
    "#5.1.3. Testing PR model¶\n",
    "\n",
    "dataset = dataset_orig_test.copy()\n",
    "dataset.features = pr_orig_scaler.transform(dataset.features)\n",
    "\n",
    "pr_orig_metrics = test(dataset=dataset,\n",
    "                       model=pr_orig,\n",
    "                       thresh_arr=[thresh_arr[pr_orig_best_ind]])\n",
    "describe_metrics(pr_orig_metrics, [thresh_arr[pr_orig_best_ind]])"
   ]
  },
  {
   "cell_type": "code",
   "execution_count": 16,
   "id": "indonesian-examination",
   "metadata": {},
   "outputs": [
    {
     "data": {
      "text/html": [
       "<div>\n",
       "<style scoped>\n",
       "    .dataframe tbody tr th:only-of-type {\n",
       "        vertical-align: middle;\n",
       "    }\n",
       "\n",
       "    .dataframe tbody tr th {\n",
       "        vertical-align: top;\n",
       "    }\n",
       "\n",
       "    .dataframe thead th {\n",
       "        text-align: right;\n",
       "    }\n",
       "</style>\n",
       "<table border=\"1\" class=\"dataframe\">\n",
       "  <thead>\n",
       "    <tr style=\"text-align: right;\">\n",
       "      <th></th>\n",
       "      <th></th>\n",
       "      <th>bal_acc</th>\n",
       "      <th>avg_odds_diff</th>\n",
       "      <th>disp_imp</th>\n",
       "      <th>stat_par_diff</th>\n",
       "      <th>eq_opp_diff</th>\n",
       "      <th>theil_ind</th>\n",
       "    </tr>\n",
       "    <tr>\n",
       "      <th>Bias Mitigator</th>\n",
       "      <th>Classifier</th>\n",
       "      <th></th>\n",
       "      <th></th>\n",
       "      <th></th>\n",
       "      <th></th>\n",
       "      <th></th>\n",
       "      <th></th>\n",
       "    </tr>\n",
       "  </thead>\n",
       "  <tbody>\n",
       "    <tr>\n",
       "      <th></th>\n",
       "      <th>Logistic Regression</th>\n",
       "      <td>0.698149</td>\n",
       "      <td>-0.033659</td>\n",
       "      <td>0.838760</td>\n",
       "      <td>-0.063569</td>\n",
       "      <td>-0.005952</td>\n",
       "      <td>0.078847</td>\n",
       "    </tr>\n",
       "    <tr>\n",
       "      <th>Reweighing</th>\n",
       "      <th>Logistic Regression</th>\n",
       "      <td>0.699344</td>\n",
       "      <td>0.027404</td>\n",
       "      <td>0.987916</td>\n",
       "      <td>-0.004322</td>\n",
       "      <td>0.057143</td>\n",
       "      <td>0.078707</td>\n",
       "    </tr>\n",
       "    <tr>\n",
       "      <th>Prejudice Remover</th>\n",
       "      <th></th>\n",
       "      <td>0.689673</td>\n",
       "      <td>0.044511</td>\n",
       "      <td>1.017126</td>\n",
       "      <td>0.005075</td>\n",
       "      <td>0.083730</td>\n",
       "      <td>0.081172</td>\n",
       "    </tr>\n",
       "  </tbody>\n",
       "</table>\n",
       "</div>"
      ],
      "text/plain": [
       "                                        bal_acc  avg_odds_diff  disp_imp  \\\n",
       "Bias Mitigator    Classifier                                               \n",
       "                  Logistic Regression  0.698149      -0.033659  0.838760   \n",
       "Reweighing        Logistic Regression  0.699344       0.027404  0.987916   \n",
       "Prejudice Remover                      0.689673       0.044511  1.017126   \n",
       "\n",
       "                                       stat_par_diff  eq_opp_diff  theil_ind  \n",
       "Bias Mitigator    Classifier                                                  \n",
       "                  Logistic Regression      -0.063569    -0.005952   0.078847  \n",
       "Reweighing        Logistic Regression      -0.004322     0.057143   0.078707  \n",
       "Prejudice Remover                           0.005075     0.083730   0.081172  "
      ]
     },
     "execution_count": 16,
     "metadata": {},
     "output_type": "execute_result"
    }
   ],
   "source": [
    "import pandas as pd\n",
    "pd.set_option('display.multi_sparse', False)\n",
    "results = [lr_orig_metrics, lr_transf_metrics,\n",
    "            pr_orig_metrics]\n",
    "debias = pd.Series([''] + ['Reweighing']\n",
    "                 + ['Prejudice Remover'],\n",
    "                   name='Bias Mitigator')\n",
    "clf = pd.Series(['Logistic Regression']*2 + [''],\n",
    "                name='Classifier')\n",
    "pd.concat([pd.DataFrame(metrics) for metrics in results], axis=0).set_index([debias, clf])"
   ]
  },
  {
   "cell_type": "code",
   "execution_count": 17,
   "id": "twenty-digit",
   "metadata": {},
   "outputs": [],
   "source": [
    "#Disparate Impact Remover\n",
    "\n",
    "from aif360.algorithms.preprocessing import DisparateImpactRemover\n"
   ]
  },
  {
   "cell_type": "code",
   "execution_count": 18,
   "id": "separate-dining",
   "metadata": {},
   "outputs": [
    {
     "name": "stdout",
     "output_type": "stream",
     "text": [
      "Test Scores:\n",
      "Threshold corresponding to Best balanced accuracy: 0.0600\n",
      "Best balanced accuracy: 0.6981\n",
      "Corresponding 1-min(DI, 1/DI) value: 0.1612\n",
      "Corresponding average odds difference value: -0.0337\n",
      "Corresponding statistical parity difference value: -0.0636\n",
      "Corresponding equal opportunity difference value: -0.0060\n",
      "Corresponding Theil index value: 0.0788\n",
      "Disparate impact (probability of favorable outcome for unprivileged instances / probability of favorable outcome for privileged instances): 0.8357496952023612\n"
     ]
    }
   ],
   "source": [
    "#3.2.3. Testing LR model on original data¶\n",
    "\n",
    "print(\"Test Scores:\")\n",
    "lr_orig_metrics = test(dataset=dataset_orig_test,\n",
    "                       model=lr_orig,\n",
    "                       thresh_arr=[thresh_arr[lr_orig_best_ind]])\n",
    "\n",
    "describe_metrics(lr_orig_metrics, [thresh_arr[lr_orig_best_ind]])\n",
    "\n",
    "#4. Bias mitigation using pre-processing technique - Disparate Impact Remover¶\n",
    "\n",
    "#4.1. Transform data¶\n",
    "\n",
    "\n",
    "di = DisparateImpactRemover(repair_level=1.0)\n",
    "dataset_transf_train = di.fit_transform(dataset_orig_train)\n",
    "dataset_transf_test = di.fit_transform(dataset_orig_test)\n",
    "\n",
    "#Metrics for transformed data\n",
    "\n",
    "metric_transf_train = BinaryLabelDatasetMetric(\n",
    "        dataset_transf_train,\n",
    "        unprivileged_groups=unprivileged_groups,\n",
    "        privileged_groups=privileged_groups)\n",
    "explainer_transf_train = MetricTextExplainer(metric_transf_train)\n",
    "\n",
    "print(explainer_transf_train.disparate_impact())"
   ]
  },
  {
   "cell_type": "code",
   "execution_count": 19,
   "id": "bizarre-anime",
   "metadata": {},
   "outputs": [
    {
     "name": "stdout",
     "output_type": "stream",
     "text": [
      "Threshold corresponding to Best balanced accuracy: 0.0100\n",
      "Best balanced accuracy: 0.5000\n",
      "Corresponding 1-min(DI, 1/DI) value: 0.0000\n",
      "Corresponding average odds difference value: 0.0000\n",
      "Corresponding statistical parity difference value: 0.0000\n",
      "Corresponding equal opportunity difference value: 0.0000\n",
      "Corresponding Theil index value: 0.0101\n"
     ]
    },
    {
     "name": "stderr",
     "output_type": "stream",
     "text": [
      "Matplotlib is currently using agg, which is a non-GUI backend, so cannot show the figure.\n",
      "Matplotlib is currently using agg, which is a non-GUI backend, so cannot show the figure.\n"
     ]
    },
    {
     "data": {
      "image/png": "[encoded data removed]",
      "text/plain": [
       "<Figure size 720x504 with 2 Axes>"
      ]
     },
     "metadata": {
      "needs_background": "light"
     },
     "output_type": "display_data"
    },
    {
     "data": {
      "image/png": "[encoded data removed]",
      "text/plain": [
       "<Figure size 720x504 with 2 Axes>"
      ]
     },
     "metadata": {
      "needs_background": "light"
     },
     "output_type": "display_data"
    }
   ],
   "source": [
    "#4.2.1. Training LR model after Disparate Impact Remover¶\n",
    "dataset = dataset_transf_train\n",
    "model = make_pipeline(StandardScaler(),\n",
    "                      LogisticRegression(solver='liblinear', random_state=1))\n",
    "fit_params = {'logisticregression__sample_weight': dataset.instance_weights}\n",
    "lr_transf = model.fit(dataset.features, dataset.labels.ravel(), **fit_params)\n",
    "\n",
    "#4.2.2. Validating LR model after Disdparate impact Remover¶\n",
    "\n",
    "\n",
    "thresh_arr = np.linspace(0.01, 0.5, 50)\n",
    "val_metrics = test(dataset=dataset_orig_val,\n",
    "                   model=lr_transf,\n",
    "                   thresh_arr=thresh_arr)\n",
    "lr_transf_best_ind = np.argmax(val_metrics['bal_acc'])\n",
    "\n",
    "disp_imp = np.array(val_metrics['disp_imp'])\n",
    "disp_imp_err = 1 - np.minimum(disp_imp, 1/disp_imp)\n",
    "\n",
    "plot(thresh_arr, 'Classification Thresholds',\n",
    "     val_metrics['bal_acc'], 'Balanced Accuracy',\n",
    "     disp_imp_err, '1 - min(DI, 1/DI)')\n",
    "\n",
    "plot(thresh_arr, 'Classification Thresholds',\n",
    "     val_metrics['bal_acc'], 'Balanced Accuracy',\n",
    "     val_metrics['avg_odds_diff'], 'avg. odds diff.')\n",
    "\n",
    "describe_metrics(val_metrics, thresh_arr)"
   ]
  },
  {
   "cell_type": "code",
   "execution_count": 20,
   "id": "prescribed-council",
   "metadata": {},
   "outputs": [
    {
     "name": "stdout",
     "output_type": "stream",
     "text": [
      "Threshold corresponding to Best balanced accuracy: 0.0100\n",
      "Best balanced accuracy: 0.5000\n",
      "Corresponding 1-min(DI, 1/DI) value: 0.0000\n",
      "Corresponding average odds difference value: 0.0000\n",
      "Corresponding statistical parity difference value: 0.0000\n",
      "Corresponding equal opportunity difference value: 0.0000\n",
      "Corresponding Theil index value: 0.0112\n"
     ]
    }
   ],
   "source": [
    "#Test LR DIR Model\n",
    "\n",
    "lr_metrics_DIR = test(dataset=dataset_orig_test,\n",
    "                         model=lr_transf,\n",
    "                         thresh_arr=[thresh_arr[lr_transf_best_ind]])\n",
    "describe_metrics(lr_metrics_DIR, [thresh_arr[lr_transf_best_ind]])"
   ]
  },
  {
   "cell_type": "code",
   "execution_count": 21,
   "id": "electrical-cursor",
   "metadata": {},
   "outputs": [
    {
     "data": {
      "text/html": [
       "<div>\n",
       "<style scoped>\n",
       "    .dataframe tbody tr th:only-of-type {\n",
       "        vertical-align: middle;\n",
       "    }\n",
       "\n",
       "    .dataframe tbody tr th {\n",
       "        vertical-align: top;\n",
       "    }\n",
       "\n",
       "    .dataframe thead th {\n",
       "        text-align: right;\n",
       "    }\n",
       "</style>\n",
       "<table border=\"1\" class=\"dataframe\">\n",
       "  <thead>\n",
       "    <tr style=\"text-align: right;\">\n",
       "      <th></th>\n",
       "      <th></th>\n",
       "      <th>bal_acc</th>\n",
       "      <th>avg_odds_diff</th>\n",
       "      <th>disp_imp</th>\n",
       "      <th>stat_par_diff</th>\n",
       "      <th>eq_opp_diff</th>\n",
       "      <th>theil_ind</th>\n",
       "    </tr>\n",
       "    <tr>\n",
       "      <th>Bias Mitigator</th>\n",
       "      <th>Classifier</th>\n",
       "      <th></th>\n",
       "      <th></th>\n",
       "      <th></th>\n",
       "      <th></th>\n",
       "      <th></th>\n",
       "      <th></th>\n",
       "    </tr>\n",
       "  </thead>\n",
       "  <tbody>\n",
       "    <tr>\n",
       "      <th></th>\n",
       "      <th>Logistic Regression</th>\n",
       "      <td>0.698149</td>\n",
       "      <td>-0.033659</td>\n",
       "      <td>0.838760</td>\n",
       "      <td>-0.063569</td>\n",
       "      <td>-0.005952</td>\n",
       "      <td>0.078847</td>\n",
       "    </tr>\n",
       "    <tr>\n",
       "      <th>Reweighing</th>\n",
       "      <th>Logistic Regression</th>\n",
       "      <td>0.699344</td>\n",
       "      <td>0.027404</td>\n",
       "      <td>0.987916</td>\n",
       "      <td>-0.004322</td>\n",
       "      <td>0.057143</td>\n",
       "      <td>0.078707</td>\n",
       "    </tr>\n",
       "    <tr>\n",
       "      <th>Prejudice Remover</th>\n",
       "      <th></th>\n",
       "      <td>0.689673</td>\n",
       "      <td>0.044511</td>\n",
       "      <td>1.017126</td>\n",
       "      <td>0.005075</td>\n",
       "      <td>0.083730</td>\n",
       "      <td>0.081172</td>\n",
       "    </tr>\n",
       "    <tr>\n",
       "      <th>Disparate Impact Remover</th>\n",
       "      <th>Logistic Regression</th>\n",
       "      <td>0.500000</td>\n",
       "      <td>0.000000</td>\n",
       "      <td>1.000000</td>\n",
       "      <td>0.000000</td>\n",
       "      <td>0.000000</td>\n",
       "      <td>0.011155</td>\n",
       "    </tr>\n",
       "  </tbody>\n",
       "</table>\n",
       "</div>"
      ],
      "text/plain": [
       "                                               bal_acc  avg_odds_diff  \\\n",
       "Bias Mitigator           Classifier                                     \n",
       "                         Logistic Regression  0.698149      -0.033659   \n",
       "Reweighing               Logistic Regression  0.699344       0.027404   \n",
       "Prejudice Remover                             0.689673       0.044511   \n",
       "Disparate Impact Remover Logistic Regression  0.500000       0.000000   \n",
       "\n",
       "                                              disp_imp  stat_par_diff  \\\n",
       "Bias Mitigator           Classifier                                     \n",
       "                         Logistic Regression  0.838760      -0.063569   \n",
       "Reweighing               Logistic Regression  0.987916      -0.004322   \n",
       "Prejudice Remover                             1.017126       0.005075   \n",
       "Disparate Impact Remover Logistic Regression  1.000000       0.000000   \n",
       "\n",
       "                                              eq_opp_diff  theil_ind  \n",
       "Bias Mitigator           Classifier                                   \n",
       "                         Logistic Regression    -0.005952   0.078847  \n",
       "Reweighing               Logistic Regression     0.057143   0.078707  \n",
       "Prejudice Remover                                0.083730   0.081172  \n",
       "Disparate Impact Remover Logistic Regression     0.000000   0.011155  "
      ]
     },
     "execution_count": 21,
     "metadata": {},
     "output_type": "execute_result"
    }
   ],
   "source": [
    "import pandas as pd\n",
    "pd.set_option('display.multi_sparse', False)\n",
    "results = [lr_orig_metrics, lr_transf_metrics,\n",
    "            pr_orig_metrics, lr_metrics_DIR]\n",
    "debias = pd.Series([''] + ['Reweighing']\n",
    "                 + ['Prejudice Remover'] + [\"Disparate Impact Remover\"],\n",
    "                   name='Bias Mitigator')\n",
    "clf = pd.Series(['Logistic Regression']*2 + [''] + [\"Logistic Regression\"],\n",
    "                name='Classifier')\n",
    "pd.concat([pd.DataFrame(metrics) for metrics in results], axis=0).set_index([debias, clf])"
   ]
  },
  {
   "cell_type": "code",
   "execution_count": null,
   "id": "soviet-feelings",
   "metadata": {},
   "outputs": [],
   "source": []
  },
  {
   "cell_type": "code",
   "execution_count": 22,
   "id": "cloudy-ethics",
   "metadata": {},
   "outputs": [
    {
     "data": {
      "text/markdown": [
       "#### Original training dataset"
      ],
      "text/plain": [
       "<IPython.core.display.Markdown object>"
      ]
     },
     "metadata": {},
     "output_type": "display_data"
    },
    {
     "name": "stdout",
     "output_type": "stream",
     "text": [
      "Train set: Difference in mean outcomes between unprivileged and privileged groups = -0.013224\n",
      "Test set: Difference in mean outcomes between unprivileged and privileged groups = -0.016469\n"
     ]
    }
   ],
   "source": [
    "from aif360.algorithms.inprocessing.adversarial_debiasing import AdversarialDebiasing\n",
    "from aif360.metrics import ClassificationMetric\n",
    "from sklearn.preprocessing import MaxAbsScaler\n",
    "import tensorflow.compat.v1 as tf\n",
    "tf.disable_eager_execution()\n",
    "\n",
    "\n",
    "# Metric for the original dataset\n",
    "metric_orig_train = BinaryLabelDatasetMetric(dataset_orig_train, \n",
    "                                             unprivileged_groups=unprivileged_groups,\n",
    "                                             privileged_groups=privileged_groups)\n",
    "display(Markdown(\"#### Original training dataset\"))\n",
    "print(\"Train set: Difference in mean outcomes between unprivileged and privileged groups = %f\" % metric_orig_train.mean_difference())\n",
    "metric_orig_test = BinaryLabelDatasetMetric(dataset_orig_test, \n",
    "                                             unprivileged_groups=unprivileged_groups,\n",
    "                                             privileged_groups=privileged_groups)\n",
    "print(\"Test set: Difference in mean outcomes between unprivileged and privileged groups = %f\" % metric_orig_test.mean_difference())"
   ]
  },
  {
   "cell_type": "code",
   "execution_count": 23,
   "id": "needed-lotus",
   "metadata": {},
   "outputs": [
    {
     "data": {
      "text/markdown": [
       "#### Scaled dataset - Verify that the scaling does not affect the group label statistics"
      ],
      "text/plain": [
       "<IPython.core.display.Markdown object>"
      ]
     },
     "metadata": {},
     "output_type": "display_data"
    },
    {
     "name": "stdout",
     "output_type": "stream",
     "text": [
      "Train set: Difference in mean outcomes between unprivileged and privileged groups = -0.013224\n",
      "Test set: Difference in mean outcomes between unprivileged and privileged groups = -0.016469\n"
     ]
    }
   ],
   "source": [
    "min_max_scaler = MaxAbsScaler()\n",
    "dataset_orig_train.features = min_max_scaler.fit_transform(dataset_orig_train.features)\n",
    "dataset_orig_test.features = min_max_scaler.transform(dataset_orig_test.features)\n",
    "metric_scaled_train = BinaryLabelDatasetMetric(dataset_orig_train, \n",
    "                             unprivileged_groups=unprivileged_groups,\n",
    "                             privileged_groups=privileged_groups)\n",
    "display(Markdown(\"#### Scaled dataset - Verify that the scaling does not affect the group label statistics\"))\n",
    "print(\"Train set: Difference in mean outcomes between unprivileged and privileged groups = %f\" % metric_scaled_train.mean_difference())\n",
    "metric_scaled_test = BinaryLabelDatasetMetric(dataset_orig_test, \n",
    "                             unprivileged_groups=unprivileged_groups,\n",
    "                             privileged_groups=privileged_groups)\n",
    "print(\"Test set: Difference in mean outcomes between unprivileged and privileged groups = %f\" % metric_scaled_test.mean_difference())"
   ]
  },
  {
   "cell_type": "code",
   "execution_count": 24,
   "id": "worthy-nutrition",
   "metadata": {},
   "outputs": [
    {
     "name": "stdout",
     "output_type": "stream",
     "text": [
      "WARNING:tensorflow:From C:\\Users\\sujin\\miniconda3\\lib\\site-packages\\tensorflow\\python\\util\\dispatch.py:201: calling dropout (from tensorflow.python.ops.nn_ops) with keep_prob is deprecated and will be removed in a future version.\n",
      "Instructions for updating:\n",
      "Please use `rate` instead of `keep_prob`. Rate should be set to `rate = 1 - keep_prob`.\n"
     ]
    },
    {
     "name": "stderr",
     "output_type": "stream",
     "text": [
      "WARNING:tensorflow:From C:\\Users\\sujin\\miniconda3\\lib\\site-packages\\tensorflow\\python\\util\\dispatch.py:201: calling dropout (from tensorflow.python.ops.nn_ops) with keep_prob is deprecated and will be removed in a future version.\n",
      "Instructions for updating:\n",
      "Please use `rate` instead of `keep_prob`. Rate should be set to `rate = 1 - keep_prob`.\n"
     ]
    },
    {
     "name": "stdout",
     "output_type": "stream",
     "text": [
      "epoch 0; iter: 0; batch classifier loss: 0.484775\n",
      "epoch 0; iter: 200; batch classifier loss: 0.287509\n",
      "epoch 1; iter: 0; batch classifier loss: 0.266710\n",
      "epoch 1; iter: 200; batch classifier loss: 0.188646\n",
      "epoch 2; iter: 0; batch classifier loss: 0.191220\n",
      "epoch 2; iter: 200; batch classifier loss: 0.211299\n",
      "epoch 3; iter: 0; batch classifier loss: 0.170483\n",
      "epoch 3; iter: 200; batch classifier loss: 0.260912\n",
      "epoch 4; iter: 0; batch classifier loss: 0.154843\n",
      "epoch 4; iter: 200; batch classifier loss: 0.246729\n",
      "epoch 5; iter: 0; batch classifier loss: 0.194947\n",
      "epoch 5; iter: 200; batch classifier loss: 0.323780\n",
      "epoch 6; iter: 0; batch classifier loss: 0.153093\n",
      "epoch 6; iter: 200; batch classifier loss: 0.252190\n",
      "epoch 7; iter: 0; batch classifier loss: 0.289303\n",
      "epoch 7; iter: 200; batch classifier loss: 0.094866\n",
      "epoch 8; iter: 0; batch classifier loss: 0.218574\n",
      "epoch 8; iter: 200; batch classifier loss: 0.136717\n",
      "epoch 9; iter: 0; batch classifier loss: 0.314499\n",
      "epoch 9; iter: 200; batch classifier loss: 0.248835\n",
      "epoch 10; iter: 0; batch classifier loss: 0.180224\n",
      "epoch 10; iter: 200; batch classifier loss: 0.146029\n",
      "epoch 11; iter: 0; batch classifier loss: 0.195977\n",
      "epoch 11; iter: 200; batch classifier loss: 0.241160\n",
      "epoch 12; iter: 0; batch classifier loss: 0.201123\n",
      "epoch 12; iter: 200; batch classifier loss: 0.223085\n",
      "epoch 13; iter: 0; batch classifier loss: 0.193547\n",
      "epoch 13; iter: 200; batch classifier loss: 0.206129\n",
      "epoch 14; iter: 0; batch classifier loss: 0.212477\n",
      "epoch 14; iter: 200; batch classifier loss: 0.137401\n",
      "epoch 15; iter: 0; batch classifier loss: 0.137354\n",
      "epoch 15; iter: 200; batch classifier loss: 0.114161\n",
      "epoch 16; iter: 0; batch classifier loss: 0.152701\n",
      "epoch 16; iter: 200; batch classifier loss: 0.206448\n",
      "epoch 17; iter: 0; batch classifier loss: 0.192520\n",
      "epoch 17; iter: 200; batch classifier loss: 0.136007\n",
      "epoch 18; iter: 0; batch classifier loss: 0.154985\n",
      "epoch 18; iter: 200; batch classifier loss: 0.242933\n",
      "epoch 19; iter: 0; batch classifier loss: 0.176391\n",
      "epoch 19; iter: 200; batch classifier loss: 0.070652\n",
      "epoch 20; iter: 0; batch classifier loss: 0.153635\n",
      "epoch 20; iter: 200; batch classifier loss: 0.232451\n",
      "epoch 21; iter: 0; batch classifier loss: 0.143919\n",
      "epoch 21; iter: 200; batch classifier loss: 0.225182\n",
      "epoch 22; iter: 0; batch classifier loss: 0.062234\n",
      "epoch 22; iter: 200; batch classifier loss: 0.201329\n",
      "epoch 23; iter: 0; batch classifier loss: 0.168221\n",
      "epoch 23; iter: 200; batch classifier loss: 0.131965\n",
      "epoch 24; iter: 0; batch classifier loss: 0.125501\n",
      "epoch 24; iter: 200; batch classifier loss: 0.150084\n",
      "epoch 25; iter: 0; batch classifier loss: 0.068154\n",
      "epoch 25; iter: 200; batch classifier loss: 0.189351\n",
      "epoch 26; iter: 0; batch classifier loss: 0.090918\n",
      "epoch 26; iter: 200; batch classifier loss: 0.139022\n",
      "epoch 27; iter: 0; batch classifier loss: 0.120707\n",
      "epoch 27; iter: 200; batch classifier loss: 0.132522\n",
      "epoch 28; iter: 0; batch classifier loss: 0.192115\n",
      "epoch 28; iter: 200; batch classifier loss: 0.113973\n",
      "epoch 29; iter: 0; batch classifier loss: 0.145468\n",
      "epoch 29; iter: 200; batch classifier loss: 0.103014\n",
      "epoch 30; iter: 0; batch classifier loss: 0.252687\n",
      "epoch 30; iter: 200; batch classifier loss: 0.120855\n",
      "epoch 31; iter: 0; batch classifier loss: 0.101496\n",
      "epoch 31; iter: 200; batch classifier loss: 0.079847\n",
      "epoch 32; iter: 0; batch classifier loss: 0.095209\n",
      "epoch 32; iter: 200; batch classifier loss: 0.084635\n",
      "epoch 33; iter: 0; batch classifier loss: 0.085683\n",
      "epoch 33; iter: 200; batch classifier loss: 0.130622\n",
      "epoch 34; iter: 0; batch classifier loss: 0.104221\n",
      "epoch 34; iter: 200; batch classifier loss: 0.206430\n",
      "epoch 35; iter: 0; batch classifier loss: 0.111442\n",
      "epoch 35; iter: 200; batch classifier loss: 0.070820\n",
      "epoch 36; iter: 0; batch classifier loss: 0.118836\n",
      "epoch 36; iter: 200; batch classifier loss: 0.088462\n",
      "epoch 37; iter: 0; batch classifier loss: 0.100787\n",
      "epoch 37; iter: 200; batch classifier loss: 0.128102\n",
      "epoch 38; iter: 0; batch classifier loss: 0.144092\n",
      "epoch 38; iter: 200; batch classifier loss: 0.090732\n",
      "epoch 39; iter: 0; batch classifier loss: 0.188489\n",
      "epoch 39; iter: 200; batch classifier loss: 0.052351\n",
      "epoch 40; iter: 0; batch classifier loss: 0.160424\n",
      "epoch 40; iter: 200; batch classifier loss: 0.097008\n",
      "epoch 41; iter: 0; batch classifier loss: 0.072093\n",
      "epoch 41; iter: 200; batch classifier loss: 0.082808\n",
      "epoch 42; iter: 0; batch classifier loss: 0.114410\n",
      "epoch 42; iter: 200; batch classifier loss: 0.079433\n",
      "epoch 43; iter: 0; batch classifier loss: 0.088469\n",
      "epoch 43; iter: 200; batch classifier loss: 0.193817\n",
      "epoch 44; iter: 0; batch classifier loss: 0.134104\n",
      "epoch 44; iter: 200; batch classifier loss: 0.128215\n",
      "epoch 45; iter: 0; batch classifier loss: 0.133224\n",
      "epoch 45; iter: 200; batch classifier loss: 0.100622\n",
      "epoch 46; iter: 0; batch classifier loss: 0.176736\n",
      "epoch 46; iter: 200; batch classifier loss: 0.083312\n",
      "epoch 47; iter: 0; batch classifier loss: 0.060686\n",
      "epoch 47; iter: 200; batch classifier loss: 0.099909\n",
      "epoch 48; iter: 0; batch classifier loss: 0.048664\n",
      "epoch 48; iter: 200; batch classifier loss: 0.091384\n",
      "epoch 49; iter: 0; batch classifier loss: 0.062431\n",
      "epoch 49; iter: 200; batch classifier loss: 0.068467\n"
     ]
    },
    {
     "data": {
      "text/plain": [
       "<aif360.algorithms.inprocessing.adversarial_debiasing.AdversarialDebiasing at 0x2b980caa850>"
      ]
     },
     "execution_count": 24,
     "metadata": {},
     "output_type": "execute_result"
    }
   ],
   "source": [
    "#Learn plan classifier without debiasing\n",
    "# Load post-processing algorithm that equalizes the odds\n",
    "# Learn parameters with debias set to False\n",
    "sess = tf.Session()\n",
    "plain_model = AdversarialDebiasing(privileged_groups = privileged_groups,\n",
    "                          unprivileged_groups = unprivileged_groups,\n",
    "                          scope_name='plain_classifier',\n",
    "                          debias=False,\n",
    "                          sess=sess)\n",
    "\n",
    "plain_model.fit(dataset_orig_train)\n"
   ]
  },
  {
   "cell_type": "code",
   "execution_count": 25,
   "id": "northern-thumb",
   "metadata": {},
   "outputs": [],
   "source": [
    "# Apply the plain model to test data\n",
    "dataset_nodebiasing_train = plain_model.predict(dataset_orig_train)\n",
    "dataset_nodebiasing_test = plain_model.predict(dataset_orig_test)"
   ]
  },
  {
   "cell_type": "code",
   "execution_count": 26,
   "id": "single-arkansas",
   "metadata": {},
   "outputs": [
    {
     "data": {
      "text/markdown": [
       "#### Plain model - without debiasing - dataset metrics"
      ],
      "text/plain": [
       "<IPython.core.display.Markdown object>"
      ]
     },
     "metadata": {},
     "output_type": "display_data"
    },
    {
     "name": "stdout",
     "output_type": "stream",
     "text": [
      "Train set: Difference in mean outcomes between unprivileged and privileged groups = -0.008793\n",
      "Test set: Difference in mean outcomes between unprivileged and privileged groups = -0.003187\n"
     ]
    },
    {
     "data": {
      "text/markdown": [
       "#### Plain model - without debiasing - classification metrics"
      ],
      "text/plain": [
       "<IPython.core.display.Markdown object>"
      ]
     },
     "metadata": {},
     "output_type": "display_data"
    },
    {
     "name": "stdout",
     "output_type": "stream",
     "text": [
      "Test set: Classification accuracy = 0.912261\n",
      "Test set: Balanced classification accuracy = 0.538165\n",
      "Test set: Average odds difference = 0.005682\n",
      "Test set: Disparate impact = 0.892892\n",
      "Test set: Statisticsal parity difference = -0.003187\n",
      "Test set: Equal opportunity difference = 0.014683\n",
      "Test set: Theil_index = 0.077678\n"
     ]
    }
   ],
   "source": [
    "# Metrics for the dataset from plain model (without debiasing)\n",
    "display(Markdown(\"#### Plain model - without debiasing - dataset metrics\"))\n",
    "metric_dataset_nodebiasing_train = BinaryLabelDatasetMetric(dataset_nodebiasing_train, \n",
    "                                             unprivileged_groups=unprivileged_groups,\n",
    "                                             privileged_groups=privileged_groups)\n",
    "\n",
    "print(\"Train set: Difference in mean outcomes between unprivileged and privileged groups = %f\" % metric_dataset_nodebiasing_train.mean_difference())\n",
    "\n",
    "metric_dataset_nodebiasing_test = BinaryLabelDatasetMetric(dataset_nodebiasing_test, \n",
    "                                             unprivileged_groups=unprivileged_groups,\n",
    "                                             privileged_groups=privileged_groups)\n",
    "\n",
    "print(\"Test set: Difference in mean outcomes between unprivileged and privileged groups = %f\" % metric_dataset_nodebiasing_test.mean_difference())\n",
    "\n",
    "display(Markdown(\"#### Plain model - without debiasing - classification metrics\"))\n",
    "classified_metric_nodebiasing_test = ClassificationMetric(dataset_orig_test, \n",
    "                                                 dataset_nodebiasing_test,\n",
    "                                                 unprivileged_groups=unprivileged_groups,\n",
    "                                                 privileged_groups=privileged_groups)\n",
    "\n",
    "print(\"Test set: Classification accuracy = %f\" % classified_metric_nodebiasing_test.accuracy())\n",
    "TPR = classified_metric_nodebiasing_test.true_positive_rate()\n",
    "TNR = classified_metric_nodebiasing_test.true_negative_rate()\n",
    "bal_acc_nodebiasing_test = 0.5*(TPR+TNR)\n",
    "print(\"Test set: Balanced classification accuracy = %f\" % bal_acc_nodebiasing_test)\n",
    "print(\"Test set: Average odds difference = %f\" % classified_metric_nodebiasing_test.average_odds_difference())\n",
    "print(\"Test set: Disparate impact = %f\" % classified_metric_nodebiasing_test.disparate_impact())\n",
    "print(\"Test set: Statisticsal parity difference = %f\" % classified_metric_nodebiasing_test.statistical_parity_difference())\n",
    "print(\"Test set: Equal opportunity difference = %f\" % classified_metric_nodebiasing_test.equal_opportunity_difference())\n",
    "print(\"Test set: Theil_index = %f\" % classified_metric_nodebiasing_test.theil_index())\n",
    "\n",
    "metrics_AD = defaultdict(list,\n",
    "            {'bal_acc': [bal_acc_nodebiasing_test],\n",
    "             'avg_odds_diff': [classified_metric_nodebiasing_test.average_odds_difference()],\n",
    "             'disp_imp': [classified_metric_nodebiasing_test.disparate_impact()],\n",
    "             'stat_par_diff': [classified_metric_nodebiasing_test.statistical_parity_difference()],\n",
    "             'eq_opp_diff': [classified_metric_nodebiasing_test.equal_opportunity_difference()],\n",
    "             'theil_ind': [classified_metric_nodebiasing_test.theil_index()]})\n"
   ]
  },
  {
   "cell_type": "code",
   "execution_count": 27,
   "id": "round-walter",
   "metadata": {},
   "outputs": [
    {
     "data": {
      "text/html": [
       "<div>\n",
       "<style scoped>\n",
       "    .dataframe tbody tr th:only-of-type {\n",
       "        vertical-align: middle;\n",
       "    }\n",
       "\n",
       "    .dataframe tbody tr th {\n",
       "        vertical-align: top;\n",
       "    }\n",
       "\n",
       "    .dataframe thead th {\n",
       "        text-align: right;\n",
       "    }\n",
       "</style>\n",
       "<table border=\"1\" class=\"dataframe\">\n",
       "  <thead>\n",
       "    <tr style=\"text-align: right;\">\n",
       "      <th></th>\n",
       "      <th></th>\n",
       "      <th>bal_acc</th>\n",
       "      <th>avg_odds_diff</th>\n",
       "      <th>disp_imp</th>\n",
       "      <th>stat_par_diff</th>\n",
       "      <th>eq_opp_diff</th>\n",
       "      <th>theil_ind</th>\n",
       "    </tr>\n",
       "    <tr>\n",
       "      <th>Bias Mitigator</th>\n",
       "      <th>Classifier</th>\n",
       "      <th></th>\n",
       "      <th></th>\n",
       "      <th></th>\n",
       "      <th></th>\n",
       "      <th></th>\n",
       "      <th></th>\n",
       "    </tr>\n",
       "  </thead>\n",
       "  <tbody>\n",
       "    <tr>\n",
       "      <th></th>\n",
       "      <th>Logistic Regression</th>\n",
       "      <td>0.698149</td>\n",
       "      <td>-0.033659</td>\n",
       "      <td>0.838760</td>\n",
       "      <td>-0.063569</td>\n",
       "      <td>-0.005952</td>\n",
       "      <td>0.078847</td>\n",
       "    </tr>\n",
       "    <tr>\n",
       "      <th>Reweighing</th>\n",
       "      <th>Logistic Regression</th>\n",
       "      <td>0.699344</td>\n",
       "      <td>0.027404</td>\n",
       "      <td>0.987916</td>\n",
       "      <td>-0.004322</td>\n",
       "      <td>0.057143</td>\n",
       "      <td>0.078707</td>\n",
       "    </tr>\n",
       "    <tr>\n",
       "      <th>Prejudice Remover</th>\n",
       "      <th></th>\n",
       "      <td>0.689673</td>\n",
       "      <td>0.044511</td>\n",
       "      <td>1.017126</td>\n",
       "      <td>0.005075</td>\n",
       "      <td>0.083730</td>\n",
       "      <td>0.081172</td>\n",
       "    </tr>\n",
       "    <tr>\n",
       "      <th>Disparate Impact Remover</th>\n",
       "      <th>Logistic Regression</th>\n",
       "      <td>0.500000</td>\n",
       "      <td>0.000000</td>\n",
       "      <td>1.000000</td>\n",
       "      <td>0.000000</td>\n",
       "      <td>0.000000</td>\n",
       "      <td>0.011155</td>\n",
       "    </tr>\n",
       "    <tr>\n",
       "      <th>Adversarial Debias</th>\n",
       "      <th>No Debias</th>\n",
       "      <td>0.538165</td>\n",
       "      <td>0.005682</td>\n",
       "      <td>0.892892</td>\n",
       "      <td>-0.003187</td>\n",
       "      <td>0.014683</td>\n",
       "      <td>0.077678</td>\n",
       "    </tr>\n",
       "  </tbody>\n",
       "</table>\n",
       "</div>"
      ],
      "text/plain": [
       "                                               bal_acc  avg_odds_diff  \\\n",
       "Bias Mitigator           Classifier                                     \n",
       "                         Logistic Regression  0.698149      -0.033659   \n",
       "Reweighing               Logistic Regression  0.699344       0.027404   \n",
       "Prejudice Remover                             0.689673       0.044511   \n",
       "Disparate Impact Remover Logistic Regression  0.500000       0.000000   \n",
       "Adversarial Debias       No Debias            0.538165       0.005682   \n",
       "\n",
       "                                              disp_imp  stat_par_diff  \\\n",
       "Bias Mitigator           Classifier                                     \n",
       "                         Logistic Regression  0.838760      -0.063569   \n",
       "Reweighing               Logistic Regression  0.987916      -0.004322   \n",
       "Prejudice Remover                             1.017126       0.005075   \n",
       "Disparate Impact Remover Logistic Regression  1.000000       0.000000   \n",
       "Adversarial Debias       No Debias            0.892892      -0.003187   \n",
       "\n",
       "                                              eq_opp_diff  theil_ind  \n",
       "Bias Mitigator           Classifier                                   \n",
       "                         Logistic Regression    -0.005952   0.078847  \n",
       "Reweighing               Logistic Regression     0.057143   0.078707  \n",
       "Prejudice Remover                                0.083730   0.081172  \n",
       "Disparate Impact Remover Logistic Regression     0.000000   0.011155  \n",
       "Adversarial Debias       No Debias               0.014683   0.077678  "
      ]
     },
     "execution_count": 27,
     "metadata": {},
     "output_type": "execute_result"
    }
   ],
   "source": [
    "pd.set_option('display.multi_sparse', False)\n",
    "results = [lr_orig_metrics, lr_transf_metrics,\n",
    "            pr_orig_metrics, lr_metrics_DIR, metrics_AD]\n",
    "debias = pd.Series([''] + ['Reweighing']\n",
    "                 + ['Prejudice Remover'] + [\"Disparate Impact Remover\"] + [\"Adversarial Debias\"],\n",
    "                   name='Bias Mitigator')\n",
    "clf = pd.Series(['Logistic Regression']*2 + [''] + [\"Logistic Regression\"] + [\"No Debias\"],\n",
    "                name='Classifier')\n",
    "pd.concat([pd.DataFrame(metrics) for metrics in results], axis=0).set_index([debias, clf])"
   ]
  },
  {
   "cell_type": "code",
   "execution_count": 28,
   "id": "decimal-inspection",
   "metadata": {},
   "outputs": [
    {
     "name": "stdout",
     "output_type": "stream",
     "text": [
      "epoch 0; iter: 0; batch classifier loss: 0.528119; batch adversarial loss: 0.713946\n",
      "epoch 0; iter: 200; batch classifier loss: 0.099221; batch adversarial loss: 0.676728\n",
      "epoch 1; iter: 0; batch classifier loss: 0.161161; batch adversarial loss: 0.687648\n",
      "epoch 1; iter: 200; batch classifier loss: 0.281542; batch adversarial loss: 0.668237\n",
      "epoch 2; iter: 0; batch classifier loss: 0.186484; batch adversarial loss: 0.664013\n",
      "epoch 2; iter: 200; batch classifier loss: 0.207332; batch adversarial loss: 0.683834\n",
      "epoch 3; iter: 0; batch classifier loss: 0.266653; batch adversarial loss: 0.675460\n",
      "epoch 3; iter: 200; batch classifier loss: 0.213603; batch adversarial loss: 0.702730\n",
      "epoch 4; iter: 0; batch classifier loss: 0.258589; batch adversarial loss: 0.672458\n",
      "epoch 4; iter: 200; batch classifier loss: 0.168236; batch adversarial loss: 0.643208\n",
      "epoch 5; iter: 0; batch classifier loss: 0.219185; batch adversarial loss: 0.666577\n",
      "epoch 5; iter: 200; batch classifier loss: 0.211884; batch adversarial loss: 0.658604\n",
      "epoch 6; iter: 0; batch classifier loss: 0.196537; batch adversarial loss: 0.657997\n",
      "epoch 6; iter: 200; batch classifier loss: 0.222039; batch adversarial loss: 0.659553\n",
      "epoch 7; iter: 0; batch classifier loss: 0.170530; batch adversarial loss: 0.640573\n",
      "epoch 7; iter: 200; batch classifier loss: 0.250855; batch adversarial loss: 0.679701\n",
      "epoch 8; iter: 0; batch classifier loss: 0.303659; batch adversarial loss: 0.684336\n",
      "epoch 8; iter: 200; batch classifier loss: 0.278569; batch adversarial loss: 0.681803\n",
      "epoch 9; iter: 0; batch classifier loss: 0.168917; batch adversarial loss: 0.670471\n",
      "epoch 9; iter: 200; batch classifier loss: 0.238868; batch adversarial loss: 0.701769\n",
      "epoch 10; iter: 0; batch classifier loss: 0.242785; batch adversarial loss: 0.646060\n",
      "epoch 10; iter: 200; batch classifier loss: 0.238206; batch adversarial loss: 0.675658\n",
      "epoch 11; iter: 0; batch classifier loss: 0.170268; batch adversarial loss: 0.651090\n",
      "epoch 11; iter: 200; batch classifier loss: 0.274484; batch adversarial loss: 0.664067\n",
      "epoch 12; iter: 0; batch classifier loss: 0.153257; batch adversarial loss: 0.658430\n",
      "epoch 12; iter: 200; batch classifier loss: 0.207005; batch adversarial loss: 0.684084\n",
      "epoch 13; iter: 0; batch classifier loss: 0.215979; batch adversarial loss: 0.674736\n",
      "epoch 13; iter: 200; batch classifier loss: 0.175466; batch adversarial loss: 0.676547\n",
      "epoch 14; iter: 0; batch classifier loss: 0.182074; batch adversarial loss: 0.678424\n",
      "epoch 14; iter: 200; batch classifier loss: 0.180913; batch adversarial loss: 0.689738\n",
      "epoch 15; iter: 0; batch classifier loss: 0.231009; batch adversarial loss: 0.666014\n",
      "epoch 15; iter: 200; batch classifier loss: 0.168102; batch adversarial loss: 0.673752\n",
      "epoch 16; iter: 0; batch classifier loss: 0.197971; batch adversarial loss: 0.669308\n",
      "epoch 16; iter: 200; batch classifier loss: 0.214844; batch adversarial loss: 0.696171\n",
      "epoch 17; iter: 0; batch classifier loss: 0.321828; batch adversarial loss: 0.680487\n",
      "epoch 17; iter: 200; batch classifier loss: 0.111997; batch adversarial loss: 0.712731\n",
      "epoch 18; iter: 0; batch classifier loss: 0.240426; batch adversarial loss: 0.689688\n",
      "epoch 18; iter: 200; batch classifier loss: 0.191395; batch adversarial loss: 0.668720\n",
      "epoch 19; iter: 0; batch classifier loss: 0.197872; batch adversarial loss: 0.676225\n",
      "epoch 19; iter: 200; batch classifier loss: 0.263753; batch adversarial loss: 0.685083\n",
      "epoch 20; iter: 0; batch classifier loss: 0.198244; batch adversarial loss: 0.660658\n",
      "epoch 20; iter: 200; batch classifier loss: 0.267978; batch adversarial loss: 0.656135\n",
      "epoch 21; iter: 0; batch classifier loss: 0.134879; batch adversarial loss: 0.658408\n",
      "epoch 21; iter: 200; batch classifier loss: 0.183865; batch adversarial loss: 0.692989\n",
      "epoch 22; iter: 0; batch classifier loss: 0.289214; batch adversarial loss: 0.692276\n",
      "epoch 22; iter: 200; batch classifier loss: 0.264473; batch adversarial loss: 0.681195\n",
      "epoch 23; iter: 0; batch classifier loss: 0.246426; batch adversarial loss: 0.671868\n",
      "epoch 23; iter: 200; batch classifier loss: 0.177586; batch adversarial loss: 0.672313\n",
      "epoch 24; iter: 0; batch classifier loss: 0.130640; batch adversarial loss: 0.642381\n",
      "epoch 24; iter: 200; batch classifier loss: 0.166645; batch adversarial loss: 0.678245\n",
      "epoch 25; iter: 0; batch classifier loss: 0.165849; batch adversarial loss: 0.657506\n",
      "epoch 25; iter: 200; batch classifier loss: 0.152745; batch adversarial loss: 0.651515\n",
      "epoch 26; iter: 0; batch classifier loss: 0.174041; batch adversarial loss: 0.646349\n",
      "epoch 26; iter: 200; batch classifier loss: 0.157140; batch adversarial loss: 0.667443\n",
      "epoch 27; iter: 0; batch classifier loss: 0.201402; batch adversarial loss: 0.629252\n",
      "epoch 27; iter: 200; batch classifier loss: 0.164093; batch adversarial loss: 0.665053\n",
      "epoch 28; iter: 0; batch classifier loss: 0.153832; batch adversarial loss: 0.657814\n",
      "epoch 28; iter: 200; batch classifier loss: 0.233497; batch adversarial loss: 0.694255\n",
      "epoch 29; iter: 0; batch classifier loss: 0.192007; batch adversarial loss: 0.644917\n",
      "epoch 29; iter: 200; batch classifier loss: 0.195953; batch adversarial loss: 0.691995\n",
      "epoch 30; iter: 0; batch classifier loss: 0.133521; batch adversarial loss: 0.681415\n",
      "epoch 30; iter: 200; batch classifier loss: 0.159811; batch adversarial loss: 0.690309\n",
      "epoch 31; iter: 0; batch classifier loss: 0.207826; batch adversarial loss: 0.684915\n",
      "epoch 31; iter: 200; batch classifier loss: 0.150366; batch adversarial loss: 0.656080\n",
      "epoch 32; iter: 0; batch classifier loss: 0.071793; batch adversarial loss: 0.698503\n",
      "epoch 32; iter: 200; batch classifier loss: 0.133204; batch adversarial loss: 0.663335\n",
      "epoch 33; iter: 0; batch classifier loss: 0.103879; batch adversarial loss: 0.682448\n",
      "epoch 33; iter: 200; batch classifier loss: 0.121338; batch adversarial loss: 0.663312\n",
      "epoch 34; iter: 0; batch classifier loss: 0.190032; batch adversarial loss: 0.711529\n",
      "epoch 34; iter: 200; batch classifier loss: 0.176639; batch adversarial loss: 0.674547\n",
      "epoch 35; iter: 0; batch classifier loss: 0.207607; batch adversarial loss: 0.661165\n",
      "epoch 35; iter: 200; batch classifier loss: 0.186777; batch adversarial loss: 0.684887\n",
      "epoch 36; iter: 0; batch classifier loss: 0.232453; batch adversarial loss: 0.667640\n",
      "epoch 36; iter: 200; batch classifier loss: 0.170858; batch adversarial loss: 0.673830\n",
      "epoch 37; iter: 0; batch classifier loss: 0.166003; batch adversarial loss: 0.662145\n",
      "epoch 37; iter: 200; batch classifier loss: 0.105593; batch adversarial loss: 0.664426\n",
      "epoch 38; iter: 0; batch classifier loss: 0.207627; batch adversarial loss: 0.670341\n",
      "epoch 38; iter: 200; batch classifier loss: 0.221564; batch adversarial loss: 0.696296\n",
      "epoch 39; iter: 0; batch classifier loss: 0.178529; batch adversarial loss: 0.704182\n",
      "epoch 39; iter: 200; batch classifier loss: 0.218436; batch adversarial loss: 0.687823\n",
      "epoch 40; iter: 0; batch classifier loss: 0.135182; batch adversarial loss: 0.677455\n",
      "epoch 40; iter: 200; batch classifier loss: 0.210865; batch adversarial loss: 0.690975\n",
      "epoch 41; iter: 0; batch classifier loss: 0.236254; batch adversarial loss: 0.689821\n",
      "epoch 41; iter: 200; batch classifier loss: 0.109664; batch adversarial loss: 0.680505\n",
      "epoch 42; iter: 0; batch classifier loss: 0.244616; batch adversarial loss: 0.672426\n",
      "epoch 42; iter: 200; batch classifier loss: 0.077683; batch adversarial loss: 0.665086\n",
      "epoch 43; iter: 0; batch classifier loss: 0.161005; batch adversarial loss: 0.650288\n",
      "epoch 43; iter: 200; batch classifier loss: 0.119878; batch adversarial loss: 0.665376\n",
      "epoch 44; iter: 0; batch classifier loss: 0.073874; batch adversarial loss: 0.660957\n",
      "epoch 44; iter: 200; batch classifier loss: 0.208217; batch adversarial loss: 0.666153\n",
      "epoch 45; iter: 0; batch classifier loss: 0.104259; batch adversarial loss: 0.677700\n",
      "epoch 45; iter: 200; batch classifier loss: 0.168005; batch adversarial loss: 0.651197\n",
      "epoch 46; iter: 0; batch classifier loss: 0.098189; batch adversarial loss: 0.656246\n",
      "epoch 46; iter: 200; batch classifier loss: 0.085472; batch adversarial loss: 0.673906\n",
      "epoch 47; iter: 0; batch classifier loss: 0.208208; batch adversarial loss: 0.669540\n",
      "epoch 47; iter: 200; batch classifier loss: 0.215925; batch adversarial loss: 0.678657\n",
      "epoch 48; iter: 0; batch classifier loss: 0.192499; batch adversarial loss: 0.688991\n"
     ]
    },
    {
     "name": "stdout",
     "output_type": "stream",
     "text": [
      "epoch 48; iter: 200; batch classifier loss: 0.117761; batch adversarial loss: 0.661186\n",
      "epoch 49; iter: 0; batch classifier loss: 0.061727; batch adversarial loss: 0.675508\n",
      "epoch 49; iter: 200; batch classifier loss: 0.073632; batch adversarial loss: 0.705417\n"
     ]
    },
    {
     "data": {
      "text/plain": [
       "<aif360.algorithms.inprocessing.adversarial_debiasing.AdversarialDebiasing at 0x2b9fdf1dd30>"
      ]
     },
     "execution_count": 28,
     "metadata": {},
     "output_type": "execute_result"
    }
   ],
   "source": [
    "sess.close()\n",
    "tf.reset_default_graph()\n",
    "sess = tf.Session()\n",
    "debiased_model = AdversarialDebiasing(privileged_groups = privileged_groups,\n",
    "                          unprivileged_groups = unprivileged_groups,\n",
    "                          scope_name='debiased_classifier',\n",
    "                          debias=True,\n",
    "                          sess=sess)\n",
    "debiased_model.fit(dataset_orig_train)\n"
   ]
  },
  {
   "cell_type": "code",
   "execution_count": 29,
   "id": "exposed-accommodation",
   "metadata": {},
   "outputs": [],
   "source": [
    "# Apply the plain model to test data\n",
    "dataset_debiasing_train = debiased_model.predict(dataset_orig_train)\n",
    "dataset_debiasing_test = debiased_model.predict(dataset_orig_test)"
   ]
  },
  {
   "cell_type": "code",
   "execution_count": 30,
   "id": "tested-experience",
   "metadata": {
    "scrolled": true
   },
   "outputs": [
    {
     "data": {
      "text/markdown": [
       "#### Plain model - without debiasing - dataset metrics"
      ],
      "text/plain": [
       "<IPython.core.display.Markdown object>"
      ]
     },
     "metadata": {},
     "output_type": "display_data"
    },
    {
     "name": "stdout",
     "output_type": "stream",
     "text": [
      "Train set: Difference in mean outcomes between unprivileged and privileged groups = -0.008793\n",
      "Test set: Difference in mean outcomes between unprivileged and privileged groups = -0.003187\n"
     ]
    },
    {
     "data": {
      "text/markdown": [
       "#### Model - with debiasing - dataset metrics"
      ],
      "text/plain": [
       "<IPython.core.display.Markdown object>"
      ]
     },
     "metadata": {},
     "output_type": "display_data"
    },
    {
     "name": "stdout",
     "output_type": "stream",
     "text": [
      "Train set: Difference in mean outcomes between unprivileged and privileged groups = -0.000633\n",
      "Test set: Difference in mean outcomes between unprivileged and privileged groups = 0.000230\n"
     ]
    },
    {
     "data": {
      "text/markdown": [
       "#### Plain model - without debiasing - classification metrics"
      ],
      "text/plain": [
       "<IPython.core.display.Markdown object>"
      ]
     },
     "metadata": {},
     "output_type": "display_data"
    },
    {
     "name": "stdout",
     "output_type": "stream",
     "text": [
      "Test set: Classification accuracy = 0.912261\n",
      "Test set: Balanced classification accuracy = 0.538165\n",
      "Test set: Disparate impact = 0.892892\n",
      "Test set: Equal opportunity difference = 0.014683\n",
      "Test set: Average odds difference = 0.005682\n",
      "Test set: Theil_index = 0.077678\n"
     ]
    },
    {
     "data": {
      "text/markdown": [
       "#### Model - with debiasing - classification metrics"
      ],
      "text/plain": [
       "<IPython.core.display.Markdown object>"
      ]
     },
     "metadata": {},
     "output_type": "display_data"
    },
    {
     "name": "stdout",
     "output_type": "stream",
     "text": [
      "Test set: Classification accuracy = 0.919848\n",
      "Test set: Balanced classification accuracy = 0.527339\n",
      "Test set: Disparate impact = 1.015030\n",
      "Test set: Equal opportunity difference = 0.011905\n",
      "Test set: Average odds difference = 0.006068\n",
      "Test set: Theil_index = 0.076449\n"
     ]
    }
   ],
   "source": [
    "# Metrics for the dataset from plain model (without debiasing)\n",
    "display(Markdown(\"#### Plain model - without debiasing - dataset metrics\"))\n",
    "print(\"Train set: Difference in mean outcomes between unprivileged and privileged groups = %f\" % metric_dataset_nodebiasing_train.mean_difference())\n",
    "print(\"Test set: Difference in mean outcomes between unprivileged and privileged groups = %f\" % metric_dataset_nodebiasing_test.mean_difference())\n",
    "\n",
    "# Metrics for the dataset from model with debiasing\n",
    "display(Markdown(\"#### Model - with debiasing - dataset metrics\"))\n",
    "metric_dataset_debiasing_train = BinaryLabelDatasetMetric(dataset_debiasing_train, \n",
    "                                             unprivileged_groups=unprivileged_groups,\n",
    "                                             privileged_groups=privileged_groups)\n",
    "\n",
    "print(\"Train set: Difference in mean outcomes between unprivileged and privileged groups = %f\" % metric_dataset_debiasing_train.mean_difference())\n",
    "\n",
    "metric_dataset_debiasing_test = BinaryLabelDatasetMetric(dataset_debiasing_test, \n",
    "                                             unprivileged_groups=unprivileged_groups,\n",
    "                                             privileged_groups=privileged_groups)\n",
    "\n",
    "print(\"Test set: Difference in mean outcomes between unprivileged and privileged groups = %f\" % metric_dataset_debiasing_test.mean_difference())\n",
    "\n",
    "\n",
    "\n",
    "display(Markdown(\"#### Plain model - without debiasing - classification metrics\"))\n",
    "print(\"Test set: Classification accuracy = %f\" % classified_metric_nodebiasing_test.accuracy())\n",
    "TPR = classified_metric_nodebiasing_test.true_positive_rate()\n",
    "TNR = classified_metric_nodebiasing_test.true_negative_rate()\n",
    "bal_acc_nodebiasing_test = 0.5*(TPR+TNR)\n",
    "print(\"Test set: Balanced classification accuracy = %f\" % bal_acc_nodebiasing_test)\n",
    "print(\"Test set: Disparate impact = %f\" % classified_metric_nodebiasing_test.disparate_impact())\n",
    "print(\"Test set: Equal opportunity difference = %f\" % classified_metric_nodebiasing_test.equal_opportunity_difference())\n",
    "print(\"Test set: Average odds difference = %f\" % classified_metric_nodebiasing_test.average_odds_difference())\n",
    "print(\"Test set: Theil_index = %f\" % classified_metric_nodebiasing_test.theil_index())\n",
    "\n",
    "\n",
    "\n",
    "\n",
    "\n",
    "display(Markdown(\"#### Model - with debiasing - classification metrics\"))\n",
    "classified_metric_debiasing_test = ClassificationMetric(dataset_orig_test, \n",
    "                                                 dataset_debiasing_test,\n",
    "                                                 unprivileged_groups=unprivileged_groups,\n",
    "                                                 privileged_groups=privileged_groups)\n",
    "print(\"Test set: Classification accuracy = %f\" % classified_metric_debiasing_test.accuracy())\n",
    "TPR = classified_metric_debiasing_test.true_positive_rate()\n",
    "TNR = classified_metric_debiasing_test.true_negative_rate()\n",
    "bal_acc_debiasing_test = 0.5*(TPR+TNR)\n",
    "print(\"Test set: Balanced classification accuracy = %f\" % bal_acc_debiasing_test)\n",
    "print(\"Test set: Disparate impact = %f\" % classified_metric_debiasing_test.disparate_impact())\n",
    "print(\"Test set: Equal opportunity difference = %f\" % classified_metric_debiasing_test.equal_opportunity_difference())\n",
    "print(\"Test set: Average odds difference = %f\" % classified_metric_debiasing_test.average_odds_difference())\n",
    "print(\"Test set: Theil_index = %f\" % classified_metric_debiasing_test.theil_index())\n",
    "\n",
    "metrics_AD2 = defaultdict(list,\n",
    "            {'bal_acc': [bal_acc_debiasing_test],\n",
    "             'avg_odds_diff': [classified_metric_debiasing_test.average_odds_difference()],\n",
    "             'disp_imp': [classified_metric_debiasing_test.disparate_impact()],\n",
    "             'stat_par_diff': [classified_metric_debiasing_test.statistical_parity_difference()],\n",
    "             'eq_opp_diff': [classified_metric_debiasing_test.equal_opportunity_difference()],\n",
    "             'theil_ind': [classified_metric_debiasing_test.theil_index()]})"
   ]
  },
  {
   "cell_type": "code",
   "execution_count": 31,
   "id": "appointed-sitting",
   "metadata": {},
   "outputs": [
    {
     "data": {
      "text/html": [
       "<div>\n",
       "<style scoped>\n",
       "    .dataframe tbody tr th:only-of-type {\n",
       "        vertical-align: middle;\n",
       "    }\n",
       "\n",
       "    .dataframe tbody tr th {\n",
       "        vertical-align: top;\n",
       "    }\n",
       "\n",
       "    .dataframe thead th {\n",
       "        text-align: right;\n",
       "    }\n",
       "</style>\n",
       "<table border=\"1\" class=\"dataframe\">\n",
       "  <thead>\n",
       "    <tr style=\"text-align: right;\">\n",
       "      <th></th>\n",
       "      <th></th>\n",
       "      <th>bal_acc</th>\n",
       "      <th>avg_odds_diff</th>\n",
       "      <th>disp_imp</th>\n",
       "      <th>stat_par_diff</th>\n",
       "      <th>eq_opp_diff</th>\n",
       "      <th>theil_ind</th>\n",
       "    </tr>\n",
       "    <tr>\n",
       "      <th>Bias Mitigator</th>\n",
       "      <th>Classifier</th>\n",
       "      <th></th>\n",
       "      <th></th>\n",
       "      <th></th>\n",
       "      <th></th>\n",
       "      <th></th>\n",
       "      <th></th>\n",
       "    </tr>\n",
       "  </thead>\n",
       "  <tbody>\n",
       "    <tr>\n",
       "      <th>None</th>\n",
       "      <th>Logistic Regression</th>\n",
       "      <td>0.698149</td>\n",
       "      <td>-0.033659</td>\n",
       "      <td>0.838760</td>\n",
       "      <td>-0.063569</td>\n",
       "      <td>-0.005952</td>\n",
       "      <td>0.078847</td>\n",
       "    </tr>\n",
       "    <tr>\n",
       "      <th>Reweighing</th>\n",
       "      <th>Logistic Regression</th>\n",
       "      <td>0.699344</td>\n",
       "      <td>0.027404</td>\n",
       "      <td>0.987916</td>\n",
       "      <td>-0.004322</td>\n",
       "      <td>0.057143</td>\n",
       "      <td>0.078707</td>\n",
       "    </tr>\n",
       "    <tr>\n",
       "      <th>Disparate Impact Remover</th>\n",
       "      <th>Logistic Regression</th>\n",
       "      <td>0.500000</td>\n",
       "      <td>0.000000</td>\n",
       "      <td>1.000000</td>\n",
       "      <td>0.000000</td>\n",
       "      <td>0.000000</td>\n",
       "      <td>0.011155</td>\n",
       "    </tr>\n",
       "    <tr>\n",
       "      <th>Prejudice Remover</th>\n",
       "      <th>Logistic Regression</th>\n",
       "      <td>0.689673</td>\n",
       "      <td>0.044511</td>\n",
       "      <td>1.017126</td>\n",
       "      <td>0.005075</td>\n",
       "      <td>0.083730</td>\n",
       "      <td>0.081172</td>\n",
       "    </tr>\n",
       "    <tr>\n",
       "      <th>Adversarial Debias</th>\n",
       "      <th>GD(No Debias)</th>\n",
       "      <td>0.538165</td>\n",
       "      <td>0.005682</td>\n",
       "      <td>0.892892</td>\n",
       "      <td>-0.003187</td>\n",
       "      <td>0.014683</td>\n",
       "      <td>0.077678</td>\n",
       "    </tr>\n",
       "    <tr>\n",
       "      <th>Adversarial Debias</th>\n",
       "      <th>GD(Debased)</th>\n",
       "      <td>0.527339</td>\n",
       "      <td>0.006068</td>\n",
       "      <td>1.015030</td>\n",
       "      <td>0.000230</td>\n",
       "      <td>0.011905</td>\n",
       "      <td>0.076449</td>\n",
       "    </tr>\n",
       "  </tbody>\n",
       "</table>\n",
       "</div>"
      ],
      "text/plain": [
       "                                               bal_acc  avg_odds_diff  \\\n",
       "Bias Mitigator           Classifier                                     \n",
       "None                     Logistic Regression  0.698149      -0.033659   \n",
       "Reweighing               Logistic Regression  0.699344       0.027404   \n",
       "Disparate Impact Remover Logistic Regression  0.500000       0.000000   \n",
       "Prejudice Remover        Logistic Regression  0.689673       0.044511   \n",
       "Adversarial Debias       GD(No Debias)        0.538165       0.005682   \n",
       "Adversarial Debias       GD(Debased)          0.527339       0.006068   \n",
       "\n",
       "                                              disp_imp  stat_par_diff  \\\n",
       "Bias Mitigator           Classifier                                     \n",
       "None                     Logistic Regression  0.838760      -0.063569   \n",
       "Reweighing               Logistic Regression  0.987916      -0.004322   \n",
       "Disparate Impact Remover Logistic Regression  1.000000       0.000000   \n",
       "Prejudice Remover        Logistic Regression  1.017126       0.005075   \n",
       "Adversarial Debias       GD(No Debias)        0.892892      -0.003187   \n",
       "Adversarial Debias       GD(Debased)          1.015030       0.000230   \n",
       "\n",
       "                                              eq_opp_diff  theil_ind  \n",
       "Bias Mitigator           Classifier                                   \n",
       "None                     Logistic Regression    -0.005952   0.078847  \n",
       "Reweighing               Logistic Regression     0.057143   0.078707  \n",
       "Disparate Impact Remover Logistic Regression     0.000000   0.011155  \n",
       "Prejudice Remover        Logistic Regression     0.083730   0.081172  \n",
       "Adversarial Debias       GD(No Debias)           0.014683   0.077678  \n",
       "Adversarial Debias       GD(Debased)             0.011905   0.076449  "
      ]
     },
     "execution_count": 31,
     "metadata": {},
     "output_type": "execute_result"
    }
   ],
   "source": [
    "pd.set_option('display.multi_sparse', False)\n",
    "results = [lr_orig_metrics, lr_transf_metrics,\n",
    "            lr_metrics_DIR,pr_orig_metrics, metrics_AD, metrics_AD2]\n",
    "debias = pd.Series(['None'] + ['Reweighing']\n",
    "                 + [\"Disparate Impact Remover\"] + ['Prejudice Remover']+ [\"Adversarial Debias\"]*2,\n",
    "                   name='Bias Mitigator')\n",
    "clf = pd.Series(['Logistic Regression']*4 + [\"GD(No Debias)\"] +[\"GD(Debased)\"],\n",
    "                name='Classifier')\n",
    "final_df = pd.concat([pd.DataFrame(metrics) for metrics in results], axis=0).set_index([debias, clf])\n",
    "final_df"
   ]
  },
  {
   "cell_type": "code",
   "execution_count": null,
   "id": "outstanding-kenya",
   "metadata": {},
   "outputs": [],
   "source": []
  },
  {
   "cell_type": "code",
   "execution_count": null,
   "id": "cutting-given",
   "metadata": {},
   "outputs": [],
   "source": []
  },
  {
   "cell_type": "code",
   "execution_count": null,
   "id": "adolescent-space",
   "metadata": {},
   "outputs": [],
   "source": []
  },
  {
   "cell_type": "code",
   "execution_count": null,
   "id": "structural-wound",
   "metadata": {},
   "outputs": [],
   "source": []
  },
  {
   "cell_type": "code",
   "execution_count": null,
   "id": "allied-incidence",
   "metadata": {},
   "outputs": [],
   "source": []
  },
  {
   "cell_type": "code",
   "execution_count": null,
   "id": "suitable-average",
   "metadata": {},
   "outputs": [],
   "source": []
  },
  {
   "cell_type": "code",
   "execution_count": null,
   "id": "settled-colleague",
   "metadata": {},
   "outputs": [],
   "source": []
  },
  {
   "cell_type": "code",
   "execution_count": null,
   "id": "chief-pledge",
   "metadata": {},
   "outputs": [],
   "source": []
  },
  {
   "cell_type": "code",
   "execution_count": null,
   "id": "sunset-calgary",
   "metadata": {},
   "outputs": [],
   "source": []
  }
 ],
 "metadata": {
  "kernelspec": {
   "display_name": "Python 3",
   "language": "python",
   "name": "python3"
  },
  "language_info": {
   "codemirror_mode": {
    "name": "ipython",
    "version": 3
   },
   "file_extension": ".py",
   "mimetype": "text/x-python",
   "name": "python",
   "nbconvert_exporter": "python",
   "pygments_lexer": "ipython3",
   "version": "3.8.5"
  }
 },
 "nbformat": 4,
 "nbformat_minor": 5
}
